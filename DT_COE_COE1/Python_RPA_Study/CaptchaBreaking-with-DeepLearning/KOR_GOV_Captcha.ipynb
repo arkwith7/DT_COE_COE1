{
 "cells": [
  {
   "cell_type": "markdown",
   "metadata": {},
   "source": [
    "## 정부24 - 서비스 - 신청조회발급 - 비회원신청(https://www.gov.kr/nlogin/loginNonMember?cappBizCd=13100000026)\n"
   ]
  },
  {
   "cell_type": "code",
   "execution_count": 45,
   "metadata": {
    "collapsed": true
   },
   "outputs": [],
   "source": [
    "from bs4 import BeautifulSoup\n",
    "import requests\n",
    "import urllib\n",
    "import pytesseract\n",
    "from PIL import Image\n",
    "\n",
    "from selenium import webdriver\n",
    "from selenium.webdriver.support.ui import Select\n",
    "from selenium.webdriver.support.ui import WebDriverWait\n",
    "from selenium.common.exceptions import StaleElementReferenceException\n",
    "from selenium.webdriver.common.keys import Keys\n",
    "from selenium.webdriver.support import expected_conditions as EC\n",
    "from selenium.webdriver.common.by import By\n"
   ]
  },
  {
   "cell_type": "code",
   "execution_count": 46,
   "metadata": {
    "collapsed": true
   },
   "outputs": [],
   "source": [
    "def get_captcha_text(location, size):\n",
    "    # C:\\Program Files\\Tesseract-OCR\n",
    "    # pytesseract.pytesseract.tesseract_cmd = 'C:/Program Files/Tesseract-OCR/tesseract'\n",
    "#     im = Image.open('captcha.png') # uses PIL library to open image in memory\n",
    "\n",
    "#     left = location['x']\n",
    "#     top = location['y']\n",
    "#     right = location['x'] + size['width']\n",
    "#     bottom = location['y'] + size['height']\n",
    "\n",
    "\n",
    "#     im = im.crop((left, top, right, bottom)) # defines crop points\n",
    "#     im.save('captcha.png')\n",
    "    captcha_text = pytesseract.image_to_string(Image.open('captcha.png'))\n",
    "    return captcha_text\n"
   ]
  },
  {
   "cell_type": "code",
   "execution_count": 47,
   "metadata": {
    "collapsed": true
   },
   "outputs": [],
   "source": [
    "url = 'https://www.gov.kr/nlogin/loginNonMember?cappBizCd=13100000026'\n",
    "driver = webdriver.Chrome(executable_path = \"C:/Users/saint/Downloads/chromedriver_win32/chromedriver.exe\")\n",
    "driver.get(url)\n",
    "# driver.set_window_size(1120, 550)\n"
   ]
  },
  {
   "cell_type": "code",
   "execution_count": 48,
   "metadata": {},
   "outputs": [
    {
     "name": "stdout",
     "output_type": "stream",
     "text": [
      "location ={'x': 209, 'y': 1511}, size={'height': 53, 'width': 140}\n",
      "https://www.gov.kr/nlogin/captcha\n"
     ]
    }
   ],
   "source": [
    "# element = driver.find_element_by_xpath('//*[@id=\"form1\"]/center/div[2]/div[3]/div[2]/div[2]/div/table/tbody/tr[3]/td[1]/img') # find part of the page you want image of\n",
    "# /html/body/div[4]/div/div/div/div[1]/form/div[4]/table/tbody/tr[10]/td/div/p[1]/img\n",
    "img = driver.find_element_by_xpath('//*[@id=\"cimg\"]') # find part of the page you want image of\n",
    "location = img.location\n",
    "size = img.size\n",
    "print(\"location ={}, size={}\".format(location, size))\n",
    "src = img.get_attribute('src')\n",
    "print(src)"
   ]
  },
  {
   "cell_type": "code",
   "execution_count": 49,
   "metadata": {},
   "outputs": [
    {
     "data": {
      "text/plain": [
       "('captcha.png', <http.client.HTTPMessage at 0x152990f8cf8>)"
      ]
     },
     "execution_count": 49,
     "metadata": {},
     "output_type": "execute_result"
    }
   ],
   "source": [
    "import urllib\n",
    "# download the image\n",
    "urllib.request.urlretrieve(src, \"captcha.png\")\n"
   ]
  },
  {
   "cell_type": "code",
   "execution_count": 50,
   "metadata": {},
   "outputs": [
    {
     "name": "stdout",
     "output_type": "stream",
     "text": [
      "captcha_text=[]\n"
     ]
    }
   ],
   "source": [
    "captcha_text = get_captcha_text(location, size)\n",
    "print(\"captcha_text=[{}]\".format(captcha_text))\n"
   ]
  },
  {
   "cell_type": "code",
   "execution_count": 54,
   "metadata": {
    "collapsed": true
   },
   "outputs": [],
   "source": [
    "for i in range(4):\n",
    "    # \"새로고침\" 클릭\n",
    "    driver.find_element_by_xpath('//*[@id=\"imgRefresh\"]').click()\n",
    "    img = driver.find_element_by_xpath('//*[@id=\"cimg\"]') # find part of the page you want image of\n",
    "    src = img.get_attribute('src')\n",
    "    cnt = i + 1\n",
    "    urllib.request.urlretrieve(src, \"captcha0\"+str(cnt)+\".png\")\n"
   ]
  },
  {
   "cell_type": "code",
   "execution_count": 55,
   "metadata": {
    "collapsed": true
   },
   "outputs": [],
   "source": [
    "driver.close()"
   ]
  },
  {
   "cell_type": "code",
   "execution_count": null,
   "metadata": {
    "collapsed": true
   },
   "outputs": [],
   "source": []
  }
 ],
 "metadata": {
  "kernelspec": {
   "display_name": "Python_RPA",
   "language": "python",
   "name": "pytorch_env"
  },
  "language_info": {
   "codemirror_mode": {
    "name": "ipython",
    "version": 3
   },
   "file_extension": ".py",
   "mimetype": "text/x-python",
   "name": "python",
   "nbconvert_exporter": "python",
   "pygments_lexer": "ipython3",
   "version": "3.6.2"
  }
 },
 "nbformat": 4,
 "nbformat_minor": 4
}
