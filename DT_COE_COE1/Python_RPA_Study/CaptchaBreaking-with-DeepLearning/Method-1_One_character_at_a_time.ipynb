{
 "cells": [
  {
   "cell_type": "code",
   "execution_count": 1,
   "metadata": {
    "collapsed": true
   },
   "outputs": [],
   "source": [
    "%reload_ext autoreload\n",
    "%autoreload 2\n",
    "%matplotlib inline"
   ]
  },
  {
   "cell_type": "code",
   "execution_count": 2,
   "metadata": {
    "collapsed": true
   },
   "outputs": [],
   "source": [
    "from fastai.vision import *\n",
    "from fastai.vision.data import ImageDataLoaders\n",
    "import pandas as pd\n",
    "from pathlib import Path\n",
    "import os"
   ]
  },
  {
   "cell_type": "code",
   "execution_count": 3,
   "metadata": {
    "collapsed": true
   },
   "outputs": [],
   "source": [
    "bs = 64"
   ]
  },
  {
   "cell_type": "code",
   "execution_count": 4,
   "metadata": {},
   "outputs": [
    {
     "data": {
      "text/plain": [
       "['226md.png', '22d5n.png', '2356g.png', '23mdg.png', '23n88.png']"
      ]
     },
     "execution_count": 4,
     "metadata": {},
     "output_type": "execute_result"
    }
   ],
   "source": [
    "# path_img='' #captcha-version-2-images\\samples\n",
    "# fnames = get_image_files(path_img+'train_proc')\n",
    "DIR = 'captcha-version-2-images/samples'\n",
    "path = Path(DIR)\n",
    "fnames = os.listdir(path)\n",
    "fnames[:5]"
   ]
  },
  {
   "cell_type": "code",
   "execution_count": 5,
   "metadata": {},
   "outputs": [
    {
     "data": {
      "text/plain": [
       "1070"
      ]
     },
     "execution_count": 5,
     "metadata": {},
     "output_type": "execute_result"
    }
   ],
   "source": [
    "len(fnames) #should be 4237-6= 4231"
   ]
  },
  {
   "cell_type": "code",
   "execution_count": 6,
   "metadata": {},
   "outputs": [],
   "source": [
    "# alist=os.listdir('train_proc')\n",
    "alist=os.listdir(DIR)\n",
    "for i in range(len(alist)):\n",
    "    alist[i]=[alist[i]]\n",
    "    for j in range(7):\n",
    "        alist[i].append(alist[i][0][j])\n",
    "df=pd.DataFrame(alist)"
   ]
  },
  {
   "cell_type": "code",
   "execution_count": 7,
   "metadata": {},
   "outputs": [
    {
     "data": {
      "text/plain": [
       "[['226md.png', '2', '2', '6', 'm', 'd', '.', 'p'],\n",
       " ['22d5n.png', '2', '2', 'd', '5', 'n', '.', 'p'],\n",
       " ['2356g.png', '2', '3', '5', '6', 'g', '.', 'p'],\n",
       " ['23mdg.png', '2', '3', 'm', 'd', 'g', '.', 'p'],\n",
       " ['23n88.png', '2', '3', 'n', '8', '8', '.', 'p']]"
      ]
     },
     "execution_count": 7,
     "metadata": {},
     "output_type": "execute_result"
    }
   ],
   "source": [
    "alist[:5]"
   ]
  },
  {
   "cell_type": "code",
   "execution_count": 8,
   "metadata": {},
   "outputs": [
    {
     "data": {
      "text/html": [
       "<div>\n",
       "<style scoped>\n",
       "    .dataframe tbody tr th:only-of-type {\n",
       "        vertical-align: middle;\n",
       "    }\n",
       "\n",
       "    .dataframe tbody tr th {\n",
       "        vertical-align: top;\n",
       "    }\n",
       "\n",
       "    .dataframe thead th {\n",
       "        text-align: right;\n",
       "    }\n",
       "</style>\n",
       "<table border=\"1\" class=\"dataframe\">\n",
       "  <thead>\n",
       "    <tr style=\"text-align: right;\">\n",
       "      <th></th>\n",
       "      <th>0</th>\n",
       "      <th>1</th>\n",
       "      <th>2</th>\n",
       "      <th>3</th>\n",
       "      <th>4</th>\n",
       "      <th>5</th>\n",
       "      <th>6</th>\n",
       "      <th>7</th>\n",
       "    </tr>\n",
       "  </thead>\n",
       "  <tbody>\n",
       "    <tr>\n",
       "      <th>0</th>\n",
       "      <td>226md.png</td>\n",
       "      <td>2</td>\n",
       "      <td>2</td>\n",
       "      <td>6</td>\n",
       "      <td>m</td>\n",
       "      <td>d</td>\n",
       "      <td>.</td>\n",
       "      <td>p</td>\n",
       "    </tr>\n",
       "    <tr>\n",
       "      <th>1</th>\n",
       "      <td>22d5n.png</td>\n",
       "      <td>2</td>\n",
       "      <td>2</td>\n",
       "      <td>d</td>\n",
       "      <td>5</td>\n",
       "      <td>n</td>\n",
       "      <td>.</td>\n",
       "      <td>p</td>\n",
       "    </tr>\n",
       "    <tr>\n",
       "      <th>2</th>\n",
       "      <td>2356g.png</td>\n",
       "      <td>2</td>\n",
       "      <td>3</td>\n",
       "      <td>5</td>\n",
       "      <td>6</td>\n",
       "      <td>g</td>\n",
       "      <td>.</td>\n",
       "      <td>p</td>\n",
       "    </tr>\n",
       "    <tr>\n",
       "      <th>3</th>\n",
       "      <td>23mdg.png</td>\n",
       "      <td>2</td>\n",
       "      <td>3</td>\n",
       "      <td>m</td>\n",
       "      <td>d</td>\n",
       "      <td>g</td>\n",
       "      <td>.</td>\n",
       "      <td>p</td>\n",
       "    </tr>\n",
       "    <tr>\n",
       "      <th>4</th>\n",
       "      <td>23n88.png</td>\n",
       "      <td>2</td>\n",
       "      <td>3</td>\n",
       "      <td>n</td>\n",
       "      <td>8</td>\n",
       "      <td>8</td>\n",
       "      <td>.</td>\n",
       "      <td>p</td>\n",
       "    </tr>\n",
       "  </tbody>\n",
       "</table>\n",
       "</div>"
      ],
      "text/plain": [
       "           0  1  2  3  4  5  6  7\n",
       "0  226md.png  2  2  6  m  d  .  p\n",
       "1  22d5n.png  2  2  d  5  n  .  p\n",
       "2  2356g.png  2  3  5  6  g  .  p\n",
       "3  23mdg.png  2  3  m  d  g  .  p\n",
       "4  23n88.png  2  3  n  8  8  .  p"
      ]
     },
     "execution_count": 8,
     "metadata": {},
     "output_type": "execute_result"
    }
   ],
   "source": [
    "df.head()"
   ]
  },
  {
   "cell_type": "code",
   "execution_count": 9,
   "metadata": {},
   "outputs": [
    {
     "ename": "NameError",
     "evalue": "name 'ImageDataBunch' is not defined",
     "output_type": "error",
     "traceback": [
      "\u001b[1;31m---------------------------------------------------------------------------\u001b[0m",
      "\u001b[1;31mNameError\u001b[0m                                 Traceback (most recent call last)",
      "\u001b[1;32m<ipython-input-9-fb1f85270d4d>\u001b[0m in \u001b[0;36m<module>\u001b[1;34m\u001b[0m\n\u001b[0;32m      1\u001b[0m \u001b[1;31m# data = ImageDataBunch.from_df('',df, folder='train_proc', size=(77,247), bs=bs,seed=43,label_col=1)\u001b[0m\u001b[1;33m\u001b[0m\u001b[1;33m\u001b[0m\u001b[0m\n\u001b[1;32m----> 2\u001b[1;33m \u001b[0mdata\u001b[0m \u001b[1;33m=\u001b[0m \u001b[0mImageDataBunch\u001b[0m\u001b[1;33m.\u001b[0m\u001b[0mfrom_df\u001b[0m\u001b[1;33m(\u001b[0m\u001b[1;34m''\u001b[0m\u001b[1;33m,\u001b[0m\u001b[0mdf\u001b[0m\u001b[1;33m,\u001b[0m \u001b[0mfolder\u001b[0m\u001b[1;33m=\u001b[0m\u001b[0mDIR\u001b[0m\u001b[1;33m,\u001b[0m \u001b[0msize\u001b[0m\u001b[1;33m=\u001b[0m\u001b[1;33m(\u001b[0m\u001b[1;36m77\u001b[0m\u001b[1;33m,\u001b[0m\u001b[1;36m247\u001b[0m\u001b[1;33m)\u001b[0m\u001b[1;33m,\u001b[0m \u001b[0mbs\u001b[0m\u001b[1;33m=\u001b[0m\u001b[0mbs\u001b[0m\u001b[1;33m,\u001b[0m\u001b[0mseed\u001b[0m\u001b[1;33m=\u001b[0m\u001b[1;36m43\u001b[0m\u001b[1;33m,\u001b[0m\u001b[0mlabel_col\u001b[0m\u001b[1;33m=\u001b[0m\u001b[1;36m1\u001b[0m\u001b[1;33m)\u001b[0m\u001b[1;33m\u001b[0m\u001b[0m\n\u001b[0m",
      "\u001b[1;31mNameError\u001b[0m: name 'ImageDataBunch' is not defined"
     ]
    }
   ],
   "source": [
    "# data = ImageDataBunch.from_df('',df, folder='train_proc', size=(77,247), bs=bs,seed=43,label_col=1)\n",
    "data = ImageDataBunch.from_df('',df, folder=DIR, size=(77,247), bs=bs,seed=43,label_col=1)"
   ]
  },
  {
   "cell_type": "code",
   "execution_count": null,
   "metadata": {
    "collapsed": true
   },
   "outputs": [],
   "source": [
    "#data = ImageDataBunch.from_name_func(path_img+'train', fnames, label_func= lambda x: str(x)[6], size=(77,247), bs=bs,seed=43)"
   ]
  },
  {
   "cell_type": "code",
   "execution_count": null,
   "metadata": {},
   "outputs": [],
   "source": [
    "data.show_batch(rows=3, figsize=(7,6))"
   ]
  },
  {
   "cell_type": "code",
   "execution_count": null,
   "metadata": {
    "collapsed": true
   },
   "outputs": [],
   "source": [
    "learn = cnn_learner(data, models.resnet50, metrics=accuracy, ps=0.1,pretrained=False)"
   ]
  },
  {
   "cell_type": "code",
   "execution_count": null,
   "metadata": {},
   "outputs": [],
   "source": [
    "learn.path"
   ]
  },
  {
   "cell_type": "code",
   "execution_count": null,
   "metadata": {
    "collapsed": true
   },
   "outputs": [],
   "source": []
  },
  {
   "cell_type": "code",
   "execution_count": null,
   "metadata": {},
   "outputs": [],
   "source": [
    "learn.lr_find()\n",
    "learn.recorder.plot()"
   ]
  },
  {
   "cell_type": "code",
   "execution_count": null,
   "metadata": {},
   "outputs": [],
   "source": [
    "lr=1e-2\n",
    "learn.fit_one_cycle(20,max_lr=lr,wd=0.01)"
   ]
  },
  {
   "cell_type": "code",
   "execution_count": null,
   "metadata": {
    "collapsed": true
   },
   "outputs": [],
   "source": [
    "learn.save('stage-indi-1')"
   ]
  },
  {
   "cell_type": "code",
   "execution_count": null,
   "metadata": {
    "collapsed": true
   },
   "outputs": [],
   "source": [
    "learn.load('stage-indi-1');"
   ]
  },
  {
   "cell_type": "code",
   "execution_count": null,
   "metadata": {},
   "outputs": [],
   "source": [
    "learn.path"
   ]
  },
  {
   "cell_type": "code",
   "execution_count": null,
   "metadata": {},
   "outputs": [],
   "source": [
    "img=open_image('test/spoted.png');\n",
    "img"
   ]
  },
  {
   "cell_type": "code",
   "execution_count": null,
   "metadata": {
    "collapsed": true
   },
   "outputs": [],
   "source": [
    "pred_class,pred_idx,outputs = learn.predict(img)"
   ]
  },
  {
   "cell_type": "code",
   "execution_count": null,
   "metadata": {},
   "outputs": [],
   "source": [
    "str(pred_class)"
   ]
  },
  {
   "cell_type": "code",
   "execution_count": null,
   "metadata": {},
   "outputs": [],
   "source": [
    "pred_idx"
   ]
  },
  {
   "cell_type": "code",
   "execution_count": null,
   "metadata": {},
   "outputs": [],
   "source": [
    "outputs"
   ]
  },
  {
   "cell_type": "code",
   "execution_count": null,
   "metadata": {},
   "outputs": [],
   "source": [
    "#train/boatl  er\n",
    "for i in range(7):\n",
    "    print('number'+str(i))\n",
    "    data = ImageDataBunch.from_df('',df, folder='train_proc', size=(77,247), bs=bs,seed=43,label_col=i+1)\n",
    "    learn = cnn_learner(data, models.resnet50, metrics=accuracy, ps=0.1,pretrained=False)\n",
    "    lr=1e-2\n",
    "    learn.fit_one_cycle(30,max_lr=lr,wd=0.01)\n",
    "    \n",
    "    learn.save('stage-indi-pos-'+str(i+1))"
   ]
  },
  {
   "cell_type": "code",
   "execution_count": null,
   "metadata": {
    "collapsed": true
   },
   "outputs": [],
   "source": [
    "test_list=os.listdir('test')"
   ]
  },
  {
   "cell_type": "code",
   "execution_count": null,
   "metadata": {
    "collapsed": true
   },
   "outputs": [],
   "source": []
  },
  {
   "cell_type": "code",
   "execution_count": null,
   "metadata": {
    "collapsed": true
   },
   "outputs": [],
   "source": []
  },
  {
   "cell_type": "code",
   "execution_count": null,
   "metadata": {
    "collapsed": true
   },
   "outputs": [],
   "source": [
    "data = ImageDataBunch.from_df('',df, folder='train_proc', size=(77,247), bs=bs,seed=43,label_col=1)\n",
    "learn1 = cnn_learner(data, models.resnet50, metrics=accuracy, ps=0.1,pretrained=False);learn1.load('stage-indi-pos-1');\n",
    "data = ImageDataBunch.from_df('',df, folder='train_proc', size=(77,247), bs=bs,seed=43,label_col=2)\n",
    "learn2 = cnn_learner(data, models.resnet50, metrics=accuracy, ps=0.1,pretrained=False);learn2.load('stage-indi-pos-2');\n",
    "data = ImageDataBunch.from_df('',df, folder='train_proc', size=(77,247), bs=bs,seed=43,label_col=3)\n",
    "learn3 = cnn_learner(data, models.resnet50, metrics=accuracy, ps=0.1,pretrained=False);learn3.load('stage-indi-pos-3');\n",
    "data = ImageDataBunch.from_df('',df, folder='train_proc', size=(77,247), bs=bs,seed=43,label_col=4)\n",
    "learn4 = cnn_learner(data, models.resnet50, metrics=accuracy, ps=0.1,pretrained=False);learn4.load('stage-indi-pos-4');\n",
    "data = ImageDataBunch.from_df('',df, folder='train_proc', size=(77,247), bs=bs,seed=43,label_col=5)\n",
    "learn5 = cnn_learner(data, models.resnet50, metrics=accuracy, ps=0.1,pretrained=False);learn5.load('stage-indi-pos-5');\n",
    "data = ImageDataBunch.from_df('',df, folder='train_proc', size=(77,247), bs=bs,seed=43,label_col=6)\n",
    "learn6 = cnn_learner(data, models.resnet50, metrics=accuracy, ps=0.1,pretrained=False);learn6.load('stage-indi-pos-6');\n",
    "data = ImageDataBunch.from_df('',df, folder='train_proc', size=(77,247), bs=bs,seed=43,label_col=7)\n",
    "learn7 = cnn_learner(data, models.resnet50, metrics=accuracy, ps=0.1,pretrained=False);learn7.load('stage-indi-pos-7');\n",
    "learn_list=[learn1,learn2,learn3,learn4,learn5,learn6,learn7]"
   ]
  },
  {
   "cell_type": "code",
   "execution_count": null,
   "metadata": {
    "collapsed": true
   },
   "outputs": [],
   "source": []
  },
  {
   "cell_type": "code",
   "execution_count": null,
   "metadata": {},
   "outputs": [],
   "source": [
    "figures = []\n",
    "for learner in learn_list:\n",
    "    figures.append(learner.interpret().plot_top_losses(2, heatmap=True,heatmap_thresh=14,figsize=(7,2), largest=False, return_fig=True))"
   ]
  },
  {
   "cell_type": "code",
   "execution_count": null,
   "metadata": {
    "collapsed": true
   },
   "outputs": [],
   "source": []
  },
  {
   "cell_type": "code",
   "execution_count": null,
   "metadata": {
    "collapsed": true
   },
   "outputs": [],
   "source": [
    "img=open_image('test/spoted.png')\n",
    "for i in learn_list:\n",
    "    pred_class,pred_idx,outputs = i.predict(img)\n",
    "    print(str(pred_class))"
   ]
  }
 ],
 "metadata": {
  "kernelspec": {
   "display_name": "PyTorch",
   "language": "python",
   "name": "pytorch_env"
  },
  "language_info": {
   "codemirror_mode": {
    "name": "ipython",
    "version": 3
   },
   "file_extension": ".py",
   "mimetype": "text/x-python",
   "name": "python",
   "nbconvert_exporter": "python",
   "pygments_lexer": "ipython3",
   "version": "3.6.2"
  }
 },
 "nbformat": 4,
 "nbformat_minor": 2
}
