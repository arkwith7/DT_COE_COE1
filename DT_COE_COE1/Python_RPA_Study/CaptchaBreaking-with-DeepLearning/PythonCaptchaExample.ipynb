{
 "cells": [
  {
   "cell_type": "markdown",
   "metadata": {},
   "source": [
    "# How To Generate Random Captcha In Python"
   ]
  },
  {
   "cell_type": "markdown",
   "metadata": {},
   "source": [
    "Random captcha is very useful in web application. It can be used to avoid network attack. Python captcha module can help you to create both image and audio captcha easily. This article will show you how to create image and audio captcha file use python captcha library."
   ]
  },
  {
   "cell_type": "markdown",
   "metadata": {},
   "source": [
    "## 1. Install Python Captcha Module.\n",
    "This module is not a python built-in module, you should install it before using.\n",
    "\n",
    "Open a terminal and run command pip install captcha as below.\n",
    "\n",
    "```\n",
    "$ pip install captcha\n",
    "Collecting captcha\n",
    "  Downloading https://files.pythonhosted.org/packages/49/fe/1fd0df87abf1ba2350c9e134af1e63fa66e38fb88d37cd61ebee43384b1c/captcha-0.2.4.tar.gz (100kB)\n",
    "    100% |████████████████████████████████| 102kB 453kB/s \n",
    "Requirement already satisfied: Pillow in ./anaconda3/lib/python3.6/site-packages (from captcha) (5.1.0)\n",
    "Building wheels for collected packages: captcha\n",
    "  Running setup.py bdist_wheel for captcha ... done\n",
    "  Stored in directory: /Users/zhaosong/Library/Caches/pip/wheels/db/43/da/18c3613704085afd794b9efd2153ce104fdff5bab116633af8\n",
    "Successfully built captcha\n",
    "Installing collected packages: captcha\n",
    "Successfully installed captcha-0.2.4\n",
    "```"
   ]
  },
  {
   "cell_type": "markdown",
   "metadata": {},
   "source": [
    "## 2. Generate Image Captcha.\n",
    "After install captcha module successfully, follow below steps to create an image captcha.\n",
    "\n",
    "### 1. Import captcha.image.ImageCaptcha class.\n",
    "```\n",
    "from captcha.image import ImageCaptcha\n",
    "```\n",
    "### 2. Create an instance of ImageCaptcha.\n",
    "```\n",
    "image_captcha = ImageCaptcha()\n",
    "```\n",
    "### 3. Call ImageCaptcha.generate_image method to create the image object.\n",
    "```\n",
    "image = image_captcha.generate_image(captcha_text)\n",
    "```\n",
    "### 4. If you want to add some noise curve or dots, you can call create_noise_curve or create_noise_dots method.\n",
    "### 5. Call ImageCaptcha.write method to save the image to a file."
   ]
  },
  {
   "cell_type": "markdown",
   "metadata": {},
   "source": [
    "## 3. Generate Audio Captcha.\n",
    "Before you can create audio captcha, you should prepare some audio files, each file play one character pronounce, each pronounce file should be saved under a folder which has the character name.\n",
    "\n",
    "For example, if your text captcha is character **abc**, then you should have audio files such as **a.wav**, **b.wav** and **c.wav** saved in “**./voices/a/a.wav**“, “**./voices/b/b.wav**“, “**./voices/c/c.wav**“. Then the audio captcha abc can be pronounced by playing each of the audio file in order. In above example, the audio file root folder is “**./voices**”.\n",
    "\n",
    "Below is the audio captcha creation steps."
   ]
  },
  {
   "cell_type": "markdown",
   "metadata": {},
   "source": [
    "### 1. Import captcha.audio.AudioCaptcha class.\n",
    "```\n",
    "from captcha.audio import AudioCaptcha\n",
    "```\n",
    "### 2. Create an instance of AudioCaptcha, input the base audio pronounce files save folder. If you do not provide, it will use default digital pronounce only audio files.\n",
    "```\n",
    "audio_captcha = AudioCaptcha(voicedir='./voices')\n",
    "```\n",
    "### 3. Generate autio captcha data.\n",
    "```\n",
    "audio_data = audio_captcha.generate(captcha_text)\n",
    "```\n",
    "### 4. If you want to add white background noise, invoke create_background_noise method.\n",
    "### 5. Save the audio captcha data into a audio file."
   ]
  },
  {
   "cell_type": "markdown",
   "metadata": {},
   "source": [
    "## 4. Python Image And Audio Captcha Example.\n",
    "This example will create both an image captcha and an audio captcha use python captcha module. If will also use matplotlib module to display the image in the matplotlib viewer.\n",
    "\n",
    "Below is the created image file and audio file.\n",
    "\n",
    "Image text : **nFTDaON9MG**\n",
    "\n",
    "![](images/captcha_nFTDaON9MG.png)"
   ]
  },
  {
   "cell_type": "markdown",
   "metadata": {},
   "source": [
    "Audio number : **8671787631**.\n",
    "<div class=\"mejs-controls\"><div class=\"mejs-time-rail\"><span class=\"mejs-time-total mejs-time-slider\" role=\"slider\" tabindex=\"0\" aria-label=\"Time Slider\" aria-valuemin=\"0\" aria-valuemax=\"23.22825\" aria-valuenow=\"0\" aria-valuetext=\"00:00\"><span class=\"mejs-time-buffering\" style=\"display: none;\"></span><span class=\"mejs-time-loaded\" style=\"transform: scaleX(1);\"></span><span class=\"mejs-time-current\" style=\"transform: scaleX(0);\"></span><span class=\"mejs-time-hovered no-hover\" pos=\"282\" style=\"left: 0px; transform: scaleX(0.433888);\"></span><span class=\"mejs-time-handle\" style=\"transform: translateX(0px);\"><span class=\"mejs-time-handle-content\"></span></span><span class=\"mejs-time-float\" style=\"display: none; left: 282px;\"><span class=\"mejs-time-float-current\">00:10</span><span class=\"mejs-time-float-corner\"></span></span></span></div><div class=\"mejs-button mejs-playpause-button mejs-replay\"><button type=\"button\" aria-controls=\"mep_0\" title=\"Play\" aria-label=\"Play\" tabindex=\"0\"></button></div><div class=\"mejs-button mejs-volume-button mejs-mute\"><button type=\"button\" aria-controls=\"mep_0\" title=\"Mute\" aria-label=\"Mute\" tabindex=\"0\"></button></div><a class=\"mejs-horizontal-volume-slider\" href=\"javascript:void(0);\" aria-label=\"Volume Slider\" aria-valuemin=\"0\" aria-valuemax=\"100\" aria-valuenow=\"80\" role=\"slider\" aria-valuetext=\"80%\" style=\"display: block;\"><span class=\"mejs-offscreen\">Use Up/Down Arrow keys to increase or decrease volume.</span><div class=\"mejs-horizontal-volume-total\"><div class=\"mejs-horizontal-volume-current\" style=\"left: 0px; width: 80%;\"></div><div class=\"mejs-horizontal-volume-handle\" style=\"left: 80%;\"></div></div></a><div class=\"mejs-time\" role=\"timer\" aria-live=\"off\"><span class=\"mejs-currenttime\">00:00</span><span> | </span><span class=\"mejs-duration\">00:23</span></div></div>"
   ]
  },
  {
   "cell_type": "code",
   "execution_count": 1,
   "metadata": {},
   "outputs": [],
   "source": [
    "'''\n",
    "Created on Aug 23, 2018\n",
    "@author: zhaosong\n",
    "'''\n",
    "\n",
    "from captcha.image import ImageCaptcha\n",
    "from captcha.audio import AudioCaptcha\n",
    "import matplotlib.pyplot as plt\n",
    "import random\n"
   ]
  },
  {
   "cell_type": "markdown",
   "metadata": {},
   "source": [
    "The number list, lower case character list and upper case character list are used to generate captcha text."
   ]
  },
  {
   "cell_type": "code",
   "execution_count": 2,
   "metadata": {},
   "outputs": [],
   "source": [
    "# The number list, lower case character list and upper case character list are used to generate captcha text.\n",
    "number_list = ['0','1','2','3','4','5','6','7','8','9']\n",
    "\n",
    "alphabet_lowercase = ['a','b','c','d','e','f','g','h','i','j','k','l','m','n','o','p','q','r','s','t','u','v','w','x','y','z']\n",
    "\n",
    "alphabet_uppercase = ['A','B','C','D','E','F','G','H','I','J','K','L','M','N','O','P','Q','R','S','T','U','V','W','X','Y','Z']\n"
   ]
  },
  {
   "cell_type": "markdown",
   "metadata": {},
   "source": [
    "This function will create a random captcha string text based on above three list.\n",
    "\n",
    "The input parameter is the captcha text length."
   ]
  },
  {
   "cell_type": "code",
   "execution_count": 3,
   "metadata": {},
   "outputs": [],
   "source": [
    "# This function will create a random captcha string text based on above three list.\n",
    "# The input parameter is the captcha text length.\n",
    "def create_random_captcha_text(captcha_string_size=10):\n",
    "\n",
    "    captcha_string_list = []\n",
    "\n",
    "    base_char = alphabet_lowercase + alphabet_uppercase + number_list\n",
    "\n",
    "    for i in range(captcha_string_size):\n",
    "\n",
    "        # Select one character randomly.\n",
    "        char = random.choice(base_char)\n",
    "\n",
    "        # Append the character to the list.\n",
    "        captcha_string_list.append(char)\n",
    "\n",
    "    captcha_string = ''\n",
    "\n",
    "    # Change the character list to string.    \n",
    "    for item in captcha_string_list:\n",
    "        captcha_string += str(item)\n",
    "\n",
    "    return captcha_string\n"
   ]
  },
  {
   "cell_type": "markdown",
   "metadata": {},
   "source": [
    "This function will create a fully digital captcha string text.\n"
   ]
  },
  {
   "cell_type": "code",
   "execution_count": 4,
   "metadata": {},
   "outputs": [],
   "source": [
    "# This function will create a fully digital captcha string text.\n",
    "def create_random_digital_text(captcha_string_size=10):\n",
    "\n",
    "    captcha_string_list = []\n",
    "    # Loop in the number list and return a digital captcha string list\n",
    "    for i in range(captcha_string_size):\n",
    "        char = random.choice(number_list)\n",
    "        captcha_string_list.append(char)\n",
    "        \n",
    "    captcha_string = ''\n",
    "\n",
    "    # Convert the digital list to string.    \n",
    "    for item in captcha_string_list:\n",
    "        captcha_string += str(item)\n",
    "\n",
    "    return captcha_string\n"
   ]
  },
  {
   "cell_type": "markdown",
   "metadata": {},
   "source": [
    "Create an image captcha with special text.\n"
   ]
  },
  {
   "cell_type": "code",
   "execution_count": 5,
   "metadata": {},
   "outputs": [],
   "source": [
    "# Create an image captcha with special text.\n",
    "def create_image_captcha(captcha_text):\n",
    "    image_captcha = ImageCaptcha()\n",
    "    # Create the captcha image.\n",
    "    image = image_captcha.generate_image(captcha_text)\n",
    "\n",
    "    # Add noise curve for the image.\n",
    "    image_captcha.create_noise_curve(image, image.getcolors())\n",
    "\n",
    "    # Add noise dots for the image.\n",
    "    image_captcha.create_noise_dots(image, image.getcolors())\n",
    "\n",
    "    # Save the image to a png file.\n",
    "    image_file = \"PythonCaptchaImage/\"+captcha_text + \".png\"\n",
    "    image_captcha.write(captcha_text, image_file)\n",
    "\n",
    "    # Display the image in a matplotlib viewer.\n",
    "    plt.imshow(image)\n",
    "    plt.show()\n",
    "\n",
    "    print(image_file + \" has been created.\")\n"
   ]
  },
  {
   "cell_type": "markdown",
   "metadata": {},
   "source": [
    "Create an audio captcha file.    "
   ]
  },
  {
   "cell_type": "code",
   "execution_count": 6,
   "metadata": {},
   "outputs": [],
   "source": [
    "# Create an audio captcha file.    \n",
    "def create_audio_captcha():\n",
    "\n",
    "    # Create the audio captcha with the specified voice wav file library folder.\n",
    "    # Each captcha char should has it's own directory under the specified folder ( such as ./voices),\n",
    "    # for example ./voices/a/a.wav will be played when the character is a.\n",
    "    # If you do not specify your own voice file library folder, the default built-in voice library which has only digital voice file will be used. \n",
    "    # audio_captcha = AudioCaptcha(voicedir='./voices')\n",
    "\n",
    "    # Create an audio captcha which use digital voice file only.\n",
    "    audio_captcha = AudioCaptcha()\n",
    "\n",
    "    # Because we use the default module voice library, so we can only generate digital text voice.\n",
    "    captcha_text = create_random_digital_text()\n",
    "\n",
    "    # Generate the audio captcha file.\n",
    "    audio_data = audio_captcha.generate(captcha_text)\n",
    "\n",
    "    # Save the autiod captcha file.\n",
    "    audio_file = \"./captcha_\"+captcha_text+'.wav'\n",
    "    audio_captcha.write(captcha_text, audio_file)\n",
    "\n",
    "    print(audio_file + \" has been created.\")"
   ]
  },
  {
   "cell_type": "code",
   "execution_count": 7,
   "metadata": {},
   "outputs": [
    {
     "data": {
      "image/png": "[encoded data removed]",
      "text/plain": [
       "<Figure size 432x288 with 1 Axes>"
      ]
     },
     "metadata": {
      "needs_background": "light"
     },
     "output_type": "display_data"
    },
    {
     "name": "stdout",
     "output_type": "stream",
     "text": [
      "PythonCaptchaImage/CioJmw.png has been created.\n"
     ]
    }
   ],
   "source": [
    "# if __name__ == '__main__':\n",
    "#     # Create random text.\n",
    "#     captcha_text = create_random_captcha_text()\n",
    "\n",
    "#     # Create image captcha.\n",
    "#     create_image_captcha(captcha_text)\n",
    "\n",
    "#     # Create audio captcha.\n",
    "#     create_audio_captcha()\n",
    "\n",
    "# Create random text.\n",
    "captcha_text = create_random_captcha_text(6)\n",
    "\n",
    "# Create image captcha.\n",
    "create_image_captcha(captcha_text)\n",
    "\n",
    "# Create audio captcha.\n",
    "# create_audio_captcha()"
   ]
  },
  {
   "cell_type": "code",
   "execution_count": null,
   "metadata": {},
   "outputs": [],
   "source": []
  }
 ],
 "metadata": {
  "kernelspec": {
   "display_name": "PyTorch",
   "language": "python",
   "name": "pytorch_env"
  },
  "language_info": {
   "codemirror_mode": {
    "name": "ipython",
    "version": 3
   },
   "file_extension": ".py",
   "mimetype": "text/x-python",
   "name": "python",
   "nbconvert_exporter": "python",
   "pygments_lexer": "ipython3",
   "version": "3.6.2"
  }
 },
 "nbformat": 4,
 "nbformat_minor": 4
}
