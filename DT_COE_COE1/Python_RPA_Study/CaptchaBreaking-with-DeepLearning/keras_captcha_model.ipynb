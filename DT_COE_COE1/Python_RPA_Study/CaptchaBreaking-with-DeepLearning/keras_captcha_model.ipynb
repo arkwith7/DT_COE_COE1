{
 "cells": [
  {
   "cell_type": "code",
   "execution_count": 1,
   "metadata": {},
   "outputs": [
    {
     "name": "stdout",
     "output_type": "stream",
     "text": [
      "['captcha', 'giro', 'giro_test', 'hymenoptera_data', 'hymenoptera_data.zip', 'wetax']\n"
     ]
    }
   ],
   "source": [
    "# This Python 3 environment comes with many helpful analytics libraries installed\n",
    "# It is defined by the kaggle/python docker image: https://github.com/kaggle/docker-python\n",
    "# For example, here's several helpful packages to load in \n",
    "\n",
    "import numpy as np # linear algebra\n",
    "import pandas as pd # data processing, CSV file I/O (e.g. pd.read_csv)\n",
    "# Input data files are available in the \"../input/\" directory.\n",
    "# For example, running this (by clicking run or pressing Shift+Enter) will list the files in the input directory\n",
    "%matplotlib inline \n",
    "import matplotlib.pyplot as plt\n",
    "import os\n",
    "print(os.listdir(\"./data\"))\n",
    "\n",
    "# Any results you write to the current directory are saved as output."
   ]
  },
  {
   "cell_type": "code",
   "execution_count": 2,
   "metadata": {
    "collapsed": true
   },
   "outputs": [],
   "source": [
    "# from keras import layers\n",
    "# from keras.models import Model\n",
    "# from keras.models import load_model\n",
    "# from keras import callbacks\n",
    "\n",
    "import tensorflow as tf\n",
    "from tensorflow import keras\n",
    "from tensorflow.keras import layers\n",
    "\n",
    "import os\n",
    "import cv2\n",
    "import string\n",
    "import numpy as np\n",
    "\n",
    "#Init main values\n",
    "symbols = string.ascii_uppercase + \"0123456789\" # All symbols captcha can contain\n",
    "num_symbols = len(symbols)\n",
    "img_shape = (50, 200, 1)"
   ]
  },
  {
   "cell_type": "code",
   "execution_count": 3,
   "metadata": {},
   "outputs": [
    {
     "name": "stdout",
     "output_type": "stream",
     "text": [
      "36\n"
     ]
    }
   ],
   "source": [
    "print(num_symbols)"
   ]
  },
  {
   "cell_type": "code",
   "execution_count": 4,
   "metadata": {
    "collapsed": true
   },
   "outputs": [],
   "source": [
    "def create_model():\n",
    "    img = layers.Input(shape=img_shape) # Get image as an input and process it through some Convs\n",
    "    conv1 = layers.Conv2D(16, (3, 3), padding='same', activation='relu')(img)\n",
    "    mp1 = layers.MaxPooling2D(padding='same')(conv1)  # 100x25\n",
    "    conv2 = layers.Conv2D(32, (3, 3), padding='same', activation='relu')(mp1)\n",
    "    mp2 = layers.MaxPooling2D(padding='same')(conv2)  # 50x13\n",
    "    conv3 = layers.Conv2D(32, (3, 3), padding='same', activation='relu')(mp2)\n",
    "    bn = layers.BatchNormalization()(conv3)\n",
    "    mp3 = layers.MaxPooling2D(padding='same')(bn)  # 25x7\n",
    "    \n",
    "    # Get flattened vector and make 5 branches from it. Each branch will predict one letter\n",
    "    flat = layers.Flatten()(mp3)\n",
    "    outs = []\n",
    "    for _ in range(5):\n",
    "        dens1 = layers.Dense(64, activation='relu')(flat)\n",
    "        drop = layers.Dropout(0.5)(dens1)\n",
    "        res = layers.Dense(num_symbols, activation='sigmoid')(drop)\n",
    "\n",
    "        outs.append(res)\n",
    "    \n",
    "    # Compile model and return it\n",
    "    model = tf.keras.Model(img, outs)\n",
    "    model.compile(loss='categorical_crossentropy', optimizer='adam',metrics=[\"accuracy\"])\n",
    "    return model"
   ]
  },
  {
   "cell_type": "code",
   "execution_count": 5,
   "metadata": {
    "collapsed": true
   },
   "outputs": [],
   "source": [
    "def preprocess_data():\n",
    "    n_samples = len(os.listdir('data/giro'))\n",
    "    X = np.zeros((n_samples, 50, 200, 1)) #1070*50*200\n",
    "    y = np.zeros((5, n_samples, num_symbols)) #5*1070*36\n",
    "\n",
    "    for i, pic in enumerate(os.listdir('data/giro')):\n",
    "        # Read image as grayscale\n",
    "        img = cv2.imread(os.path.join('data/giro', pic), cv2.IMREAD_GRAYSCALE)\n",
    "        pic_target = pic[:-4]\n",
    "        if len(pic_target) < 6:\n",
    "            # Scale and reshape image\n",
    "            img = img / 255.0\n",
    "            img = np.reshape(img, (50, 200, 1))\n",
    "            # Define targets and code them using OneHotEncoding\n",
    "            targs = np.zeros((5, num_symbols))\n",
    "            for j, l in enumerate(pic_target):\n",
    "                ind = symbols.find(l)\n",
    "                targs[j, ind] = 1\n",
    "            X[i] = img\n",
    "            y[:, i] = targs\n",
    "    \n",
    "    # Return final data\n",
    "    return X, y\n",
    "\n",
    "X, y = preprocess_data()\n",
    "X_train, y_train = X[:970], y[:, :970]\n",
    "X_test, y_test = X[970:], y[:, 970:]"
   ]
  },
  {
   "cell_type": "code",
   "execution_count": 6,
   "metadata": {},
   "outputs": [
    {
     "name": "stdout",
     "output_type": "stream",
     "text": [
      "Model: \"model\"\n",
      "__________________________________________________________________________________________________\n",
      "Layer (type)                    Output Shape         Param #     Connected to                     \n",
      "==================================================================================================\n",
      "input_1 (InputLayer)            [(None, 50, 200, 1)] 0                                            \n",
      "__________________________________________________________________________________________________\n",
      "conv2d (Conv2D)                 (None, 50, 200, 16)  160         input_1[0][0]                    \n",
      "__________________________________________________________________________________________________\n",
      "max_pooling2d (MaxPooling2D)    (None, 25, 100, 16)  0           conv2d[0][0]                     \n",
      "__________________________________________________________________________________________________\n",
      "conv2d_1 (Conv2D)               (None, 25, 100, 32)  4640        max_pooling2d[0][0]              \n",
      "__________________________________________________________________________________________________\n",
      "max_pooling2d_1 (MaxPooling2D)  (None, 13, 50, 32)   0           conv2d_1[0][0]                   \n",
      "__________________________________________________________________________________________________\n",
      "conv2d_2 (Conv2D)               (None, 13, 50, 32)   9248        max_pooling2d_1[0][0]            \n",
      "__________________________________________________________________________________________________\n",
      "batch_normalization (BatchNorma (None, 13, 50, 32)   128         conv2d_2[0][0]                   \n",
      "__________________________________________________________________________________________________\n",
      "max_pooling2d_2 (MaxPooling2D)  (None, 7, 25, 32)    0           batch_normalization[0][0]        \n",
      "__________________________________________________________________________________________________\n",
      "flatten (Flatten)               (None, 5600)         0           max_pooling2d_2[0][0]            \n",
      "__________________________________________________________________________________________________\n",
      "dense (Dense)                   (None, 64)           358464      flatten[0][0]                    \n",
      "__________________________________________________________________________________________________\n",
      "dense_2 (Dense)                 (None, 64)           358464      flatten[0][0]                    \n",
      "__________________________________________________________________________________________________\n",
      "dense_4 (Dense)                 (None, 64)           358464      flatten[0][0]                    \n",
      "__________________________________________________________________________________________________\n",
      "dense_6 (Dense)                 (None, 64)           358464      flatten[0][0]                    \n",
      "__________________________________________________________________________________________________\n",
      "dense_8 (Dense)                 (None, 64)           358464      flatten[0][0]                    \n",
      "__________________________________________________________________________________________________\n",
      "dropout (Dropout)               (None, 64)           0           dense[0][0]                      \n",
      "__________________________________________________________________________________________________\n",
      "dropout_1 (Dropout)             (None, 64)           0           dense_2[0][0]                    \n",
      "__________________________________________________________________________________________________\n",
      "dropout_2 (Dropout)             (None, 64)           0           dense_4[0][0]                    \n",
      "__________________________________________________________________________________________________\n",
      "dropout_3 (Dropout)             (None, 64)           0           dense_6[0][0]                    \n",
      "__________________________________________________________________________________________________\n",
      "dropout_4 (Dropout)             (None, 64)           0           dense_8[0][0]                    \n",
      "__________________________________________________________________________________________________\n",
      "dense_1 (Dense)                 (None, 36)           2340        dropout[0][0]                    \n",
      "__________________________________________________________________________________________________\n",
      "dense_3 (Dense)                 (None, 36)           2340        dropout_1[0][0]                  \n",
      "__________________________________________________________________________________________________\n",
      "dense_5 (Dense)                 (None, 36)           2340        dropout_2[0][0]                  \n",
      "__________________________________________________________________________________________________\n",
      "dense_7 (Dense)                 (None, 36)           2340        dropout_3[0][0]                  \n",
      "__________________________________________________________________________________________________\n",
      "dense_9 (Dense)                 (None, 36)           2340        dropout_4[0][0]                  \n",
      "==================================================================================================\n",
      "Total params: 1,818,196\n",
      "Trainable params: 1,818,132\n",
      "Non-trainable params: 64\n",
      "__________________________________________________________________________________________________\n"
     ]
    }
   ],
   "source": [
    "model=create_model();\n",
    "model.summary();"
   ]
  },
  {
   "cell_type": "code",
   "execution_count": 7,
   "metadata": {},
   "outputs": [
    {
     "name": "stdout",
     "output_type": "stream",
     "text": [
      "Epoch 1/30\n",
      "6/6 [==============================] - 5s 128ms/step - loss: 0.0000e+00 - dense_1_loss: 0.0000e+00 - dense_3_loss: 0.0000e+00 - dense_5_loss: 0.0000e+00 - dense_7_loss: 0.0000e+00 - dense_9_loss: 0.0000e+00 - dense_1_accuracy: 1.0000 - dense_3_accuracy: 1.0000 - dense_5_accuracy: 1.0000 - dense_7_accuracy: 1.0000 - dense_9_accuracy: 1.0000 - val_loss: 0.0000e+00 - val_dense_1_loss: 0.0000e+00 - val_dense_3_loss: 0.0000e+00 - val_dense_5_loss: 0.0000e+00 - val_dense_7_loss: 0.0000e+00 - val_dense_9_loss: 0.0000e+00 - val_dense_1_accuracy: 1.0000 - val_dense_3_accuracy: 1.0000 - val_dense_5_accuracy: 1.0000 - val_dense_7_accuracy: 1.0000 - val_dense_9_accuracy: 1.0000\n",
      "Epoch 2/30\n",
      "6/6 [==============================] - 0s 20ms/step - loss: 0.0000e+00 - dense_1_loss: 0.0000e+00 - dense_3_loss: 0.0000e+00 - dense_5_loss: 0.0000e+00 - dense_7_loss: 0.0000e+00 - dense_9_loss: 0.0000e+00 - dense_1_accuracy: 1.0000 - dense_3_accuracy: 1.0000 - dense_5_accuracy: 1.0000 - dense_7_accuracy: 1.0000 - dense_9_accuracy: 1.0000 - val_loss: 0.0000e+00 - val_dense_1_loss: 0.0000e+00 - val_dense_3_loss: 0.0000e+00 - val_dense_5_loss: 0.0000e+00 - val_dense_7_loss: 0.0000e+00 - val_dense_9_loss: 0.0000e+00 - val_dense_1_accuracy: 1.0000 - val_dense_3_accuracy: 1.0000 - val_dense_5_accuracy: 1.0000 - val_dense_7_accuracy: 1.0000 - val_dense_9_accuracy: 1.0000\n",
      "Epoch 3/30\n",
      "6/6 [==============================] - 0s 20ms/step - loss: 0.0000e+00 - dense_1_loss: 0.0000e+00 - dense_3_loss: 0.0000e+00 - dense_5_loss: 0.0000e+00 - dense_7_loss: 0.0000e+00 - dense_9_loss: 0.0000e+00 - dense_1_accuracy: 1.0000 - dense_3_accuracy: 1.0000 - dense_5_accuracy: 1.0000 - dense_7_accuracy: 1.0000 - dense_9_accuracy: 1.0000 - val_loss: 0.0000e+00 - val_dense_1_loss: 0.0000e+00 - val_dense_3_loss: 0.0000e+00 - val_dense_5_loss: 0.0000e+00 - val_dense_7_loss: 0.0000e+00 - val_dense_9_loss: 0.0000e+00 - val_dense_1_accuracy: 1.0000 - val_dense_3_accuracy: 1.0000 - val_dense_5_accuracy: 1.0000 - val_dense_7_accuracy: 1.0000 - val_dense_9_accuracy: 1.0000\n",
      "Epoch 4/30\n",
      "6/6 [==============================] - 0s 20ms/step - loss: 0.0000e+00 - dense_1_loss: 0.0000e+00 - dense_3_loss: 0.0000e+00 - dense_5_loss: 0.0000e+00 - dense_7_loss: 0.0000e+00 - dense_9_loss: 0.0000e+00 - dense_1_accuracy: 1.0000 - dense_3_accuracy: 1.0000 - dense_5_accuracy: 1.0000 - dense_7_accuracy: 1.0000 - dense_9_accuracy: 1.0000 - val_loss: 0.0000e+00 - val_dense_1_loss: 0.0000e+00 - val_dense_3_loss: 0.0000e+00 - val_dense_5_loss: 0.0000e+00 - val_dense_7_loss: 0.0000e+00 - val_dense_9_loss: 0.0000e+00 - val_dense_1_accuracy: 1.0000 - val_dense_3_accuracy: 1.0000 - val_dense_5_accuracy: 1.0000 - val_dense_7_accuracy: 1.0000 - val_dense_9_accuracy: 1.0000\n",
      "Epoch 5/30\n",
      "6/6 [==============================] - 0s 20ms/step - loss: 0.0000e+00 - dense_1_loss: 0.0000e+00 - dense_3_loss: 0.0000e+00 - dense_5_loss: 0.0000e+00 - dense_7_loss: 0.0000e+00 - dense_9_loss: 0.0000e+00 - dense_1_accuracy: 1.0000 - dense_3_accuracy: 1.0000 - dense_5_accuracy: 1.0000 - dense_7_accuracy: 1.0000 - dense_9_accuracy: 1.0000 - val_loss: 0.0000e+00 - val_dense_1_loss: 0.0000e+00 - val_dense_3_loss: 0.0000e+00 - val_dense_5_loss: 0.0000e+00 - val_dense_7_loss: 0.0000e+00 - val_dense_9_loss: 0.0000e+00 - val_dense_1_accuracy: 1.0000 - val_dense_3_accuracy: 1.0000 - val_dense_5_accuracy: 1.0000 - val_dense_7_accuracy: 1.0000 - val_dense_9_accuracy: 1.0000\n",
      "Epoch 6/30\n",
      "6/6 [==============================] - 0s 20ms/step - loss: 0.0000e+00 - dense_1_loss: 0.0000e+00 - dense_3_loss: 0.0000e+00 - dense_5_loss: 0.0000e+00 - dense_7_loss: 0.0000e+00 - dense_9_loss: 0.0000e+00 - dense_1_accuracy: 1.0000 - dense_3_accuracy: 1.0000 - dense_5_accuracy: 1.0000 - dense_7_accuracy: 1.0000 - dense_9_accuracy: 1.0000 - val_loss: 0.0000e+00 - val_dense_1_loss: 0.0000e+00 - val_dense_3_loss: 0.0000e+00 - val_dense_5_loss: 0.0000e+00 - val_dense_7_loss: 0.0000e+00 - val_dense_9_loss: 0.0000e+00 - val_dense_1_accuracy: 1.0000 - val_dense_3_accuracy: 1.0000 - val_dense_5_accuracy: 1.0000 - val_dense_7_accuracy: 1.0000 - val_dense_9_accuracy: 1.0000\n",
      "Epoch 7/30\n",
      "6/6 [==============================] - 0s 20ms/step - loss: 0.0000e+00 - dense_1_loss: 0.0000e+00 - dense_3_loss: 0.0000e+00 - dense_5_loss: 0.0000e+00 - dense_7_loss: 0.0000e+00 - dense_9_loss: 0.0000e+00 - dense_1_accuracy: 1.0000 - dense_3_accuracy: 1.0000 - dense_5_accuracy: 1.0000 - dense_7_accuracy: 1.0000 - dense_9_accuracy: 1.0000 - val_loss: 0.0000e+00 - val_dense_1_loss: 0.0000e+00 - val_dense_3_loss: 0.0000e+00 - val_dense_5_loss: 0.0000e+00 - val_dense_7_loss: 0.0000e+00 - val_dense_9_loss: 0.0000e+00 - val_dense_1_accuracy: 1.0000 - val_dense_3_accuracy: 1.0000 - val_dense_5_accuracy: 1.0000 - val_dense_7_accuracy: 1.0000 - val_dense_9_accuracy: 1.0000\n",
      "Epoch 8/30\n",
      "6/6 [==============================] - 0s 20ms/step - loss: 0.0000e+00 - dense_1_loss: 0.0000e+00 - dense_3_loss: 0.0000e+00 - dense_5_loss: 0.0000e+00 - dense_7_loss: 0.0000e+00 - dense_9_loss: 0.0000e+00 - dense_1_accuracy: 1.0000 - dense_3_accuracy: 1.0000 - dense_5_accuracy: 1.0000 - dense_7_accuracy: 1.0000 - dense_9_accuracy: 1.0000 - val_loss: 0.0000e+00 - val_dense_1_loss: 0.0000e+00 - val_dense_3_loss: 0.0000e+00 - val_dense_5_loss: 0.0000e+00 - val_dense_7_loss: 0.0000e+00 - val_dense_9_loss: 0.0000e+00 - val_dense_1_accuracy: 1.0000 - val_dense_3_accuracy: 1.0000 - val_dense_5_accuracy: 1.0000 - val_dense_7_accuracy: 1.0000 - val_dense_9_accuracy: 1.0000\n",
      "Epoch 9/30\n",
      "6/6 [==============================] - 0s 21ms/step - loss: 0.0000e+00 - dense_1_loss: 0.0000e+00 - dense_3_loss: 0.0000e+00 - dense_5_loss: 0.0000e+00 - dense_7_loss: 0.0000e+00 - dense_9_loss: 0.0000e+00 - dense_1_accuracy: 1.0000 - dense_3_accuracy: 1.0000 - dense_5_accuracy: 1.0000 - dense_7_accuracy: 1.0000 - dense_9_accuracy: 1.0000 - val_loss: 0.0000e+00 - val_dense_1_loss: 0.0000e+00 - val_dense_3_loss: 0.0000e+00 - val_dense_5_loss: 0.0000e+00 - val_dense_7_loss: 0.0000e+00 - val_dense_9_loss: 0.0000e+00 - val_dense_1_accuracy: 1.0000 - val_dense_3_accuracy: 1.0000 - val_dense_5_accuracy: 1.0000 - val_dense_7_accuracy: 1.0000 - val_dense_9_accuracy: 1.0000\n",
      "Epoch 10/30\n",
      "6/6 [==============================] - 0s 20ms/step - loss: 0.0000e+00 - dense_1_loss: 0.0000e+00 - dense_3_loss: 0.0000e+00 - dense_5_loss: 0.0000e+00 - dense_7_loss: 0.0000e+00 - dense_9_loss: 0.0000e+00 - dense_1_accuracy: 1.0000 - dense_3_accuracy: 1.0000 - dense_5_accuracy: 1.0000 - dense_7_accuracy: 1.0000 - dense_9_accuracy: 1.0000 - val_loss: 0.0000e+00 - val_dense_1_loss: 0.0000e+00 - val_dense_3_loss: 0.0000e+00 - val_dense_5_loss: 0.0000e+00 - val_dense_7_loss: 0.0000e+00 - val_dense_9_loss: 0.0000e+00 - val_dense_1_accuracy: 1.0000 - val_dense_3_accuracy: 1.0000 - val_dense_5_accuracy: 1.0000 - val_dense_7_accuracy: 1.0000 - val_dense_9_accuracy: 1.0000\n",
      "Epoch 11/30\n",
      "6/6 [==============================] - 0s 20ms/step - loss: 0.0000e+00 - dense_1_loss: 0.0000e+00 - dense_3_loss: 0.0000e+00 - dense_5_loss: 0.0000e+00 - dense_7_loss: 0.0000e+00 - dense_9_loss: 0.0000e+00 - dense_1_accuracy: 1.0000 - dense_3_accuracy: 1.0000 - dense_5_accuracy: 1.0000 - dense_7_accuracy: 1.0000 - dense_9_accuracy: 1.0000 - val_loss: 0.0000e+00 - val_dense_1_loss: 0.0000e+00 - val_dense_3_loss: 0.0000e+00 - val_dense_5_loss: 0.0000e+00 - val_dense_7_loss: 0.0000e+00 - val_dense_9_loss: 0.0000e+00 - val_dense_1_accuracy: 1.0000 - val_dense_3_accuracy: 1.0000 - val_dense_5_accuracy: 1.0000 - val_dense_7_accuracy: 1.0000 - val_dense_9_accuracy: 1.0000\n",
      "Epoch 12/30\n",
      "6/6 [==============================] - 0s 21ms/step - loss: 0.0000e+00 - dense_1_loss: 0.0000e+00 - dense_3_loss: 0.0000e+00 - dense_5_loss: 0.0000e+00 - dense_7_loss: 0.0000e+00 - dense_9_loss: 0.0000e+00 - dense_1_accuracy: 1.0000 - dense_3_accuracy: 1.0000 - dense_5_accuracy: 1.0000 - dense_7_accuracy: 1.0000 - dense_9_accuracy: 1.0000 - val_loss: 0.0000e+00 - val_dense_1_loss: 0.0000e+00 - val_dense_3_loss: 0.0000e+00 - val_dense_5_loss: 0.0000e+00 - val_dense_7_loss: 0.0000e+00 - val_dense_9_loss: 0.0000e+00 - val_dense_1_accuracy: 1.0000 - val_dense_3_accuracy: 1.0000 - val_dense_5_accuracy: 1.0000 - val_dense_7_accuracy: 1.0000 - val_dense_9_accuracy: 1.0000\n"
     ]
    },
    {
     "name": "stdout",
     "output_type": "stream",
     "text": [
      "Epoch 13/30\n",
      "6/6 [==============================] - 0s 20ms/step - loss: 0.0000e+00 - dense_1_loss: 0.0000e+00 - dense_3_loss: 0.0000e+00 - dense_5_loss: 0.0000e+00 - dense_7_loss: 0.0000e+00 - dense_9_loss: 0.0000e+00 - dense_1_accuracy: 1.0000 - dense_3_accuracy: 1.0000 - dense_5_accuracy: 1.0000 - dense_7_accuracy: 1.0000 - dense_9_accuracy: 1.0000 - val_loss: 0.0000e+00 - val_dense_1_loss: 0.0000e+00 - val_dense_3_loss: 0.0000e+00 - val_dense_5_loss: 0.0000e+00 - val_dense_7_loss: 0.0000e+00 - val_dense_9_loss: 0.0000e+00 - val_dense_1_accuracy: 1.0000 - val_dense_3_accuracy: 1.0000 - val_dense_5_accuracy: 1.0000 - val_dense_7_accuracy: 1.0000 - val_dense_9_accuracy: 1.0000\n",
      "Epoch 14/30\n",
      "6/6 [==============================] - 0s 21ms/step - loss: 0.0000e+00 - dense_1_loss: 0.0000e+00 - dense_3_loss: 0.0000e+00 - dense_5_loss: 0.0000e+00 - dense_7_loss: 0.0000e+00 - dense_9_loss: 0.0000e+00 - dense_1_accuracy: 1.0000 - dense_3_accuracy: 1.0000 - dense_5_accuracy: 1.0000 - dense_7_accuracy: 1.0000 - dense_9_accuracy: 1.0000 - val_loss: 0.0000e+00 - val_dense_1_loss: 0.0000e+00 - val_dense_3_loss: 0.0000e+00 - val_dense_5_loss: 0.0000e+00 - val_dense_7_loss: 0.0000e+00 - val_dense_9_loss: 0.0000e+00 - val_dense_1_accuracy: 1.0000 - val_dense_3_accuracy: 1.0000 - val_dense_5_accuracy: 1.0000 - val_dense_7_accuracy: 1.0000 - val_dense_9_accuracy: 1.0000\n",
      "Epoch 15/30\n",
      "6/6 [==============================] - 0s 21ms/step - loss: 0.0000e+00 - dense_1_loss: 0.0000e+00 - dense_3_loss: 0.0000e+00 - dense_5_loss: 0.0000e+00 - dense_7_loss: 0.0000e+00 - dense_9_loss: 0.0000e+00 - dense_1_accuracy: 1.0000 - dense_3_accuracy: 1.0000 - dense_5_accuracy: 1.0000 - dense_7_accuracy: 1.0000 - dense_9_accuracy: 1.0000 - val_loss: 0.0000e+00 - val_dense_1_loss: 0.0000e+00 - val_dense_3_loss: 0.0000e+00 - val_dense_5_loss: 0.0000e+00 - val_dense_7_loss: 0.0000e+00 - val_dense_9_loss: 0.0000e+00 - val_dense_1_accuracy: 1.0000 - val_dense_3_accuracy: 1.0000 - val_dense_5_accuracy: 1.0000 - val_dense_7_accuracy: 1.0000 - val_dense_9_accuracy: 1.0000\n",
      "Epoch 16/30\n",
      "6/6 [==============================] - 0s 21ms/step - loss: 0.0000e+00 - dense_1_loss: 0.0000e+00 - dense_3_loss: 0.0000e+00 - dense_5_loss: 0.0000e+00 - dense_7_loss: 0.0000e+00 - dense_9_loss: 0.0000e+00 - dense_1_accuracy: 1.0000 - dense_3_accuracy: 1.0000 - dense_5_accuracy: 1.0000 - dense_7_accuracy: 1.0000 - dense_9_accuracy: 1.0000 - val_loss: 0.0000e+00 - val_dense_1_loss: 0.0000e+00 - val_dense_3_loss: 0.0000e+00 - val_dense_5_loss: 0.0000e+00 - val_dense_7_loss: 0.0000e+00 - val_dense_9_loss: 0.0000e+00 - val_dense_1_accuracy: 1.0000 - val_dense_3_accuracy: 1.0000 - val_dense_5_accuracy: 1.0000 - val_dense_7_accuracy: 1.0000 - val_dense_9_accuracy: 1.0000\n",
      "Epoch 17/30\n",
      "6/6 [==============================] - 0s 20ms/step - loss: 0.0000e+00 - dense_1_loss: 0.0000e+00 - dense_3_loss: 0.0000e+00 - dense_5_loss: 0.0000e+00 - dense_7_loss: 0.0000e+00 - dense_9_loss: 0.0000e+00 - dense_1_accuracy: 1.0000 - dense_3_accuracy: 1.0000 - dense_5_accuracy: 1.0000 - dense_7_accuracy: 1.0000 - dense_9_accuracy: 1.0000 - val_loss: 0.0000e+00 - val_dense_1_loss: 0.0000e+00 - val_dense_3_loss: 0.0000e+00 - val_dense_5_loss: 0.0000e+00 - val_dense_7_loss: 0.0000e+00 - val_dense_9_loss: 0.0000e+00 - val_dense_1_accuracy: 1.0000 - val_dense_3_accuracy: 1.0000 - val_dense_5_accuracy: 1.0000 - val_dense_7_accuracy: 1.0000 - val_dense_9_accuracy: 1.0000\n",
      "Epoch 18/30\n",
      "6/6 [==============================] - 0s 20ms/step - loss: 0.0000e+00 - dense_1_loss: 0.0000e+00 - dense_3_loss: 0.0000e+00 - dense_5_loss: 0.0000e+00 - dense_7_loss: 0.0000e+00 - dense_9_loss: 0.0000e+00 - dense_1_accuracy: 1.0000 - dense_3_accuracy: 1.0000 - dense_5_accuracy: 1.0000 - dense_7_accuracy: 1.0000 - dense_9_accuracy: 1.0000 - val_loss: 0.0000e+00 - val_dense_1_loss: 0.0000e+00 - val_dense_3_loss: 0.0000e+00 - val_dense_5_loss: 0.0000e+00 - val_dense_7_loss: 0.0000e+00 - val_dense_9_loss: 0.0000e+00 - val_dense_1_accuracy: 1.0000 - val_dense_3_accuracy: 1.0000 - val_dense_5_accuracy: 1.0000 - val_dense_7_accuracy: 1.0000 - val_dense_9_accuracy: 1.0000\n",
      "Epoch 19/30\n",
      "6/6 [==============================] - 0s 21ms/step - loss: 0.0000e+00 - dense_1_loss: 0.0000e+00 - dense_3_loss: 0.0000e+00 - dense_5_loss: 0.0000e+00 - dense_7_loss: 0.0000e+00 - dense_9_loss: 0.0000e+00 - dense_1_accuracy: 1.0000 - dense_3_accuracy: 1.0000 - dense_5_accuracy: 1.0000 - dense_7_accuracy: 1.0000 - dense_9_accuracy: 1.0000 - val_loss: 0.0000e+00 - val_dense_1_loss: 0.0000e+00 - val_dense_3_loss: 0.0000e+00 - val_dense_5_loss: 0.0000e+00 - val_dense_7_loss: 0.0000e+00 - val_dense_9_loss: 0.0000e+00 - val_dense_1_accuracy: 1.0000 - val_dense_3_accuracy: 1.0000 - val_dense_5_accuracy: 1.0000 - val_dense_7_accuracy: 1.0000 - val_dense_9_accuracy: 1.0000\n",
      "Epoch 20/30\n",
      "6/6 [==============================] - 0s 20ms/step - loss: 0.0000e+00 - dense_1_loss: 0.0000e+00 - dense_3_loss: 0.0000e+00 - dense_5_loss: 0.0000e+00 - dense_7_loss: 0.0000e+00 - dense_9_loss: 0.0000e+00 - dense_1_accuracy: 1.0000 - dense_3_accuracy: 1.0000 - dense_5_accuracy: 1.0000 - dense_7_accuracy: 1.0000 - dense_9_accuracy: 1.0000 - val_loss: 0.0000e+00 - val_dense_1_loss: 0.0000e+00 - val_dense_3_loss: 0.0000e+00 - val_dense_5_loss: 0.0000e+00 - val_dense_7_loss: 0.0000e+00 - val_dense_9_loss: 0.0000e+00 - val_dense_1_accuracy: 1.0000 - val_dense_3_accuracy: 1.0000 - val_dense_5_accuracy: 1.0000 - val_dense_7_accuracy: 1.0000 - val_dense_9_accuracy: 1.0000\n",
      "Epoch 21/30\n",
      "6/6 [==============================] - 0s 21ms/step - loss: 0.0000e+00 - dense_1_loss: 0.0000e+00 - dense_3_loss: 0.0000e+00 - dense_5_loss: 0.0000e+00 - dense_7_loss: 0.0000e+00 - dense_9_loss: 0.0000e+00 - dense_1_accuracy: 1.0000 - dense_3_accuracy: 1.0000 - dense_5_accuracy: 1.0000 - dense_7_accuracy: 1.0000 - dense_9_accuracy: 1.0000 - val_loss: 0.0000e+00 - val_dense_1_loss: 0.0000e+00 - val_dense_3_loss: 0.0000e+00 - val_dense_5_loss: 0.0000e+00 - val_dense_7_loss: 0.0000e+00 - val_dense_9_loss: 0.0000e+00 - val_dense_1_accuracy: 1.0000 - val_dense_3_accuracy: 1.0000 - val_dense_5_accuracy: 1.0000 - val_dense_7_accuracy: 1.0000 - val_dense_9_accuracy: 1.0000\n",
      "Epoch 22/30\n",
      "6/6 [==============================] - 0s 20ms/step - loss: 0.0000e+00 - dense_1_loss: 0.0000e+00 - dense_3_loss: 0.0000e+00 - dense_5_loss: 0.0000e+00 - dense_7_loss: 0.0000e+00 - dense_9_loss: 0.0000e+00 - dense_1_accuracy: 1.0000 - dense_3_accuracy: 1.0000 - dense_5_accuracy: 1.0000 - dense_7_accuracy: 1.0000 - dense_9_accuracy: 1.0000 - val_loss: 0.0000e+00 - val_dense_1_loss: 0.0000e+00 - val_dense_3_loss: 0.0000e+00 - val_dense_5_loss: 0.0000e+00 - val_dense_7_loss: 0.0000e+00 - val_dense_9_loss: 0.0000e+00 - val_dense_1_accuracy: 1.0000 - val_dense_3_accuracy: 1.0000 - val_dense_5_accuracy: 1.0000 - val_dense_7_accuracy: 1.0000 - val_dense_9_accuracy: 1.0000\n",
      "Epoch 23/30\n",
      "6/6 [==============================] - 0s 21ms/step - loss: 0.0000e+00 - dense_1_loss: 0.0000e+00 - dense_3_loss: 0.0000e+00 - dense_5_loss: 0.0000e+00 - dense_7_loss: 0.0000e+00 - dense_9_loss: 0.0000e+00 - dense_1_accuracy: 1.0000 - dense_3_accuracy: 1.0000 - dense_5_accuracy: 1.0000 - dense_7_accuracy: 1.0000 - dense_9_accuracy: 1.0000 - val_loss: 0.0000e+00 - val_dense_1_loss: 0.0000e+00 - val_dense_3_loss: 0.0000e+00 - val_dense_5_loss: 0.0000e+00 - val_dense_7_loss: 0.0000e+00 - val_dense_9_loss: 0.0000e+00 - val_dense_1_accuracy: 1.0000 - val_dense_3_accuracy: 1.0000 - val_dense_5_accuracy: 1.0000 - val_dense_7_accuracy: 1.0000 - val_dense_9_accuracy: 1.0000\n",
      "Epoch 24/30\n",
      "6/6 [==============================] - 0s 20ms/step - loss: 0.0000e+00 - dense_1_loss: 0.0000e+00 - dense_3_loss: 0.0000e+00 - dense_5_loss: 0.0000e+00 - dense_7_loss: 0.0000e+00 - dense_9_loss: 0.0000e+00 - dense_1_accuracy: 1.0000 - dense_3_accuracy: 1.0000 - dense_5_accuracy: 1.0000 - dense_7_accuracy: 1.0000 - dense_9_accuracy: 1.0000 - val_loss: 0.0000e+00 - val_dense_1_loss: 0.0000e+00 - val_dense_3_loss: 0.0000e+00 - val_dense_5_loss: 0.0000e+00 - val_dense_7_loss: 0.0000e+00 - val_dense_9_loss: 0.0000e+00 - val_dense_1_accuracy: 1.0000 - val_dense_3_accuracy: 1.0000 - val_dense_5_accuracy: 1.0000 - val_dense_7_accuracy: 1.0000 - val_dense_9_accuracy: 1.0000\n"
     ]
    },
    {
     "name": "stdout",
     "output_type": "stream",
     "text": [
      "Epoch 25/30\n",
      "6/6 [==============================] - 0s 20ms/step - loss: 0.0000e+00 - dense_1_loss: 0.0000e+00 - dense_3_loss: 0.0000e+00 - dense_5_loss: 0.0000e+00 - dense_7_loss: 0.0000e+00 - dense_9_loss: 0.0000e+00 - dense_1_accuracy: 1.0000 - dense_3_accuracy: 1.0000 - dense_5_accuracy: 1.0000 - dense_7_accuracy: 1.0000 - dense_9_accuracy: 1.0000 - val_loss: 0.0000e+00 - val_dense_1_loss: 0.0000e+00 - val_dense_3_loss: 0.0000e+00 - val_dense_5_loss: 0.0000e+00 - val_dense_7_loss: 0.0000e+00 - val_dense_9_loss: 0.0000e+00 - val_dense_1_accuracy: 1.0000 - val_dense_3_accuracy: 1.0000 - val_dense_5_accuracy: 1.0000 - val_dense_7_accuracy: 1.0000 - val_dense_9_accuracy: 1.0000\n",
      "Epoch 26/30\n",
      "6/6 [==============================] - 0s 21ms/step - loss: 0.0000e+00 - dense_1_loss: 0.0000e+00 - dense_3_loss: 0.0000e+00 - dense_5_loss: 0.0000e+00 - dense_7_loss: 0.0000e+00 - dense_9_loss: 0.0000e+00 - dense_1_accuracy: 1.0000 - dense_3_accuracy: 1.0000 - dense_5_accuracy: 1.0000 - dense_7_accuracy: 1.0000 - dense_9_accuracy: 1.0000 - val_loss: 0.0000e+00 - val_dense_1_loss: 0.0000e+00 - val_dense_3_loss: 0.0000e+00 - val_dense_5_loss: 0.0000e+00 - val_dense_7_loss: 0.0000e+00 - val_dense_9_loss: 0.0000e+00 - val_dense_1_accuracy: 1.0000 - val_dense_3_accuracy: 1.0000 - val_dense_5_accuracy: 1.0000 - val_dense_7_accuracy: 1.0000 - val_dense_9_accuracy: 1.0000\n",
      "Epoch 27/30\n",
      "6/6 [==============================] - 0s 21ms/step - loss: 0.0000e+00 - dense_1_loss: 0.0000e+00 - dense_3_loss: 0.0000e+00 - dense_5_loss: 0.0000e+00 - dense_7_loss: 0.0000e+00 - dense_9_loss: 0.0000e+00 - dense_1_accuracy: 1.0000 - dense_3_accuracy: 1.0000 - dense_5_accuracy: 1.0000 - dense_7_accuracy: 1.0000 - dense_9_accuracy: 1.0000 - val_loss: 0.0000e+00 - val_dense_1_loss: 0.0000e+00 - val_dense_3_loss: 0.0000e+00 - val_dense_5_loss: 0.0000e+00 - val_dense_7_loss: 0.0000e+00 - val_dense_9_loss: 0.0000e+00 - val_dense_1_accuracy: 1.0000 - val_dense_3_accuracy: 1.0000 - val_dense_5_accuracy: 1.0000 - val_dense_7_accuracy: 1.0000 - val_dense_9_accuracy: 1.0000\n",
      "Epoch 28/30\n",
      "6/6 [==============================] - 0s 21ms/step - loss: 0.0000e+00 - dense_1_loss: 0.0000e+00 - dense_3_loss: 0.0000e+00 - dense_5_loss: 0.0000e+00 - dense_7_loss: 0.0000e+00 - dense_9_loss: 0.0000e+00 - dense_1_accuracy: 1.0000 - dense_3_accuracy: 1.0000 - dense_5_accuracy: 1.0000 - dense_7_accuracy: 1.0000 - dense_9_accuracy: 1.0000 - val_loss: 0.0000e+00 - val_dense_1_loss: 0.0000e+00 - val_dense_3_loss: 0.0000e+00 - val_dense_5_loss: 0.0000e+00 - val_dense_7_loss: 0.0000e+00 - val_dense_9_loss: 0.0000e+00 - val_dense_1_accuracy: 1.0000 - val_dense_3_accuracy: 1.0000 - val_dense_5_accuracy: 1.0000 - val_dense_7_accuracy: 1.0000 - val_dense_9_accuracy: 1.0000\n",
      "Epoch 29/30\n",
      "6/6 [==============================] - 0s 21ms/step - loss: 0.0000e+00 - dense_1_loss: 0.0000e+00 - dense_3_loss: 0.0000e+00 - dense_5_loss: 0.0000e+00 - dense_7_loss: 0.0000e+00 - dense_9_loss: 0.0000e+00 - dense_1_accuracy: 1.0000 - dense_3_accuracy: 1.0000 - dense_5_accuracy: 1.0000 - dense_7_accuracy: 1.0000 - dense_9_accuracy: 1.0000 - val_loss: 0.0000e+00 - val_dense_1_loss: 0.0000e+00 - val_dense_3_loss: 0.0000e+00 - val_dense_5_loss: 0.0000e+00 - val_dense_7_loss: 0.0000e+00 - val_dense_9_loss: 0.0000e+00 - val_dense_1_accuracy: 1.0000 - val_dense_3_accuracy: 1.0000 - val_dense_5_accuracy: 1.0000 - val_dense_7_accuracy: 1.0000 - val_dense_9_accuracy: 1.0000\n",
      "Epoch 30/30\n",
      "6/6 [==============================] - 0s 21ms/step - loss: 0.0000e+00 - dense_1_loss: 0.0000e+00 - dense_3_loss: 0.0000e+00 - dense_5_loss: 0.0000e+00 - dense_7_loss: 0.0000e+00 - dense_9_loss: 0.0000e+00 - dense_1_accuracy: 1.0000 - dense_3_accuracy: 1.0000 - dense_5_accuracy: 1.0000 - dense_7_accuracy: 1.0000 - dense_9_accuracy: 1.0000 - val_loss: 0.0000e+00 - val_dense_1_loss: 0.0000e+00 - val_dense_3_loss: 0.0000e+00 - val_dense_5_loss: 0.0000e+00 - val_dense_7_loss: 0.0000e+00 - val_dense_9_loss: 0.0000e+00 - val_dense_1_accuracy: 1.0000 - val_dense_3_accuracy: 1.0000 - val_dense_5_accuracy: 1.0000 - val_dense_7_accuracy: 1.0000 - val_dense_9_accuracy: 1.0000\n"
     ]
    }
   ],
   "source": [
    "#model = create_model()\n",
    "hist = model.fit(X_train, [y_train[0], y_train[1], y_train[2], y_train[3], y_train[4]], batch_size=32, epochs=30,verbose=1, validation_split=0.2)"
   ]
  },
  {
   "cell_type": "code",
   "execution_count": 8,
   "metadata": {
    "collapsed": true
   },
   "outputs": [],
   "source": [
    "# Define function to predict captcha\n",
    "def predict(filepath):\n",
    "    img = cv2.imread(filepath, cv2.IMREAD_GRAYSCALE)\n",
    "    if img is not None:\n",
    "        img = img / 255.0\n",
    "    else:\n",
    "        print(\"Not detected\");\n",
    "    res = np.array(model.predict(img[np.newaxis, :, :, np.newaxis]))\n",
    "    ans = np.reshape(res, (5, 36))\n",
    "    l_ind = []\n",
    "    probs = []\n",
    "    for a in ans:\n",
    "        l_ind.append(np.argmax(a))\n",
    "        #probs.append(np.max(a))\n",
    "\n",
    "    capt = ''\n",
    "    for l in l_ind:\n",
    "        capt += symbols[l]\n",
    "    return capt#, sum(probs) / 5"
   ]
  },
  {
   "cell_type": "code",
   "execution_count": 9,
   "metadata": {},
   "outputs": [
    {
     "name": "stdout",
     "output_type": "stream",
     "text": [
      "\r"
     ]
    },
    {
     "name": "stderr",
     "output_type": "stream",
     "text": [
      "C:\\Users\\rbrain_user\\Documents\\aa_env\\lib\\site-packages\\tensorflow\\python\\keras\\utils\\generic_utils.py:909: RuntimeWarning: divide by zero encountered in log10\n",
      "  numdigits = int(np.log10(self.target)) + 1\n"
     ]
    },
    {
     "ename": "OverflowError",
     "evalue": "cannot convert float infinity to integer",
     "output_type": "error",
     "traceback": [
      "\u001b[1;31m---------------------------------------------------------------------------\u001b[0m",
      "\u001b[1;31mOverflowError\u001b[0m                             Traceback (most recent call last)",
      "\u001b[1;32m<ipython-input-9-c6b5df9d3617>\u001b[0m in \u001b[0;36m<module>\u001b[1;34m\u001b[0m\n\u001b[1;32m----> 1\u001b[1;33m \u001b[0mscore\u001b[0m\u001b[1;33m=\u001b[0m \u001b[0mmodel\u001b[0m\u001b[1;33m.\u001b[0m\u001b[0mevaluate\u001b[0m\u001b[1;33m(\u001b[0m\u001b[0mX_test\u001b[0m\u001b[1;33m,\u001b[0m\u001b[1;33m[\u001b[0m\u001b[0my_test\u001b[0m\u001b[1;33m[\u001b[0m\u001b[1;36m0\u001b[0m\u001b[1;33m]\u001b[0m\u001b[1;33m,\u001b[0m \u001b[0my_test\u001b[0m\u001b[1;33m[\u001b[0m\u001b[1;36m1\u001b[0m\u001b[1;33m]\u001b[0m\u001b[1;33m,\u001b[0m \u001b[0my_test\u001b[0m\u001b[1;33m[\u001b[0m\u001b[1;36m2\u001b[0m\u001b[1;33m]\u001b[0m\u001b[1;33m,\u001b[0m \u001b[0my_test\u001b[0m\u001b[1;33m[\u001b[0m\u001b[1;36m3\u001b[0m\u001b[1;33m]\u001b[0m\u001b[1;33m,\u001b[0m \u001b[0my_test\u001b[0m\u001b[1;33m[\u001b[0m\u001b[1;36m4\u001b[0m\u001b[1;33m]\u001b[0m\u001b[1;33m]\u001b[0m\u001b[1;33m,\u001b[0m\u001b[0mverbose\u001b[0m\u001b[1;33m=\u001b[0m\u001b[1;36m1\u001b[0m\u001b[1;33m)\u001b[0m\u001b[1;33m\u001b[0m\u001b[0m\n\u001b[0m\u001b[0;32m      2\u001b[0m \u001b[0mprint\u001b[0m\u001b[1;33m(\u001b[0m\u001b[1;34m'Test Loss and accuracy:'\u001b[0m\u001b[1;33m,\u001b[0m \u001b[0mscore\u001b[0m\u001b[1;33m)\u001b[0m\u001b[1;33m\u001b[0m\u001b[0m\n",
      "\u001b[1;32m~\\Documents\\aa_env\\lib\\site-packages\\tensorflow\\python\\keras\\engine\\training.py\u001b[0m in \u001b[0;36mevaluate\u001b[1;34m(self, x, y, batch_size, verbose, sample_weight, steps, callbacks, max_queue_size, workers, use_multiprocessing, return_dict, **kwargs)\u001b[0m\n\u001b[0;32m   1494\u001b[0m               \u001b[0mcallbacks\u001b[0m\u001b[1;33m.\u001b[0m\u001b[0mon_test_batch_end\u001b[0m\u001b[1;33m(\u001b[0m\u001b[0mend_step\u001b[0m\u001b[1;33m,\u001b[0m \u001b[0mlogs\u001b[0m\u001b[1;33m)\u001b[0m\u001b[1;33m\u001b[0m\u001b[0m\n\u001b[0;32m   1495\u001b[0m       \u001b[0mlogs\u001b[0m \u001b[1;33m=\u001b[0m \u001b[0mtf_utils\u001b[0m\u001b[1;33m.\u001b[0m\u001b[0msync_to_numpy_or_python_type\u001b[0m\u001b[1;33m(\u001b[0m\u001b[0mlogs\u001b[0m\u001b[1;33m)\u001b[0m\u001b[1;33m\u001b[0m\u001b[0m\n\u001b[1;32m-> 1496\u001b[1;33m       \u001b[0mcallbacks\u001b[0m\u001b[1;33m.\u001b[0m\u001b[0mon_test_end\u001b[0m\u001b[1;33m(\u001b[0m\u001b[0mlogs\u001b[0m\u001b[1;33m=\u001b[0m\u001b[0mlogs\u001b[0m\u001b[1;33m)\u001b[0m\u001b[1;33m\u001b[0m\u001b[0m\n\u001b[0m\u001b[0;32m   1497\u001b[0m \u001b[1;33m\u001b[0m\u001b[0m\n\u001b[0;32m   1498\u001b[0m       \u001b[1;32mif\u001b[0m \u001b[0mreturn_dict\u001b[0m\u001b[1;33m:\u001b[0m\u001b[1;33m\u001b[0m\u001b[0m\n",
      "\u001b[1;32m~\\Documents\\aa_env\\lib\\site-packages\\tensorflow\\python\\keras\\callbacks.py\u001b[0m in \u001b[0;36mon_test_end\u001b[1;34m(self, logs)\u001b[0m\n\u001b[0;32m    543\u001b[0m     \u001b[0mlogs\u001b[0m \u001b[1;33m=\u001b[0m \u001b[0mself\u001b[0m\u001b[1;33m.\u001b[0m\u001b[0m_process_logs\u001b[0m\u001b[1;33m(\u001b[0m\u001b[0mlogs\u001b[0m\u001b[1;33m)\u001b[0m\u001b[1;33m\u001b[0m\u001b[0m\n\u001b[0;32m    544\u001b[0m     \u001b[1;32mfor\u001b[0m \u001b[0mcallback\u001b[0m \u001b[1;32min\u001b[0m \u001b[0mself\u001b[0m\u001b[1;33m.\u001b[0m\u001b[0mcallbacks\u001b[0m\u001b[1;33m:\u001b[0m\u001b[1;33m\u001b[0m\u001b[0m\n\u001b[1;32m--> 545\u001b[1;33m       \u001b[0mcallback\u001b[0m\u001b[1;33m.\u001b[0m\u001b[0mon_test_end\u001b[0m\u001b[1;33m(\u001b[0m\u001b[0mlogs\u001b[0m\u001b[1;33m)\u001b[0m\u001b[1;33m\u001b[0m\u001b[0m\n\u001b[0m\u001b[0;32m    546\u001b[0m \u001b[1;33m\u001b[0m\u001b[0m\n\u001b[0;32m    547\u001b[0m   \u001b[1;32mdef\u001b[0m \u001b[0mon_predict_begin\u001b[0m\u001b[1;33m(\u001b[0m\u001b[0mself\u001b[0m\u001b[1;33m,\u001b[0m \u001b[0mlogs\u001b[0m\u001b[1;33m=\u001b[0m\u001b[1;32mNone\u001b[0m\u001b[1;33m)\u001b[0m\u001b[1;33m:\u001b[0m\u001b[1;33m\u001b[0m\u001b[0m\n",
      "\u001b[1;32m~\\Documents\\aa_env\\lib\\site-packages\\tensorflow\\python\\keras\\callbacks.py\u001b[0m in \u001b[0;36mon_test_end\u001b[1;34m(self, logs)\u001b[0m\n\u001b[0;32m   1042\u001b[0m   \u001b[1;32mdef\u001b[0m \u001b[0mon_test_end\u001b[0m\u001b[1;33m(\u001b[0m\u001b[0mself\u001b[0m\u001b[1;33m,\u001b[0m \u001b[0mlogs\u001b[0m\u001b[1;33m=\u001b[0m\u001b[1;32mNone\u001b[0m\u001b[1;33m)\u001b[0m\u001b[1;33m:\u001b[0m\u001b[1;33m\u001b[0m\u001b[0m\n\u001b[0;32m   1043\u001b[0m     \u001b[1;32mif\u001b[0m \u001b[1;32mnot\u001b[0m \u001b[0mself\u001b[0m\u001b[1;33m.\u001b[0m\u001b[0m_called_in_fit\u001b[0m\u001b[1;33m:\u001b[0m\u001b[1;33m\u001b[0m\u001b[0m\n\u001b[1;32m-> 1044\u001b[1;33m       \u001b[0mself\u001b[0m\u001b[1;33m.\u001b[0m\u001b[0m_finalize_progbar\u001b[0m\u001b[1;33m(\u001b[0m\u001b[0mlogs\u001b[0m\u001b[1;33m,\u001b[0m \u001b[0mself\u001b[0m\u001b[1;33m.\u001b[0m\u001b[0m_test_step\u001b[0m\u001b[1;33m)\u001b[0m\u001b[1;33m\u001b[0m\u001b[0m\n\u001b[0m\u001b[0;32m   1045\u001b[0m \u001b[1;33m\u001b[0m\u001b[0m\n\u001b[0;32m   1046\u001b[0m   \u001b[1;32mdef\u001b[0m \u001b[0mon_predict_end\u001b[0m\u001b[1;33m(\u001b[0m\u001b[0mself\u001b[0m\u001b[1;33m,\u001b[0m \u001b[0mlogs\u001b[0m\u001b[1;33m=\u001b[0m\u001b[1;32mNone\u001b[0m\u001b[1;33m)\u001b[0m\u001b[1;33m:\u001b[0m\u001b[1;33m\u001b[0m\u001b[0m\n",
      "\u001b[1;32m~\\Documents\\aa_env\\lib\\site-packages\\tensorflow\\python\\keras\\callbacks.py\u001b[0m in \u001b[0;36m_finalize_progbar\u001b[1;34m(self, logs, counter)\u001b[0m\n\u001b[0;32m   1111\u001b[0m       \u001b[0mself\u001b[0m\u001b[1;33m.\u001b[0m\u001b[0mtarget\u001b[0m \u001b[1;33m=\u001b[0m \u001b[0mcounter\u001b[0m \u001b[1;32mor\u001b[0m \u001b[0mself\u001b[0m\u001b[1;33m.\u001b[0m\u001b[0mseen\u001b[0m\u001b[1;33m\u001b[0m\u001b[0m\n\u001b[0;32m   1112\u001b[0m       \u001b[0mself\u001b[0m\u001b[1;33m.\u001b[0m\u001b[0mprogbar\u001b[0m\u001b[1;33m.\u001b[0m\u001b[0mtarget\u001b[0m \u001b[1;33m=\u001b[0m \u001b[0mself\u001b[0m\u001b[1;33m.\u001b[0m\u001b[0mtarget\u001b[0m\u001b[1;33m\u001b[0m\u001b[0m\n\u001b[1;32m-> 1113\u001b[1;33m     \u001b[0mself\u001b[0m\u001b[1;33m.\u001b[0m\u001b[0mprogbar\u001b[0m\u001b[1;33m.\u001b[0m\u001b[0mupdate\u001b[0m\u001b[1;33m(\u001b[0m\u001b[0mself\u001b[0m\u001b[1;33m.\u001b[0m\u001b[0mtarget\u001b[0m\u001b[1;33m,\u001b[0m \u001b[0mlist\u001b[0m\u001b[1;33m(\u001b[0m\u001b[0mlogs\u001b[0m\u001b[1;33m.\u001b[0m\u001b[0mitems\u001b[0m\u001b[1;33m(\u001b[0m\u001b[1;33m)\u001b[0m\u001b[1;33m)\u001b[0m\u001b[1;33m,\u001b[0m \u001b[0mfinalize\u001b[0m\u001b[1;33m=\u001b[0m\u001b[1;32mTrue\u001b[0m\u001b[1;33m)\u001b[0m\u001b[1;33m\u001b[0m\u001b[0m\n\u001b[0m\u001b[0;32m   1114\u001b[0m \u001b[1;33m\u001b[0m\u001b[0m\n\u001b[0;32m   1115\u001b[0m \u001b[1;33m\u001b[0m\u001b[0m\n",
      "\u001b[1;32m~\\Documents\\aa_env\\lib\\site-packages\\tensorflow\\python\\keras\\utils\\generic_utils.py\u001b[0m in \u001b[0;36mupdate\u001b[1;34m(self, current, values, finalize)\u001b[0m\n\u001b[0;32m    907\u001b[0m \u001b[1;33m\u001b[0m\u001b[0m\n\u001b[0;32m    908\u001b[0m       \u001b[1;32mif\u001b[0m \u001b[0mself\u001b[0m\u001b[1;33m.\u001b[0m\u001b[0mtarget\u001b[0m \u001b[1;32mis\u001b[0m \u001b[1;32mnot\u001b[0m \u001b[1;32mNone\u001b[0m\u001b[1;33m:\u001b[0m\u001b[1;33m\u001b[0m\u001b[0m\n\u001b[1;32m--> 909\u001b[1;33m         \u001b[0mnumdigits\u001b[0m \u001b[1;33m=\u001b[0m \u001b[0mint\u001b[0m\u001b[1;33m(\u001b[0m\u001b[0mnp\u001b[0m\u001b[1;33m.\u001b[0m\u001b[0mlog10\u001b[0m\u001b[1;33m(\u001b[0m\u001b[0mself\u001b[0m\u001b[1;33m.\u001b[0m\u001b[0mtarget\u001b[0m\u001b[1;33m)\u001b[0m\u001b[1;33m)\u001b[0m \u001b[1;33m+\u001b[0m \u001b[1;36m1\u001b[0m\u001b[1;33m\u001b[0m\u001b[0m\n\u001b[0m\u001b[0;32m    910\u001b[0m         \u001b[0mbar\u001b[0m \u001b[1;33m=\u001b[0m \u001b[1;33m(\u001b[0m\u001b[1;34m'%'\u001b[0m \u001b[1;33m+\u001b[0m \u001b[0mstr\u001b[0m\u001b[1;33m(\u001b[0m\u001b[0mnumdigits\u001b[0m\u001b[1;33m)\u001b[0m \u001b[1;33m+\u001b[0m \u001b[1;34m'd/%d ['\u001b[0m\u001b[1;33m)\u001b[0m \u001b[1;33m%\u001b[0m \u001b[1;33m(\u001b[0m\u001b[0mcurrent\u001b[0m\u001b[1;33m,\u001b[0m \u001b[0mself\u001b[0m\u001b[1;33m.\u001b[0m\u001b[0mtarget\u001b[0m\u001b[1;33m)\u001b[0m\u001b[1;33m\u001b[0m\u001b[0m\n\u001b[0;32m    911\u001b[0m         \u001b[0mprog\u001b[0m \u001b[1;33m=\u001b[0m \u001b[0mfloat\u001b[0m\u001b[1;33m(\u001b[0m\u001b[0mcurrent\u001b[0m\u001b[1;33m)\u001b[0m \u001b[1;33m/\u001b[0m \u001b[0mself\u001b[0m\u001b[1;33m.\u001b[0m\u001b[0mtarget\u001b[0m\u001b[1;33m\u001b[0m\u001b[0m\n",
      "\u001b[1;31mOverflowError\u001b[0m: cannot convert float infinity to integer"
     ]
    }
   ],
   "source": [
    "score= model.evaluate(X_test,[y_test[0], y_test[1], y_test[2], y_test[3], y_test[4]],verbose=1)\n",
    "print('Test Loss and accuracy:', score)"
   ]
  },
  {
   "cell_type": "code",
   "execution_count": null,
   "metadata": {
    "collapsed": true
   },
   "outputs": [],
   "source": [
    "# Check model on some samples\n",
    "model.evaluate(X_test, [y_test[0], y_test[1], y_test[2], y_test[3], y_test[4]])\n",
    "print(predict('../input/captcha-version-2-images/samples/samples/8n5p3.png'))\n",
    "print(predict('../input/captcha-version-2-images/samples/samples/f2m8n.png'))\n",
    "print(predict('../input/captcha-version-2-images/samples/samples/dce8y.png'))\n",
    "print(predict('../input/captcha-version-2-images/samples/samples/3eny7.png'))\n",
    "print(predict('../input/captcha-version-2-images/samples/samples/npxb7.png'))"
   ]
  },
  {
   "cell_type": "code",
   "execution_count": null,
   "metadata": {
    "collapsed": true
   },
   "outputs": [],
   "source": [
    "#Lets test an unknown captcha\n",
    "#preview\n",
    "%matplotlib inline \n",
    "import matplotlib.pyplot as plt\n",
    "img=cv2.imread('../input/captcha/capthaimage/capthaimages/a.png',cv2.IMREAD_GRAYSCALE)\n",
    "plt.imshow(img, cmap=plt.get_cmap('gray'))"
   ]
  },
  {
   "cell_type": "code",
   "execution_count": null,
   "metadata": {
    "collapsed": true
   },
   "outputs": [],
   "source": [
    "#Lets Predict By Model\n",
    "print(\"Predicted Captcha =\",predict('../input/captcha/capthaimage/capthaimages/a.png'))"
   ]
  },
  {
   "cell_type": "code",
   "execution_count": null,
   "metadata": {
    "collapsed": true
   },
   "outputs": [],
   "source": [
    "#testing\n",
    "#c=0\n",
    "#for i, pic in enumerate(os.listdir('../input/captcha-version-2-images/samples/samples')):\n",
    "        # Read image as grayscale\n",
    "        \n",
    "        #if i>970:    \n",
    "\n",
    "            #img = cv2.imread(os.path.join('../input/captcha-version-2-images/samples/samples', pic), cv2.IMREAD_GRAYSCALE)\n",
    "            #print(\"Predicted Captcha =\",predict(os.path.join('../input/captcha-version-2-images/samples/samples',pic)))\n",
    "            #plt.imshow(img, cmap=plt.get_cmap('gray'))\n",
    "            #pr=predict(os.path.join('../input/captcha-version-2-images/samples/samples',pic))\n",
    "            #pic_target = pic[:-4]\n",
    "            #if pr==pic_target:\n",
    "                #c=c+1\n",
    "                #print(c)\n",
    "            #print(pic_target)\n",
    "#print((c/100)*100)"
   ]
  }
 ],
 "metadata": {
  "kernelspec": {
   "display_name": "RPA_env",
   "language": "python",
   "name": "aa_env"
  },
  "language_info": {
   "codemirror_mode": {
    "name": "ipython",
    "version": 3
   },
   "file_extension": ".py",
   "mimetype": "text/x-python",
   "name": "python",
   "nbconvert_exporter": "python",
   "pygments_lexer": "ipython3",
   "version": "3.6.2"
  }
 },
 "nbformat": 4,
 "nbformat_minor": 2
}
