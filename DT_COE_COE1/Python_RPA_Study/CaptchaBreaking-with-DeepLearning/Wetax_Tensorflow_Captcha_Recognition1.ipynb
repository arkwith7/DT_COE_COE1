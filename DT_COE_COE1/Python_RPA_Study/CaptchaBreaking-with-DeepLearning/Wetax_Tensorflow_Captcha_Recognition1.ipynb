{
 "cells": [
  {
   "cell_type": "code",
   "execution_count": 1,
   "metadata": {
    "collapsed": true
   },
   "outputs": [],
   "source": [
    "from tensorflow.keras import layers\n",
    "from tensorflow.keras.models import Model\n",
    "from tensorflow.keras.models import load_model\n",
    "from tensorflow.keras import callbacks\n",
    "import os\n",
    "import cv2\n",
    "import string\n",
    "import numpy as np\n",
    "%matplotlib inline \n",
    "import matplotlib.pyplot as plt\n",
    "\n",
    "#Init main values\n",
    "# symbols = string.ascii_lowercase + \"0123456789\" # All symbols captcha can contain\n",
    "symbols = \"0123456789\" # All symbols captcha can contain\n",
    "num_symbols = len(symbols)\n",
    "img_shape = (62, 175, 1)"
   ]
  },
  {
   "cell_type": "code",
   "execution_count": 2,
   "metadata": {},
   "outputs": [
    {
     "name": "stdout",
     "output_type": "stream",
     "text": [
      "10\n"
     ]
    }
   ],
   "source": [
    "print(num_symbols)"
   ]
  },
  {
   "cell_type": "code",
   "execution_count": 3,
   "metadata": {
    "collapsed": true
   },
   "outputs": [],
   "source": [
    "def create_model():\n",
    "    img = layers.Input(shape=img_shape) # Get image as an input and process it through some Convs\n",
    "    conv1 = layers.Conv2D(16, (3, 3), padding='same', activation='relu')(img)\n",
    "    mp1 = layers.MaxPooling2D(padding='same')(conv1)  # 100x25\n",
    "    conv2 = layers.Conv2D(32, (3, 3), padding='same', activation='relu')(mp1)\n",
    "    mp2 = layers.MaxPooling2D(padding='same')(conv2)  # 50x13\n",
    "    conv3 = layers.Conv2D(32, (3, 3), padding='same', activation='relu')(mp2)\n",
    "    bn = layers.BatchNormalization()(conv3)\n",
    "    mp3 = layers.MaxPooling2D(padding='same')(bn)  # 25x7\n",
    "    \n",
    "    # Get flattened vector and make 5 branches from it. Each branch will predict one letter\n",
    "    flat = layers.Flatten()(mp3)\n",
    "    outs = []\n",
    "    #we have 6 letters\n",
    "    for _ in range(6):\n",
    "        dens1 = layers.Dense(64, activation='relu')(flat)\n",
    "        drop = layers.Dropout(0.5)(dens1)\n",
    "        res = layers.Dense(num_symbols, activation='sigmoid')(drop)\n",
    "\n",
    "        outs.append(res)\n",
    "    \n",
    "    # Compile model and return it\n",
    "    model = Model(img, outs)\n",
    "    model.compile(loss='categorical_crossentropy', optimizer='adam',metrics=[\"accuracy\"])\n",
    "    return model"
   ]
  },
  {
   "cell_type": "markdown",
   "metadata": {},
   "source": [
    "Importing Data"
   ]
  },
  {
   "cell_type": "code",
   "execution_count": 4,
   "metadata": {},
   "outputs": [
    {
     "name": "stdout",
     "output_type": "stream",
     "text": [
      "970 training samples\n",
      "134 validation samples\n"
     ]
    }
   ],
   "source": [
    "def preprocess_data():\n",
    "    n_samples = len(os.listdir('data/wetax'))\n",
    "    X = np.zeros((n_samples, 62, 175, 1)) #1070*62*175\n",
    "    y = np.zeros((6, n_samples, num_symbols)) #6*1070*10\n",
    "\n",
    "    for i, pic in enumerate(os.listdir('data/wetax')):\n",
    "        # Read image as grayscale\n",
    "        img = cv2.imread(os.path.join('data/wetax', pic), cv2.IMREAD_GRAYSCALE)\n",
    "        pic_target = pic[:-4]\n",
    "        if len(pic_target) < 7:\n",
    "            # Scale and reshape image\n",
    "            img = img / 255.0\n",
    "            img = np.reshape(img, (62, 175, 1))\n",
    "            # Define targets and code them using OneHotEncoding\n",
    "            targs = np.zeros((6, num_symbols))\n",
    "            for j, l in enumerate(pic_target):\n",
    "                ind = symbols.find(l)\n",
    "                targs[j, ind] = 1\n",
    "            X[i] = img\n",
    "            y[:, i] = targs\n",
    "    \n",
    "    # Return final data\n",
    "    return X, y\n",
    "\n",
    "X, y = preprocess_data()\n",
    "X_train, y_train = X[:970], y[:, :970]\n",
    "X_test, y_test = X[970:], y[:, 970:]\n",
    "print(str(len(X_train)) + \" training samples\")\n",
    "print(str(len(X_test)) + \" validation samples\")\n"
   ]
  },
  {
   "cell_type": "code",
   "execution_count": 5,
   "metadata": {},
   "outputs": [
    {
     "name": "stdout",
     "output_type": "stream",
     "text": [
      "Model: \"functional_1\"\n",
      "__________________________________________________________________________________________________\n",
      "Layer (type)                    Output Shape         Param #     Connected to                     \n",
      "==================================================================================================\n",
      "input_1 (InputLayer)            [(None, 62, 175, 1)] 0                                            \n",
      "__________________________________________________________________________________________________\n",
      "conv2d (Conv2D)                 (None, 62, 175, 16)  160         input_1[0][0]                    \n",
      "__________________________________________________________________________________________________\n",
      "max_pooling2d (MaxPooling2D)    (None, 31, 88, 16)   0           conv2d[0][0]                     \n",
      "__________________________________________________________________________________________________\n",
      "conv2d_1 (Conv2D)               (None, 31, 88, 32)   4640        max_pooling2d[0][0]              \n",
      "__________________________________________________________________________________________________\n",
      "max_pooling2d_1 (MaxPooling2D)  (None, 16, 44, 32)   0           conv2d_1[0][0]                   \n",
      "__________________________________________________________________________________________________\n",
      "conv2d_2 (Conv2D)               (None, 16, 44, 32)   9248        max_pooling2d_1[0][0]            \n",
      "__________________________________________________________________________________________________\n",
      "batch_normalization (BatchNorma (None, 16, 44, 32)   128         conv2d_2[0][0]                   \n",
      "__________________________________________________________________________________________________\n",
      "max_pooling2d_2 (MaxPooling2D)  (None, 8, 22, 32)    0           batch_normalization[0][0]        \n",
      "__________________________________________________________________________________________________\n",
      "flatten (Flatten)               (None, 5632)         0           max_pooling2d_2[0][0]            \n",
      "__________________________________________________________________________________________________\n",
      "dense (Dense)                   (None, 64)           360512      flatten[0][0]                    \n",
      "__________________________________________________________________________________________________\n",
      "dense_2 (Dense)                 (None, 64)           360512      flatten[0][0]                    \n",
      "__________________________________________________________________________________________________\n",
      "dense_4 (Dense)                 (None, 64)           360512      flatten[0][0]                    \n",
      "__________________________________________________________________________________________________\n",
      "dense_6 (Dense)                 (None, 64)           360512      flatten[0][0]                    \n",
      "__________________________________________________________________________________________________\n",
      "dense_8 (Dense)                 (None, 64)           360512      flatten[0][0]                    \n",
      "__________________________________________________________________________________________________\n",
      "dense_10 (Dense)                (None, 64)           360512      flatten[0][0]                    \n",
      "__________________________________________________________________________________________________\n",
      "dropout (Dropout)               (None, 64)           0           dense[0][0]                      \n",
      "__________________________________________________________________________________________________\n",
      "dropout_1 (Dropout)             (None, 64)           0           dense_2[0][0]                    \n",
      "__________________________________________________________________________________________________\n",
      "dropout_2 (Dropout)             (None, 64)           0           dense_4[0][0]                    \n",
      "__________________________________________________________________________________________________\n",
      "dropout_3 (Dropout)             (None, 64)           0           dense_6[0][0]                    \n",
      "__________________________________________________________________________________________________\n",
      "dropout_4 (Dropout)             (None, 64)           0           dense_8[0][0]                    \n",
      "__________________________________________________________________________________________________\n",
      "dropout_5 (Dropout)             (None, 64)           0           dense_10[0][0]                   \n",
      "__________________________________________________________________________________________________\n",
      "dense_1 (Dense)                 (None, 10)           650         dropout[0][0]                    \n",
      "__________________________________________________________________________________________________\n",
      "dense_3 (Dense)                 (None, 10)           650         dropout_1[0][0]                  \n",
      "__________________________________________________________________________________________________\n",
      "dense_5 (Dense)                 (None, 10)           650         dropout_2[0][0]                  \n",
      "__________________________________________________________________________________________________\n",
      "dense_7 (Dense)                 (None, 10)           650         dropout_3[0][0]                  \n",
      "__________________________________________________________________________________________________\n",
      "dense_9 (Dense)                 (None, 10)           650         dropout_4[0][0]                  \n",
      "__________________________________________________________________________________________________\n",
      "dense_11 (Dense)                (None, 10)           650         dropout_5[0][0]                  \n",
      "==================================================================================================\n",
      "Total params: 2,181,148\n",
      "Trainable params: 2,181,084\n",
      "Non-trainable params: 64\n",
      "__________________________________________________________________________________________________\n"
     ]
    }
   ],
   "source": [
    "model=create_model();\n",
    "model.summary();"
   ]
  },
  {
   "cell_type": "code",
   "execution_count": 6,
   "metadata": {},
   "outputs": [
    {
     "name": "stdout",
     "output_type": "stream",
     "text": [
      "Epoch 1/200\n",
      "25/25 [==============================] - 1s 57ms/step - loss: 13.6066 - dense_1_loss: 2.0620 - dense_3_loss: 2.3083 - dense_5_loss: 2.3104 - dense_7_loss: 2.3088 - dense_9_loss: 2.3059 - dense_11_loss: 2.3112 - dense_1_accuracy: 0.2126 - dense_3_accuracy: 0.1456 - dense_5_accuracy: 0.1430 - dense_7_accuracy: 0.1173 - dense_9_accuracy: 0.1289 - dense_11_accuracy: 0.1186 - val_loss: 13.8465 - val_dense_1_loss: 2.3487 - val_dense_3_loss: 2.3001 - val_dense_5_loss: 2.2989 - val_dense_7_loss: 2.2993 - val_dense_9_loss: 2.3005 - val_dense_11_loss: 2.2990 - val_dense_1_accuracy: 0.0000e+00 - val_dense_3_accuracy: 0.0722 - val_dense_5_accuracy: 0.2010 - val_dense_7_accuracy: 0.1134 - val_dense_9_accuracy: 0.1289 - val_dense_11_accuracy: 0.1340\n",
      "Epoch 2/200\n",
      "25/25 [==============================] - 1s 27ms/step - loss: 12.0559 - dense_1_loss: 1.5105 - dense_3_loss: 2.0755 - dense_5_loss: 2.1262 - dense_7_loss: 2.1284 - dense_9_loss: 2.1482 - dense_11_loss: 2.0671 - dense_1_accuracy: 0.4961 - dense_3_accuracy: 0.2513 - dense_5_accuracy: 0.2577 - dense_7_accuracy: 0.2461 - dense_9_accuracy: 0.2345 - dense_11_accuracy: 0.2539 - val_loss: 13.7081 - val_dense_1_loss: 2.3448 - val_dense_3_loss: 2.2689 - val_dense_5_loss: 2.2718 - val_dense_7_loss: 2.2789 - val_dense_9_loss: 2.2815 - val_dense_11_loss: 2.2622 - val_dense_1_accuracy: 0.0773 - val_dense_3_accuracy: 0.5412 - val_dense_5_accuracy: 0.4536 - val_dense_7_accuracy: 0.2938 - val_dense_9_accuracy: 0.3711 - val_dense_11_accuracy: 0.5412\n",
      "Epoch 3/200\n",
      "25/25 [==============================] - 1s 26ms/step - loss: 9.9336 - dense_1_loss: 0.9132 - dense_3_loss: 1.7278 - dense_5_loss: 1.8738 - dense_7_loss: 1.8457 - dense_9_loss: 1.9170 - dense_11_loss: 1.6561 - dense_1_accuracy: 0.7487 - dense_3_accuracy: 0.4433 - dense_5_accuracy: 0.3737 - dense_7_accuracy: 0.3918 - dense_9_accuracy: 0.3402 - dense_11_accuracy: 0.4626 - val_loss: 13.5253 - val_dense_1_loss: 2.3939 - val_dense_3_loss: 2.2142 - val_dense_5_loss: 2.2335 - val_dense_7_loss: 2.2335 - val_dense_9_loss: 2.2430 - val_dense_11_loss: 2.2073 - val_dense_1_accuracy: 0.0773 - val_dense_3_accuracy: 0.6495 - val_dense_5_accuracy: 0.4845 - val_dense_7_accuracy: 0.4948 - val_dense_9_accuracy: 0.4124 - val_dense_11_accuracy: 0.7165\n",
      "Epoch 4/200\n",
      "25/25 [==============================] - 1s 25ms/step - loss: 8.3125 - dense_1_loss: 0.5105 - dense_3_loss: 1.4865 - dense_5_loss: 1.6548 - dense_7_loss: 1.6151 - dense_9_loss: 1.7127 - dense_11_loss: 1.3330 - dense_1_accuracy: 0.8789 - dense_3_accuracy: 0.5284 - dense_5_accuracy: 0.4265 - dense_7_accuracy: 0.4781 - dense_9_accuracy: 0.4253 - dense_11_accuracy: 0.5696 - val_loss: 13.3246 - val_dense_1_loss: 2.4107 - val_dense_3_loss: 2.1724 - val_dense_5_loss: 2.1931 - val_dense_7_loss: 2.1916 - val_dense_9_loss: 2.2217 - val_dense_11_loss: 2.1352 - val_dense_1_accuracy: 0.0773 - val_dense_3_accuracy: 0.7268 - val_dense_5_accuracy: 0.5670 - val_dense_7_accuracy: 0.4330 - val_dense_9_accuracy: 0.4433 - val_dense_11_accuracy: 0.6856\n",
      "Epoch 5/200\n",
      "25/25 [==============================] - 1s 26ms/step - loss: 7.2567 - dense_1_loss: 0.3967 - dense_3_loss: 1.2687 - dense_5_loss: 1.4799 - dense_7_loss: 1.4363 - dense_9_loss: 1.5711 - dense_11_loss: 1.1040 - dense_1_accuracy: 0.8995 - dense_3_accuracy: 0.6005 - dense_5_accuracy: 0.5129 - dense_7_accuracy: 0.5348 - dense_9_accuracy: 0.4601 - dense_11_accuracy: 0.6559 - val_loss: 13.1292 - val_dense_1_loss: 2.4849 - val_dense_3_loss: 2.1251 - val_dense_5_loss: 2.1240 - val_dense_7_loss: 2.1378 - val_dense_9_loss: 2.1791 - val_dense_11_loss: 2.0783 - val_dense_1_accuracy: 0.0773 - val_dense_3_accuracy: 0.7732 - val_dense_5_accuracy: 0.6649 - val_dense_7_accuracy: 0.5206 - val_dense_9_accuracy: 0.5052 - val_dense_11_accuracy: 0.7062\n",
      "Epoch 6/200\n",
      "25/25 [==============================] - 1s 26ms/step - loss: 6.0915 - dense_1_loss: 0.2741 - dense_3_loss: 1.0202 - dense_5_loss: 1.3082 - dense_7_loss: 1.2115 - dense_9_loss: 1.3854 - dense_11_loss: 0.8920 - dense_1_accuracy: 0.9240 - dense_3_accuracy: 0.6559 - dense_5_accuracy: 0.5722 - dense_7_accuracy: 0.5928 - dense_9_accuracy: 0.5399 - dense_11_accuracy: 0.7371 - val_loss: 12.8903 - val_dense_1_loss: 2.5535 - val_dense_3_loss: 2.0421 - val_dense_5_loss: 2.0825 - val_dense_7_loss: 2.0910 - val_dense_9_loss: 2.1225 - val_dense_11_loss: 1.9987 - val_dense_1_accuracy: 0.0773 - val_dense_3_accuracy: 0.7835 - val_dense_5_accuracy: 0.6856 - val_dense_7_accuracy: 0.6186 - val_dense_9_accuracy: 0.6753 - val_dense_11_accuracy: 0.7732\n",
      "Epoch 7/200\n",
      "25/25 [==============================] - 1s 25ms/step - loss: 5.2153 - dense_1_loss: 0.2406 - dense_3_loss: 0.8233 - dense_5_loss: 1.1336 - dense_7_loss: 1.0666 - dense_9_loss: 1.1790 - dense_11_loss: 0.7721 - dense_1_accuracy: 0.9407 - dense_3_accuracy: 0.7294 - dense_5_accuracy: 0.6211 - dense_7_accuracy: 0.6649 - dense_9_accuracy: 0.6031 - dense_11_accuracy: 0.7668 - val_loss: 12.3581 - val_dense_1_loss: 2.4949 - val_dense_3_loss: 1.9581 - val_dense_5_loss: 2.0001 - val_dense_7_loss: 2.0147 - val_dense_9_loss: 2.0447 - val_dense_11_loss: 1.8457 - val_dense_1_accuracy: 0.0773 - val_dense_3_accuracy: 0.7526 - val_dense_5_accuracy: 0.8196 - val_dense_7_accuracy: 0.6856 - val_dense_9_accuracy: 0.6649 - val_dense_11_accuracy: 0.8505\n",
      "Epoch 8/200\n",
      "25/25 [==============================] - 1s 25ms/step - loss: 4.4265 - dense_1_loss: 0.1482 - dense_3_loss: 0.6728 - dense_5_loss: 0.9365 - dense_7_loss: 0.9214 - dense_9_loss: 1.1558 - dense_11_loss: 0.5919 - dense_1_accuracy: 0.9716 - dense_3_accuracy: 0.7887 - dense_5_accuracy: 0.6894 - dense_7_accuracy: 0.6933 - dense_9_accuracy: 0.6198 - dense_11_accuracy: 0.8041 - val_loss: 11.8931 - val_dense_1_loss: 2.6709 - val_dense_3_loss: 1.8056 - val_dense_5_loss: 1.8411 - val_dense_7_loss: 1.9032 - val_dense_9_loss: 1.9503 - val_dense_11_loss: 1.7219 - val_dense_1_accuracy: 0.0773 - val_dense_3_accuracy: 0.8660 - val_dense_5_accuracy: 0.8608 - val_dense_7_accuracy: 0.7371 - val_dense_9_accuracy: 0.7526 - val_dense_11_accuracy: 0.8660\n",
      "Epoch 9/200\n",
      "25/25 [==============================] - 1s 26ms/step - loss: 3.7398 - dense_1_loss: 0.1326 - dense_3_loss: 0.5775 - dense_5_loss: 0.7486 - dense_7_loss: 0.8067 - dense_9_loss: 0.9806 - dense_11_loss: 0.4938 - dense_1_accuracy: 0.9639 - dense_3_accuracy: 0.8183 - dense_5_accuracy: 0.7680 - dense_7_accuracy: 0.7320 - dense_9_accuracy: 0.6791 - dense_11_accuracy: 0.8673 - val_loss: 11.9746 - val_dense_1_loss: 2.7584 - val_dense_3_loss: 1.7747 - val_dense_5_loss: 1.8479 - val_dense_7_loss: 1.8850 - val_dense_9_loss: 1.9472 - val_dense_11_loss: 1.7614 - val_dense_1_accuracy: 0.0773 - val_dense_3_accuracy: 0.7887 - val_dense_5_accuracy: 0.8093 - val_dense_7_accuracy: 0.6443 - val_dense_9_accuracy: 0.7887 - val_dense_11_accuracy: 0.7268\n",
      "Epoch 10/200\n",
      "25/25 [==============================] - 1s 25ms/step - loss: 3.3349 - dense_1_loss: 0.0962 - dense_3_loss: 0.5129 - dense_5_loss: 0.6930 - dense_7_loss: 0.7136 - dense_9_loss: 0.8805 - dense_11_loss: 0.4387 - dense_1_accuracy: 0.9820 - dense_3_accuracy: 0.8196 - dense_5_accuracy: 0.7564 - dense_7_accuracy: 0.7706 - dense_9_accuracy: 0.7101 - dense_11_accuracy: 0.8686 - val_loss: 11.5771 - val_dense_1_loss: 2.8042 - val_dense_3_loss: 1.7187 - val_dense_5_loss: 1.7412 - val_dense_7_loss: 1.8063 - val_dense_9_loss: 1.8687 - val_dense_11_loss: 1.6380 - val_dense_1_accuracy: 0.0773 - val_dense_3_accuracy: 0.8505 - val_dense_5_accuracy: 0.8866 - val_dense_7_accuracy: 0.7577 - val_dense_9_accuracy: 0.7835 - val_dense_11_accuracy: 0.8144\n",
      "Epoch 11/200\n",
      "25/25 [==============================] - 1s 25ms/step - loss: 2.7407 - dense_1_loss: 0.0847 - dense_3_loss: 0.4452 - dense_5_loss: 0.5452 - dense_7_loss: 0.5844 - dense_9_loss: 0.7192 - dense_11_loss: 0.3619 - dense_1_accuracy: 0.9781 - dense_3_accuracy: 0.8660 - dense_5_accuracy: 0.8273 - dense_7_accuracy: 0.8093 - dense_9_accuracy: 0.7564 - dense_11_accuracy: 0.8995 - val_loss: 10.5314 - val_dense_1_loss: 3.1079 - val_dense_3_loss: 1.3554 - val_dense_5_loss: 1.5025 - val_dense_7_loss: 1.5737 - val_dense_9_loss: 1.6709 - val_dense_11_loss: 1.3211 - val_dense_1_accuracy: 0.0773 - val_dense_3_accuracy: 0.8814 - val_dense_5_accuracy: 0.9021 - val_dense_7_accuracy: 0.8402 - val_dense_9_accuracy: 0.8247 - val_dense_11_accuracy: 0.9072\n"
     ]
    },
    {
     "name": "stdout",
     "output_type": "stream",
     "text": [
      "Epoch 12/200\n",
      "25/25 [==============================] - 1s 25ms/step - loss: 2.3400 - dense_1_loss: 0.0783 - dense_3_loss: 0.3814 - dense_5_loss: 0.4326 - dense_7_loss: 0.4557 - dense_9_loss: 0.6744 - dense_11_loss: 0.3177 - dense_1_accuracy: 0.9755 - dense_3_accuracy: 0.8711 - dense_5_accuracy: 0.8595 - dense_7_accuracy: 0.8389 - dense_9_accuracy: 0.7732 - dense_11_accuracy: 0.9072 - val_loss: 9.9495 - val_dense_1_loss: 3.2677 - val_dense_3_loss: 1.2988 - val_dense_5_loss: 1.2671 - val_dense_7_loss: 1.4176 - val_dense_9_loss: 1.5511 - val_dense_11_loss: 1.1473 - val_dense_1_accuracy: 0.0773 - val_dense_3_accuracy: 0.9175 - val_dense_5_accuracy: 0.9381 - val_dense_7_accuracy: 0.8196 - val_dense_9_accuracy: 0.8711 - val_dense_11_accuracy: 0.8763\n",
      "Epoch 13/200\n",
      "25/25 [==============================] - 1s 25ms/step - loss: 2.0600 - dense_1_loss: 0.0636 - dense_3_loss: 0.2929 - dense_5_loss: 0.3718 - dense_7_loss: 0.4278 - dense_9_loss: 0.6456 - dense_11_loss: 0.2583 - dense_1_accuracy: 0.9832 - dense_3_accuracy: 0.8892 - dense_5_accuracy: 0.8776 - dense_7_accuracy: 0.8660 - dense_9_accuracy: 0.7951 - dense_11_accuracy: 0.9227 - val_loss: 9.7220 - val_dense_1_loss: 3.5709 - val_dense_3_loss: 1.1278 - val_dense_5_loss: 1.2150 - val_dense_7_loss: 1.3392 - val_dense_9_loss: 1.4573 - val_dense_11_loss: 1.0116 - val_dense_1_accuracy: 0.0773 - val_dense_3_accuracy: 0.9536 - val_dense_5_accuracy: 0.9330 - val_dense_7_accuracy: 0.8299 - val_dense_9_accuracy: 0.8814 - val_dense_11_accuracy: 0.9278\n",
      "Epoch 14/200\n",
      "25/25 [==============================] - 1s 26ms/step - loss: 1.8412 - dense_1_loss: 0.0661 - dense_3_loss: 0.2771 - dense_5_loss: 0.3804 - dense_7_loss: 0.3617 - dense_9_loss: 0.5174 - dense_11_loss: 0.2385 - dense_1_accuracy: 0.9807 - dense_3_accuracy: 0.9137 - dense_5_accuracy: 0.8724 - dense_7_accuracy: 0.8814 - dense_9_accuracy: 0.8312 - dense_11_accuracy: 0.9291 - val_loss: 9.1784 - val_dense_1_loss: 4.1860 - val_dense_3_loss: 0.8984 - val_dense_5_loss: 0.9448 - val_dense_7_loss: 1.1079 - val_dense_9_loss: 1.2216 - val_dense_11_loss: 0.8198 - val_dense_1_accuracy: 0.0773 - val_dense_3_accuracy: 0.9381 - val_dense_5_accuracy: 0.9381 - val_dense_7_accuracy: 0.8711 - val_dense_9_accuracy: 0.8918 - val_dense_11_accuracy: 0.9175\n",
      "Epoch 15/200\n",
      "25/25 [==============================] - 1s 25ms/step - loss: 1.5749 - dense_1_loss: 0.0494 - dense_3_loss: 0.2673 - dense_5_loss: 0.3225 - dense_7_loss: 0.3042 - dense_9_loss: 0.4665 - dense_11_loss: 0.1650 - dense_1_accuracy: 0.9884 - dense_3_accuracy: 0.9124 - dense_5_accuracy: 0.8930 - dense_7_accuracy: 0.9008 - dense_9_accuracy: 0.8479 - dense_11_accuracy: 0.9510 - val_loss: 8.3866 - val_dense_1_loss: 4.4541 - val_dense_3_loss: 0.6600 - val_dense_5_loss: 0.7816 - val_dense_7_loss: 0.8624 - val_dense_9_loss: 1.0572 - val_dense_11_loss: 0.5711 - val_dense_1_accuracy: 0.0773 - val_dense_3_accuracy: 0.9639 - val_dense_5_accuracy: 0.9381 - val_dense_7_accuracy: 0.8918 - val_dense_9_accuracy: 0.9021 - val_dense_11_accuracy: 0.9536\n",
      "Epoch 16/200\n",
      "25/25 [==============================] - 1s 26ms/step - loss: 1.3882 - dense_1_loss: 0.0468 - dense_3_loss: 0.2175 - dense_5_loss: 0.2637 - dense_7_loss: 0.3224 - dense_9_loss: 0.3827 - dense_11_loss: 0.1551 - dense_1_accuracy: 0.9897 - dense_3_accuracy: 0.9253 - dense_5_accuracy: 0.9046 - dense_7_accuracy: 0.8995 - dense_9_accuracy: 0.8737 - dense_11_accuracy: 0.9613 - val_loss: 8.0944 - val_dense_1_loss: 5.7022 - val_dense_3_loss: 0.3537 - val_dense_5_loss: 0.4057 - val_dense_7_loss: 0.6313 - val_dense_9_loss: 0.7145 - val_dense_11_loss: 0.2870 - val_dense_1_accuracy: 0.0773 - val_dense_3_accuracy: 0.9639 - val_dense_5_accuracy: 0.9691 - val_dense_7_accuracy: 0.9124 - val_dense_9_accuracy: 0.9175 - val_dense_11_accuracy: 0.9588\n",
      "Epoch 17/200\n",
      "25/25 [==============================] - 1s 25ms/step - loss: 1.2252 - dense_1_loss: 0.0262 - dense_3_loss: 0.1980 - dense_5_loss: 0.2316 - dense_7_loss: 0.2824 - dense_9_loss: 0.3430 - dense_11_loss: 0.1441 - dense_1_accuracy: 0.9910 - dense_3_accuracy: 0.9343 - dense_5_accuracy: 0.9175 - dense_7_accuracy: 0.8982 - dense_9_accuracy: 0.8892 - dense_11_accuracy: 0.9626 - val_loss: 8.1789 - val_dense_1_loss: 6.2165 - val_dense_3_loss: 0.3115 - val_dense_5_loss: 0.3068 - val_dense_7_loss: 0.4750 - val_dense_9_loss: 0.6183 - val_dense_11_loss: 0.2508 - val_dense_1_accuracy: 0.0773 - val_dense_3_accuracy: 0.9485 - val_dense_5_accuracy: 0.9845 - val_dense_7_accuracy: 0.9227 - val_dense_9_accuracy: 0.9124 - val_dense_11_accuracy: 0.9433\n",
      "Epoch 18/200\n",
      "25/25 [==============================] - 1s 26ms/step - loss: 1.1923 - dense_1_loss: 0.0416 - dense_3_loss: 0.1875 - dense_5_loss: 0.2462 - dense_7_loss: 0.2469 - dense_9_loss: 0.3272 - dense_11_loss: 0.1429 - dense_1_accuracy: 0.9884 - dense_3_accuracy: 0.9291 - dense_5_accuracy: 0.9072 - dense_7_accuracy: 0.9137 - dense_9_accuracy: 0.8802 - dense_11_accuracy: 0.9626 - val_loss: 8.1706 - val_dense_1_loss: 6.3230 - val_dense_3_loss: 0.2489 - val_dense_5_loss: 0.3131 - val_dense_7_loss: 0.4520 - val_dense_9_loss: 0.5644 - val_dense_11_loss: 0.2693 - val_dense_1_accuracy: 0.0773 - val_dense_3_accuracy: 0.9742 - val_dense_5_accuracy: 0.9742 - val_dense_7_accuracy: 0.9175 - val_dense_9_accuracy: 0.8969 - val_dense_11_accuracy: 0.9588\n",
      "Epoch 19/200\n",
      "25/25 [==============================] - 1s 27ms/step - loss: 1.0433 - dense_1_loss: 0.0319 - dense_3_loss: 0.1606 - dense_5_loss: 0.1679 - dense_7_loss: 0.2285 - dense_9_loss: 0.3224 - dense_11_loss: 0.1321 - dense_1_accuracy: 0.9923 - dense_3_accuracy: 0.9420 - dense_5_accuracy: 0.9510 - dense_7_accuracy: 0.9227 - dense_9_accuracy: 0.8789 - dense_11_accuracy: 0.9510 - val_loss: 8.3844 - val_dense_1_loss: 6.6891 - val_dense_3_loss: 0.2319 - val_dense_5_loss: 0.2535 - val_dense_7_loss: 0.4253 - val_dense_9_loss: 0.5590 - val_dense_11_loss: 0.2255 - val_dense_1_accuracy: 0.0773 - val_dense_3_accuracy: 0.9742 - val_dense_5_accuracy: 0.9845 - val_dense_7_accuracy: 0.9124 - val_dense_9_accuracy: 0.8763 - val_dense_11_accuracy: 0.9588\n",
      "Epoch 20/200\n",
      "25/25 [==============================] - 1s 26ms/step - loss: 0.9991 - dense_1_loss: 0.0375 - dense_3_loss: 0.1652 - dense_5_loss: 0.1737 - dense_7_loss: 0.2043 - dense_9_loss: 0.3136 - dense_11_loss: 0.1048 - dense_1_accuracy: 0.9884 - dense_3_accuracy: 0.9485 - dense_5_accuracy: 0.9433 - dense_7_accuracy: 0.9265 - dense_9_accuracy: 0.8840 - dense_11_accuracy: 0.9665 - val_loss: 9.0804 - val_dense_1_loss: 8.0860 - val_dense_3_loss: 0.1151 - val_dense_5_loss: 0.1469 - val_dense_7_loss: 0.2691 - val_dense_9_loss: 0.3348 - val_dense_11_loss: 0.1285 - val_dense_1_accuracy: 0.0773 - val_dense_3_accuracy: 0.9794 - val_dense_5_accuracy: 0.9845 - val_dense_7_accuracy: 0.9278 - val_dense_9_accuracy: 0.9175 - val_dense_11_accuracy: 0.9794\n",
      "Epoch 21/200\n",
      "25/25 [==============================] - 1s 25ms/step - loss: 0.9697 - dense_1_loss: 0.0414 - dense_3_loss: 0.1441 - dense_5_loss: 0.1943 - dense_7_loss: 0.2156 - dense_9_loss: 0.2626 - dense_11_loss: 0.1117 - dense_1_accuracy: 0.9884 - dense_3_accuracy: 0.9459 - dense_5_accuracy: 0.9343 - dense_7_accuracy: 0.9343 - dense_9_accuracy: 0.9034 - dense_11_accuracy: 0.9729 - val_loss: 11.0181 - val_dense_1_loss: 10.1789 - val_dense_3_loss: 0.0868 - val_dense_5_loss: 0.0942 - val_dense_7_loss: 0.2571 - val_dense_9_loss: 0.3180 - val_dense_11_loss: 0.0831 - val_dense_1_accuracy: 0.0773 - val_dense_3_accuracy: 0.9897 - val_dense_5_accuracy: 0.9897 - val_dense_7_accuracy: 0.9381 - val_dense_9_accuracy: 0.9072 - val_dense_11_accuracy: 0.9691\n",
      "Epoch 22/200\n",
      "25/25 [==============================] - 1s 25ms/step - loss: 0.9558 - dense_1_loss: 0.0487 - dense_3_loss: 0.1260 - dense_5_loss: 0.1873 - dense_7_loss: 0.2049 - dense_9_loss: 0.2784 - dense_11_loss: 0.1106 - dense_1_accuracy: 0.9884 - dense_3_accuracy: 0.9562 - dense_5_accuracy: 0.9394 - dense_7_accuracy: 0.9265 - dense_9_accuracy: 0.9072 - dense_11_accuracy: 0.9639 - val_loss: 12.0730 - val_dense_1_loss: 11.2995 - val_dense_3_loss: 0.0995 - val_dense_5_loss: 0.0814 - val_dense_7_loss: 0.1898 - val_dense_9_loss: 0.3029 - val_dense_11_loss: 0.0998 - val_dense_1_accuracy: 0.0773 - val_dense_3_accuracy: 0.9691 - val_dense_5_accuracy: 0.9794 - val_dense_7_accuracy: 0.9433 - val_dense_9_accuracy: 0.9124 - val_dense_11_accuracy: 0.9794\n"
     ]
    },
    {
     "name": "stdout",
     "output_type": "stream",
     "text": [
      "Epoch 23/200\n",
      "25/25 [==============================] - 1s 25ms/step - loss: 0.8671 - dense_1_loss: 0.0382 - dense_3_loss: 0.1238 - dense_5_loss: 0.1564 - dense_7_loss: 0.2106 - dense_9_loss: 0.2511 - dense_11_loss: 0.0870 - dense_1_accuracy: 0.9884 - dense_3_accuracy: 0.9613 - dense_5_accuracy: 0.9485 - dense_7_accuracy: 0.9317 - dense_9_accuracy: 0.9162 - dense_11_accuracy: 0.9639 - val_loss: 11.9815 - val_dense_1_loss: 11.3013 - val_dense_3_loss: 0.0753 - val_dense_5_loss: 0.0600 - val_dense_7_loss: 0.1961 - val_dense_9_loss: 0.2767 - val_dense_11_loss: 0.0720 - val_dense_1_accuracy: 0.0773 - val_dense_3_accuracy: 0.9794 - val_dense_5_accuracy: 0.9948 - val_dense_7_accuracy: 0.9227 - val_dense_9_accuracy: 0.9227 - val_dense_11_accuracy: 0.9742\n",
      "Epoch 24/200\n",
      "25/25 [==============================] - 1s 27ms/step - loss: 0.7556 - dense_1_loss: 0.0398 - dense_3_loss: 0.1377 - dense_5_loss: 0.1179 - dense_7_loss: 0.1654 - dense_9_loss: 0.2075 - dense_11_loss: 0.0873 - dense_1_accuracy: 0.9923 - dense_3_accuracy: 0.9601 - dense_5_accuracy: 0.9613 - dense_7_accuracy: 0.9330 - dense_9_accuracy: 0.9265 - dense_11_accuracy: 0.9729 - val_loss: 12.5293 - val_dense_1_loss: 11.9090 - val_dense_3_loss: 0.0807 - val_dense_5_loss: 0.0556 - val_dense_7_loss: 0.1450 - val_dense_9_loss: 0.2628 - val_dense_11_loss: 0.0762 - val_dense_1_accuracy: 0.0773 - val_dense_3_accuracy: 0.9845 - val_dense_5_accuracy: 0.9794 - val_dense_7_accuracy: 0.9588 - val_dense_9_accuracy: 0.9227 - val_dense_11_accuracy: 0.9742\n",
      "Epoch 25/200\n",
      "25/25 [==============================] - 1s 25ms/step - loss: 0.8433 - dense_1_loss: 0.0397 - dense_3_loss: 0.1318 - dense_5_loss: 0.1287 - dense_7_loss: 0.2155 - dense_9_loss: 0.2150 - dense_11_loss: 0.1127 - dense_1_accuracy: 0.9910 - dense_3_accuracy: 0.9601 - dense_5_accuracy: 0.9485 - dense_7_accuracy: 0.9330 - dense_9_accuracy: 0.9253 - dense_11_accuracy: 0.9652 - val_loss: 12.8584 - val_dense_1_loss: 12.1796 - val_dense_3_loss: 0.0776 - val_dense_5_loss: 0.0535 - val_dense_7_loss: 0.1783 - val_dense_9_loss: 0.3029 - val_dense_11_loss: 0.0664 - val_dense_1_accuracy: 0.0773 - val_dense_3_accuracy: 0.9845 - val_dense_5_accuracy: 0.9897 - val_dense_7_accuracy: 0.9381 - val_dense_9_accuracy: 0.9072 - val_dense_11_accuracy: 0.9794\n",
      "Epoch 26/200\n",
      "25/25 [==============================] - 1s 25ms/step - loss: 0.7247 - dense_1_loss: 0.0271 - dense_3_loss: 0.1539 - dense_5_loss: 0.1118 - dense_7_loss: 0.1630 - dense_9_loss: 0.1778 - dense_11_loss: 0.0911 - dense_1_accuracy: 0.9936 - dense_3_accuracy: 0.9420 - dense_5_accuracy: 0.9601 - dense_7_accuracy: 0.9472 - dense_9_accuracy: 0.9420 - dense_11_accuracy: 0.9678 - val_loss: 13.8750 - val_dense_1_loss: 13.2874 - val_dense_3_loss: 0.0588 - val_dense_5_loss: 0.0334 - val_dense_7_loss: 0.1435 - val_dense_9_loss: 0.2930 - val_dense_11_loss: 0.0589 - val_dense_1_accuracy: 0.0773 - val_dense_3_accuracy: 0.9948 - val_dense_5_accuracy: 0.9948 - val_dense_7_accuracy: 0.9485 - val_dense_9_accuracy: 0.9124 - val_dense_11_accuracy: 0.9845\n",
      "Epoch 27/200\n",
      "25/25 [==============================] - 1s 25ms/step - loss: 0.6461 - dense_1_loss: 0.0271 - dense_3_loss: 0.1075 - dense_5_loss: 0.1202 - dense_7_loss: 0.1215 - dense_9_loss: 0.2136 - dense_11_loss: 0.0563 - dense_1_accuracy: 0.9923 - dense_3_accuracy: 0.9691 - dense_5_accuracy: 0.9588 - dense_7_accuracy: 0.9601 - dense_9_accuracy: 0.9149 - dense_11_accuracy: 0.9794 - val_loss: 14.0525 - val_dense_1_loss: 13.4464 - val_dense_3_loss: 0.0634 - val_dense_5_loss: 0.0373 - val_dense_7_loss: 0.1845 - val_dense_9_loss: 0.2843 - val_dense_11_loss: 0.0367 - val_dense_1_accuracy: 0.0773 - val_dense_3_accuracy: 0.9948 - val_dense_5_accuracy: 0.9845 - val_dense_7_accuracy: 0.9588 - val_dense_9_accuracy: 0.9227 - val_dense_11_accuracy: 0.9794\n",
      "Epoch 28/200\n",
      "25/25 [==============================] - 1s 25ms/step - loss: 0.7008 - dense_1_loss: 0.0327 - dense_3_loss: 0.1197 - dense_5_loss: 0.1386 - dense_7_loss: 0.1608 - dense_9_loss: 0.1855 - dense_11_loss: 0.0634 - dense_1_accuracy: 0.9923 - dense_3_accuracy: 0.9562 - dense_5_accuracy: 0.9549 - dense_7_accuracy: 0.9446 - dense_9_accuracy: 0.9291 - dense_11_accuracy: 0.9820 - val_loss: 12.9847 - val_dense_1_loss: 12.2849 - val_dense_3_loss: 0.0795 - val_dense_5_loss: 0.0249 - val_dense_7_loss: 0.1732 - val_dense_9_loss: 0.2879 - val_dense_11_loss: 0.1343 - val_dense_1_accuracy: 0.0773 - val_dense_3_accuracy: 0.9794 - val_dense_5_accuracy: 0.9948 - val_dense_7_accuracy: 0.9485 - val_dense_9_accuracy: 0.9330 - val_dense_11_accuracy: 0.9794\n",
      "Epoch 29/200\n",
      "25/25 [==============================] - 1s 25ms/step - loss: 0.5535 - dense_1_loss: 0.0253 - dense_3_loss: 0.0780 - dense_5_loss: 0.0943 - dense_7_loss: 0.1250 - dense_9_loss: 0.1668 - dense_11_loss: 0.0641 - dense_1_accuracy: 0.9961 - dense_3_accuracy: 0.9704 - dense_5_accuracy: 0.9639 - dense_7_accuracy: 0.9575 - dense_9_accuracy: 0.9369 - dense_11_accuracy: 0.9755 - val_loss: 13.3331 - val_dense_1_loss: 12.6708 - val_dense_3_loss: 0.0951 - val_dense_5_loss: 0.0319 - val_dense_7_loss: 0.1806 - val_dense_9_loss: 0.2697 - val_dense_11_loss: 0.0851 - val_dense_1_accuracy: 0.0773 - val_dense_3_accuracy: 0.9691 - val_dense_5_accuracy: 0.9845 - val_dense_7_accuracy: 0.9485 - val_dense_9_accuracy: 0.9072 - val_dense_11_accuracy: 0.9742\n",
      "Epoch 30/200\n",
      "25/25 [==============================] - 1s 27ms/step - loss: 0.6416 - dense_1_loss: 0.0202 - dense_3_loss: 0.1017 - dense_5_loss: 0.1054 - dense_7_loss: 0.1591 - dense_9_loss: 0.1715 - dense_11_loss: 0.0837 - dense_1_accuracy: 0.9961 - dense_3_accuracy: 0.9626 - dense_5_accuracy: 0.9652 - dense_7_accuracy: 0.9369 - dense_9_accuracy: 0.9433 - dense_11_accuracy: 0.9729 - val_loss: 14.6216 - val_dense_1_loss: 14.0423 - val_dense_3_loss: 0.0716 - val_dense_5_loss: 0.0288 - val_dense_7_loss: 0.1752 - val_dense_9_loss: 0.2576 - val_dense_11_loss: 0.0460 - val_dense_1_accuracy: 0.0773 - val_dense_3_accuracy: 0.9948 - val_dense_5_accuracy: 0.9948 - val_dense_7_accuracy: 0.9588 - val_dense_9_accuracy: 0.9330 - val_dense_11_accuracy: 0.9845\n",
      "Epoch 31/200\n",
      "25/25 [==============================] - 1s 25ms/step - loss: 0.5469 - dense_1_loss: 0.0196 - dense_3_loss: 0.0717 - dense_5_loss: 0.0989 - dense_7_loss: 0.1339 - dense_9_loss: 0.1567 - dense_11_loss: 0.0662 - dense_1_accuracy: 0.9936 - dense_3_accuracy: 0.9691 - dense_5_accuracy: 0.9639 - dense_7_accuracy: 0.9562 - dense_9_accuracy: 0.9433 - dense_11_accuracy: 0.9768 - val_loss: 14.6208 - val_dense_1_loss: 13.9924 - val_dense_3_loss: 0.0708 - val_dense_5_loss: 0.0245 - val_dense_7_loss: 0.1710 - val_dense_9_loss: 0.2926 - val_dense_11_loss: 0.0695 - val_dense_1_accuracy: 0.0773 - val_dense_3_accuracy: 0.9845 - val_dense_5_accuracy: 0.9897 - val_dense_7_accuracy: 0.9536 - val_dense_9_accuracy: 0.9278 - val_dense_11_accuracy: 0.9794\n",
      "Epoch 32/200\n",
      "25/25 [==============================] - 1s 25ms/step - loss: 0.5943 - dense_1_loss: 0.0141 - dense_3_loss: 0.0905 - dense_5_loss: 0.0796 - dense_7_loss: 0.1526 - dense_9_loss: 0.2029 - dense_11_loss: 0.0546 - dense_1_accuracy: 0.9948 - dense_3_accuracy: 0.9652 - dense_5_accuracy: 0.9665 - dense_7_accuracy: 0.9394 - dense_9_accuracy: 0.9162 - dense_11_accuracy: 0.9858 - val_loss: 14.8641 - val_dense_1_loss: 14.2284 - val_dense_3_loss: 0.0752 - val_dense_5_loss: 0.0236 - val_dense_7_loss: 0.1828 - val_dense_9_loss: 0.2689 - val_dense_11_loss: 0.0853 - val_dense_1_accuracy: 0.0773 - val_dense_3_accuracy: 0.9948 - val_dense_5_accuracy: 0.9897 - val_dense_7_accuracy: 0.9433 - val_dense_9_accuracy: 0.9278 - val_dense_11_accuracy: 0.9742\n",
      "Epoch 33/200\n",
      "25/25 [==============================] - 1s 25ms/step - loss: 0.5284 - dense_1_loss: 0.0266 - dense_3_loss: 0.0966 - dense_5_loss: 0.0899 - dense_7_loss: 0.1110 - dense_9_loss: 0.1390 - dense_11_loss: 0.0653 - dense_1_accuracy: 0.9884 - dense_3_accuracy: 0.9665 - dense_5_accuracy: 0.9588 - dense_7_accuracy: 0.9665 - dense_9_accuracy: 0.9485 - dense_11_accuracy: 0.9807 - val_loss: 14.3332 - val_dense_1_loss: 13.6731 - val_dense_3_loss: 0.0658 - val_dense_5_loss: 0.0328 - val_dense_7_loss: 0.2082 - val_dense_9_loss: 0.2674 - val_dense_11_loss: 0.0859 - val_dense_1_accuracy: 0.0773 - val_dense_3_accuracy: 0.9897 - val_dense_5_accuracy: 0.9948 - val_dense_7_accuracy: 0.9433 - val_dense_9_accuracy: 0.9278 - val_dense_11_accuracy: 0.9794\n"
     ]
    },
    {
     "name": "stdout",
     "output_type": "stream",
     "text": [
      "Epoch 34/200\n",
      "25/25 [==============================] - 1s 27ms/step - loss: 0.4894 - dense_1_loss: 0.0136 - dense_3_loss: 0.0713 - dense_5_loss: 0.0653 - dense_7_loss: 0.1158 - dense_9_loss: 0.1598 - dense_11_loss: 0.0636 - dense_1_accuracy: 0.9974 - dense_3_accuracy: 0.9768 - dense_5_accuracy: 0.9742 - dense_7_accuracy: 0.9613 - dense_9_accuracy: 0.9459 - dense_11_accuracy: 0.9781 - val_loss: 14.5787 - val_dense_1_loss: 13.9708 - val_dense_3_loss: 0.0742 - val_dense_5_loss: 0.0170 - val_dense_7_loss: 0.2353 - val_dense_9_loss: 0.2349 - val_dense_11_loss: 0.0466 - val_dense_1_accuracy: 0.0773 - val_dense_3_accuracy: 0.9897 - val_dense_5_accuracy: 0.9948 - val_dense_7_accuracy: 0.9433 - val_dense_9_accuracy: 0.9330 - val_dense_11_accuracy: 0.9897\n",
      "Epoch 35/200\n",
      "25/25 [==============================] - 1s 25ms/step - loss: 0.4923 - dense_1_loss: 0.0208 - dense_3_loss: 0.0757 - dense_5_loss: 0.0622 - dense_7_loss: 0.1157 - dense_9_loss: 0.1526 - dense_11_loss: 0.0653 - dense_1_accuracy: 0.9923 - dense_3_accuracy: 0.9742 - dense_5_accuracy: 0.9820 - dense_7_accuracy: 0.9549 - dense_9_accuracy: 0.9433 - dense_11_accuracy: 0.9832 - val_loss: 15.1294 - val_dense_1_loss: 14.5222 - val_dense_3_loss: 0.0734 - val_dense_5_loss: 0.0262 - val_dense_7_loss: 0.1976 - val_dense_9_loss: 0.2765 - val_dense_11_loss: 0.0335 - val_dense_1_accuracy: 0.0773 - val_dense_3_accuracy: 0.9897 - val_dense_5_accuracy: 0.9897 - val_dense_7_accuracy: 0.9485 - val_dense_9_accuracy: 0.9330 - val_dense_11_accuracy: 0.9897\n",
      "Epoch 36/200\n",
      "25/25 [==============================] - 1s 27ms/step - loss: 0.5100 - dense_1_loss: 0.0130 - dense_3_loss: 0.0764 - dense_5_loss: 0.0865 - dense_7_loss: 0.1182 - dense_9_loss: 0.1528 - dense_11_loss: 0.0631 - dense_1_accuracy: 0.9948 - dense_3_accuracy: 0.9781 - dense_5_accuracy: 0.9665 - dense_7_accuracy: 0.9549 - dense_9_accuracy: 0.9394 - dense_11_accuracy: 0.9794 - val_loss: 15.2048 - val_dense_1_loss: 14.5783 - val_dense_3_loss: 0.0839 - val_dense_5_loss: 0.0198 - val_dense_7_loss: 0.2605 - val_dense_9_loss: 0.2351 - val_dense_11_loss: 0.0271 - val_dense_1_accuracy: 0.0773 - val_dense_3_accuracy: 0.9897 - val_dense_5_accuracy: 0.9948 - val_dense_7_accuracy: 0.9381 - val_dense_9_accuracy: 0.9433 - val_dense_11_accuracy: 0.9845\n",
      "Epoch 37/200\n",
      "25/25 [==============================] - 1s 25ms/step - loss: 0.4783 - dense_1_loss: 0.0155 - dense_3_loss: 0.0722 - dense_5_loss: 0.0851 - dense_7_loss: 0.1024 - dense_9_loss: 0.1566 - dense_11_loss: 0.0466 - dense_1_accuracy: 0.9948 - dense_3_accuracy: 0.9691 - dense_5_accuracy: 0.9691 - dense_7_accuracy: 0.9652 - dense_9_accuracy: 0.9394 - dense_11_accuracy: 0.9794 - val_loss: 15.2594 - val_dense_1_loss: 14.5501 - val_dense_3_loss: 0.0949 - val_dense_5_loss: 0.0396 - val_dense_7_loss: 0.2233 - val_dense_9_loss: 0.2961 - val_dense_11_loss: 0.0555 - val_dense_1_accuracy: 0.0773 - val_dense_3_accuracy: 0.9845 - val_dense_5_accuracy: 0.9897 - val_dense_7_accuracy: 0.9381 - val_dense_9_accuracy: 0.9278 - val_dense_11_accuracy: 0.9897\n",
      "Epoch 38/200\n",
      "25/25 [==============================] - 1s 26ms/step - loss: 0.4674 - dense_1_loss: 0.0178 - dense_3_loss: 0.0918 - dense_5_loss: 0.0855 - dense_7_loss: 0.1190 - dense_9_loss: 0.0986 - dense_11_loss: 0.0547 - dense_1_accuracy: 0.9948 - dense_3_accuracy: 0.9691 - dense_5_accuracy: 0.9691 - dense_7_accuracy: 0.9575 - dense_9_accuracy: 0.9768 - dense_11_accuracy: 0.9768 - val_loss: 14.5229 - val_dense_1_loss: 13.8224 - val_dense_3_loss: 0.0757 - val_dense_5_loss: 0.0245 - val_dense_7_loss: 0.3143 - val_dense_9_loss: 0.2499 - val_dense_11_loss: 0.0361 - val_dense_1_accuracy: 0.0773 - val_dense_3_accuracy: 0.9948 - val_dense_5_accuracy: 0.9897 - val_dense_7_accuracy: 0.9175 - val_dense_9_accuracy: 0.9433 - val_dense_11_accuracy: 0.9845\n",
      "Epoch 39/200\n",
      "25/25 [==============================] - 1s 25ms/step - loss: 0.4608 - dense_1_loss: 0.0135 - dense_3_loss: 0.0687 - dense_5_loss: 0.0573 - dense_7_loss: 0.0974 - dense_9_loss: 0.1688 - dense_11_loss: 0.0551 - dense_1_accuracy: 0.9948 - dense_3_accuracy: 0.9794 - dense_5_accuracy: 0.9807 - dense_7_accuracy: 0.9665 - dense_9_accuracy: 0.9407 - dense_11_accuracy: 0.9820 - val_loss: 15.2315 - val_dense_1_loss: 14.4488 - val_dense_3_loss: 0.0899 - val_dense_5_loss: 0.0195 - val_dense_7_loss: 0.2320 - val_dense_9_loss: 0.3347 - val_dense_11_loss: 0.1065 - val_dense_1_accuracy: 0.0773 - val_dense_3_accuracy: 0.9897 - val_dense_5_accuracy: 0.9897 - val_dense_7_accuracy: 0.9381 - val_dense_9_accuracy: 0.9124 - val_dense_11_accuracy: 0.9794\n",
      "Epoch 40/200\n",
      "25/25 [==============================] - 1s 25ms/step - loss: 0.4664 - dense_1_loss: 0.0248 - dense_3_loss: 0.0726 - dense_5_loss: 0.0758 - dense_7_loss: 0.0912 - dense_9_loss: 0.1285 - dense_11_loss: 0.0734 - dense_1_accuracy: 0.9936 - dense_3_accuracy: 0.9729 - dense_5_accuracy: 0.9704 - dense_7_accuracy: 0.9742 - dense_9_accuracy: 0.9536 - dense_11_accuracy: 0.9704 - val_loss: 14.5216 - val_dense_1_loss: 13.8663 - val_dense_3_loss: 0.0606 - val_dense_5_loss: 0.0241 - val_dense_7_loss: 0.2084 - val_dense_9_loss: 0.2836 - val_dense_11_loss: 0.0785 - val_dense_1_accuracy: 0.0773 - val_dense_3_accuracy: 0.9948 - val_dense_5_accuracy: 0.9845 - val_dense_7_accuracy: 0.9485 - val_dense_9_accuracy: 0.9124 - val_dense_11_accuracy: 0.9845\n",
      "Epoch 41/200\n",
      "25/25 [==============================] - 1s 25ms/step - loss: 0.4146 - dense_1_loss: 0.0205 - dense_3_loss: 0.0580 - dense_5_loss: 0.0879 - dense_7_loss: 0.0863 - dense_9_loss: 0.1172 - dense_11_loss: 0.0447 - dense_1_accuracy: 0.9948 - dense_3_accuracy: 0.9807 - dense_5_accuracy: 0.9665 - dense_7_accuracy: 0.9729 - dense_9_accuracy: 0.9523 - dense_11_accuracy: 0.9871 - val_loss: 14.6005 - val_dense_1_loss: 13.9408 - val_dense_3_loss: 0.0758 - val_dense_5_loss: 0.0198 - val_dense_7_loss: 0.2302 - val_dense_9_loss: 0.2787 - val_dense_11_loss: 0.0553 - val_dense_1_accuracy: 0.0773 - val_dense_3_accuracy: 0.9948 - val_dense_5_accuracy: 0.9897 - val_dense_7_accuracy: 0.9536 - val_dense_9_accuracy: 0.9381 - val_dense_11_accuracy: 0.9845\n",
      "Epoch 42/200\n",
      "25/25 [==============================] - 1s 27ms/step - loss: 0.3931 - dense_1_loss: 0.0202 - dense_3_loss: 0.0698 - dense_5_loss: 0.0818 - dense_7_loss: 0.0668 - dense_9_loss: 0.0981 - dense_11_loss: 0.0565 - dense_1_accuracy: 0.9923 - dense_3_accuracy: 0.9742 - dense_5_accuracy: 0.9613 - dense_7_accuracy: 0.9704 - dense_9_accuracy: 0.9691 - dense_11_accuracy: 0.9794 - val_loss: 15.0250 - val_dense_1_loss: 14.4089 - val_dense_3_loss: 0.0854 - val_dense_5_loss: 0.0159 - val_dense_7_loss: 0.2358 - val_dense_9_loss: 0.2539 - val_dense_11_loss: 0.0251 - val_dense_1_accuracy: 0.0773 - val_dense_3_accuracy: 0.9897 - val_dense_5_accuracy: 0.9948 - val_dense_7_accuracy: 0.9485 - val_dense_9_accuracy: 0.9330 - val_dense_11_accuracy: 0.9897\n",
      "Epoch 43/200\n",
      "25/25 [==============================] - 1s 25ms/step - loss: 0.4379 - dense_1_loss: 0.0371 - dense_3_loss: 0.0549 - dense_5_loss: 0.0740 - dense_7_loss: 0.0764 - dense_9_loss: 0.1330 - dense_11_loss: 0.0625 - dense_1_accuracy: 0.9910 - dense_3_accuracy: 0.9820 - dense_5_accuracy: 0.9678 - dense_7_accuracy: 0.9781 - dense_9_accuracy: 0.9472 - dense_11_accuracy: 0.9820 - val_loss: 15.5538 - val_dense_1_loss: 14.7838 - val_dense_3_loss: 0.0707 - val_dense_5_loss: 0.0434 - val_dense_7_loss: 0.1949 - val_dense_9_loss: 0.3685 - val_dense_11_loss: 0.0926 - val_dense_1_accuracy: 0.0773 - val_dense_3_accuracy: 0.9948 - val_dense_5_accuracy: 0.9897 - val_dense_7_accuracy: 0.9485 - val_dense_9_accuracy: 0.9278 - val_dense_11_accuracy: 0.9845\n",
      "Epoch 44/200\n",
      "25/25 [==============================] - 1s 25ms/step - loss: 0.4140 - dense_1_loss: 0.0280 - dense_3_loss: 0.0552 - dense_5_loss: 0.0642 - dense_7_loss: 0.1030 - dense_9_loss: 0.1079 - dense_11_loss: 0.0558 - dense_1_accuracy: 0.9897 - dense_3_accuracy: 0.9781 - dense_5_accuracy: 0.9781 - dense_7_accuracy: 0.9575 - dense_9_accuracy: 0.9613 - dense_11_accuracy: 0.9858 - val_loss: 15.5776 - val_dense_1_loss: 14.8609 - val_dense_3_loss: 0.0950 - val_dense_5_loss: 0.0171 - val_dense_7_loss: 0.2666 - val_dense_9_loss: 0.2846 - val_dense_11_loss: 0.0534 - val_dense_1_accuracy: 0.0773 - val_dense_3_accuracy: 0.9897 - val_dense_5_accuracy: 0.9948 - val_dense_7_accuracy: 0.9433 - val_dense_9_accuracy: 0.9278 - val_dense_11_accuracy: 0.9897\n"
     ]
    },
    {
     "name": "stdout",
     "output_type": "stream",
     "text": [
      "Epoch 45/200\n",
      "25/25 [==============================] - 1s 26ms/step - loss: 0.3612 - dense_1_loss: 0.0255 - dense_3_loss: 0.0481 - dense_5_loss: 0.0686 - dense_7_loss: 0.0846 - dense_9_loss: 0.0998 - dense_11_loss: 0.0346 - dense_1_accuracy: 0.9923 - dense_3_accuracy: 0.9832 - dense_5_accuracy: 0.9742 - dense_7_accuracy: 0.9716 - dense_9_accuracy: 0.9536 - dense_11_accuracy: 0.9871 - val_loss: 15.3889 - val_dense_1_loss: 14.7535 - val_dense_3_loss: 0.0949 - val_dense_5_loss: 0.0217 - val_dense_7_loss: 0.1732 - val_dense_9_loss: 0.3193 - val_dense_11_loss: 0.0263 - val_dense_1_accuracy: 0.0773 - val_dense_3_accuracy: 0.9897 - val_dense_5_accuracy: 0.9897 - val_dense_7_accuracy: 0.9639 - val_dense_9_accuracy: 0.9278 - val_dense_11_accuracy: 0.9897\n",
      "Epoch 46/200\n",
      "25/25 [==============================] - 1s 31ms/step - loss: 0.3805 - dense_1_loss: 0.0160 - dense_3_loss: 0.0648 - dense_5_loss: 0.0622 - dense_7_loss: 0.0895 - dense_9_loss: 0.0995 - dense_11_loss: 0.0485 - dense_1_accuracy: 0.9974 - dense_3_accuracy: 0.9820 - dense_5_accuracy: 0.9742 - dense_7_accuracy: 0.9729 - dense_9_accuracy: 0.9704 - dense_11_accuracy: 0.9845 - val_loss: 15.4948 - val_dense_1_loss: 14.8154 - val_dense_3_loss: 0.0845 - val_dense_5_loss: 0.0315 - val_dense_7_loss: 0.2263 - val_dense_9_loss: 0.2883 - val_dense_11_loss: 0.0489 - val_dense_1_accuracy: 0.0773 - val_dense_3_accuracy: 0.9897 - val_dense_5_accuracy: 0.9948 - val_dense_7_accuracy: 0.9485 - val_dense_9_accuracy: 0.9330 - val_dense_11_accuracy: 0.9897\n",
      "Epoch 47/200\n",
      "25/25 [==============================] - 1s 26ms/step - loss: 0.3661 - dense_1_loss: 0.0230 - dense_3_loss: 0.0590 - dense_5_loss: 0.0634 - dense_7_loss: 0.0603 - dense_9_loss: 0.1010 - dense_11_loss: 0.0595 - dense_1_accuracy: 0.9948 - dense_3_accuracy: 0.9781 - dense_5_accuracy: 0.9768 - dense_7_accuracy: 0.9884 - dense_9_accuracy: 0.9665 - dense_11_accuracy: 0.9845 - val_loss: 15.3410 - val_dense_1_loss: 14.6877 - val_dense_3_loss: 0.1010 - val_dense_5_loss: 0.0150 - val_dense_7_loss: 0.2056 - val_dense_9_loss: 0.2900 - val_dense_11_loss: 0.0417 - val_dense_1_accuracy: 0.0773 - val_dense_3_accuracy: 0.9897 - val_dense_5_accuracy: 0.9948 - val_dense_7_accuracy: 0.9485 - val_dense_9_accuracy: 0.9330 - val_dense_11_accuracy: 0.9845\n",
      "Epoch 48/200\n",
      "25/25 [==============================] - 1s 28ms/step - loss: 0.3762 - dense_1_loss: 0.0330 - dense_3_loss: 0.0573 - dense_5_loss: 0.0604 - dense_7_loss: 0.0628 - dense_9_loss: 0.1256 - dense_11_loss: 0.0369 - dense_1_accuracy: 0.9897 - dense_3_accuracy: 0.9755 - dense_5_accuracy: 0.9807 - dense_7_accuracy: 0.9768 - dense_9_accuracy: 0.9549 - dense_11_accuracy: 0.9871 - val_loss: 15.2822 - val_dense_1_loss: 14.4989 - val_dense_3_loss: 0.0896 - val_dense_5_loss: 0.0213 - val_dense_7_loss: 0.2080 - val_dense_9_loss: 0.3764 - val_dense_11_loss: 0.0881 - val_dense_1_accuracy: 0.0773 - val_dense_3_accuracy: 0.9897 - val_dense_5_accuracy: 0.9897 - val_dense_7_accuracy: 0.9485 - val_dense_9_accuracy: 0.9278 - val_dense_11_accuracy: 0.9794\n",
      "Epoch 49/200\n",
      "25/25 [==============================] - 1s 26ms/step - loss: 0.3909 - dense_1_loss: 0.0243 - dense_3_loss: 0.0582 - dense_5_loss: 0.0633 - dense_7_loss: 0.0782 - dense_9_loss: 0.1217 - dense_11_loss: 0.0453 - dense_1_accuracy: 0.9948 - dense_3_accuracy: 0.9755 - dense_5_accuracy: 0.9781 - dense_7_accuracy: 0.9678 - dense_9_accuracy: 0.9485 - dense_11_accuracy: 0.9884 - val_loss: 14.8913 - val_dense_1_loss: 14.0029 - val_dense_3_loss: 0.0767 - val_dense_5_loss: 0.0154 - val_dense_7_loss: 0.3341 - val_dense_9_loss: 0.3581 - val_dense_11_loss: 0.1041 - val_dense_1_accuracy: 0.0773 - val_dense_3_accuracy: 0.9948 - val_dense_5_accuracy: 0.9948 - val_dense_7_accuracy: 0.9433 - val_dense_9_accuracy: 0.9278 - val_dense_11_accuracy: 0.9742\n",
      "Epoch 50/200\n",
      "25/25 [==============================] - 1s 28ms/step - loss: 0.3481 - dense_1_loss: 0.0227 - dense_3_loss: 0.0474 - dense_5_loss: 0.0461 - dense_7_loss: 0.0894 - dense_9_loss: 0.1166 - dense_11_loss: 0.0260 - dense_1_accuracy: 0.9936 - dense_3_accuracy: 0.9832 - dense_5_accuracy: 0.9820 - dense_7_accuracy: 0.9716 - dense_9_accuracy: 0.9523 - dense_11_accuracy: 0.9897 - val_loss: 15.5535 - val_dense_1_loss: 14.7004 - val_dense_3_loss: 0.0918 - val_dense_5_loss: 0.0185 - val_dense_7_loss: 0.2126 - val_dense_9_loss: 0.4451 - val_dense_11_loss: 0.0850 - val_dense_1_accuracy: 0.0773 - val_dense_3_accuracy: 0.9897 - val_dense_5_accuracy: 0.9948 - val_dense_7_accuracy: 0.9433 - val_dense_9_accuracy: 0.9227 - val_dense_11_accuracy: 0.9845\n",
      "Epoch 51/200\n",
      "25/25 [==============================] - 1s 27ms/step - loss: 0.3820 - dense_1_loss: 0.0235 - dense_3_loss: 0.0540 - dense_5_loss: 0.0862 - dense_7_loss: 0.0766 - dense_9_loss: 0.1088 - dense_11_loss: 0.0331 - dense_1_accuracy: 0.9948 - dense_3_accuracy: 0.9794 - dense_5_accuracy: 0.9652 - dense_7_accuracy: 0.9742 - dense_9_accuracy: 0.9613 - dense_11_accuracy: 0.9884 - val_loss: 15.2892 - val_dense_1_loss: 14.5193 - val_dense_3_loss: 0.0855 - val_dense_5_loss: 0.0158 - val_dense_7_loss: 0.1684 - val_dense_9_loss: 0.4414 - val_dense_11_loss: 0.0589 - val_dense_1_accuracy: 0.0773 - val_dense_3_accuracy: 0.9897 - val_dense_5_accuracy: 0.9948 - val_dense_7_accuracy: 0.9433 - val_dense_9_accuracy: 0.9227 - val_dense_11_accuracy: 0.9897\n",
      "Epoch 52/200\n",
      "25/25 [==============================] - 1s 28ms/step - loss: 0.4317 - dense_1_loss: 0.0351 - dense_3_loss: 0.0478 - dense_5_loss: 0.0786 - dense_7_loss: 0.1010 - dense_9_loss: 0.1250 - dense_11_loss: 0.0441 - dense_1_accuracy: 0.9910 - dense_3_accuracy: 0.9845 - dense_5_accuracy: 0.9691 - dense_7_accuracy: 0.9652 - dense_9_accuracy: 0.9536 - dense_11_accuracy: 0.9832 - val_loss: 15.1450 - val_dense_1_loss: 14.3754 - val_dense_3_loss: 0.0855 - val_dense_5_loss: 0.0128 - val_dense_7_loss: 0.2589 - val_dense_9_loss: 0.3810 - val_dense_11_loss: 0.0313 - val_dense_1_accuracy: 0.0773 - val_dense_3_accuracy: 0.9948 - val_dense_5_accuracy: 1.0000 - val_dense_7_accuracy: 0.9536 - val_dense_9_accuracy: 0.9278 - val_dense_11_accuracy: 0.9897\n",
      "Epoch 53/200\n",
      "25/25 [==============================] - 1s 28ms/step - loss: 0.3024 - dense_1_loss: 0.0198 - dense_3_loss: 0.0378 - dense_5_loss: 0.0549 - dense_7_loss: 0.0729 - dense_9_loss: 0.0722 - dense_11_loss: 0.0449 - dense_1_accuracy: 0.9961 - dense_3_accuracy: 0.9884 - dense_5_accuracy: 0.9845 - dense_7_accuracy: 0.9755 - dense_9_accuracy: 0.9729 - dense_11_accuracy: 0.9858 - val_loss: 14.9035 - val_dense_1_loss: 14.1806 - val_dense_3_loss: 0.0926 - val_dense_5_loss: 0.0410 - val_dense_7_loss: 0.2146 - val_dense_9_loss: 0.3446 - val_dense_11_loss: 0.0301 - val_dense_1_accuracy: 0.0773 - val_dense_3_accuracy: 0.9897 - val_dense_5_accuracy: 0.9897 - val_dense_7_accuracy: 0.9433 - val_dense_9_accuracy: 0.9381 - val_dense_11_accuracy: 0.9897\n",
      "Epoch 54/200\n",
      "25/25 [==============================] - 1s 27ms/step - loss: 0.3837 - dense_1_loss: 0.0157 - dense_3_loss: 0.0639 - dense_5_loss: 0.0629 - dense_7_loss: 0.0889 - dense_9_loss: 0.1174 - dense_11_loss: 0.0348 - dense_1_accuracy: 0.9948 - dense_3_accuracy: 0.9768 - dense_5_accuracy: 0.9781 - dense_7_accuracy: 0.9652 - dense_9_accuracy: 0.9639 - dense_11_accuracy: 0.9923 - val_loss: 15.1559 - val_dense_1_loss: 14.4844 - val_dense_3_loss: 0.0787 - val_dense_5_loss: 0.0219 - val_dense_7_loss: 0.2154 - val_dense_9_loss: 0.3361 - val_dense_11_loss: 0.0194 - val_dense_1_accuracy: 0.0773 - val_dense_3_accuracy: 0.9897 - val_dense_5_accuracy: 0.9845 - val_dense_7_accuracy: 0.9536 - val_dense_9_accuracy: 0.9278 - val_dense_11_accuracy: 0.9897\n",
      "Epoch 55/200\n",
      "25/25 [==============================] - 1s 26ms/step - loss: 0.3594 - dense_1_loss: 0.0167 - dense_3_loss: 0.0511 - dense_5_loss: 0.0571 - dense_7_loss: 0.0870 - dense_9_loss: 0.0963 - dense_11_loss: 0.0513 - dense_1_accuracy: 0.9974 - dense_3_accuracy: 0.9742 - dense_5_accuracy: 0.9832 - dense_7_accuracy: 0.9716 - dense_9_accuracy: 0.9639 - dense_11_accuracy: 0.9858 - val_loss: 15.3704 - val_dense_1_loss: 14.6127 - val_dense_3_loss: 0.0912 - val_dense_5_loss: 0.0174 - val_dense_7_loss: 0.2773 - val_dense_9_loss: 0.3271 - val_dense_11_loss: 0.0447 - val_dense_1_accuracy: 0.0773 - val_dense_3_accuracy: 0.9897 - val_dense_5_accuracy: 0.9897 - val_dense_7_accuracy: 0.9588 - val_dense_9_accuracy: 0.9381 - val_dense_11_accuracy: 0.9897\n"
     ]
    },
    {
     "name": "stdout",
     "output_type": "stream",
     "text": [
      "Epoch 56/200\n",
      "25/25 [==============================] - 1s 25ms/step - loss: 0.3450 - dense_1_loss: 0.0319 - dense_3_loss: 0.0415 - dense_5_loss: 0.0607 - dense_7_loss: 0.0643 - dense_9_loss: 0.1159 - dense_11_loss: 0.0307 - dense_1_accuracy: 0.9884 - dense_3_accuracy: 0.9871 - dense_5_accuracy: 0.9781 - dense_7_accuracy: 0.9781 - dense_9_accuracy: 0.9626 - dense_11_accuracy: 0.9948 - val_loss: 14.8281 - val_dense_1_loss: 14.1239 - val_dense_3_loss: 0.0838 - val_dense_5_loss: 0.0239 - val_dense_7_loss: 0.1839 - val_dense_9_loss: 0.3537 - val_dense_11_loss: 0.0589 - val_dense_1_accuracy: 0.0773 - val_dense_3_accuracy: 0.9948 - val_dense_5_accuracy: 0.9897 - val_dense_7_accuracy: 0.9639 - val_dense_9_accuracy: 0.9124 - val_dense_11_accuracy: 0.9897\n",
      "Epoch 57/200\n",
      "25/25 [==============================] - 1s 27ms/step - loss: 0.3265 - dense_1_loss: 0.0108 - dense_3_loss: 0.0735 - dense_5_loss: 0.0719 - dense_7_loss: 0.0381 - dense_9_loss: 0.0831 - dense_11_loss: 0.0492 - dense_1_accuracy: 0.9974 - dense_3_accuracy: 0.9729 - dense_5_accuracy: 0.9742 - dense_7_accuracy: 0.9845 - dense_9_accuracy: 0.9626 - dense_11_accuracy: 0.9845 - val_loss: 15.1501 - val_dense_1_loss: 14.4330 - val_dense_3_loss: 0.0807 - val_dense_5_loss: 0.0204 - val_dense_7_loss: 0.1941 - val_dense_9_loss: 0.3718 - val_dense_11_loss: 0.0501 - val_dense_1_accuracy: 0.0773 - val_dense_3_accuracy: 0.9948 - val_dense_5_accuracy: 0.9948 - val_dense_7_accuracy: 0.9485 - val_dense_9_accuracy: 0.9330 - val_dense_11_accuracy: 0.9897\n",
      "Epoch 58/200\n",
      "25/25 [==============================] - 1s 25ms/step - loss: 0.3170 - dense_1_loss: 0.0164 - dense_3_loss: 0.0566 - dense_5_loss: 0.0514 - dense_7_loss: 0.0515 - dense_9_loss: 0.1090 - dense_11_loss: 0.0322 - dense_1_accuracy: 0.9923 - dense_3_accuracy: 0.9807 - dense_5_accuracy: 0.9820 - dense_7_accuracy: 0.9820 - dense_9_accuracy: 0.9613 - dense_11_accuracy: 0.9910 - val_loss: 15.3754 - val_dense_1_loss: 14.6855 - val_dense_3_loss: 0.0643 - val_dense_5_loss: 0.0039 - val_dense_7_loss: 0.1900 - val_dense_9_loss: 0.4074 - val_dense_11_loss: 0.0243 - val_dense_1_accuracy: 0.0773 - val_dense_3_accuracy: 0.9948 - val_dense_5_accuracy: 1.0000 - val_dense_7_accuracy: 0.9691 - val_dense_9_accuracy: 0.9227 - val_dense_11_accuracy: 0.9948\n",
      "Epoch 59/200\n",
      "25/25 [==============================] - 1s 26ms/step - loss: 0.3360 - dense_1_loss: 0.0186 - dense_3_loss: 0.0560 - dense_5_loss: 0.0556 - dense_7_loss: 0.0649 - dense_9_loss: 0.0923 - dense_11_loss: 0.0485 - dense_1_accuracy: 0.9948 - dense_3_accuracy: 0.9755 - dense_5_accuracy: 0.9807 - dense_7_accuracy: 0.9716 - dense_9_accuracy: 0.9716 - dense_11_accuracy: 0.9832 - val_loss: 15.1145 - val_dense_1_loss: 14.3690 - val_dense_3_loss: 0.0837 - val_dense_5_loss: 0.0136 - val_dense_7_loss: 0.2043 - val_dense_9_loss: 0.4016 - val_dense_11_loss: 0.0423 - val_dense_1_accuracy: 0.0773 - val_dense_3_accuracy: 0.9948 - val_dense_5_accuracy: 0.9948 - val_dense_7_accuracy: 0.9536 - val_dense_9_accuracy: 0.9227 - val_dense_11_accuracy: 0.9897\n",
      "Epoch 60/200\n",
      "25/25 [==============================] - 1s 25ms/step - loss: 0.3003 - dense_1_loss: 0.0241 - dense_3_loss: 0.0506 - dense_5_loss: 0.0444 - dense_7_loss: 0.0563 - dense_9_loss: 0.0750 - dense_11_loss: 0.0499 - dense_1_accuracy: 0.9948 - dense_3_accuracy: 0.9807 - dense_5_accuracy: 0.9884 - dense_7_accuracy: 0.9807 - dense_9_accuracy: 0.9691 - dense_11_accuracy: 0.9858 - val_loss: 14.6028 - val_dense_1_loss: 14.0642 - val_dense_3_loss: 0.0724 - val_dense_5_loss: 0.0075 - val_dense_7_loss: 0.1889 - val_dense_9_loss: 0.2601 - val_dense_11_loss: 0.0096 - val_dense_1_accuracy: 0.0773 - val_dense_3_accuracy: 0.9948 - val_dense_5_accuracy: 1.0000 - val_dense_7_accuracy: 0.9536 - val_dense_9_accuracy: 0.9381 - val_dense_11_accuracy: 0.9948\n",
      "Epoch 61/200\n",
      "25/25 [==============================] - 1s 25ms/step - loss: 0.3353 - dense_1_loss: 0.0173 - dense_3_loss: 0.0563 - dense_5_loss: 0.0586 - dense_7_loss: 0.0713 - dense_9_loss: 0.0806 - dense_11_loss: 0.0513 - dense_1_accuracy: 0.9948 - dense_3_accuracy: 0.9820 - dense_5_accuracy: 0.9807 - dense_7_accuracy: 0.9716 - dense_9_accuracy: 0.9665 - dense_11_accuracy: 0.9832 - val_loss: 14.8113 - val_dense_1_loss: 14.0463 - val_dense_3_loss: 0.0847 - val_dense_5_loss: 0.0029 - val_dense_7_loss: 0.2192 - val_dense_9_loss: 0.3933 - val_dense_11_loss: 0.0650 - val_dense_1_accuracy: 0.0773 - val_dense_3_accuracy: 0.9948 - val_dense_5_accuracy: 1.0000 - val_dense_7_accuracy: 0.9433 - val_dense_9_accuracy: 0.9227 - val_dense_11_accuracy: 0.9845\n",
      "Epoch 62/200\n",
      "25/25 [==============================] - 1s 26ms/step - loss: 0.3068 - dense_1_loss: 0.0109 - dense_3_loss: 0.0449 - dense_5_loss: 0.0604 - dense_7_loss: 0.0563 - dense_9_loss: 0.0866 - dense_11_loss: 0.0476 - dense_1_accuracy: 0.9961 - dense_3_accuracy: 0.9807 - dense_5_accuracy: 0.9781 - dense_7_accuracy: 0.9820 - dense_9_accuracy: 0.9678 - dense_11_accuracy: 0.9820 - val_loss: 14.8472 - val_dense_1_loss: 14.1428 - val_dense_3_loss: 0.0739 - val_dense_5_loss: 0.0165 - val_dense_7_loss: 0.2116 - val_dense_9_loss: 0.3719 - val_dense_11_loss: 0.0305 - val_dense_1_accuracy: 0.0773 - val_dense_3_accuracy: 0.9948 - val_dense_5_accuracy: 0.9948 - val_dense_7_accuracy: 0.9536 - val_dense_9_accuracy: 0.9227 - val_dense_11_accuracy: 0.9794\n",
      "Epoch 63/200\n",
      "25/25 [==============================] - 1s 25ms/step - loss: 0.3342 - dense_1_loss: 0.0138 - dense_3_loss: 0.0489 - dense_5_loss: 0.0656 - dense_7_loss: 0.0594 - dense_9_loss: 0.1033 - dense_11_loss: 0.0432 - dense_1_accuracy: 0.9974 - dense_3_accuracy: 0.9768 - dense_5_accuracy: 0.9820 - dense_7_accuracy: 0.9729 - dense_9_accuracy: 0.9601 - dense_11_accuracy: 0.9820 - val_loss: 15.2532 - val_dense_1_loss: 14.5457 - val_dense_3_loss: 0.0814 - val_dense_5_loss: 0.0065 - val_dense_7_loss: 0.2302 - val_dense_9_loss: 0.3536 - val_dense_11_loss: 0.0359 - val_dense_1_accuracy: 0.0773 - val_dense_3_accuracy: 0.9948 - val_dense_5_accuracy: 0.9948 - val_dense_7_accuracy: 0.9536 - val_dense_9_accuracy: 0.9278 - val_dense_11_accuracy: 0.9897\n",
      "Epoch 64/200\n",
      "25/25 [==============================] - 1s 25ms/step - loss: 0.2664 - dense_1_loss: 0.0167 - dense_3_loss: 0.0392 - dense_5_loss: 0.0422 - dense_7_loss: 0.0571 - dense_9_loss: 0.0877 - dense_11_loss: 0.0235 - dense_1_accuracy: 0.9948 - dense_3_accuracy: 0.9871 - dense_5_accuracy: 0.9807 - dense_7_accuracy: 0.9807 - dense_9_accuracy: 0.9665 - dense_11_accuracy: 0.9884 - val_loss: 15.4503 - val_dense_1_loss: 14.7719 - val_dense_3_loss: 0.0698 - val_dense_5_loss: 0.0058 - val_dense_7_loss: 0.2232 - val_dense_9_loss: 0.3631 - val_dense_11_loss: 0.0166 - val_dense_1_accuracy: 0.0773 - val_dense_3_accuracy: 0.9948 - val_dense_5_accuracy: 1.0000 - val_dense_7_accuracy: 0.9639 - val_dense_9_accuracy: 0.9278 - val_dense_11_accuracy: 0.9948\n",
      "Epoch 65/200\n",
      "25/25 [==============================] - 1s 25ms/step - loss: 0.3027 - dense_1_loss: 0.0231 - dense_3_loss: 0.0407 - dense_5_loss: 0.0441 - dense_7_loss: 0.0563 - dense_9_loss: 0.0807 - dense_11_loss: 0.0580 - dense_1_accuracy: 0.9923 - dense_3_accuracy: 0.9845 - dense_5_accuracy: 0.9858 - dense_7_accuracy: 0.9768 - dense_9_accuracy: 0.9665 - dense_11_accuracy: 0.9845 - val_loss: 15.4561 - val_dense_1_loss: 14.7642 - val_dense_3_loss: 0.0619 - val_dense_5_loss: 0.0048 - val_dense_7_loss: 0.2355 - val_dense_9_loss: 0.3481 - val_dense_11_loss: 0.0416 - val_dense_1_accuracy: 0.0773 - val_dense_3_accuracy: 0.9948 - val_dense_5_accuracy: 1.0000 - val_dense_7_accuracy: 0.9536 - val_dense_9_accuracy: 0.9330 - val_dense_11_accuracy: 0.9845\n",
      "Epoch 66/200\n",
      "25/25 [==============================] - 1s 25ms/step - loss: 0.2793 - dense_1_loss: 0.0089 - dense_3_loss: 0.0349 - dense_5_loss: 0.0429 - dense_7_loss: 0.0620 - dense_9_loss: 0.0812 - dense_11_loss: 0.0493 - dense_1_accuracy: 0.9974 - dense_3_accuracy: 0.9832 - dense_5_accuracy: 0.9807 - dense_7_accuracy: 0.9755 - dense_9_accuracy: 0.9665 - dense_11_accuracy: 0.9807 - val_loss: 15.7733 - val_dense_1_loss: 14.8600 - val_dense_3_loss: 0.0848 - val_dense_5_loss: 0.0051 - val_dense_7_loss: 0.3625 - val_dense_9_loss: 0.4054 - val_dense_11_loss: 0.0555 - val_dense_1_accuracy: 0.0773 - val_dense_3_accuracy: 0.9948 - val_dense_5_accuracy: 1.0000 - val_dense_7_accuracy: 0.9330 - val_dense_9_accuracy: 0.9227 - val_dense_11_accuracy: 0.9742\n"
     ]
    },
    {
     "name": "stdout",
     "output_type": "stream",
     "text": [
      "Epoch 67/200\n",
      "25/25 [==============================] - 1s 25ms/step - loss: 0.3619 - dense_1_loss: 0.0091 - dense_3_loss: 0.0551 - dense_5_loss: 0.0581 - dense_7_loss: 0.0796 - dense_9_loss: 0.1012 - dense_11_loss: 0.0589 - dense_1_accuracy: 0.9974 - dense_3_accuracy: 0.9832 - dense_5_accuracy: 0.9755 - dense_7_accuracy: 0.9691 - dense_9_accuracy: 0.9575 - dense_11_accuracy: 0.9832 - val_loss: 15.6599 - val_dense_1_loss: 14.8049 - val_dense_3_loss: 0.0702 - val_dense_5_loss: 0.0112 - val_dense_7_loss: 0.2953 - val_dense_9_loss: 0.4715 - val_dense_11_loss: 0.0069 - val_dense_1_accuracy: 0.0773 - val_dense_3_accuracy: 0.9948 - val_dense_5_accuracy: 0.9897 - val_dense_7_accuracy: 0.9485 - val_dense_9_accuracy: 0.9278 - val_dense_11_accuracy: 0.9948\n",
      "Epoch 68/200\n",
      "25/25 [==============================] - 1s 25ms/step - loss: 0.2911 - dense_1_loss: 0.0157 - dense_3_loss: 0.0476 - dense_5_loss: 0.0575 - dense_7_loss: 0.0553 - dense_9_loss: 0.0890 - dense_11_loss: 0.0260 - dense_1_accuracy: 0.9948 - dense_3_accuracy: 0.9807 - dense_5_accuracy: 0.9781 - dense_7_accuracy: 0.9820 - dense_9_accuracy: 0.9626 - dense_11_accuracy: 0.9936 - val_loss: 15.3651 - val_dense_1_loss: 14.5297 - val_dense_3_loss: 0.0842 - val_dense_5_loss: 0.0038 - val_dense_7_loss: 0.2895 - val_dense_9_loss: 0.3861 - val_dense_11_loss: 0.0718 - val_dense_1_accuracy: 0.0773 - val_dense_3_accuracy: 0.9948 - val_dense_5_accuracy: 1.0000 - val_dense_7_accuracy: 0.9485 - val_dense_9_accuracy: 0.9175 - val_dense_11_accuracy: 0.9897\n",
      "Epoch 69/200\n",
      "25/25 [==============================] - 1s 25ms/step - loss: 0.3211 - dense_1_loss: 0.0222 - dense_3_loss: 0.0595 - dense_5_loss: 0.0510 - dense_7_loss: 0.0504 - dense_9_loss: 0.1048 - dense_11_loss: 0.0332 - dense_1_accuracy: 0.9910 - dense_3_accuracy: 0.9755 - dense_5_accuracy: 0.9807 - dense_7_accuracy: 0.9820 - dense_9_accuracy: 0.9626 - dense_11_accuracy: 0.9897 - val_loss: 15.0902 - val_dense_1_loss: 14.4090 - val_dense_3_loss: 0.0861 - val_dense_5_loss: 0.0121 - val_dense_7_loss: 0.2082 - val_dense_9_loss: 0.3391 - val_dense_11_loss: 0.0358 - val_dense_1_accuracy: 0.0773 - val_dense_3_accuracy: 0.9948 - val_dense_5_accuracy: 0.9897 - val_dense_7_accuracy: 0.9485 - val_dense_9_accuracy: 0.9485 - val_dense_11_accuracy: 0.9897\n",
      "Epoch 70/200\n",
      "25/25 [==============================] - 1s 25ms/step - loss: 0.2621 - dense_1_loss: 0.0154 - dense_3_loss: 0.0503 - dense_5_loss: 0.0404 - dense_7_loss: 0.0632 - dense_9_loss: 0.0653 - dense_11_loss: 0.0275 - dense_1_accuracy: 0.9936 - dense_3_accuracy: 0.9820 - dense_5_accuracy: 0.9807 - dense_7_accuracy: 0.9768 - dense_9_accuracy: 0.9755 - dense_11_accuracy: 0.9884 - val_loss: 15.2339 - val_dense_1_loss: 14.4256 - val_dense_3_loss: 0.0880 - val_dense_5_loss: 0.0206 - val_dense_7_loss: 0.2016 - val_dense_9_loss: 0.4458 - val_dense_11_loss: 0.0523 - val_dense_1_accuracy: 0.0773 - val_dense_3_accuracy: 0.9897 - val_dense_5_accuracy: 0.9897 - val_dense_7_accuracy: 0.9588 - val_dense_9_accuracy: 0.9278 - val_dense_11_accuracy: 0.9897\n",
      "Epoch 71/200\n",
      "25/25 [==============================] - 1s 25ms/step - loss: 0.3195 - dense_1_loss: 0.0134 - dense_3_loss: 0.0425 - dense_5_loss: 0.0666 - dense_7_loss: 0.0721 - dense_9_loss: 0.0820 - dense_11_loss: 0.0429 - dense_1_accuracy: 0.9974 - dense_3_accuracy: 0.9832 - dense_5_accuracy: 0.9820 - dense_7_accuracy: 0.9781 - dense_9_accuracy: 0.9678 - dense_11_accuracy: 0.9832 - val_loss: 14.7001 - val_dense_1_loss: 13.9804 - val_dense_3_loss: 0.0839 - val_dense_5_loss: 0.0132 - val_dense_7_loss: 0.2039 - val_dense_9_loss: 0.3626 - val_dense_11_loss: 0.0560 - val_dense_1_accuracy: 0.0773 - val_dense_3_accuracy: 0.9948 - val_dense_5_accuracy: 0.9897 - val_dense_7_accuracy: 0.9639 - val_dense_9_accuracy: 0.9278 - val_dense_11_accuracy: 0.9897\n",
      "Epoch 72/200\n",
      "25/25 [==============================] - 1s 25ms/step - loss: 0.3319 - dense_1_loss: 0.0244 - dense_3_loss: 0.0428 - dense_5_loss: 0.0656 - dense_7_loss: 0.0607 - dense_9_loss: 0.0915 - dense_11_loss: 0.0468 - dense_1_accuracy: 0.9910 - dense_3_accuracy: 0.9858 - dense_5_accuracy: 0.9742 - dense_7_accuracy: 0.9807 - dense_9_accuracy: 0.9678 - dense_11_accuracy: 0.9858 - val_loss: 15.1724 - val_dense_1_loss: 14.3907 - val_dense_3_loss: 0.0697 - val_dense_5_loss: 0.0290 - val_dense_7_loss: 0.2410 - val_dense_9_loss: 0.3898 - val_dense_11_loss: 0.0521 - val_dense_1_accuracy: 0.0773 - val_dense_3_accuracy: 0.9948 - val_dense_5_accuracy: 0.9897 - val_dense_7_accuracy: 0.9485 - val_dense_9_accuracy: 0.9330 - val_dense_11_accuracy: 0.9845\n",
      "Epoch 73/200\n",
      "25/25 [==============================] - 1s 25ms/step - loss: 0.2480 - dense_1_loss: 0.0104 - dense_3_loss: 0.0426 - dense_5_loss: 0.0484 - dense_7_loss: 0.0538 - dense_9_loss: 0.0722 - dense_11_loss: 0.0206 - dense_1_accuracy: 0.9974 - dense_3_accuracy: 0.9832 - dense_5_accuracy: 0.9807 - dense_7_accuracy: 0.9845 - dense_9_accuracy: 0.9716 - dense_11_accuracy: 0.9961 - val_loss: 15.2471 - val_dense_1_loss: 14.3633 - val_dense_3_loss: 0.0839 - val_dense_5_loss: 0.0039 - val_dense_7_loss: 0.3351 - val_dense_9_loss: 0.3909 - val_dense_11_loss: 0.0700 - val_dense_1_accuracy: 0.0773 - val_dense_3_accuracy: 0.9948 - val_dense_5_accuracy: 1.0000 - val_dense_7_accuracy: 0.9485 - val_dense_9_accuracy: 0.9278 - val_dense_11_accuracy: 0.9897\n",
      "Epoch 74/200\n",
      "25/25 [==============================] - 1s 25ms/step - loss: 0.2432 - dense_1_loss: 0.0139 - dense_3_loss: 0.0281 - dense_5_loss: 0.0486 - dense_7_loss: 0.0561 - dense_9_loss: 0.0744 - dense_11_loss: 0.0222 - dense_1_accuracy: 0.9948 - dense_3_accuracy: 0.9936 - dense_5_accuracy: 0.9858 - dense_7_accuracy: 0.9820 - dense_9_accuracy: 0.9729 - dense_11_accuracy: 0.9910 - val_loss: 15.3367 - val_dense_1_loss: 14.4386 - val_dense_3_loss: 0.0839 - val_dense_5_loss: 0.0072 - val_dense_7_loss: 0.2902 - val_dense_9_loss: 0.4522 - val_dense_11_loss: 0.0645 - val_dense_1_accuracy: 0.0773 - val_dense_3_accuracy: 0.9948 - val_dense_5_accuracy: 0.9948 - val_dense_7_accuracy: 0.9536 - val_dense_9_accuracy: 0.9175 - val_dense_11_accuracy: 0.9897\n",
      "Epoch 75/200\n",
      "25/25 [==============================] - 1s 26ms/step - loss: 0.3382 - dense_1_loss: 0.0208 - dense_3_loss: 0.0353 - dense_5_loss: 0.0557 - dense_7_loss: 0.0859 - dense_9_loss: 0.1083 - dense_11_loss: 0.0322 - dense_1_accuracy: 0.9936 - dense_3_accuracy: 0.9820 - dense_5_accuracy: 0.9807 - dense_7_accuracy: 0.9639 - dense_9_accuracy: 0.9562 - dense_11_accuracy: 0.9910 - val_loss: 15.1884 - val_dense_1_loss: 14.4718 - val_dense_3_loss: 0.0852 - val_dense_5_loss: 0.0104 - val_dense_7_loss: 0.2284 - val_dense_9_loss: 0.3622 - val_dense_11_loss: 0.0303 - val_dense_1_accuracy: 0.0773 - val_dense_3_accuracy: 0.9948 - val_dense_5_accuracy: 0.9948 - val_dense_7_accuracy: 0.9536 - val_dense_9_accuracy: 0.9278 - val_dense_11_accuracy: 0.9948\n",
      "Epoch 76/200\n",
      "25/25 [==============================] - 1s 26ms/step - loss: 0.2730 - dense_1_loss: 0.0204 - dense_3_loss: 0.0363 - dense_5_loss: 0.0467 - dense_7_loss: 0.0387 - dense_9_loss: 0.1052 - dense_11_loss: 0.0257 - dense_1_accuracy: 0.9936 - dense_3_accuracy: 0.9807 - dense_5_accuracy: 0.9794 - dense_7_accuracy: 0.9832 - dense_9_accuracy: 0.9588 - dense_11_accuracy: 0.9923 - val_loss: 15.0950 - val_dense_1_loss: 14.3760 - val_dense_3_loss: 0.0833 - val_dense_5_loss: 0.0017 - val_dense_7_loss: 0.2290 - val_dense_9_loss: 0.3526 - val_dense_11_loss: 0.0524 - val_dense_1_accuracy: 0.0773 - val_dense_3_accuracy: 0.9948 - val_dense_5_accuracy: 1.0000 - val_dense_7_accuracy: 0.9485 - val_dense_9_accuracy: 0.9278 - val_dense_11_accuracy: 0.9897\n",
      "Epoch 77/200\n",
      "25/25 [==============================] - 1s 25ms/step - loss: 0.2234 - dense_1_loss: 0.0089 - dense_3_loss: 0.0394 - dense_5_loss: 0.0513 - dense_7_loss: 0.0426 - dense_9_loss: 0.0484 - dense_11_loss: 0.0327 - dense_1_accuracy: 0.9961 - dense_3_accuracy: 0.9897 - dense_5_accuracy: 0.9742 - dense_7_accuracy: 0.9871 - dense_9_accuracy: 0.9807 - dense_11_accuracy: 0.9871 - val_loss: 15.2106 - val_dense_1_loss: 14.4644 - val_dense_3_loss: 0.0832 - val_dense_5_loss: 0.0117 - val_dense_7_loss: 0.2059 - val_dense_9_loss: 0.3956 - val_dense_11_loss: 0.0497 - val_dense_1_accuracy: 0.0773 - val_dense_3_accuracy: 0.9948 - val_dense_5_accuracy: 0.9948 - val_dense_7_accuracy: 0.9639 - val_dense_9_accuracy: 0.9330 - val_dense_11_accuracy: 0.9897\n"
     ]
    },
    {
     "name": "stdout",
     "output_type": "stream",
     "text": [
      "Epoch 78/200\n",
      "25/25 [==============================] - 1s 25ms/step - loss: 0.2434 - dense_1_loss: 0.0173 - dense_3_loss: 0.0356 - dense_5_loss: 0.0430 - dense_7_loss: 0.0470 - dense_9_loss: 0.0807 - dense_11_loss: 0.0198 - dense_1_accuracy: 0.9948 - dense_3_accuracy: 0.9858 - dense_5_accuracy: 0.9794 - dense_7_accuracy: 0.9807 - dense_9_accuracy: 0.9665 - dense_11_accuracy: 0.9897 - val_loss: 15.1825 - val_dense_1_loss: 14.3287 - val_dense_3_loss: 0.0833 - val_dense_5_loss: 0.0107 - val_dense_7_loss: 0.2872 - val_dense_9_loss: 0.3767 - val_dense_11_loss: 0.0959 - val_dense_1_accuracy: 0.0773 - val_dense_3_accuracy: 0.9948 - val_dense_5_accuracy: 0.9948 - val_dense_7_accuracy: 0.9330 - val_dense_9_accuracy: 0.9330 - val_dense_11_accuracy: 0.9845\n",
      "Epoch 79/200\n",
      "25/25 [==============================] - 1s 26ms/step - loss: 0.1958 - dense_1_loss: 0.0087 - dense_3_loss: 0.0188 - dense_5_loss: 0.0395 - dense_7_loss: 0.0466 - dense_9_loss: 0.0562 - dense_11_loss: 0.0260 - dense_1_accuracy: 0.9974 - dense_3_accuracy: 0.9936 - dense_5_accuracy: 0.9832 - dense_7_accuracy: 0.9794 - dense_9_accuracy: 0.9716 - dense_11_accuracy: 0.9910 - val_loss: 15.4896 - val_dense_1_loss: 14.6871 - val_dense_3_loss: 0.0832 - val_dense_5_loss: 0.0059 - val_dense_7_loss: 0.2681 - val_dense_9_loss: 0.4218 - val_dense_11_loss: 0.0233 - val_dense_1_accuracy: 0.0773 - val_dense_3_accuracy: 0.9948 - val_dense_5_accuracy: 1.0000 - val_dense_7_accuracy: 0.9536 - val_dense_9_accuracy: 0.9330 - val_dense_11_accuracy: 0.9897\n",
      "Epoch 80/200\n",
      "25/25 [==============================] - 1s 25ms/step - loss: 0.2521 - dense_1_loss: 0.0148 - dense_3_loss: 0.0340 - dense_5_loss: 0.0382 - dense_7_loss: 0.0647 - dense_9_loss: 0.0868 - dense_11_loss: 0.0136 - dense_1_accuracy: 0.9948 - dense_3_accuracy: 0.9858 - dense_5_accuracy: 0.9845 - dense_7_accuracy: 0.9729 - dense_9_accuracy: 0.9678 - dense_11_accuracy: 0.9936 - val_loss: 15.5101 - val_dense_1_loss: 14.7688 - val_dense_3_loss: 0.0648 - val_dense_5_loss: 0.0139 - val_dense_7_loss: 0.2687 - val_dense_9_loss: 0.3650 - val_dense_11_loss: 0.0288 - val_dense_1_accuracy: 0.0773 - val_dense_3_accuracy: 0.9948 - val_dense_5_accuracy: 0.9897 - val_dense_7_accuracy: 0.9433 - val_dense_9_accuracy: 0.9278 - val_dense_11_accuracy: 0.9948\n",
      "Epoch 81/200\n",
      "25/25 [==============================] - 1s 25ms/step - loss: 0.2394 - dense_1_loss: 0.0123 - dense_3_loss: 0.0314 - dense_5_loss: 0.0333 - dense_7_loss: 0.0589 - dense_9_loss: 0.0772 - dense_11_loss: 0.0264 - dense_1_accuracy: 0.9974 - dense_3_accuracy: 0.9871 - dense_5_accuracy: 0.9858 - dense_7_accuracy: 0.9781 - dense_9_accuracy: 0.9665 - dense_11_accuracy: 0.9923 - val_loss: 15.4913 - val_dense_1_loss: 14.7685 - val_dense_3_loss: 0.0800 - val_dense_5_loss: 0.0229 - val_dense_7_loss: 0.2320 - val_dense_9_loss: 0.3487 - val_dense_11_loss: 0.0392 - val_dense_1_accuracy: 0.0773 - val_dense_3_accuracy: 0.9948 - val_dense_5_accuracy: 0.9948 - val_dense_7_accuracy: 0.9536 - val_dense_9_accuracy: 0.9433 - val_dense_11_accuracy: 0.9897\n",
      "Epoch 82/200\n",
      "25/25 [==============================] - 1s 25ms/step - loss: 0.2522 - dense_1_loss: 0.0217 - dense_3_loss: 0.0314 - dense_5_loss: 0.0283 - dense_7_loss: 0.0425 - dense_9_loss: 0.1000 - dense_11_loss: 0.0284 - dense_1_accuracy: 0.9910 - dense_3_accuracy: 0.9871 - dense_5_accuracy: 0.9871 - dense_7_accuracy: 0.9820 - dense_9_accuracy: 0.9601 - dense_11_accuracy: 0.9897 - val_loss: 15.3901 - val_dense_1_loss: 14.7293 - val_dense_3_loss: 0.0543 - val_dense_5_loss: 0.0028 - val_dense_7_loss: 0.2039 - val_dense_9_loss: 0.3676 - val_dense_11_loss: 0.0322 - val_dense_1_accuracy: 0.0773 - val_dense_3_accuracy: 0.9897 - val_dense_5_accuracy: 1.0000 - val_dense_7_accuracy: 0.9639 - val_dense_9_accuracy: 0.9330 - val_dense_11_accuracy: 0.9948\n",
      "Epoch 83/200\n",
      "25/25 [==============================] - 1s 26ms/step - loss: 0.2476 - dense_1_loss: 0.0115 - dense_3_loss: 0.0581 - dense_5_loss: 0.0406 - dense_7_loss: 0.0395 - dense_9_loss: 0.0667 - dense_11_loss: 0.0312 - dense_1_accuracy: 0.9936 - dense_3_accuracy: 0.9871 - dense_5_accuracy: 0.9832 - dense_7_accuracy: 0.9858 - dense_9_accuracy: 0.9729 - dense_11_accuracy: 0.9910 - val_loss: 15.2711 - val_dense_1_loss: 14.4056 - val_dense_3_loss: 0.0530 - val_dense_5_loss: 0.0062 - val_dense_7_loss: 0.2584 - val_dense_9_loss: 0.4722 - val_dense_11_loss: 0.0757 - val_dense_1_accuracy: 0.0773 - val_dense_3_accuracy: 0.9948 - val_dense_5_accuracy: 1.0000 - val_dense_7_accuracy: 0.9536 - val_dense_9_accuracy: 0.9072 - val_dense_11_accuracy: 0.9897\n",
      "Epoch 84/200\n",
      "25/25 [==============================] - 1s 25ms/step - loss: 0.2375 - dense_1_loss: 0.0134 - dense_3_loss: 0.0282 - dense_5_loss: 0.0421 - dense_7_loss: 0.0523 - dense_9_loss: 0.0789 - dense_11_loss: 0.0227 - dense_1_accuracy: 0.9961 - dense_3_accuracy: 0.9884 - dense_5_accuracy: 0.9820 - dense_7_accuracy: 0.9845 - dense_9_accuracy: 0.9716 - dense_11_accuracy: 0.9936 - val_loss: 15.1635 - val_dense_1_loss: 14.2272 - val_dense_3_loss: 0.0768 - val_dense_5_loss: 0.0068 - val_dense_7_loss: 0.3073 - val_dense_9_loss: 0.4264 - val_dense_11_loss: 0.1189 - val_dense_1_accuracy: 0.0773 - val_dense_3_accuracy: 0.9948 - val_dense_5_accuracy: 1.0000 - val_dense_7_accuracy: 0.9433 - val_dense_9_accuracy: 0.9124 - val_dense_11_accuracy: 0.9845\n",
      "Epoch 85/200\n",
      "25/25 [==============================] - 1s 25ms/step - loss: 0.2728 - dense_1_loss: 0.0045 - dense_3_loss: 0.0242 - dense_5_loss: 0.0340 - dense_7_loss: 0.0703 - dense_9_loss: 0.1061 - dense_11_loss: 0.0337 - dense_1_accuracy: 1.0000 - dense_3_accuracy: 0.9923 - dense_5_accuracy: 0.9845 - dense_7_accuracy: 0.9742 - dense_9_accuracy: 0.9588 - dense_11_accuracy: 0.9884 - val_loss: 15.5647 - val_dense_1_loss: 14.7638 - val_dense_3_loss: 0.0525 - val_dense_5_loss: 0.0208 - val_dense_7_loss: 0.2550 - val_dense_9_loss: 0.3478 - val_dense_11_loss: 0.1248 - val_dense_1_accuracy: 0.0773 - val_dense_3_accuracy: 0.9948 - val_dense_5_accuracy: 0.9845 - val_dense_7_accuracy: 0.9433 - val_dense_9_accuracy: 0.9278 - val_dense_11_accuracy: 0.9742\n",
      "Epoch 86/200\n",
      "25/25 [==============================] - 1s 25ms/step - loss: 0.2715 - dense_1_loss: 0.0240 - dense_3_loss: 0.0346 - dense_5_loss: 0.0413 - dense_7_loss: 0.0394 - dense_9_loss: 0.0927 - dense_11_loss: 0.0394 - dense_1_accuracy: 0.9923 - dense_3_accuracy: 0.9832 - dense_5_accuracy: 0.9858 - dense_7_accuracy: 0.9910 - dense_9_accuracy: 0.9601 - dense_11_accuracy: 0.9858 - val_loss: 15.4207 - val_dense_1_loss: 14.6703 - val_dense_3_loss: 0.0800 - val_dense_5_loss: 0.0070 - val_dense_7_loss: 0.2786 - val_dense_9_loss: 0.3558 - val_dense_11_loss: 0.0291 - val_dense_1_accuracy: 0.0773 - val_dense_3_accuracy: 0.9948 - val_dense_5_accuracy: 0.9948 - val_dense_7_accuracy: 0.9278 - val_dense_9_accuracy: 0.9278 - val_dense_11_accuracy: 0.9845\n",
      "Epoch 87/200\n",
      "25/25 [==============================] - 1s 25ms/step - loss: 0.2346 - dense_1_loss: 0.0168 - dense_3_loss: 0.0254 - dense_5_loss: 0.0319 - dense_7_loss: 0.0725 - dense_9_loss: 0.0629 - dense_11_loss: 0.0251 - dense_1_accuracy: 0.9948 - dense_3_accuracy: 0.9948 - dense_5_accuracy: 0.9884 - dense_7_accuracy: 0.9691 - dense_9_accuracy: 0.9742 - dense_11_accuracy: 0.9923 - val_loss: 15.1423 - val_dense_1_loss: 14.3973 - val_dense_3_loss: 0.0597 - val_dense_5_loss: 0.0098 - val_dense_7_loss: 0.2484 - val_dense_9_loss: 0.3881 - val_dense_11_loss: 0.0389 - val_dense_1_accuracy: 0.0773 - val_dense_3_accuracy: 0.9948 - val_dense_5_accuracy: 0.9948 - val_dense_7_accuracy: 0.9485 - val_dense_9_accuracy: 0.9330 - val_dense_11_accuracy: 0.9948\n",
      "Epoch 88/200\n",
      "25/25 [==============================] - 1s 25ms/step - loss: 0.2522 - dense_1_loss: 0.0149 - dense_3_loss: 0.0494 - dense_5_loss: 0.0303 - dense_7_loss: 0.0531 - dense_9_loss: 0.0727 - dense_11_loss: 0.0318 - dense_1_accuracy: 0.9961 - dense_3_accuracy: 0.9820 - dense_5_accuracy: 0.9923 - dense_7_accuracy: 0.9832 - dense_9_accuracy: 0.9716 - dense_11_accuracy: 0.9858 - val_loss: 15.0416 - val_dense_1_loss: 14.3873 - val_dense_3_loss: 0.0753 - val_dense_5_loss: 0.0040 - val_dense_7_loss: 0.2149 - val_dense_9_loss: 0.3056 - val_dense_11_loss: 0.0545 - val_dense_1_accuracy: 0.0773 - val_dense_3_accuracy: 0.9948 - val_dense_5_accuracy: 1.0000 - val_dense_7_accuracy: 0.9639 - val_dense_9_accuracy: 0.9433 - val_dense_11_accuracy: 0.9845\n"
     ]
    },
    {
     "name": "stdout",
     "output_type": "stream",
     "text": [
      "Epoch 89/200\n",
      "25/25 [==============================] - 1s 26ms/step - loss: 0.2301 - dense_1_loss: 0.0124 - dense_3_loss: 0.0315 - dense_5_loss: 0.0384 - dense_7_loss: 0.0509 - dense_9_loss: 0.0603 - dense_11_loss: 0.0366 - dense_1_accuracy: 0.9948 - dense_3_accuracy: 0.9871 - dense_5_accuracy: 0.9820 - dense_7_accuracy: 0.9768 - dense_9_accuracy: 0.9742 - dense_11_accuracy: 0.9832 - val_loss: 15.1585 - val_dense_1_loss: 14.4672 - val_dense_3_loss: 0.0710 - val_dense_5_loss: 0.0045 - val_dense_7_loss: 0.2042 - val_dense_9_loss: 0.3644 - val_dense_11_loss: 0.0472 - val_dense_1_accuracy: 0.0773 - val_dense_3_accuracy: 0.9948 - val_dense_5_accuracy: 1.0000 - val_dense_7_accuracy: 0.9639 - val_dense_9_accuracy: 0.9330 - val_dense_11_accuracy: 0.9845\n",
      "Epoch 90/200\n",
      "25/25 [==============================] - 1s 25ms/step - loss: 0.2271 - dense_1_loss: 0.0113 - dense_3_loss: 0.0218 - dense_5_loss: 0.0482 - dense_7_loss: 0.0579 - dense_9_loss: 0.0665 - dense_11_loss: 0.0214 - dense_1_accuracy: 0.9961 - dense_3_accuracy: 0.9948 - dense_5_accuracy: 0.9781 - dense_7_accuracy: 0.9755 - dense_9_accuracy: 0.9704 - dense_11_accuracy: 0.9897 - val_loss: 14.6285 - val_dense_1_loss: 13.8236 - val_dense_3_loss: 0.0761 - val_dense_5_loss: 0.0135 - val_dense_7_loss: 0.2640 - val_dense_9_loss: 0.3661 - val_dense_11_loss: 0.0852 - val_dense_1_accuracy: 0.0773 - val_dense_3_accuracy: 0.9948 - val_dense_5_accuracy: 0.9948 - val_dense_7_accuracy: 0.9433 - val_dense_9_accuracy: 0.9175 - val_dense_11_accuracy: 0.9897\n",
      "Epoch 91/200\n",
      "25/25 [==============================] - 1s 25ms/step - loss: 0.2605 - dense_1_loss: 0.0148 - dense_3_loss: 0.0278 - dense_5_loss: 0.0391 - dense_7_loss: 0.0651 - dense_9_loss: 0.0735 - dense_11_loss: 0.0402 - dense_1_accuracy: 0.9961 - dense_3_accuracy: 0.9910 - dense_5_accuracy: 0.9820 - dense_7_accuracy: 0.9716 - dense_9_accuracy: 0.9729 - dense_11_accuracy: 0.9871 - val_loss: 15.1574 - val_dense_1_loss: 14.4314 - val_dense_3_loss: 0.0832 - val_dense_5_loss: 0.0101 - val_dense_7_loss: 0.2412 - val_dense_9_loss: 0.3589 - val_dense_11_loss: 0.0324 - val_dense_1_accuracy: 0.0773 - val_dense_3_accuracy: 0.9948 - val_dense_5_accuracy: 0.9948 - val_dense_7_accuracy: 0.9433 - val_dense_9_accuracy: 0.9381 - val_dense_11_accuracy: 0.9948\n",
      "Epoch 92/200\n",
      "25/25 [==============================] - 1s 25ms/step - loss: 0.2269 - dense_1_loss: 0.0170 - dense_3_loss: 0.0453 - dense_5_loss: 0.0337 - dense_7_loss: 0.0374 - dense_9_loss: 0.0618 - dense_11_loss: 0.0317 - dense_1_accuracy: 0.9961 - dense_3_accuracy: 0.9884 - dense_5_accuracy: 0.9884 - dense_7_accuracy: 0.9858 - dense_9_accuracy: 0.9729 - dense_11_accuracy: 0.9871 - val_loss: 15.2744 - val_dense_1_loss: 14.4624 - val_dense_3_loss: 0.0838 - val_dense_5_loss: 0.0091 - val_dense_7_loss: 0.2860 - val_dense_9_loss: 0.3990 - val_dense_11_loss: 0.0342 - val_dense_1_accuracy: 0.0773 - val_dense_3_accuracy: 0.9948 - val_dense_5_accuracy: 0.9948 - val_dense_7_accuracy: 0.9485 - val_dense_9_accuracy: 0.9227 - val_dense_11_accuracy: 0.9897\n",
      "Epoch 93/200\n",
      "25/25 [==============================] - 1s 25ms/step - loss: 0.2196 - dense_1_loss: 0.0085 - dense_3_loss: 0.0281 - dense_5_loss: 0.0517 - dense_7_loss: 0.0319 - dense_9_loss: 0.0700 - dense_11_loss: 0.0293 - dense_1_accuracy: 0.9961 - dense_3_accuracy: 0.9910 - dense_5_accuracy: 0.9781 - dense_7_accuracy: 0.9923 - dense_9_accuracy: 0.9665 - dense_11_accuracy: 0.9897 - val_loss: 14.5082 - val_dense_1_loss: 13.8284 - val_dense_3_loss: 0.0876 - val_dense_5_loss: 0.0178 - val_dense_7_loss: 0.2081 - val_dense_9_loss: 0.3314 - val_dense_11_loss: 0.0349 - val_dense_1_accuracy: 0.0773 - val_dense_3_accuracy: 0.9897 - val_dense_5_accuracy: 0.9948 - val_dense_7_accuracy: 0.9639 - val_dense_9_accuracy: 0.9485 - val_dense_11_accuracy: 0.9845\n",
      "Epoch 94/200\n",
      "25/25 [==============================] - 1s 25ms/step - loss: 0.2132 - dense_1_loss: 0.0124 - dense_3_loss: 0.0255 - dense_5_loss: 0.0385 - dense_7_loss: 0.0479 - dense_9_loss: 0.0670 - dense_11_loss: 0.0218 - dense_1_accuracy: 0.9974 - dense_3_accuracy: 0.9884 - dense_5_accuracy: 0.9794 - dense_7_accuracy: 0.9755 - dense_9_accuracy: 0.9768 - dense_11_accuracy: 0.9910 - val_loss: 14.5741 - val_dense_1_loss: 13.9074 - val_dense_3_loss: 0.0832 - val_dense_5_loss: 0.0045 - val_dense_7_loss: 0.1978 - val_dense_9_loss: 0.3571 - val_dense_11_loss: 0.0241 - val_dense_1_accuracy: 0.0773 - val_dense_3_accuracy: 0.9948 - val_dense_5_accuracy: 1.0000 - val_dense_7_accuracy: 0.9639 - val_dense_9_accuracy: 0.9330 - val_dense_11_accuracy: 0.9897\n",
      "Epoch 95/200\n",
      "25/25 [==============================] - 1s 24ms/step - loss: 0.2649 - dense_1_loss: 0.0170 - dense_3_loss: 0.0422 - dense_5_loss: 0.0540 - dense_7_loss: 0.0452 - dense_9_loss: 0.0680 - dense_11_loss: 0.0384 - dense_1_accuracy: 0.9961 - dense_3_accuracy: 0.9832 - dense_5_accuracy: 0.9742 - dense_7_accuracy: 0.9794 - dense_9_accuracy: 0.9768 - dense_11_accuracy: 0.9858 - val_loss: 15.3531 - val_dense_1_loss: 14.5097 - val_dense_3_loss: 0.0838 - val_dense_5_loss: 0.0022 - val_dense_7_loss: 0.3028 - val_dense_9_loss: 0.3504 - val_dense_11_loss: 0.1041 - val_dense_1_accuracy: 0.0773 - val_dense_3_accuracy: 0.9948 - val_dense_5_accuracy: 1.0000 - val_dense_7_accuracy: 0.9381 - val_dense_9_accuracy: 0.9175 - val_dense_11_accuracy: 0.9897\n",
      "Epoch 96/200\n",
      "25/25 [==============================] - 1s 25ms/step - loss: 0.2478 - dense_1_loss: 0.0183 - dense_3_loss: 0.0286 - dense_5_loss: 0.0559 - dense_7_loss: 0.0513 - dense_9_loss: 0.0486 - dense_11_loss: 0.0451 - dense_1_accuracy: 0.9936 - dense_3_accuracy: 0.9910 - dense_5_accuracy: 0.9768 - dense_7_accuracy: 0.9807 - dense_9_accuracy: 0.9807 - dense_11_accuracy: 0.9845 - val_loss: 15.2374 - val_dense_1_loss: 14.5513 - val_dense_3_loss: 0.0831 - val_dense_5_loss: 0.0242 - val_dense_7_loss: 0.1937 - val_dense_9_loss: 0.3599 - val_dense_11_loss: 0.0252 - val_dense_1_accuracy: 0.0773 - val_dense_3_accuracy: 0.9948 - val_dense_5_accuracy: 0.9845 - val_dense_7_accuracy: 0.9536 - val_dense_9_accuracy: 0.9278 - val_dense_11_accuracy: 0.9897\n",
      "Epoch 97/200\n",
      "25/25 [==============================] - 1s 25ms/step - loss: 0.2372 - dense_1_loss: 0.0194 - dense_3_loss: 0.0325 - dense_5_loss: 0.0486 - dense_7_loss: 0.0585 - dense_9_loss: 0.0625 - dense_11_loss: 0.0158 - dense_1_accuracy: 0.9936 - dense_3_accuracy: 0.9897 - dense_5_accuracy: 0.9794 - dense_7_accuracy: 0.9794 - dense_9_accuracy: 0.9742 - dense_11_accuracy: 0.9961 - val_loss: 15.4668 - val_dense_1_loss: 14.6551 - val_dense_3_loss: 0.1017 - val_dense_5_loss: 0.0342 - val_dense_7_loss: 0.2868 - val_dense_9_loss: 0.3306 - val_dense_11_loss: 0.0583 - val_dense_1_accuracy: 0.0773 - val_dense_3_accuracy: 0.9845 - val_dense_5_accuracy: 0.9845 - val_dense_7_accuracy: 0.9381 - val_dense_9_accuracy: 0.9278 - val_dense_11_accuracy: 0.9794\n",
      "Epoch 98/200\n",
      "25/25 [==============================] - 1s 25ms/step - loss: 0.1979 - dense_1_loss: 0.0117 - dense_3_loss: 0.0278 - dense_5_loss: 0.0360 - dense_7_loss: 0.0557 - dense_9_loss: 0.0480 - dense_11_loss: 0.0187 - dense_1_accuracy: 0.9974 - dense_3_accuracy: 0.9871 - dense_5_accuracy: 0.9858 - dense_7_accuracy: 0.9794 - dense_9_accuracy: 0.9845 - dense_11_accuracy: 0.9910 - val_loss: 15.5834 - val_dense_1_loss: 14.7945 - val_dense_3_loss: 0.0831 - val_dense_5_loss: 0.0185 - val_dense_7_loss: 0.2876 - val_dense_9_loss: 0.3903 - val_dense_11_loss: 0.0094 - val_dense_1_accuracy: 0.0773 - val_dense_3_accuracy: 0.9948 - val_dense_5_accuracy: 0.9948 - val_dense_7_accuracy: 0.9485 - val_dense_9_accuracy: 0.9330 - val_dense_11_accuracy: 1.0000\n",
      "Epoch 99/200\n",
      "25/25 [==============================] - 1s 25ms/step - loss: 0.1860 - dense_1_loss: 0.0092 - dense_3_loss: 0.0160 - dense_5_loss: 0.0373 - dense_7_loss: 0.0459 - dense_9_loss: 0.0438 - dense_11_loss: 0.0340 - dense_1_accuracy: 0.9961 - dense_3_accuracy: 0.9948 - dense_5_accuracy: 0.9820 - dense_7_accuracy: 0.9807 - dense_9_accuracy: 0.9794 - dense_11_accuracy: 0.9897 - val_loss: 14.9289 - val_dense_1_loss: 14.1081 - val_dense_3_loss: 0.0831 - val_dense_5_loss: 0.0020 - val_dense_7_loss: 0.2972 - val_dense_9_loss: 0.3629 - val_dense_11_loss: 0.0756 - val_dense_1_accuracy: 0.0773 - val_dense_3_accuracy: 0.9948 - val_dense_5_accuracy: 1.0000 - val_dense_7_accuracy: 0.9330 - val_dense_9_accuracy: 0.9433 - val_dense_11_accuracy: 0.9897\n"
     ]
    },
    {
     "name": "stdout",
     "output_type": "stream",
     "text": [
      "Epoch 100/200\n",
      "25/25 [==============================] - 1s 25ms/step - loss: 0.2211 - dense_1_loss: 0.0237 - dense_3_loss: 0.0343 - dense_5_loss: 0.0462 - dense_7_loss: 0.0501 - dense_9_loss: 0.0478 - dense_11_loss: 0.0191 - dense_1_accuracy: 0.9936 - dense_3_accuracy: 0.9871 - dense_5_accuracy: 0.9820 - dense_7_accuracy: 0.9807 - dense_9_accuracy: 0.9884 - dense_11_accuracy: 0.9910 - val_loss: 15.0377 - val_dense_1_loss: 14.2338 - val_dense_3_loss: 0.0831 - val_dense_5_loss: 0.0042 - val_dense_7_loss: 0.2598 - val_dense_9_loss: 0.3764 - val_dense_11_loss: 0.0804 - val_dense_1_accuracy: 0.0773 - val_dense_3_accuracy: 0.9948 - val_dense_5_accuracy: 1.0000 - val_dense_7_accuracy: 0.9433 - val_dense_9_accuracy: 0.9381 - val_dense_11_accuracy: 0.9845\n",
      "Epoch 101/200\n",
      "25/25 [==============================] - 1s 25ms/step - loss: 0.2126 - dense_1_loss: 0.0128 - dense_3_loss: 0.0244 - dense_5_loss: 0.0513 - dense_7_loss: 0.0498 - dense_9_loss: 0.0516 - dense_11_loss: 0.0226 - dense_1_accuracy: 0.9961 - dense_3_accuracy: 0.9910 - dense_5_accuracy: 0.9807 - dense_7_accuracy: 0.9781 - dense_9_accuracy: 0.9807 - dense_11_accuracy: 0.9910 - val_loss: 14.9201 - val_dense_1_loss: 14.1495 - val_dense_3_loss: 0.0845 - val_dense_5_loss: 0.0214 - val_dense_7_loss: 0.2539 - val_dense_9_loss: 0.3834 - val_dense_11_loss: 0.0275 - val_dense_1_accuracy: 0.0773 - val_dense_3_accuracy: 0.9948 - val_dense_5_accuracy: 0.9948 - val_dense_7_accuracy: 0.9330 - val_dense_9_accuracy: 0.9330 - val_dense_11_accuracy: 0.9948\n",
      "Epoch 102/200\n",
      "25/25 [==============================] - 1s 25ms/step - loss: 0.2255 - dense_1_loss: 0.0087 - dense_3_loss: 0.0442 - dense_5_loss: 0.0288 - dense_7_loss: 0.0462 - dense_9_loss: 0.0706 - dense_11_loss: 0.0270 - dense_1_accuracy: 0.9974 - dense_3_accuracy: 0.9768 - dense_5_accuracy: 0.9910 - dense_7_accuracy: 0.9781 - dense_9_accuracy: 0.9678 - dense_11_accuracy: 0.9923 - val_loss: 15.5807 - val_dense_1_loss: 14.8407 - val_dense_3_loss: 0.0832 - val_dense_5_loss: 0.0134 - val_dense_7_loss: 0.2543 - val_dense_9_loss: 0.3777 - val_dense_11_loss: 0.0114 - val_dense_1_accuracy: 0.0773 - val_dense_3_accuracy: 0.9948 - val_dense_5_accuracy: 0.9948 - val_dense_7_accuracy: 0.9433 - val_dense_9_accuracy: 0.9536 - val_dense_11_accuracy: 0.9948\n",
      "Epoch 103/200\n",
      "25/25 [==============================] - 1s 25ms/step - loss: 0.1733 - dense_1_loss: 0.0082 - dense_3_loss: 0.0187 - dense_5_loss: 0.0270 - dense_7_loss: 0.0399 - dense_9_loss: 0.0595 - dense_11_loss: 0.0200 - dense_1_accuracy: 0.9974 - dense_3_accuracy: 0.9948 - dense_5_accuracy: 0.9858 - dense_7_accuracy: 0.9871 - dense_9_accuracy: 0.9755 - dense_11_accuracy: 0.9923 - val_loss: 15.2588 - val_dense_1_loss: 14.5345 - val_dense_3_loss: 0.0831 - val_dense_5_loss: 0.0170 - val_dense_7_loss: 0.2250 - val_dense_9_loss: 0.3531 - val_dense_11_loss: 0.0462 - val_dense_1_accuracy: 0.0773 - val_dense_3_accuracy: 0.9948 - val_dense_5_accuracy: 0.9948 - val_dense_7_accuracy: 0.9381 - val_dense_9_accuracy: 0.9433 - val_dense_11_accuracy: 0.9897\n",
      "Epoch 104/200\n",
      "25/25 [==============================] - 1s 25ms/step - loss: 0.1888 - dense_1_loss: 0.0168 - dense_3_loss: 0.0293 - dense_5_loss: 0.0397 - dense_7_loss: 0.0219 - dense_9_loss: 0.0625 - dense_11_loss: 0.0185 - dense_1_accuracy: 0.9961 - dense_3_accuracy: 0.9871 - dense_5_accuracy: 0.9832 - dense_7_accuracy: 0.9910 - dense_9_accuracy: 0.9781 - dense_11_accuracy: 0.9923 - val_loss: 15.0999 - val_dense_1_loss: 14.4003 - val_dense_3_loss: 0.0831 - val_dense_5_loss: 0.0057 - val_dense_7_loss: 0.2652 - val_dense_9_loss: 0.3012 - val_dense_11_loss: 0.0444 - val_dense_1_accuracy: 0.0773 - val_dense_3_accuracy: 0.9948 - val_dense_5_accuracy: 1.0000 - val_dense_7_accuracy: 0.9485 - val_dense_9_accuracy: 0.9588 - val_dense_11_accuracy: 0.9897\n",
      "Epoch 105/200\n",
      "25/25 [==============================] - 1s 25ms/step - loss: 0.2202 - dense_1_loss: 0.0150 - dense_3_loss: 0.0250 - dense_5_loss: 0.0488 - dense_7_loss: 0.0439 - dense_9_loss: 0.0658 - dense_11_loss: 0.0217 - dense_1_accuracy: 0.9936 - dense_3_accuracy: 0.9884 - dense_5_accuracy: 0.9845 - dense_7_accuracy: 0.9858 - dense_9_accuracy: 0.9729 - dense_11_accuracy: 0.9923 - val_loss: 15.1194 - val_dense_1_loss: 14.5110 - val_dense_3_loss: 0.0831 - val_dense_5_loss: 0.0048 - val_dense_7_loss: 0.2189 - val_dense_9_loss: 0.2891 - val_dense_11_loss: 0.0125 - val_dense_1_accuracy: 0.0773 - val_dense_3_accuracy: 0.9948 - val_dense_5_accuracy: 1.0000 - val_dense_7_accuracy: 0.9536 - val_dense_9_accuracy: 0.9485 - val_dense_11_accuracy: 0.9948\n",
      "Epoch 106/200\n",
      "25/25 [==============================] - 1s 25ms/step - loss: 0.2238 - dense_1_loss: 0.0051 - dense_3_loss: 0.0316 - dense_5_loss: 0.0429 - dense_7_loss: 0.0502 - dense_9_loss: 0.0661 - dense_11_loss: 0.0279 - dense_1_accuracy: 1.0000 - dense_3_accuracy: 0.9884 - dense_5_accuracy: 0.9794 - dense_7_accuracy: 0.9794 - dense_9_accuracy: 0.9691 - dense_11_accuracy: 0.9936 - val_loss: 15.3991 - val_dense_1_loss: 14.7338 - val_dense_3_loss: 0.0833 - val_dense_5_loss: 9.1212e-04 - val_dense_7_loss: 0.2818 - val_dense_9_loss: 0.2528 - val_dense_11_loss: 0.0465 - val_dense_1_accuracy: 0.0773 - val_dense_3_accuracy: 0.9948 - val_dense_5_accuracy: 1.0000 - val_dense_7_accuracy: 0.9536 - val_dense_9_accuracy: 0.9639 - val_dense_11_accuracy: 0.9897\n",
      "Epoch 107/200\n",
      "25/25 [==============================] - 1s 25ms/step - loss: 0.2031 - dense_1_loss: 0.0139 - dense_3_loss: 0.0164 - dense_5_loss: 0.0439 - dense_7_loss: 0.0370 - dense_9_loss: 0.0581 - dense_11_loss: 0.0337 - dense_1_accuracy: 0.9948 - dense_3_accuracy: 0.9897 - dense_5_accuracy: 0.9871 - dense_7_accuracy: 0.9858 - dense_9_accuracy: 0.9768 - dense_11_accuracy: 0.9897 - val_loss: 14.9853 - val_dense_1_loss: 14.2901 - val_dense_3_loss: 0.0914 - val_dense_5_loss: 0.0146 - val_dense_7_loss: 0.2681 - val_dense_9_loss: 0.2856 - val_dense_11_loss: 0.0356 - val_dense_1_accuracy: 0.0773 - val_dense_3_accuracy: 0.9897 - val_dense_5_accuracy: 0.9948 - val_dense_7_accuracy: 0.9485 - val_dense_9_accuracy: 0.9433 - val_dense_11_accuracy: 0.9845\n",
      "Epoch 108/200\n",
      "25/25 [==============================] - 1s 26ms/step - loss: 0.2467 - dense_1_loss: 0.0185 - dense_3_loss: 0.0440 - dense_5_loss: 0.0350 - dense_7_loss: 0.0535 - dense_9_loss: 0.0588 - dense_11_loss: 0.0370 - dense_1_accuracy: 0.9936 - dense_3_accuracy: 0.9820 - dense_5_accuracy: 0.9807 - dense_7_accuracy: 0.9794 - dense_9_accuracy: 0.9820 - dense_11_accuracy: 0.9820 - val_loss: 15.0228 - val_dense_1_loss: 14.3123 - val_dense_3_loss: 0.0831 - val_dense_5_loss: 0.0204 - val_dense_7_loss: 0.2756 - val_dense_9_loss: 0.2541 - val_dense_11_loss: 0.0773 - val_dense_1_accuracy: 0.0773 - val_dense_3_accuracy: 0.9948 - val_dense_5_accuracy: 0.9897 - val_dense_7_accuracy: 0.9433 - val_dense_9_accuracy: 0.9588 - val_dense_11_accuracy: 0.9845\n",
      "Epoch 109/200\n",
      "25/25 [==============================] - 1s 26ms/step - loss: 0.2075 - dense_1_loss: 0.0092 - dense_3_loss: 0.0422 - dense_5_loss: 0.0364 - dense_7_loss: 0.0434 - dense_9_loss: 0.0630 - dense_11_loss: 0.0134 - dense_1_accuracy: 0.9948 - dense_3_accuracy: 0.9820 - dense_5_accuracy: 0.9845 - dense_7_accuracy: 0.9858 - dense_9_accuracy: 0.9742 - dense_11_accuracy: 0.9961 - val_loss: 15.3159 - val_dense_1_loss: 14.5190 - val_dense_3_loss: 0.0914 - val_dense_5_loss: 7.7282e-04 - val_dense_7_loss: 0.3331 - val_dense_9_loss: 0.3075 - val_dense_11_loss: 0.0641 - val_dense_1_accuracy: 0.0773 - val_dense_3_accuracy: 0.9948 - val_dense_5_accuracy: 1.0000 - val_dense_7_accuracy: 0.9485 - val_dense_9_accuracy: 0.9485 - val_dense_11_accuracy: 0.9897\n",
      "Epoch 110/200\n",
      "25/25 [==============================] - 1s 26ms/step - loss: 0.2329 - dense_1_loss: 0.0210 - dense_3_loss: 0.0209 - dense_5_loss: 0.0440 - dense_7_loss: 0.0518 - dense_9_loss: 0.0722 - dense_11_loss: 0.0229 - dense_1_accuracy: 0.9961 - dense_3_accuracy: 0.9884 - dense_5_accuracy: 0.9884 - dense_7_accuracy: 0.9807 - dense_9_accuracy: 0.9768 - dense_11_accuracy: 0.9910 - val_loss: 15.3528 - val_dense_1_loss: 14.6797 - val_dense_3_loss: 0.1012 - val_dense_5_loss: 0.0136 - val_dense_7_loss: 0.1738 - val_dense_9_loss: 0.3427 - val_dense_11_loss: 0.0418 - val_dense_1_accuracy: 0.0773 - val_dense_3_accuracy: 0.9897 - val_dense_5_accuracy: 0.9948 - val_dense_7_accuracy: 0.9433 - val_dense_9_accuracy: 0.9588 - val_dense_11_accuracy: 0.9845\n"
     ]
    },
    {
     "name": "stdout",
     "output_type": "stream",
     "text": [
      "Epoch 111/200\n",
      "25/25 [==============================] - 1s 27ms/step - loss: 0.2485 - dense_1_loss: 0.0123 - dense_3_loss: 0.0346 - dense_5_loss: 0.0458 - dense_7_loss: 0.0634 - dense_9_loss: 0.0775 - dense_11_loss: 0.0149 - dense_1_accuracy: 0.9961 - dense_3_accuracy: 0.9871 - dense_5_accuracy: 0.9832 - dense_7_accuracy: 0.9768 - dense_9_accuracy: 0.9691 - dense_11_accuracy: 0.9948 - val_loss: 15.6567 - val_dense_1_loss: 14.7977 - val_dense_3_loss: 0.0831 - val_dense_5_loss: 0.0238 - val_dense_7_loss: 0.2336 - val_dense_9_loss: 0.4755 - val_dense_11_loss: 0.0430 - val_dense_1_accuracy: 0.0773 - val_dense_3_accuracy: 0.9948 - val_dense_5_accuracy: 0.9897 - val_dense_7_accuracy: 0.9588 - val_dense_9_accuracy: 0.9433 - val_dense_11_accuracy: 0.9897\n",
      "Epoch 112/200\n",
      "25/25 [==============================] - 1s 27ms/step - loss: 0.2715 - dense_1_loss: 0.0144 - dense_3_loss: 0.0310 - dense_5_loss: 0.0575 - dense_7_loss: 0.0445 - dense_9_loss: 0.0864 - dense_11_loss: 0.0377 - dense_1_accuracy: 0.9948 - dense_3_accuracy: 0.9884 - dense_5_accuracy: 0.9807 - dense_7_accuracy: 0.9768 - dense_9_accuracy: 0.9639 - dense_11_accuracy: 0.9871 - val_loss: 14.4722 - val_dense_1_loss: 13.7347 - val_dense_3_loss: 0.0809 - val_dense_5_loss: 0.0136 - val_dense_7_loss: 0.2700 - val_dense_9_loss: 0.3201 - val_dense_11_loss: 0.0529 - val_dense_1_accuracy: 0.0773 - val_dense_3_accuracy: 0.9948 - val_dense_5_accuracy: 0.9948 - val_dense_7_accuracy: 0.9433 - val_dense_9_accuracy: 0.9381 - val_dense_11_accuracy: 0.9845\n",
      "Epoch 113/200\n",
      "25/25 [==============================] - 1s 26ms/step - loss: 0.2643 - dense_1_loss: 0.0112 - dense_3_loss: 0.0232 - dense_5_loss: 0.0501 - dense_7_loss: 0.0610 - dense_9_loss: 0.0720 - dense_11_loss: 0.0467 - dense_1_accuracy: 0.9974 - dense_3_accuracy: 0.9923 - dense_5_accuracy: 0.9755 - dense_7_accuracy: 0.9781 - dense_9_accuracy: 0.9704 - dense_11_accuracy: 0.9858 - val_loss: 14.8927 - val_dense_1_loss: 14.2771 - val_dense_3_loss: 0.0834 - val_dense_5_loss: 0.0024 - val_dense_7_loss: 0.2403 - val_dense_9_loss: 0.2504 - val_dense_11_loss: 0.0392 - val_dense_1_accuracy: 0.0773 - val_dense_3_accuracy: 0.9948 - val_dense_5_accuracy: 1.0000 - val_dense_7_accuracy: 0.9639 - val_dense_9_accuracy: 0.9485 - val_dense_11_accuracy: 0.9845\n",
      "Epoch 114/200\n",
      "25/25 [==============================] - 1s 25ms/step - loss: 0.2049 - dense_1_loss: 0.0076 - dense_3_loss: 0.0314 - dense_5_loss: 0.0450 - dense_7_loss: 0.0335 - dense_9_loss: 0.0576 - dense_11_loss: 0.0298 - dense_1_accuracy: 0.9961 - dense_3_accuracy: 0.9884 - dense_5_accuracy: 0.9845 - dense_7_accuracy: 0.9897 - dense_9_accuracy: 0.9729 - dense_11_accuracy: 0.9910 - val_loss: 15.2792 - val_dense_1_loss: 14.5952 - val_dense_3_loss: 0.0838 - val_dense_5_loss: 0.0013 - val_dense_7_loss: 0.2312 - val_dense_9_loss: 0.3287 - val_dense_11_loss: 0.0389 - val_dense_1_accuracy: 0.0773 - val_dense_3_accuracy: 0.9948 - val_dense_5_accuracy: 1.0000 - val_dense_7_accuracy: 0.9588 - val_dense_9_accuracy: 0.9433 - val_dense_11_accuracy: 0.9948\n",
      "Epoch 115/200\n",
      "25/25 [==============================] - 1s 25ms/step - loss: 0.2242 - dense_1_loss: 0.0048 - dense_3_loss: 0.0329 - dense_5_loss: 0.0590 - dense_7_loss: 0.0438 - dense_9_loss: 0.0594 - dense_11_loss: 0.0243 - dense_1_accuracy: 0.9987 - dense_3_accuracy: 0.9845 - dense_5_accuracy: 0.9781 - dense_7_accuracy: 0.9820 - dense_9_accuracy: 0.9781 - dense_11_accuracy: 0.9923 - val_loss: 15.0908 - val_dense_1_loss: 14.2822 - val_dense_3_loss: 0.1117 - val_dense_5_loss: 0.0054 - val_dense_7_loss: 0.2494 - val_dense_9_loss: 0.3967 - val_dense_11_loss: 0.0454 - val_dense_1_accuracy: 0.0773 - val_dense_3_accuracy: 0.9897 - val_dense_5_accuracy: 1.0000 - val_dense_7_accuracy: 0.9536 - val_dense_9_accuracy: 0.9330 - val_dense_11_accuracy: 0.9948\n",
      "Epoch 116/200\n",
      "25/25 [==============================] - 1s 25ms/step - loss: 0.1823 - dense_1_loss: 0.0114 - dense_3_loss: 0.0160 - dense_5_loss: 0.0676 - dense_7_loss: 0.0243 - dense_9_loss: 0.0440 - dense_11_loss: 0.0189 - dense_1_accuracy: 0.9961 - dense_3_accuracy: 0.9961 - dense_5_accuracy: 0.9755 - dense_7_accuracy: 0.9910 - dense_9_accuracy: 0.9871 - dense_11_accuracy: 0.9936 - val_loss: 15.2641 - val_dense_1_loss: 14.4981 - val_dense_3_loss: 0.0854 - val_dense_5_loss: 0.0175 - val_dense_7_loss: 0.2447 - val_dense_9_loss: 0.4138 - val_dense_11_loss: 0.0046 - val_dense_1_accuracy: 0.0773 - val_dense_3_accuracy: 0.9948 - val_dense_5_accuracy: 0.9897 - val_dense_7_accuracy: 0.9536 - val_dense_9_accuracy: 0.9330 - val_dense_11_accuracy: 0.9948\n",
      "Epoch 117/200\n",
      "25/25 [==============================] - 1s 26ms/step - loss: 0.1951 - dense_1_loss: 0.0148 - dense_3_loss: 0.0368 - dense_5_loss: 0.0281 - dense_7_loss: 0.0442 - dense_9_loss: 0.0595 - dense_11_loss: 0.0116 - dense_1_accuracy: 0.9948 - dense_3_accuracy: 0.9858 - dense_5_accuracy: 0.9936 - dense_7_accuracy: 0.9820 - dense_9_accuracy: 0.9794 - dense_11_accuracy: 0.9961 - val_loss: 15.3728 - val_dense_1_loss: 14.6529 - val_dense_3_loss: 0.0869 - val_dense_5_loss: 0.0074 - val_dense_7_loss: 0.2723 - val_dense_9_loss: 0.3269 - val_dense_11_loss: 0.0264 - val_dense_1_accuracy: 0.0773 - val_dense_3_accuracy: 0.9897 - val_dense_5_accuracy: 0.9948 - val_dense_7_accuracy: 0.9536 - val_dense_9_accuracy: 0.9433 - val_dense_11_accuracy: 0.9948\n",
      "Epoch 118/200\n",
      "25/25 [==============================] - 1s 25ms/step - loss: 0.1978 - dense_1_loss: 0.0092 - dense_3_loss: 0.0249 - dense_5_loss: 0.0392 - dense_7_loss: 0.0491 - dense_9_loss: 0.0480 - dense_11_loss: 0.0273 - dense_1_accuracy: 0.9961 - dense_3_accuracy: 0.9884 - dense_5_accuracy: 0.9871 - dense_7_accuracy: 0.9832 - dense_9_accuracy: 0.9807 - dense_11_accuracy: 0.9910 - val_loss: 15.4969 - val_dense_1_loss: 14.7360 - val_dense_3_loss: 0.0845 - val_dense_5_loss: 0.0023 - val_dense_7_loss: 0.2444 - val_dense_9_loss: 0.3998 - val_dense_11_loss: 0.0299 - val_dense_1_accuracy: 0.0773 - val_dense_3_accuracy: 0.9948 - val_dense_5_accuracy: 1.0000 - val_dense_7_accuracy: 0.9536 - val_dense_9_accuracy: 0.9381 - val_dense_11_accuracy: 0.9897\n",
      "Epoch 119/200\n",
      "25/25 [==============================] - 1s 25ms/step - loss: 0.2112 - dense_1_loss: 0.0144 - dense_3_loss: 0.0403 - dense_5_loss: 0.0302 - dense_7_loss: 0.0291 - dense_9_loss: 0.0570 - dense_11_loss: 0.0402 - dense_1_accuracy: 0.9961 - dense_3_accuracy: 0.9871 - dense_5_accuracy: 0.9845 - dense_7_accuracy: 0.9884 - dense_9_accuracy: 0.9781 - dense_11_accuracy: 0.9858 - val_loss: 15.4074 - val_dense_1_loss: 14.7190 - val_dense_3_loss: 0.0832 - val_dense_5_loss: 2.5954e-04 - val_dense_7_loss: 0.2169 - val_dense_9_loss: 0.3632 - val_dense_11_loss: 0.0249 - val_dense_1_accuracy: 0.0773 - val_dense_3_accuracy: 0.9948 - val_dense_5_accuracy: 1.0000 - val_dense_7_accuracy: 0.9485 - val_dense_9_accuracy: 0.9536 - val_dense_11_accuracy: 0.9948\n",
      "Epoch 120/200\n",
      "25/25 [==============================] - 1s 26ms/step - loss: 0.1942 - dense_1_loss: 0.0083 - dense_3_loss: 0.0403 - dense_5_loss: 0.0506 - dense_7_loss: 0.0330 - dense_9_loss: 0.0446 - dense_11_loss: 0.0174 - dense_1_accuracy: 0.9961 - dense_3_accuracy: 0.9845 - dense_5_accuracy: 0.9742 - dense_7_accuracy: 0.9871 - dense_9_accuracy: 0.9845 - dense_11_accuracy: 0.9948 - val_loss: 15.1004 - val_dense_1_loss: 14.4426 - val_dense_3_loss: 0.0831 - val_dense_5_loss: 0.0060 - val_dense_7_loss: 0.2160 - val_dense_9_loss: 0.3281 - val_dense_11_loss: 0.0245 - val_dense_1_accuracy: 0.0773 - val_dense_3_accuracy: 0.9948 - val_dense_5_accuracy: 0.9948 - val_dense_7_accuracy: 0.9588 - val_dense_9_accuracy: 0.9536 - val_dense_11_accuracy: 0.9897\n",
      "Epoch 121/200\n",
      "25/25 [==============================] - 1s 26ms/step - loss: 0.2142 - dense_1_loss: 0.0137 - dense_3_loss: 0.0297 - dense_5_loss: 0.0462 - dense_7_loss: 0.0399 - dense_9_loss: 0.0559 - dense_11_loss: 0.0288 - dense_1_accuracy: 0.9961 - dense_3_accuracy: 0.9910 - dense_5_accuracy: 0.9781 - dense_7_accuracy: 0.9884 - dense_9_accuracy: 0.9755 - dense_11_accuracy: 0.9897 - val_loss: 15.4057 - val_dense_1_loss: 14.7057 - val_dense_3_loss: 0.0836 - val_dense_5_loss: 0.0013 - val_dense_7_loss: 0.2528 - val_dense_9_loss: 0.3056 - val_dense_11_loss: 0.0566 - val_dense_1_accuracy: 0.0773 - val_dense_3_accuracy: 0.9948 - val_dense_5_accuracy: 1.0000 - val_dense_7_accuracy: 0.9485 - val_dense_9_accuracy: 0.9588 - val_dense_11_accuracy: 0.9897\n"
     ]
    },
    {
     "name": "stdout",
     "output_type": "stream",
     "text": [
      "Epoch 122/200\n",
      "25/25 [==============================] - 1s 26ms/step - loss: 0.2097 - dense_1_loss: 0.0095 - dense_3_loss: 0.0209 - dense_5_loss: 0.0398 - dense_7_loss: 0.0413 - dense_9_loss: 0.0519 - dense_11_loss: 0.0463 - dense_1_accuracy: 0.9961 - dense_3_accuracy: 0.9948 - dense_5_accuracy: 0.9820 - dense_7_accuracy: 0.9845 - dense_9_accuracy: 0.9820 - dense_11_accuracy: 0.9768 - val_loss: 15.0014 - val_dense_1_loss: 14.3565 - val_dense_3_loss: 0.0832 - val_dense_5_loss: 6.0235e-04 - val_dense_7_loss: 0.2140 - val_dense_9_loss: 0.3065 - val_dense_11_loss: 0.0406 - val_dense_1_accuracy: 0.0773 - val_dense_3_accuracy: 0.9948 - val_dense_5_accuracy: 1.0000 - val_dense_7_accuracy: 0.9485 - val_dense_9_accuracy: 0.9485 - val_dense_11_accuracy: 0.9845\n",
      "Epoch 123/200\n",
      "25/25 [==============================] - 1s 25ms/step - loss: 0.1843 - dense_1_loss: 0.0072 - dense_3_loss: 0.0384 - dense_5_loss: 0.0396 - dense_7_loss: 0.0357 - dense_9_loss: 0.0455 - dense_11_loss: 0.0179 - dense_1_accuracy: 0.9987 - dense_3_accuracy: 0.9871 - dense_5_accuracy: 0.9845 - dense_7_accuracy: 0.9845 - dense_9_accuracy: 0.9807 - dense_11_accuracy: 0.9974 - val_loss: 15.4200 - val_dense_1_loss: 14.6822 - val_dense_3_loss: 0.0832 - val_dense_5_loss: 0.0013 - val_dense_7_loss: 0.2152 - val_dense_9_loss: 0.3869 - val_dense_11_loss: 0.0513 - val_dense_1_accuracy: 0.0773 - val_dense_3_accuracy: 0.9948 - val_dense_5_accuracy: 1.0000 - val_dense_7_accuracy: 0.9588 - val_dense_9_accuracy: 0.9381 - val_dense_11_accuracy: 0.9845\n",
      "Epoch 124/200\n",
      "25/25 [==============================] - 1s 26ms/step - loss: 0.1736 - dense_1_loss: 0.0069 - dense_3_loss: 0.0340 - dense_5_loss: 0.0196 - dense_7_loss: 0.0332 - dense_9_loss: 0.0572 - dense_11_loss: 0.0227 - dense_1_accuracy: 0.9974 - dense_3_accuracy: 0.9858 - dense_5_accuracy: 0.9961 - dense_7_accuracy: 0.9923 - dense_9_accuracy: 0.9768 - dense_11_accuracy: 0.9923 - val_loss: 15.4697 - val_dense_1_loss: 14.7382 - val_dense_3_loss: 0.0833 - val_dense_5_loss: 5.9572e-05 - val_dense_7_loss: 0.2728 - val_dense_9_loss: 0.3374 - val_dense_11_loss: 0.0379 - val_dense_1_accuracy: 0.0773 - val_dense_3_accuracy: 0.9948 - val_dense_5_accuracy: 1.0000 - val_dense_7_accuracy: 0.9381 - val_dense_9_accuracy: 0.9381 - val_dense_11_accuracy: 0.9845\n",
      "Epoch 125/200\n",
      "25/25 [==============================] - 1s 26ms/step - loss: 0.1771 - dense_1_loss: 0.0070 - dense_3_loss: 0.0230 - dense_5_loss: 0.0475 - dense_7_loss: 0.0426 - dense_9_loss: 0.0427 - dense_11_loss: 0.0143 - dense_1_accuracy: 0.9987 - dense_3_accuracy: 0.9923 - dense_5_accuracy: 0.9781 - dense_7_accuracy: 0.9858 - dense_9_accuracy: 0.9807 - dense_11_accuracy: 0.9936 - val_loss: 15.2690 - val_dense_1_loss: 14.6403 - val_dense_3_loss: 0.0833 - val_dense_5_loss: 0.0084 - val_dense_7_loss: 0.2377 - val_dense_9_loss: 0.2887 - val_dense_11_loss: 0.0106 - val_dense_1_accuracy: 0.0773 - val_dense_3_accuracy: 0.9948 - val_dense_5_accuracy: 0.9897 - val_dense_7_accuracy: 0.9588 - val_dense_9_accuracy: 0.9639 - val_dense_11_accuracy: 0.9948\n",
      "Epoch 126/200\n",
      "25/25 [==============================] - 1s 25ms/step - loss: 0.1587 - dense_1_loss: 0.0012 - dense_3_loss: 0.0312 - dense_5_loss: 0.0165 - dense_7_loss: 0.0256 - dense_9_loss: 0.0561 - dense_11_loss: 0.0279 - dense_1_accuracy: 1.0000 - dense_3_accuracy: 0.9897 - dense_5_accuracy: 0.9910 - dense_7_accuracy: 0.9910 - dense_9_accuracy: 0.9768 - dense_11_accuracy: 0.9923 - val_loss: 15.5457 - val_dense_1_loss: 14.8501 - val_dense_3_loss: 0.0831 - val_dense_5_loss: 5.7919e-04 - val_dense_7_loss: 0.2417 - val_dense_9_loss: 0.3327 - val_dense_11_loss: 0.0375 - val_dense_1_accuracy: 0.0773 - val_dense_3_accuracy: 0.9948 - val_dense_5_accuracy: 1.0000 - val_dense_7_accuracy: 0.9639 - val_dense_9_accuracy: 0.9485 - val_dense_11_accuracy: 0.9742\n",
      "Epoch 127/200\n",
      "25/25 [==============================] - 1s 27ms/step - loss: 0.1956 - dense_1_loss: 0.0070 - dense_3_loss: 0.0147 - dense_5_loss: 0.0392 - dense_7_loss: 0.0362 - dense_9_loss: 0.0673 - dense_11_loss: 0.0312 - dense_1_accuracy: 0.9987 - dense_3_accuracy: 0.9936 - dense_5_accuracy: 0.9820 - dense_7_accuracy: 0.9884 - dense_9_accuracy: 0.9807 - dense_11_accuracy: 0.9884 - val_loss: 15.5984 - val_dense_1_loss: 14.8401 - val_dense_3_loss: 0.0831 - val_dense_5_loss: 0.0024 - val_dense_7_loss: 0.3055 - val_dense_9_loss: 0.3136 - val_dense_11_loss: 0.0537 - val_dense_1_accuracy: 0.0773 - val_dense_3_accuracy: 0.9948 - val_dense_5_accuracy: 1.0000 - val_dense_7_accuracy: 0.9536 - val_dense_9_accuracy: 0.9433 - val_dense_11_accuracy: 0.9845\n",
      "Epoch 128/200\n",
      "25/25 [==============================] - 1s 28ms/step - loss: 0.1803 - dense_1_loss: 0.0143 - dense_3_loss: 0.0252 - dense_5_loss: 0.0398 - dense_7_loss: 0.0345 - dense_9_loss: 0.0472 - dense_11_loss: 0.0193 - dense_1_accuracy: 0.9974 - dense_3_accuracy: 0.9897 - dense_5_accuracy: 0.9820 - dense_7_accuracy: 0.9845 - dense_9_accuracy: 0.9820 - dense_11_accuracy: 0.9910 - val_loss: 15.1532 - val_dense_1_loss: 14.4983 - val_dense_3_loss: 0.0831 - val_dense_5_loss: 0.0081 - val_dense_7_loss: 0.1721 - val_dense_9_loss: 0.3088 - val_dense_11_loss: 0.0827 - val_dense_1_accuracy: 0.0773 - val_dense_3_accuracy: 0.9948 - val_dense_5_accuracy: 0.9948 - val_dense_7_accuracy: 0.9639 - val_dense_9_accuracy: 0.9536 - val_dense_11_accuracy: 0.9845\n",
      "Epoch 129/200\n",
      "25/25 [==============================] - 1s 29ms/step - loss: 0.1525 - dense_1_loss: 0.0090 - dense_3_loss: 0.0214 - dense_5_loss: 0.0178 - dense_7_loss: 0.0289 - dense_9_loss: 0.0620 - dense_11_loss: 0.0133 - dense_1_accuracy: 0.9961 - dense_3_accuracy: 0.9936 - dense_5_accuracy: 0.9897 - dense_7_accuracy: 0.9871 - dense_9_accuracy: 0.9716 - dense_11_accuracy: 0.9948 - val_loss: 15.2892 - val_dense_1_loss: 14.5900 - val_dense_3_loss: 0.0831 - val_dense_5_loss: 0.0011 - val_dense_7_loss: 0.1914 - val_dense_9_loss: 0.3577 - val_dense_11_loss: 0.0660 - val_dense_1_accuracy: 0.0773 - val_dense_3_accuracy: 0.9948 - val_dense_5_accuracy: 1.0000 - val_dense_7_accuracy: 0.9639 - val_dense_9_accuracy: 0.9485 - val_dense_11_accuracy: 0.9897\n",
      "Epoch 130/200\n",
      "25/25 [==============================] - 1s 29ms/step - loss: 0.1971 - dense_1_loss: 0.0136 - dense_3_loss: 0.0218 - dense_5_loss: 0.0529 - dense_7_loss: 0.0379 - dense_9_loss: 0.0502 - dense_11_loss: 0.0207 - dense_1_accuracy: 0.9974 - dense_3_accuracy: 0.9923 - dense_5_accuracy: 0.9794 - dense_7_accuracy: 0.9871 - dense_9_accuracy: 0.9794 - dense_11_accuracy: 0.9936 - val_loss: 15.3314 - val_dense_1_loss: 14.6505 - val_dense_3_loss: 0.0831 - val_dense_5_loss: 3.4340e-04 - val_dense_7_loss: 0.1804 - val_dense_9_loss: 0.3970 - val_dense_11_loss: 0.0201 - val_dense_1_accuracy: 0.0773 - val_dense_3_accuracy: 0.9948 - val_dense_5_accuracy: 1.0000 - val_dense_7_accuracy: 0.9691 - val_dense_9_accuracy: 0.9536 - val_dense_11_accuracy: 0.9948\n",
      "Epoch 131/200\n",
      "25/25 [==============================] - 1s 31ms/step - loss: 0.1685 - dense_1_loss: 0.0092 - dense_3_loss: 0.0238 - dense_5_loss: 0.0310 - dense_7_loss: 0.0306 - dense_9_loss: 0.0585 - dense_11_loss: 0.0153 - dense_1_accuracy: 0.9961 - dense_3_accuracy: 0.9897 - dense_5_accuracy: 0.9871 - dense_7_accuracy: 0.9897 - dense_9_accuracy: 0.9716 - dense_11_accuracy: 0.9936 - val_loss: 15.5210 - val_dense_1_loss: 14.7863 - val_dense_3_loss: 0.0836 - val_dense_5_loss: 3.0239e-04 - val_dense_7_loss: 0.2739 - val_dense_9_loss: 0.3448 - val_dense_11_loss: 0.0322 - val_dense_1_accuracy: 0.0773 - val_dense_3_accuracy: 0.9948 - val_dense_5_accuracy: 1.0000 - val_dense_7_accuracy: 0.9588 - val_dense_9_accuracy: 0.9433 - val_dense_11_accuracy: 0.9897\n",
      "Epoch 132/200\n",
      "25/25 [==============================] - 1s 30ms/step - loss: 0.1548 - dense_1_loss: 0.0037 - dense_3_loss: 0.0200 - dense_5_loss: 0.0120 - dense_7_loss: 0.0334 - dense_9_loss: 0.0684 - dense_11_loss: 0.0173 - dense_1_accuracy: 0.9974 - dense_3_accuracy: 0.9948 - dense_5_accuracy: 0.9961 - dense_7_accuracy: 0.9858 - dense_9_accuracy: 0.9768 - dense_11_accuracy: 0.9936 - val_loss: 15.4745 - val_dense_1_loss: 14.7801 - val_dense_3_loss: 0.0831 - val_dense_5_loss: 9.2588e-05 - val_dense_7_loss: 0.2605 - val_dense_9_loss: 0.3235 - val_dense_11_loss: 0.0272 - val_dense_1_accuracy: 0.0773 - val_dense_3_accuracy: 0.9948 - val_dense_5_accuracy: 1.0000 - val_dense_7_accuracy: 0.9588 - val_dense_9_accuracy: 0.9433 - val_dense_11_accuracy: 0.9948\n"
     ]
    },
    {
     "name": "stdout",
     "output_type": "stream",
     "text": [
      "Epoch 133/200\n",
      "25/25 [==============================] - 1s 28ms/step - loss: 0.1384 - dense_1_loss: 0.0130 - dense_3_loss: 0.0153 - dense_5_loss: 0.0200 - dense_7_loss: 0.0275 - dense_9_loss: 0.0442 - dense_11_loss: 0.0184 - dense_1_accuracy: 0.9961 - dense_3_accuracy: 0.9961 - dense_5_accuracy: 0.9936 - dense_7_accuracy: 0.9897 - dense_9_accuracy: 0.9768 - dense_11_accuracy: 0.9936 - val_loss: 15.4859 - val_dense_1_loss: 14.6794 - val_dense_3_loss: 0.0831 - val_dense_5_loss: 0.0014 - val_dense_7_loss: 0.3287 - val_dense_9_loss: 0.3576 - val_dense_11_loss: 0.0357 - val_dense_1_accuracy: 0.0773 - val_dense_3_accuracy: 0.9948 - val_dense_5_accuracy: 1.0000 - val_dense_7_accuracy: 0.9330 - val_dense_9_accuracy: 0.9381 - val_dense_11_accuracy: 0.9897\n",
      "Epoch 134/200\n",
      "25/25 [==============================] - 1s 30ms/step - loss: 0.1440 - dense_1_loss: 0.0052 - dense_3_loss: 0.0141 - dense_5_loss: 0.0403 - dense_7_loss: 0.0258 - dense_9_loss: 0.0409 - dense_11_loss: 0.0178 - dense_1_accuracy: 0.9987 - dense_3_accuracy: 0.9948 - dense_5_accuracy: 0.9884 - dense_7_accuracy: 0.9884 - dense_9_accuracy: 0.9858 - dense_11_accuracy: 0.9948 - val_loss: 15.4394 - val_dense_1_loss: 14.5703 - val_dense_3_loss: 0.0831 - val_dense_5_loss: 5.6863e-05 - val_dense_7_loss: 0.2926 - val_dense_9_loss: 0.4046 - val_dense_11_loss: 0.0888 - val_dense_1_accuracy: 0.0773 - val_dense_3_accuracy: 0.9948 - val_dense_5_accuracy: 1.0000 - val_dense_7_accuracy: 0.9536 - val_dense_9_accuracy: 0.9227 - val_dense_11_accuracy: 0.9742\n",
      "Epoch 135/200\n",
      "25/25 [==============================] - 1s 28ms/step - loss: 0.1368 - dense_1_loss: 0.0076 - dense_3_loss: 0.0242 - dense_5_loss: 0.0301 - dense_7_loss: 0.0234 - dense_9_loss: 0.0292 - dense_11_loss: 0.0224 - dense_1_accuracy: 0.9987 - dense_3_accuracy: 0.9897 - dense_5_accuracy: 0.9884 - dense_7_accuracy: 0.9923 - dense_9_accuracy: 0.9871 - dense_11_accuracy: 0.9923 - val_loss: 15.5078 - val_dense_1_loss: 14.7967 - val_dense_3_loss: 0.0831 - val_dense_5_loss: 1.8560e-04 - val_dense_7_loss: 0.2065 - val_dense_9_loss: 0.3069 - val_dense_11_loss: 0.1145 - val_dense_1_accuracy: 0.0773 - val_dense_3_accuracy: 0.9948 - val_dense_5_accuracy: 1.0000 - val_dense_7_accuracy: 0.9691 - val_dense_9_accuracy: 0.9485 - val_dense_11_accuracy: 0.9845\n",
      "Epoch 136/200\n",
      "25/25 [==============================] - 1s 28ms/step - loss: 0.1471 - dense_1_loss: 0.0068 - dense_3_loss: 0.0163 - dense_5_loss: 0.0310 - dense_7_loss: 0.0360 - dense_9_loss: 0.0389 - dense_11_loss: 0.0181 - dense_1_accuracy: 0.9987 - dense_3_accuracy: 0.9910 - dense_5_accuracy: 0.9910 - dense_7_accuracy: 0.9871 - dense_9_accuracy: 0.9884 - dense_11_accuracy: 0.9923 - val_loss: 15.5058 - val_dense_1_loss: 14.7251 - val_dense_3_loss: 0.0832 - val_dense_5_loss: 0.0015 - val_dense_7_loss: 0.2672 - val_dense_9_loss: 0.3512 - val_dense_11_loss: 0.0776 - val_dense_1_accuracy: 0.0773 - val_dense_3_accuracy: 0.9948 - val_dense_5_accuracy: 1.0000 - val_dense_7_accuracy: 0.9485 - val_dense_9_accuracy: 0.9536 - val_dense_11_accuracy: 0.9845\n",
      "Epoch 137/200\n",
      "25/25 [==============================] - 1s 27ms/step - loss: 0.1795 - dense_1_loss: 0.0112 - dense_3_loss: 0.0197 - dense_5_loss: 0.0281 - dense_7_loss: 0.0351 - dense_9_loss: 0.0606 - dense_11_loss: 0.0249 - dense_1_accuracy: 0.9974 - dense_3_accuracy: 0.9948 - dense_5_accuracy: 0.9897 - dense_7_accuracy: 0.9832 - dense_9_accuracy: 0.9807 - dense_11_accuracy: 0.9897 - val_loss: 15.2297 - val_dense_1_loss: 14.4559 - val_dense_3_loss: 0.0832 - val_dense_5_loss: 0.0035 - val_dense_7_loss: 0.2404 - val_dense_9_loss: 0.3227 - val_dense_11_loss: 0.1239 - val_dense_1_accuracy: 0.0773 - val_dense_3_accuracy: 0.9948 - val_dense_5_accuracy: 1.0000 - val_dense_7_accuracy: 0.9588 - val_dense_9_accuracy: 0.9433 - val_dense_11_accuracy: 0.9794\n",
      "Epoch 138/200\n",
      "25/25 [==============================] - 1s 27ms/step - loss: 0.1437 - dense_1_loss: 0.0080 - dense_3_loss: 0.0205 - dense_5_loss: 0.0235 - dense_7_loss: 0.0324 - dense_9_loss: 0.0383 - dense_11_loss: 0.0210 - dense_1_accuracy: 0.9987 - dense_3_accuracy: 0.9910 - dense_5_accuracy: 0.9910 - dense_7_accuracy: 0.9910 - dense_9_accuracy: 0.9871 - dense_11_accuracy: 0.9948 - val_loss: 15.3664 - val_dense_1_loss: 14.5350 - val_dense_3_loss: 0.0831 - val_dense_5_loss: 6.4293e-04 - val_dense_7_loss: 0.2316 - val_dense_9_loss: 0.3893 - val_dense_11_loss: 0.1268 - val_dense_1_accuracy: 0.0773 - val_dense_3_accuracy: 0.9948 - val_dense_5_accuracy: 1.0000 - val_dense_7_accuracy: 0.9691 - val_dense_9_accuracy: 0.9278 - val_dense_11_accuracy: 0.9845\n",
      "Epoch 139/200\n",
      "25/25 [==============================] - 1s 28ms/step - loss: 0.1792 - dense_1_loss: 0.0110 - dense_3_loss: 0.0257 - dense_5_loss: 0.0297 - dense_7_loss: 0.0375 - dense_9_loss: 0.0497 - dense_11_loss: 0.0255 - dense_1_accuracy: 0.9948 - dense_3_accuracy: 0.9897 - dense_5_accuracy: 0.9858 - dense_7_accuracy: 0.9871 - dense_9_accuracy: 0.9755 - dense_11_accuracy: 0.9948 - val_loss: 15.8275 - val_dense_1_loss: 14.7586 - val_dense_3_loss: 0.0831 - val_dense_5_loss: 4.2557e-04 - val_dense_7_loss: 0.3051 - val_dense_9_loss: 0.4709 - val_dense_11_loss: 0.2094 - val_dense_1_accuracy: 0.0773 - val_dense_3_accuracy: 0.9948 - val_dense_5_accuracy: 1.0000 - val_dense_7_accuracy: 0.9639 - val_dense_9_accuracy: 0.9175 - val_dense_11_accuracy: 0.9794\n",
      "Epoch 140/200\n",
      "25/25 [==============================] - 1s 28ms/step - loss: 0.1851 - dense_1_loss: 0.0284 - dense_3_loss: 0.0217 - dense_5_loss: 0.0351 - dense_7_loss: 0.0264 - dense_9_loss: 0.0554 - dense_11_loss: 0.0181 - dense_1_accuracy: 0.9936 - dense_3_accuracy: 0.9871 - dense_5_accuracy: 0.9897 - dense_7_accuracy: 0.9897 - dense_9_accuracy: 0.9794 - dense_11_accuracy: 0.9936 - val_loss: 15.3959 - val_dense_1_loss: 14.5581 - val_dense_3_loss: 0.0853 - val_dense_5_loss: 3.0501e-04 - val_dense_7_loss: 0.3068 - val_dense_9_loss: 0.3570 - val_dense_11_loss: 0.0883 - val_dense_1_accuracy: 0.0773 - val_dense_3_accuracy: 0.9948 - val_dense_5_accuracy: 1.0000 - val_dense_7_accuracy: 0.9536 - val_dense_9_accuracy: 0.9381 - val_dense_11_accuracy: 0.9897\n",
      "Epoch 141/200\n",
      "25/25 [==============================] - 1s 27ms/step - loss: 0.1554 - dense_1_loss: 0.0051 - dense_3_loss: 0.0284 - dense_5_loss: 0.0193 - dense_7_loss: 0.0361 - dense_9_loss: 0.0525 - dense_11_loss: 0.0141 - dense_1_accuracy: 0.9974 - dense_3_accuracy: 0.9897 - dense_5_accuracy: 0.9923 - dense_7_accuracy: 0.9820 - dense_9_accuracy: 0.9781 - dense_11_accuracy: 0.9948 - val_loss: 15.5468 - val_dense_1_loss: 14.7475 - val_dense_3_loss: 0.0831 - val_dense_5_loss: 6.5147e-04 - val_dense_7_loss: 0.2318 - val_dense_9_loss: 0.3889 - val_dense_11_loss: 0.0949 - val_dense_1_accuracy: 0.0773 - val_dense_3_accuracy: 0.9948 - val_dense_5_accuracy: 1.0000 - val_dense_7_accuracy: 0.9639 - val_dense_9_accuracy: 0.9381 - val_dense_11_accuracy: 0.9897\n",
      "Epoch 142/200\n",
      "25/25 [==============================] - 1s 27ms/step - loss: 0.2048 - dense_1_loss: 0.0166 - dense_3_loss: 0.0329 - dense_5_loss: 0.0242 - dense_7_loss: 0.0331 - dense_9_loss: 0.0544 - dense_11_loss: 0.0435 - dense_1_accuracy: 0.9961 - dense_3_accuracy: 0.9884 - dense_5_accuracy: 0.9923 - dense_7_accuracy: 0.9871 - dense_9_accuracy: 0.9820 - dense_11_accuracy: 0.9871 - val_loss: 15.5544 - val_dense_1_loss: 14.7752 - val_dense_3_loss: 0.0835 - val_dense_5_loss: 0.0117 - val_dense_7_loss: 0.1899 - val_dense_9_loss: 0.3878 - val_dense_11_loss: 0.1063 - val_dense_1_accuracy: 0.0773 - val_dense_3_accuracy: 0.9948 - val_dense_5_accuracy: 0.9948 - val_dense_7_accuracy: 0.9588 - val_dense_9_accuracy: 0.9381 - val_dense_11_accuracy: 0.9845\n",
      "Epoch 143/200\n",
      "25/25 [==============================] - 1s 28ms/step - loss: 0.1964 - dense_1_loss: 0.0047 - dense_3_loss: 0.0229 - dense_5_loss: 0.0262 - dense_7_loss: 0.0307 - dense_9_loss: 0.0736 - dense_11_loss: 0.0382 - dense_1_accuracy: 0.9987 - dense_3_accuracy: 0.9936 - dense_5_accuracy: 0.9897 - dense_7_accuracy: 0.9871 - dense_9_accuracy: 0.9691 - dense_11_accuracy: 0.9858 - val_loss: 15.6233 - val_dense_1_loss: 14.8319 - val_dense_3_loss: 0.0831 - val_dense_5_loss: 6.1895e-04 - val_dense_7_loss: 0.2601 - val_dense_9_loss: 0.3382 - val_dense_11_loss: 0.1094 - val_dense_1_accuracy: 0.0773 - val_dense_3_accuracy: 0.9948 - val_dense_5_accuracy: 1.0000 - val_dense_7_accuracy: 0.9588 - val_dense_9_accuracy: 0.9381 - val_dense_11_accuracy: 0.9845\n"
     ]
    },
    {
     "name": "stdout",
     "output_type": "stream",
     "text": [
      "Epoch 144/200\n",
      "25/25 [==============================] - 1s 27ms/step - loss: 0.1584 - dense_1_loss: 0.0067 - dense_3_loss: 0.0202 - dense_5_loss: 0.0229 - dense_7_loss: 0.0244 - dense_9_loss: 0.0576 - dense_11_loss: 0.0266 - dense_1_accuracy: 0.9961 - dense_3_accuracy: 0.9910 - dense_5_accuracy: 0.9910 - dense_7_accuracy: 0.9936 - dense_9_accuracy: 0.9742 - dense_11_accuracy: 0.9923 - val_loss: 15.4368 - val_dense_1_loss: 14.5775 - val_dense_3_loss: 0.0831 - val_dense_5_loss: 8.7685e-05 - val_dense_7_loss: 0.2832 - val_dense_9_loss: 0.3649 - val_dense_11_loss: 0.1281 - val_dense_1_accuracy: 0.0773 - val_dense_3_accuracy: 0.9948 - val_dense_5_accuracy: 1.0000 - val_dense_7_accuracy: 0.9588 - val_dense_9_accuracy: 0.9227 - val_dense_11_accuracy: 0.9845\n",
      "Epoch 145/200\n",
      "25/25 [==============================] - 1s 27ms/step - loss: 0.1444 - dense_1_loss: 0.0081 - dense_3_loss: 0.0157 - dense_5_loss: 0.0230 - dense_7_loss: 0.0342 - dense_9_loss: 0.0472 - dense_11_loss: 0.0162 - dense_1_accuracy: 0.9974 - dense_3_accuracy: 0.9974 - dense_5_accuracy: 0.9936 - dense_7_accuracy: 0.9871 - dense_9_accuracy: 0.9807 - dense_11_accuracy: 0.9936 - val_loss: 15.3234 - val_dense_1_loss: 14.5409 - val_dense_3_loss: 0.0831 - val_dense_5_loss: 0.0226 - val_dense_7_loss: 0.2459 - val_dense_9_loss: 0.3482 - val_dense_11_loss: 0.0827 - val_dense_1_accuracy: 0.0773 - val_dense_3_accuracy: 0.9948 - val_dense_5_accuracy: 0.9948 - val_dense_7_accuracy: 0.9588 - val_dense_9_accuracy: 0.9485 - val_dense_11_accuracy: 0.9845\n",
      "Epoch 146/200\n",
      "25/25 [==============================] - 1s 28ms/step - loss: 0.1779 - dense_1_loss: 0.0186 - dense_3_loss: 0.0141 - dense_5_loss: 0.0467 - dense_7_loss: 0.0391 - dense_9_loss: 0.0467 - dense_11_loss: 0.0127 - dense_1_accuracy: 0.9961 - dense_3_accuracy: 0.9948 - dense_5_accuracy: 0.9807 - dense_7_accuracy: 0.9845 - dense_9_accuracy: 0.9807 - dense_11_accuracy: 0.9936 - val_loss: 15.4355 - val_dense_1_loss: 14.6356 - val_dense_3_loss: 0.0832 - val_dense_5_loss: 0.0028 - val_dense_7_loss: 0.2785 - val_dense_9_loss: 0.3232 - val_dense_11_loss: 0.1122 - val_dense_1_accuracy: 0.0773 - val_dense_3_accuracy: 0.9948 - val_dense_5_accuracy: 1.0000 - val_dense_7_accuracy: 0.9639 - val_dense_9_accuracy: 0.9381 - val_dense_11_accuracy: 0.9845\n",
      "Epoch 147/200\n",
      "25/25 [==============================] - 1s 27ms/step - loss: 0.1517 - dense_1_loss: 0.0073 - dense_3_loss: 0.0159 - dense_5_loss: 0.0226 - dense_7_loss: 0.0360 - dense_9_loss: 0.0489 - dense_11_loss: 0.0211 - dense_1_accuracy: 0.9987 - dense_3_accuracy: 0.9923 - dense_5_accuracy: 0.9910 - dense_7_accuracy: 0.9884 - dense_9_accuracy: 0.9832 - dense_11_accuracy: 0.9923 - val_loss: 15.8214 - val_dense_1_loss: 14.8719 - val_dense_3_loss: 0.0831 - val_dense_5_loss: 0.0053 - val_dense_7_loss: 0.2499 - val_dense_9_loss: 0.5297 - val_dense_11_loss: 0.0815 - val_dense_1_accuracy: 0.0773 - val_dense_3_accuracy: 0.9948 - val_dense_5_accuracy: 0.9948 - val_dense_7_accuracy: 0.9691 - val_dense_9_accuracy: 0.9278 - val_dense_11_accuracy: 0.9897\n",
      "Epoch 148/200\n",
      "25/25 [==============================] - 1s 27ms/step - loss: 0.1525 - dense_1_loss: 0.0043 - dense_3_loss: 0.0205 - dense_5_loss: 0.0410 - dense_7_loss: 0.0304 - dense_9_loss: 0.0510 - dense_11_loss: 0.0053 - dense_1_accuracy: 0.9987 - dense_3_accuracy: 0.9897 - dense_5_accuracy: 0.9820 - dense_7_accuracy: 0.9871 - dense_9_accuracy: 0.9794 - dense_11_accuracy: 0.9974 - val_loss: 15.5015 - val_dense_1_loss: 14.6208 - val_dense_3_loss: 0.0857 - val_dense_5_loss: 0.0040 - val_dense_7_loss: 0.2516 - val_dense_9_loss: 0.4500 - val_dense_11_loss: 0.0894 - val_dense_1_accuracy: 0.0773 - val_dense_3_accuracy: 0.9948 - val_dense_5_accuracy: 1.0000 - val_dense_7_accuracy: 0.9588 - val_dense_9_accuracy: 0.9381 - val_dense_11_accuracy: 0.9948\n",
      "Epoch 149/200\n",
      "25/25 [==============================] - 1s 27ms/step - loss: 0.1334 - dense_1_loss: 0.0110 - dense_3_loss: 0.0219 - dense_5_loss: 0.0298 - dense_7_loss: 0.0190 - dense_9_loss: 0.0404 - dense_11_loss: 0.0113 - dense_1_accuracy: 0.9961 - dense_3_accuracy: 0.9910 - dense_5_accuracy: 0.9910 - dense_7_accuracy: 0.9923 - dense_9_accuracy: 0.9897 - dense_11_accuracy: 0.9961 - val_loss: 15.7068 - val_dense_1_loss: 14.8175 - val_dense_3_loss: 0.0831 - val_dense_5_loss: 0.0061 - val_dense_7_loss: 0.2860 - val_dense_9_loss: 0.4305 - val_dense_11_loss: 0.0836 - val_dense_1_accuracy: 0.0773 - val_dense_3_accuracy: 0.9948 - val_dense_5_accuracy: 0.9948 - val_dense_7_accuracy: 0.9588 - val_dense_9_accuracy: 0.9330 - val_dense_11_accuracy: 0.9897\n",
      "Epoch 150/200\n",
      "25/25 [==============================] - 1s 27ms/step - loss: 0.1229 - dense_1_loss: 0.0116 - dense_3_loss: 0.0080 - dense_5_loss: 0.0253 - dense_7_loss: 0.0184 - dense_9_loss: 0.0423 - dense_11_loss: 0.0173 - dense_1_accuracy: 0.9974 - dense_3_accuracy: 0.9974 - dense_5_accuracy: 0.9897 - dense_7_accuracy: 0.9884 - dense_9_accuracy: 0.9807 - dense_11_accuracy: 0.9948 - val_loss: 15.6619 - val_dense_1_loss: 14.7717 - val_dense_3_loss: 0.0831 - val_dense_5_loss: 0.0098 - val_dense_7_loss: 0.3098 - val_dense_9_loss: 0.4245 - val_dense_11_loss: 0.0629 - val_dense_1_accuracy: 0.0773 - val_dense_3_accuracy: 0.9948 - val_dense_5_accuracy: 0.9948 - val_dense_7_accuracy: 0.9536 - val_dense_9_accuracy: 0.9227 - val_dense_11_accuracy: 0.9845\n",
      "Epoch 151/200\n",
      "25/25 [==============================] - 1s 28ms/step - loss: 0.1614 - dense_1_loss: 0.0019 - dense_3_loss: 0.0215 - dense_5_loss: 0.0329 - dense_7_loss: 0.0350 - dense_9_loss: 0.0509 - dense_11_loss: 0.0192 - dense_1_accuracy: 1.0000 - dense_3_accuracy: 0.9897 - dense_5_accuracy: 0.9884 - dense_7_accuracy: 0.9871 - dense_9_accuracy: 0.9807 - dense_11_accuracy: 0.9936 - val_loss: 14.7513 - val_dense_1_loss: 14.0163 - val_dense_3_loss: 0.0834 - val_dense_5_loss: 0.0158 - val_dense_7_loss: 0.1619 - val_dense_9_loss: 0.3992 - val_dense_11_loss: 0.0747 - val_dense_1_accuracy: 0.0773 - val_dense_3_accuracy: 0.9948 - val_dense_5_accuracy: 0.9948 - val_dense_7_accuracy: 0.9691 - val_dense_9_accuracy: 0.9330 - val_dense_11_accuracy: 0.9845\n",
      "Epoch 152/200\n",
      "25/25 [==============================] - 1s 28ms/step - loss: 0.1912 - dense_1_loss: 0.0201 - dense_3_loss: 0.0163 - dense_5_loss: 0.0239 - dense_7_loss: 0.0696 - dense_9_loss: 0.0295 - dense_11_loss: 0.0318 - dense_1_accuracy: 0.9974 - dense_3_accuracy: 0.9974 - dense_5_accuracy: 0.9910 - dense_7_accuracy: 0.9807 - dense_9_accuracy: 0.9858 - dense_11_accuracy: 0.9871 - val_loss: 15.0417 - val_dense_1_loss: 13.9714 - val_dense_3_loss: 0.0835 - val_dense_5_loss: 0.0244 - val_dense_7_loss: 0.2740 - val_dense_9_loss: 0.5238 - val_dense_11_loss: 0.1645 - val_dense_1_accuracy: 0.0773 - val_dense_3_accuracy: 0.9948 - val_dense_5_accuracy: 0.9948 - val_dense_7_accuracy: 0.9536 - val_dense_9_accuracy: 0.9278 - val_dense_11_accuracy: 0.9742\n",
      "Epoch 153/200\n",
      "25/25 [==============================] - 1s 27ms/step - loss: 0.1699 - dense_1_loss: 0.0047 - dense_3_loss: 0.0235 - dense_5_loss: 0.0335 - dense_7_loss: 0.0452 - dense_9_loss: 0.0443 - dense_11_loss: 0.0187 - dense_1_accuracy: 0.9987 - dense_3_accuracy: 0.9923 - dense_5_accuracy: 0.9871 - dense_7_accuracy: 0.9807 - dense_9_accuracy: 0.9858 - dense_11_accuracy: 0.9948 - val_loss: 15.6686 - val_dense_1_loss: 14.7250 - val_dense_3_loss: 0.0831 - val_dense_5_loss: 0.0099 - val_dense_7_loss: 0.2863 - val_dense_9_loss: 0.4753 - val_dense_11_loss: 0.0890 - val_dense_1_accuracy: 0.0773 - val_dense_3_accuracy: 0.9948 - val_dense_5_accuracy: 0.9948 - val_dense_7_accuracy: 0.9639 - val_dense_9_accuracy: 0.9381 - val_dense_11_accuracy: 0.9845\n",
      "Epoch 154/200\n",
      "25/25 [==============================] - 1s 28ms/step - loss: 0.1658 - dense_1_loss: 0.0050 - dense_3_loss: 0.0258 - dense_5_loss: 0.0324 - dense_7_loss: 0.0499 - dense_9_loss: 0.0363 - dense_11_loss: 0.0163 - dense_1_accuracy: 0.9987 - dense_3_accuracy: 0.9897 - dense_5_accuracy: 0.9871 - dense_7_accuracy: 0.9858 - dense_9_accuracy: 0.9832 - dense_11_accuracy: 0.9961 - val_loss: 15.1709 - val_dense_1_loss: 14.2777 - val_dense_3_loss: 0.0831 - val_dense_5_loss: 0.0013 - val_dense_7_loss: 0.2274 - val_dense_9_loss: 0.5075 - val_dense_11_loss: 0.0739 - val_dense_1_accuracy: 0.0773 - val_dense_3_accuracy: 0.9948 - val_dense_5_accuracy: 1.0000 - val_dense_7_accuracy: 0.9433 - val_dense_9_accuracy: 0.9381 - val_dense_11_accuracy: 0.9845\n"
     ]
    },
    {
     "name": "stdout",
     "output_type": "stream",
     "text": [
      "Epoch 155/200\n",
      "25/25 [==============================] - 1s 27ms/step - loss: 0.1684 - dense_1_loss: 0.0084 - dense_3_loss: 0.0436 - dense_5_loss: 0.0238 - dense_7_loss: 0.0282 - dense_9_loss: 0.0477 - dense_11_loss: 0.0167 - dense_1_accuracy: 0.9961 - dense_3_accuracy: 0.9820 - dense_5_accuracy: 0.9871 - dense_7_accuracy: 0.9884 - dense_9_accuracy: 0.9820 - dense_11_accuracy: 0.9936 - val_loss: 15.1310 - val_dense_1_loss: 14.3650 - val_dense_3_loss: 0.0831 - val_dense_5_loss: 9.9983e-04 - val_dense_7_loss: 0.2280 - val_dense_9_loss: 0.3731 - val_dense_11_loss: 0.0808 - val_dense_1_accuracy: 0.0773 - val_dense_3_accuracy: 0.9948 - val_dense_5_accuracy: 1.0000 - val_dense_7_accuracy: 0.9485 - val_dense_9_accuracy: 0.9485 - val_dense_11_accuracy: 0.9845\n",
      "Epoch 156/200\n",
      "25/25 [==============================] - 1s 27ms/step - loss: 0.1719 - dense_1_loss: 0.0089 - dense_3_loss: 0.0245 - dense_5_loss: 0.0403 - dense_7_loss: 0.0437 - dense_9_loss: 0.0382 - dense_11_loss: 0.0163 - dense_1_accuracy: 0.9974 - dense_3_accuracy: 0.9936 - dense_5_accuracy: 0.9871 - dense_7_accuracy: 0.9871 - dense_9_accuracy: 0.9871 - dense_11_accuracy: 0.9923 - val_loss: 15.4406 - val_dense_1_loss: 14.6746 - val_dense_3_loss: 0.0831 - val_dense_5_loss: 0.0141 - val_dense_7_loss: 0.2181 - val_dense_9_loss: 0.3742 - val_dense_11_loss: 0.0764 - val_dense_1_accuracy: 0.0773 - val_dense_3_accuracy: 0.9948 - val_dense_5_accuracy: 0.9897 - val_dense_7_accuracy: 0.9588 - val_dense_9_accuracy: 0.9433 - val_dense_11_accuracy: 0.9897\n",
      "Epoch 157/200\n",
      "25/25 [==============================] - 1s 27ms/step - loss: 0.1694 - dense_1_loss: 0.0109 - dense_3_loss: 0.0194 - dense_5_loss: 0.0274 - dense_7_loss: 0.0372 - dense_9_loss: 0.0438 - dense_11_loss: 0.0308 - dense_1_accuracy: 0.9961 - dense_3_accuracy: 0.9897 - dense_5_accuracy: 0.9897 - dense_7_accuracy: 0.9884 - dense_9_accuracy: 0.9794 - dense_11_accuracy: 0.9884 - val_loss: 15.3722 - val_dense_1_loss: 14.4805 - val_dense_3_loss: 0.0981 - val_dense_5_loss: 0.0023 - val_dense_7_loss: 0.2786 - val_dense_9_loss: 0.4183 - val_dense_11_loss: 0.0943 - val_dense_1_accuracy: 0.0773 - val_dense_3_accuracy: 0.9845 - val_dense_5_accuracy: 1.0000 - val_dense_7_accuracy: 0.9485 - val_dense_9_accuracy: 0.9485 - val_dense_11_accuracy: 0.9845\n",
      "Epoch 158/200\n",
      "25/25 [==============================] - 1s 27ms/step - loss: 0.1556 - dense_1_loss: 0.0094 - dense_3_loss: 0.0346 - dense_5_loss: 0.0327 - dense_7_loss: 0.0449 - dense_9_loss: 0.0258 - dense_11_loss: 0.0081 - dense_1_accuracy: 0.9961 - dense_3_accuracy: 0.9884 - dense_5_accuracy: 0.9845 - dense_7_accuracy: 0.9807 - dense_9_accuracy: 0.9884 - dense_11_accuracy: 0.9974 - val_loss: 14.9709 - val_dense_1_loss: 14.2339 - val_dense_3_loss: 0.0832 - val_dense_5_loss: 0.0072 - val_dense_7_loss: 0.1653 - val_dense_9_loss: 0.3897 - val_dense_11_loss: 0.0917 - val_dense_1_accuracy: 0.0773 - val_dense_3_accuracy: 0.9948 - val_dense_5_accuracy: 0.9948 - val_dense_7_accuracy: 0.9639 - val_dense_9_accuracy: 0.9536 - val_dense_11_accuracy: 0.9845\n",
      "Epoch 159/200\n",
      "25/25 [==============================] - 1s 27ms/step - loss: 0.1338 - dense_1_loss: 0.0091 - dense_3_loss: 0.0129 - dense_5_loss: 0.0457 - dense_7_loss: 0.0173 - dense_9_loss: 0.0350 - dense_11_loss: 0.0137 - dense_1_accuracy: 0.9936 - dense_3_accuracy: 0.9948 - dense_5_accuracy: 0.9755 - dense_7_accuracy: 0.9910 - dense_9_accuracy: 0.9884 - dense_11_accuracy: 0.9961 - val_loss: 15.1393 - val_dense_1_loss: 14.2613 - val_dense_3_loss: 0.0841 - val_dense_5_loss: 0.0181 - val_dense_7_loss: 0.1820 - val_dense_9_loss: 0.5212 - val_dense_11_loss: 0.0727 - val_dense_1_accuracy: 0.0773 - val_dense_3_accuracy: 0.9948 - val_dense_5_accuracy: 0.9897 - val_dense_7_accuracy: 0.9588 - val_dense_9_accuracy: 0.9330 - val_dense_11_accuracy: 0.9897\n",
      "Epoch 160/200\n",
      "25/25 [==============================] - 1s 27ms/step - loss: 0.1413 - dense_1_loss: 0.0075 - dense_3_loss: 0.0183 - dense_5_loss: 0.0533 - dense_7_loss: 0.0161 - dense_9_loss: 0.0327 - dense_11_loss: 0.0134 - dense_1_accuracy: 0.9987 - dense_3_accuracy: 0.9923 - dense_5_accuracy: 0.9794 - dense_7_accuracy: 0.9936 - dense_9_accuracy: 0.9845 - dense_11_accuracy: 0.9961 - val_loss: 15.3319 - val_dense_1_loss: 14.4507 - val_dense_3_loss: 0.0832 - val_dense_5_loss: 1.3340e-04 - val_dense_7_loss: 0.1891 - val_dense_9_loss: 0.4827 - val_dense_11_loss: 0.1261 - val_dense_1_accuracy: 0.0773 - val_dense_3_accuracy: 0.9948 - val_dense_5_accuracy: 1.0000 - val_dense_7_accuracy: 0.9639 - val_dense_9_accuracy: 0.9433 - val_dense_11_accuracy: 0.9794\n",
      "Epoch 161/200\n",
      "25/25 [==============================] - 1s 27ms/step - loss: 0.1282 - dense_1_loss: 0.0122 - dense_3_loss: 0.0127 - dense_5_loss: 0.0177 - dense_7_loss: 0.0177 - dense_9_loss: 0.0602 - dense_11_loss: 0.0078 - dense_1_accuracy: 0.9936 - dense_3_accuracy: 0.9961 - dense_5_accuracy: 0.9936 - dense_7_accuracy: 0.9923 - dense_9_accuracy: 0.9781 - dense_11_accuracy: 0.9974 - val_loss: 15.2581 - val_dense_1_loss: 14.3831 - val_dense_3_loss: 0.0831 - val_dense_5_loss: 5.1387e-04 - val_dense_7_loss: 0.1489 - val_dense_9_loss: 0.5122 - val_dense_11_loss: 0.1303 - val_dense_1_accuracy: 0.0773 - val_dense_3_accuracy: 0.9948 - val_dense_5_accuracy: 1.0000 - val_dense_7_accuracy: 0.9742 - val_dense_9_accuracy: 0.9330 - val_dense_11_accuracy: 0.9794\n",
      "Epoch 162/200\n",
      "25/25 [==============================] - 1s 27ms/step - loss: 0.1466 - dense_1_loss: 0.0029 - dense_3_loss: 0.0208 - dense_5_loss: 0.0369 - dense_7_loss: 0.0321 - dense_9_loss: 0.0389 - dense_11_loss: 0.0149 - dense_1_accuracy: 1.0000 - dense_3_accuracy: 0.9897 - dense_5_accuracy: 0.9845 - dense_7_accuracy: 0.9858 - dense_9_accuracy: 0.9845 - dense_11_accuracy: 0.9923 - val_loss: 15.2468 - val_dense_1_loss: 14.4548 - val_dense_3_loss: 0.0831 - val_dense_5_loss: 0.0026 - val_dense_7_loss: 0.1463 - val_dense_9_loss: 0.4563 - val_dense_11_loss: 0.1037 - val_dense_1_accuracy: 0.0773 - val_dense_3_accuracy: 0.9948 - val_dense_5_accuracy: 1.0000 - val_dense_7_accuracy: 0.9691 - val_dense_9_accuracy: 0.9381 - val_dense_11_accuracy: 0.9845\n",
      "Epoch 163/200\n",
      "25/25 [==============================] - 1s 27ms/step - loss: 0.1441 - dense_1_loss: 0.0130 - dense_3_loss: 0.0169 - dense_5_loss: 0.0509 - dense_7_loss: 0.0198 - dense_9_loss: 0.0301 - dense_11_loss: 0.0133 - dense_1_accuracy: 0.9974 - dense_3_accuracy: 0.9948 - dense_5_accuracy: 0.9832 - dense_7_accuracy: 0.9910 - dense_9_accuracy: 0.9884 - dense_11_accuracy: 0.9948 - val_loss: 15.1820 - val_dense_1_loss: 14.3802 - val_dense_3_loss: 0.0833 - val_dense_5_loss: 0.0166 - val_dense_7_loss: 0.1673 - val_dense_9_loss: 0.4383 - val_dense_11_loss: 0.0962 - val_dense_1_accuracy: 0.0773 - val_dense_3_accuracy: 0.9948 - val_dense_5_accuracy: 0.9948 - val_dense_7_accuracy: 0.9588 - val_dense_9_accuracy: 0.9330 - val_dense_11_accuracy: 0.9897\n",
      "Epoch 164/200\n",
      "25/25 [==============================] - 1s 27ms/step - loss: 0.1318 - dense_1_loss: 0.0138 - dense_3_loss: 0.0156 - dense_5_loss: 0.0171 - dense_7_loss: 0.0263 - dense_9_loss: 0.0381 - dense_11_loss: 0.0210 - dense_1_accuracy: 0.9948 - dense_3_accuracy: 0.9974 - dense_5_accuracy: 0.9948 - dense_7_accuracy: 0.9871 - dense_9_accuracy: 0.9820 - dense_11_accuracy: 0.9910 - val_loss: 15.4522 - val_dense_1_loss: 14.6072 - val_dense_3_loss: 0.0844 - val_dense_5_loss: 0.0275 - val_dense_7_loss: 0.2011 - val_dense_9_loss: 0.4258 - val_dense_11_loss: 0.1063 - val_dense_1_accuracy: 0.0773 - val_dense_3_accuracy: 0.9948 - val_dense_5_accuracy: 0.9948 - val_dense_7_accuracy: 0.9639 - val_dense_9_accuracy: 0.9536 - val_dense_11_accuracy: 0.9845\n",
      "Epoch 165/200\n",
      "25/25 [==============================] - 1s 27ms/step - loss: 0.1152 - dense_1_loss: 0.0048 - dense_3_loss: 0.0059 - dense_5_loss: 0.0334 - dense_7_loss: 0.0258 - dense_9_loss: 0.0369 - dense_11_loss: 0.0084 - dense_1_accuracy: 0.9961 - dense_3_accuracy: 1.0000 - dense_5_accuracy: 0.9871 - dense_7_accuracy: 0.9910 - dense_9_accuracy: 0.9884 - dense_11_accuracy: 0.9974 - val_loss: 15.1421 - val_dense_1_loss: 14.4145 - val_dense_3_loss: 0.0831 - val_dense_5_loss: 0.0387 - val_dense_7_loss: 0.1596 - val_dense_9_loss: 0.3423 - val_dense_11_loss: 0.1039 - val_dense_1_accuracy: 0.0773 - val_dense_3_accuracy: 0.9948 - val_dense_5_accuracy: 0.9897 - val_dense_7_accuracy: 0.9639 - val_dense_9_accuracy: 0.9330 - val_dense_11_accuracy: 0.9845\n"
     ]
    },
    {
     "name": "stdout",
     "output_type": "stream",
     "text": [
      "Epoch 166/200\n",
      "25/25 [==============================] - 1s 27ms/step - loss: 0.1378 - dense_1_loss: 0.0079 - dense_3_loss: 0.0070 - dense_5_loss: 0.0297 - dense_7_loss: 0.0363 - dense_9_loss: 0.0354 - dense_11_loss: 0.0216 - dense_1_accuracy: 1.0000 - dense_3_accuracy: 0.9987 - dense_5_accuracy: 0.9871 - dense_7_accuracy: 0.9858 - dense_9_accuracy: 0.9845 - dense_11_accuracy: 0.9910 - val_loss: 15.2536 - val_dense_1_loss: 14.5441 - val_dense_3_loss: 0.0831 - val_dense_5_loss: 7.3999e-04 - val_dense_7_loss: 0.1525 - val_dense_9_loss: 0.3662 - val_dense_11_loss: 0.1069 - val_dense_1_accuracy: 0.0773 - val_dense_3_accuracy: 0.9948 - val_dense_5_accuracy: 1.0000 - val_dense_7_accuracy: 0.9639 - val_dense_9_accuracy: 0.9433 - val_dense_11_accuracy: 0.9845\n",
      "Epoch 167/200\n",
      "25/25 [==============================] - 1s 27ms/step - loss: 0.1202 - dense_1_loss: 0.0055 - dense_3_loss: 0.0215 - dense_5_loss: 0.0258 - dense_7_loss: 0.0196 - dense_9_loss: 0.0387 - dense_11_loss: 0.0091 - dense_1_accuracy: 0.9974 - dense_3_accuracy: 0.9923 - dense_5_accuracy: 0.9897 - dense_7_accuracy: 0.9923 - dense_9_accuracy: 0.9832 - dense_11_accuracy: 0.9974 - val_loss: 15.4397 - val_dense_1_loss: 14.7310 - val_dense_3_loss: 0.0831 - val_dense_5_loss: 0.0042 - val_dense_7_loss: 0.1913 - val_dense_9_loss: 0.2855 - val_dense_11_loss: 0.1446 - val_dense_1_accuracy: 0.0773 - val_dense_3_accuracy: 0.9948 - val_dense_5_accuracy: 1.0000 - val_dense_7_accuracy: 0.9639 - val_dense_9_accuracy: 0.9536 - val_dense_11_accuracy: 0.9794\n",
      "Epoch 168/200\n",
      "25/25 [==============================] - 1s 27ms/step - loss: 0.1887 - dense_1_loss: 0.0034 - dense_3_loss: 0.0453 - dense_5_loss: 0.0223 - dense_7_loss: 0.0305 - dense_9_loss: 0.0544 - dense_11_loss: 0.0327 - dense_1_accuracy: 0.9987 - dense_3_accuracy: 0.9845 - dense_5_accuracy: 0.9910 - dense_7_accuracy: 0.9871 - dense_9_accuracy: 0.9807 - dense_11_accuracy: 0.9910 - val_loss: 15.4696 - val_dense_1_loss: 14.7073 - val_dense_3_loss: 0.0831 - val_dense_5_loss: 0.0032 - val_dense_7_loss: 0.2254 - val_dense_9_loss: 0.3552 - val_dense_11_loss: 0.0954 - val_dense_1_accuracy: 0.0773 - val_dense_3_accuracy: 0.9948 - val_dense_5_accuracy: 1.0000 - val_dense_7_accuracy: 0.9588 - val_dense_9_accuracy: 0.9536 - val_dense_11_accuracy: 0.9845\n",
      "Epoch 169/200\n",
      "25/25 [==============================] - 1s 27ms/step - loss: 0.1938 - dense_1_loss: 0.0152 - dense_3_loss: 0.0329 - dense_5_loss: 0.0454 - dense_7_loss: 0.0334 - dense_9_loss: 0.0440 - dense_11_loss: 0.0230 - dense_1_accuracy: 0.9936 - dense_3_accuracy: 0.9897 - dense_5_accuracy: 0.9807 - dense_7_accuracy: 0.9858 - dense_9_accuracy: 0.9871 - dense_11_accuracy: 0.9936 - val_loss: 15.4597 - val_dense_1_loss: 14.6906 - val_dense_3_loss: 0.0839 - val_dense_5_loss: 4.2564e-04 - val_dense_7_loss: 0.2092 - val_dense_9_loss: 0.4308 - val_dense_11_loss: 0.0448 - val_dense_1_accuracy: 0.0773 - val_dense_3_accuracy: 0.9948 - val_dense_5_accuracy: 1.0000 - val_dense_7_accuracy: 0.9588 - val_dense_9_accuracy: 0.9588 - val_dense_11_accuracy: 0.9845\n",
      "Epoch 170/200\n",
      "25/25 [==============================] - 1s 28ms/step - loss: 0.1662 - dense_1_loss: 0.0099 - dense_3_loss: 0.0241 - dense_5_loss: 0.0473 - dense_7_loss: 0.0257 - dense_9_loss: 0.0417 - dense_11_loss: 0.0175 - dense_1_accuracy: 0.9961 - dense_3_accuracy: 0.9897 - dense_5_accuracy: 0.9832 - dense_7_accuracy: 0.9923 - dense_9_accuracy: 0.9820 - dense_11_accuracy: 0.9923 - val_loss: 15.7294 - val_dense_1_loss: 14.7512 - val_dense_3_loss: 0.0831 - val_dense_5_loss: 0.0235 - val_dense_7_loss: 0.3422 - val_dense_9_loss: 0.4296 - val_dense_11_loss: 0.0997 - val_dense_1_accuracy: 0.0773 - val_dense_3_accuracy: 0.9948 - val_dense_5_accuracy: 0.9897 - val_dense_7_accuracy: 0.9536 - val_dense_9_accuracy: 0.9485 - val_dense_11_accuracy: 0.9845\n",
      "Epoch 171/200\n",
      "25/25 [==============================] - 1s 28ms/step - loss: 0.1387 - dense_1_loss: 0.0018 - dense_3_loss: 0.0221 - dense_5_loss: 0.0260 - dense_7_loss: 0.0184 - dense_9_loss: 0.0491 - dense_11_loss: 0.0213 - dense_1_accuracy: 1.0000 - dense_3_accuracy: 0.9923 - dense_5_accuracy: 0.9884 - dense_7_accuracy: 0.9948 - dense_9_accuracy: 0.9807 - dense_11_accuracy: 0.9936 - val_loss: 15.5389 - val_dense_1_loss: 14.6750 - val_dense_3_loss: 0.0833 - val_dense_5_loss: 0.0045 - val_dense_7_loss: 0.2188 - val_dense_9_loss: 0.4018 - val_dense_11_loss: 0.1555 - val_dense_1_accuracy: 0.0773 - val_dense_3_accuracy: 0.9948 - val_dense_5_accuracy: 1.0000 - val_dense_7_accuracy: 0.9536 - val_dense_9_accuracy: 0.9433 - val_dense_11_accuracy: 0.9794\n",
      "Epoch 172/200\n",
      "25/25 [==============================] - 1s 28ms/step - loss: 0.1505 - dense_1_loss: 0.0037 - dense_3_loss: 0.0175 - dense_5_loss: 0.0344 - dense_7_loss: 0.0374 - dense_9_loss: 0.0354 - dense_11_loss: 0.0221 - dense_1_accuracy: 0.9987 - dense_3_accuracy: 0.9948 - dense_5_accuracy: 0.9871 - dense_7_accuracy: 0.9845 - dense_9_accuracy: 0.9897 - dense_11_accuracy: 0.9961 - val_loss: 15.5578 - val_dense_1_loss: 14.7132 - val_dense_3_loss: 0.0853 - val_dense_5_loss: 0.0066 - val_dense_7_loss: 0.3340 - val_dense_9_loss: 0.3485 - val_dense_11_loss: 0.0701 - val_dense_1_accuracy: 0.0773 - val_dense_3_accuracy: 0.9948 - val_dense_5_accuracy: 0.9948 - val_dense_7_accuracy: 0.9485 - val_dense_9_accuracy: 0.9485 - val_dense_11_accuracy: 0.9794\n",
      "Epoch 173/200\n",
      "25/25 [==============================] - 1s 27ms/step - loss: 0.1105 - dense_1_loss: 0.0027 - dense_3_loss: 0.0161 - dense_5_loss: 0.0275 - dense_7_loss: 0.0135 - dense_9_loss: 0.0309 - dense_11_loss: 0.0199 - dense_1_accuracy: 0.9987 - dense_3_accuracy: 0.9961 - dense_5_accuracy: 0.9884 - dense_7_accuracy: 0.9948 - dense_9_accuracy: 0.9884 - dense_11_accuracy: 0.9923 - val_loss: 15.3237 - val_dense_1_loss: 14.4989 - val_dense_3_loss: 0.0831 - val_dense_5_loss: 0.0050 - val_dense_7_loss: 0.2352 - val_dense_9_loss: 0.4132 - val_dense_11_loss: 0.0883 - val_dense_1_accuracy: 0.0773 - val_dense_3_accuracy: 0.9948 - val_dense_5_accuracy: 0.9948 - val_dense_7_accuracy: 0.9485 - val_dense_9_accuracy: 0.9485 - val_dense_11_accuracy: 0.9845\n",
      "Epoch 174/200\n",
      "25/25 [==============================] - 1s 27ms/step - loss: 0.1322 - dense_1_loss: 0.0031 - dense_3_loss: 0.0122 - dense_5_loss: 0.0179 - dense_7_loss: 0.0208 - dense_9_loss: 0.0573 - dense_11_loss: 0.0208 - dense_1_accuracy: 1.0000 - dense_3_accuracy: 0.9961 - dense_5_accuracy: 0.9948 - dense_7_accuracy: 0.9923 - dense_9_accuracy: 0.9742 - dense_11_accuracy: 0.9936 - val_loss: 15.1207 - val_dense_1_loss: 14.2676 - val_dense_3_loss: 0.0833 - val_dense_5_loss: 0.0120 - val_dense_7_loss: 0.1619 - val_dense_9_loss: 0.4746 - val_dense_11_loss: 0.1214 - val_dense_1_accuracy: 0.0773 - val_dense_3_accuracy: 0.9948 - val_dense_5_accuracy: 0.9948 - val_dense_7_accuracy: 0.9536 - val_dense_9_accuracy: 0.9381 - val_dense_11_accuracy: 0.9845\n",
      "Epoch 175/200\n",
      "25/25 [==============================] - 1s 27ms/step - loss: 0.1405 - dense_1_loss: 0.0133 - dense_3_loss: 0.0176 - dense_5_loss: 0.0369 - dense_7_loss: 0.0259 - dense_9_loss: 0.0334 - dense_11_loss: 0.0134 - dense_1_accuracy: 0.9974 - dense_3_accuracy: 0.9961 - dense_5_accuracy: 0.9884 - dense_7_accuracy: 0.9923 - dense_9_accuracy: 0.9871 - dense_11_accuracy: 0.9936 - val_loss: 15.6905 - val_dense_1_loss: 14.7460 - val_dense_3_loss: 0.0989 - val_dense_5_loss: 0.0041 - val_dense_7_loss: 0.2171 - val_dense_9_loss: 0.5246 - val_dense_11_loss: 0.0998 - val_dense_1_accuracy: 0.0773 - val_dense_3_accuracy: 0.9897 - val_dense_5_accuracy: 0.9948 - val_dense_7_accuracy: 0.9639 - val_dense_9_accuracy: 0.9330 - val_dense_11_accuracy: 0.9845\n",
      "Epoch 176/200\n",
      "25/25 [==============================] - 1s 29ms/step - loss: 0.1268 - dense_1_loss: 0.0138 - dense_3_loss: 0.0136 - dense_5_loss: 0.0128 - dense_7_loss: 0.0244 - dense_9_loss: 0.0423 - dense_11_loss: 0.0199 - dense_1_accuracy: 0.9961 - dense_3_accuracy: 0.9923 - dense_5_accuracy: 0.9936 - dense_7_accuracy: 0.9910 - dense_9_accuracy: 0.9845 - dense_11_accuracy: 0.9948 - val_loss: 15.8452 - val_dense_1_loss: 14.7393 - val_dense_3_loss: 0.1214 - val_dense_5_loss: 0.0245 - val_dense_7_loss: 0.2915 - val_dense_9_loss: 0.5548 - val_dense_11_loss: 0.1137 - val_dense_1_accuracy: 0.0773 - val_dense_3_accuracy: 0.9897 - val_dense_5_accuracy: 0.9948 - val_dense_7_accuracy: 0.9588 - val_dense_9_accuracy: 0.9381 - val_dense_11_accuracy: 0.9845\n"
     ]
    },
    {
     "name": "stdout",
     "output_type": "stream",
     "text": [
      "Epoch 177/200\n",
      "25/25 [==============================] - 1s 28ms/step - loss: 0.1451 - dense_1_loss: 0.0052 - dense_3_loss: 0.0064 - dense_5_loss: 0.0232 - dense_7_loss: 0.0258 - dense_9_loss: 0.0500 - dense_11_loss: 0.0345 - dense_1_accuracy: 0.9974 - dense_3_accuracy: 0.9987 - dense_5_accuracy: 0.9910 - dense_7_accuracy: 0.9897 - dense_9_accuracy: 0.9820 - dense_11_accuracy: 0.9871 - val_loss: 15.5225 - val_dense_1_loss: 14.6650 - val_dense_3_loss: 0.0916 - val_dense_5_loss: 3.5056e-04 - val_dense_7_loss: 0.1928 - val_dense_9_loss: 0.4569 - val_dense_11_loss: 0.1159 - val_dense_1_accuracy: 0.0773 - val_dense_3_accuracy: 0.9897 - val_dense_5_accuracy: 1.0000 - val_dense_7_accuracy: 0.9485 - val_dense_9_accuracy: 0.9485 - val_dense_11_accuracy: 0.9845\n",
      "Epoch 178/200\n",
      "25/25 [==============================] - 1s 27ms/step - loss: 0.1594 - dense_1_loss: 0.0044 - dense_3_loss: 0.0216 - dense_5_loss: 0.0281 - dense_7_loss: 0.0398 - dense_9_loss: 0.0393 - dense_11_loss: 0.0261 - dense_1_accuracy: 0.9987 - dense_3_accuracy: 0.9884 - dense_5_accuracy: 0.9923 - dense_7_accuracy: 0.9845 - dense_9_accuracy: 0.9820 - dense_11_accuracy: 0.9897 - val_loss: 15.8350 - val_dense_1_loss: 14.7610 - val_dense_3_loss: 0.0831 - val_dense_5_loss: 0.0096 - val_dense_7_loss: 0.2868 - val_dense_9_loss: 0.5005 - val_dense_11_loss: 0.1940 - val_dense_1_accuracy: 0.0773 - val_dense_3_accuracy: 0.9948 - val_dense_5_accuracy: 0.9948 - val_dense_7_accuracy: 0.9588 - val_dense_9_accuracy: 0.9381 - val_dense_11_accuracy: 0.9742\n",
      "Epoch 179/200\n",
      "25/25 [==============================] - 1s 27ms/step - loss: 0.1201 - dense_1_loss: 0.0035 - dense_3_loss: 0.0242 - dense_5_loss: 0.0141 - dense_7_loss: 0.0275 - dense_9_loss: 0.0335 - dense_11_loss: 0.0173 - dense_1_accuracy: 0.9987 - dense_3_accuracy: 0.9936 - dense_5_accuracy: 0.9961 - dense_7_accuracy: 0.9923 - dense_9_accuracy: 0.9845 - dense_11_accuracy: 0.9936 - val_loss: 15.6246 - val_dense_1_loss: 14.6783 - val_dense_3_loss: 0.0960 - val_dense_5_loss: 0.0150 - val_dense_7_loss: 0.2294 - val_dense_9_loss: 0.4342 - val_dense_11_loss: 0.1716 - val_dense_1_accuracy: 0.0773 - val_dense_3_accuracy: 0.9897 - val_dense_5_accuracy: 0.9948 - val_dense_7_accuracy: 0.9639 - val_dense_9_accuracy: 0.9381 - val_dense_11_accuracy: 0.9691\n",
      "Epoch 180/200\n",
      "25/25 [==============================] - 1s 27ms/step - loss: 0.1380 - dense_1_loss: 0.0033 - dense_3_loss: 0.0172 - dense_5_loss: 0.0266 - dense_7_loss: 0.0209 - dense_9_loss: 0.0446 - dense_11_loss: 0.0254 - dense_1_accuracy: 1.0000 - dense_3_accuracy: 0.9923 - dense_5_accuracy: 0.9884 - dense_7_accuracy: 0.9936 - dense_9_accuracy: 0.9871 - dense_11_accuracy: 0.9910 - val_loss: 15.6649 - val_dense_1_loss: 14.8466 - val_dense_3_loss: 0.0833 - val_dense_5_loss: 0.0149 - val_dense_7_loss: 0.2079 - val_dense_9_loss: 0.4758 - val_dense_11_loss: 0.0364 - val_dense_1_accuracy: 0.0773 - val_dense_3_accuracy: 0.9948 - val_dense_5_accuracy: 0.9948 - val_dense_7_accuracy: 0.9639 - val_dense_9_accuracy: 0.9485 - val_dense_11_accuracy: 0.9845\n",
      "Epoch 181/200\n",
      "25/25 [==============================] - 1s 27ms/step - loss: 0.1453 - dense_1_loss: 0.0104 - dense_3_loss: 0.0328 - dense_5_loss: 0.0142 - dense_7_loss: 0.0374 - dense_9_loss: 0.0321 - dense_11_loss: 0.0184 - dense_1_accuracy: 0.9961 - dense_3_accuracy: 0.9871 - dense_5_accuracy: 0.9936 - dense_7_accuracy: 0.9897 - dense_9_accuracy: 0.9871 - dense_11_accuracy: 0.9923 - val_loss: 15.6133 - val_dense_1_loss: 14.8463 - val_dense_3_loss: 0.0833 - val_dense_5_loss: 4.0071e-04 - val_dense_7_loss: 0.1471 - val_dense_9_loss: 0.4967 - val_dense_11_loss: 0.0394 - val_dense_1_accuracy: 0.0773 - val_dense_3_accuracy: 0.9948 - val_dense_5_accuracy: 1.0000 - val_dense_7_accuracy: 0.9742 - val_dense_9_accuracy: 0.9330 - val_dense_11_accuracy: 0.9897\n",
      "Epoch 182/200\n",
      "25/25 [==============================] - 1s 27ms/step - loss: 0.1598 - dense_1_loss: 0.0126 - dense_3_loss: 0.0167 - dense_5_loss: 0.0315 - dense_7_loss: 0.0334 - dense_9_loss: 0.0285 - dense_11_loss: 0.0371 - dense_1_accuracy: 0.9961 - dense_3_accuracy: 0.9910 - dense_5_accuracy: 0.9884 - dense_7_accuracy: 0.9832 - dense_9_accuracy: 0.9910 - dense_11_accuracy: 0.9897 - val_loss: 15.6361 - val_dense_1_loss: 14.8166 - val_dense_3_loss: 0.0928 - val_dense_5_loss: 0.0041 - val_dense_7_loss: 0.1670 - val_dense_9_loss: 0.5405 - val_dense_11_loss: 0.0152 - val_dense_1_accuracy: 0.0773 - val_dense_3_accuracy: 0.9897 - val_dense_5_accuracy: 0.9948 - val_dense_7_accuracy: 0.9588 - val_dense_9_accuracy: 0.9330 - val_dense_11_accuracy: 0.9897\n",
      "Epoch 183/200\n",
      "25/25 [==============================] - 1s 27ms/step - loss: 0.0958 - dense_1_loss: 0.0040 - dense_3_loss: 0.0195 - dense_5_loss: 0.0153 - dense_7_loss: 0.0185 - dense_9_loss: 0.0260 - dense_11_loss: 0.0126 - dense_1_accuracy: 0.9974 - dense_3_accuracy: 0.9910 - dense_5_accuracy: 0.9936 - dense_7_accuracy: 0.9923 - dense_9_accuracy: 0.9910 - dense_11_accuracy: 0.9987 - val_loss: 15.6320 - val_dense_1_loss: 14.8026 - val_dense_3_loss: 0.0831 - val_dense_5_loss: 6.6142e-05 - val_dense_7_loss: 0.1576 - val_dense_9_loss: 0.5658 - val_dense_11_loss: 0.0229 - val_dense_1_accuracy: 0.0773 - val_dense_3_accuracy: 0.9948 - val_dense_5_accuracy: 1.0000 - val_dense_7_accuracy: 0.9639 - val_dense_9_accuracy: 0.9485 - val_dense_11_accuracy: 0.9897\n",
      "Epoch 184/200\n",
      "25/25 [==============================] - 1s 27ms/step - loss: 0.1437 - dense_1_loss: 0.0031 - dense_3_loss: 0.0188 - dense_5_loss: 0.0194 - dense_7_loss: 0.0291 - dense_9_loss: 0.0559 - dense_11_loss: 0.0174 - dense_1_accuracy: 0.9987 - dense_3_accuracy: 0.9884 - dense_5_accuracy: 0.9910 - dense_7_accuracy: 0.9858 - dense_9_accuracy: 0.9807 - dense_11_accuracy: 0.9948 - val_loss: 15.7477 - val_dense_1_loss: 14.8566 - val_dense_3_loss: 0.0831 - val_dense_5_loss: 0.0020 - val_dense_7_loss: 0.1932 - val_dense_9_loss: 0.5538 - val_dense_11_loss: 0.0589 - val_dense_1_accuracy: 0.0773 - val_dense_3_accuracy: 0.9948 - val_dense_5_accuracy: 1.0000 - val_dense_7_accuracy: 0.9691 - val_dense_9_accuracy: 0.9330 - val_dense_11_accuracy: 0.9897\n",
      "Epoch 185/200\n",
      "25/25 [==============================] - 1s 27ms/step - loss: 0.1364 - dense_1_loss: 5.6343e-04 - dense_3_loss: 0.0133 - dense_5_loss: 0.0251 - dense_7_loss: 0.0275 - dense_9_loss: 0.0505 - dense_11_loss: 0.0195 - dense_1_accuracy: 1.0000 - dense_3_accuracy: 0.9948 - dense_5_accuracy: 0.9910 - dense_7_accuracy: 0.9858 - dense_9_accuracy: 0.9858 - dense_11_accuracy: 0.9897 - val_loss: 15.6932 - val_dense_1_loss: 14.7537 - val_dense_3_loss: 0.0831 - val_dense_5_loss: 0.0099 - val_dense_7_loss: 0.1957 - val_dense_9_loss: 0.5962 - val_dense_11_loss: 0.0546 - val_dense_1_accuracy: 0.0773 - val_dense_3_accuracy: 0.9948 - val_dense_5_accuracy: 0.9948 - val_dense_7_accuracy: 0.9536 - val_dense_9_accuracy: 0.9330 - val_dense_11_accuracy: 0.9845\n",
      "Epoch 186/200\n",
      "25/25 [==============================] - 1s 27ms/step - loss: 0.1450 - dense_1_loss: 0.0037 - dense_3_loss: 0.0177 - dense_5_loss: 0.0191 - dense_7_loss: 0.0296 - dense_9_loss: 0.0424 - dense_11_loss: 0.0324 - dense_1_accuracy: 0.9987 - dense_3_accuracy: 0.9936 - dense_5_accuracy: 0.9923 - dense_7_accuracy: 0.9884 - dense_9_accuracy: 0.9858 - dense_11_accuracy: 0.9897 - val_loss: 15.3938 - val_dense_1_loss: 14.4717 - val_dense_3_loss: 0.0834 - val_dense_5_loss: 0.0050 - val_dense_7_loss: 0.2014 - val_dense_9_loss: 0.4931 - val_dense_11_loss: 0.1392 - val_dense_1_accuracy: 0.0773 - val_dense_3_accuracy: 0.9948 - val_dense_5_accuracy: 1.0000 - val_dense_7_accuracy: 0.9588 - val_dense_9_accuracy: 0.9330 - val_dense_11_accuracy: 0.9742\n",
      "Epoch 187/200\n",
      "25/25 [==============================] - 1s 27ms/step - loss: 0.1341 - dense_1_loss: 0.0059 - dense_3_loss: 0.0157 - dense_5_loss: 0.0163 - dense_7_loss: 0.0197 - dense_9_loss: 0.0557 - dense_11_loss: 0.0207 - dense_1_accuracy: 0.9987 - dense_3_accuracy: 0.9923 - dense_5_accuracy: 0.9910 - dense_7_accuracy: 0.9961 - dense_9_accuracy: 0.9858 - dense_11_accuracy: 0.9910 - val_loss: 15.7320 - val_dense_1_loss: 14.7896 - val_dense_3_loss: 0.0831 - val_dense_5_loss: 4.8670e-04 - val_dense_7_loss: 0.1804 - val_dense_9_loss: 0.5252 - val_dense_11_loss: 0.1532 - val_dense_1_accuracy: 0.0773 - val_dense_3_accuracy: 0.9948 - val_dense_5_accuracy: 1.0000 - val_dense_7_accuracy: 0.9588 - val_dense_9_accuracy: 0.9433 - val_dense_11_accuracy: 0.9845\n"
     ]
    },
    {
     "name": "stdout",
     "output_type": "stream",
     "text": [
      "Epoch 188/200\n",
      "25/25 [==============================] - 1s 27ms/step - loss: 0.1295 - dense_1_loss: 0.0020 - dense_3_loss: 0.0198 - dense_5_loss: 0.0264 - dense_7_loss: 0.0189 - dense_9_loss: 0.0462 - dense_11_loss: 0.0162 - dense_1_accuracy: 1.0000 - dense_3_accuracy: 0.9948 - dense_5_accuracy: 0.9897 - dense_7_accuracy: 0.9910 - dense_9_accuracy: 0.9845 - dense_11_accuracy: 0.9923 - val_loss: 15.4243 - val_dense_1_loss: 14.7036 - val_dense_3_loss: 0.0831 - val_dense_5_loss: 6.8657e-04 - val_dense_7_loss: 0.1485 - val_dense_9_loss: 0.4151 - val_dense_11_loss: 0.0734 - val_dense_1_accuracy: 0.0773 - val_dense_3_accuracy: 0.9948 - val_dense_5_accuracy: 1.0000 - val_dense_7_accuracy: 0.9588 - val_dense_9_accuracy: 0.9433 - val_dense_11_accuracy: 0.9845\n",
      "Epoch 189/200\n",
      "25/25 [==============================] - 1s 27ms/step - loss: 0.1400 - dense_1_loss: 0.0032 - dense_3_loss: 0.0220 - dense_5_loss: 0.0235 - dense_7_loss: 0.0377 - dense_9_loss: 0.0439 - dense_11_loss: 0.0097 - dense_1_accuracy: 1.0000 - dense_3_accuracy: 0.9936 - dense_5_accuracy: 0.9923 - dense_7_accuracy: 0.9820 - dense_9_accuracy: 0.9768 - dense_11_accuracy: 0.9974 - val_loss: 15.5208 - val_dense_1_loss: 14.7864 - val_dense_3_loss: 0.0837 - val_dense_5_loss: 0.0138 - val_dense_7_loss: 0.1350 - val_dense_9_loss: 0.3895 - val_dense_11_loss: 0.1126 - val_dense_1_accuracy: 0.0773 - val_dense_3_accuracy: 0.9948 - val_dense_5_accuracy: 0.9948 - val_dense_7_accuracy: 0.9742 - val_dense_9_accuracy: 0.9381 - val_dense_11_accuracy: 0.9794\n",
      "Epoch 190/200\n",
      "25/25 [==============================] - 1s 27ms/step - loss: 0.1920 - dense_1_loss: 0.0066 - dense_3_loss: 0.0395 - dense_5_loss: 0.0327 - dense_7_loss: 0.0351 - dense_9_loss: 0.0443 - dense_11_loss: 0.0339 - dense_1_accuracy: 0.9974 - dense_3_accuracy: 0.9910 - dense_5_accuracy: 0.9884 - dense_7_accuracy: 0.9871 - dense_9_accuracy: 0.9832 - dense_11_accuracy: 0.9910 - val_loss: 15.2025 - val_dense_1_loss: 14.5050 - val_dense_3_loss: 0.0873 - val_dense_5_loss: 0.0021 - val_dense_7_loss: 0.1142 - val_dense_9_loss: 0.3807 - val_dense_11_loss: 0.1130 - val_dense_1_accuracy: 0.0773 - val_dense_3_accuracy: 0.9897 - val_dense_5_accuracy: 1.0000 - val_dense_7_accuracy: 0.9639 - val_dense_9_accuracy: 0.9485 - val_dense_11_accuracy: 0.9794\n",
      "Epoch 191/200\n",
      "25/25 [==============================] - 1s 27ms/step - loss: 0.1443 - dense_1_loss: 0.0065 - dense_3_loss: 0.0261 - dense_5_loss: 0.0318 - dense_7_loss: 0.0349 - dense_9_loss: 0.0318 - dense_11_loss: 0.0130 - dense_1_accuracy: 0.9987 - dense_3_accuracy: 0.9884 - dense_5_accuracy: 0.9871 - dense_7_accuracy: 0.9858 - dense_9_accuracy: 0.9897 - dense_11_accuracy: 0.9961 - val_loss: 15.8291 - val_dense_1_loss: 14.8591 - val_dense_3_loss: 0.0831 - val_dense_5_loss: 0.0077 - val_dense_7_loss: 0.1605 - val_dense_9_loss: 0.6028 - val_dense_11_loss: 0.1157 - val_dense_1_accuracy: 0.0773 - val_dense_3_accuracy: 0.9948 - val_dense_5_accuracy: 0.9948 - val_dense_7_accuracy: 0.9536 - val_dense_9_accuracy: 0.9433 - val_dense_11_accuracy: 0.9897\n",
      "Epoch 192/200\n",
      "25/25 [==============================] - 1s 27ms/step - loss: 0.1585 - dense_1_loss: 5.2234e-04 - dense_3_loss: 0.0236 - dense_5_loss: 0.0224 - dense_7_loss: 0.0420 - dense_9_loss: 0.0402 - dense_11_loss: 0.0298 - dense_1_accuracy: 1.0000 - dense_3_accuracy: 0.9910 - dense_5_accuracy: 0.9884 - dense_7_accuracy: 0.9832 - dense_9_accuracy: 0.9832 - dense_11_accuracy: 0.9884 - val_loss: 15.6297 - val_dense_1_loss: 14.8719 - val_dense_3_loss: 0.0832 - val_dense_5_loss: 3.6046e-04 - val_dense_7_loss: 0.1794 - val_dense_9_loss: 0.4431 - val_dense_11_loss: 0.0518 - val_dense_1_accuracy: 0.0773 - val_dense_3_accuracy: 0.9948 - val_dense_5_accuracy: 1.0000 - val_dense_7_accuracy: 0.9588 - val_dense_9_accuracy: 0.9485 - val_dense_11_accuracy: 0.9897\n",
      "Epoch 193/200\n",
      "25/25 [==============================] - 1s 28ms/step - loss: 0.1767 - dense_1_loss: 0.0014 - dense_3_loss: 0.0142 - dense_5_loss: 0.0341 - dense_7_loss: 0.0309 - dense_9_loss: 0.0502 - dense_11_loss: 0.0460 - dense_1_accuracy: 1.0000 - dense_3_accuracy: 0.9923 - dense_5_accuracy: 0.9910 - dense_7_accuracy: 0.9897 - dense_9_accuracy: 0.9794 - dense_11_accuracy: 0.9897 - val_loss: 15.6828 - val_dense_1_loss: 14.8522 - val_dense_3_loss: 0.0831 - val_dense_5_loss: 0.0058 - val_dense_7_loss: 0.2117 - val_dense_9_loss: 0.4159 - val_dense_11_loss: 0.1141 - val_dense_1_accuracy: 0.0773 - val_dense_3_accuracy: 0.9948 - val_dense_5_accuracy: 0.9948 - val_dense_7_accuracy: 0.9742 - val_dense_9_accuracy: 0.9536 - val_dense_11_accuracy: 0.9897\n",
      "Epoch 194/200\n",
      "25/25 [==============================] - 1s 28ms/step - loss: 0.1674 - dense_1_loss: 0.0034 - dense_3_loss: 0.0369 - dense_5_loss: 0.0174 - dense_7_loss: 0.0402 - dense_9_loss: 0.0506 - dense_11_loss: 0.0189 - dense_1_accuracy: 0.9987 - dense_3_accuracy: 0.9871 - dense_5_accuracy: 0.9936 - dense_7_accuracy: 0.9871 - dense_9_accuracy: 0.9807 - dense_11_accuracy: 0.9936 - val_loss: 15.5186 - val_dense_1_loss: 14.6632 - val_dense_3_loss: 0.0831 - val_dense_5_loss: 0.0097 - val_dense_7_loss: 0.2468 - val_dense_9_loss: 0.4240 - val_dense_11_loss: 0.0917 - val_dense_1_accuracy: 0.0773 - val_dense_3_accuracy: 0.9948 - val_dense_5_accuracy: 0.9948 - val_dense_7_accuracy: 0.9639 - val_dense_9_accuracy: 0.9536 - val_dense_11_accuracy: 0.9897\n",
      "Epoch 195/200\n",
      "25/25 [==============================] - 1s 28ms/step - loss: 0.1699 - dense_1_loss: 0.0020 - dense_3_loss: 0.0322 - dense_5_loss: 0.0219 - dense_7_loss: 0.0452 - dense_9_loss: 0.0505 - dense_11_loss: 0.0180 - dense_1_accuracy: 1.0000 - dense_3_accuracy: 0.9858 - dense_5_accuracy: 0.9923 - dense_7_accuracy: 0.9871 - dense_9_accuracy: 0.9858 - dense_11_accuracy: 0.9910 - val_loss: 15.5005 - val_dense_1_loss: 14.7064 - val_dense_3_loss: 0.0831 - val_dense_5_loss: 0.0238 - val_dense_7_loss: 0.2179 - val_dense_9_loss: 0.3760 - val_dense_11_loss: 0.0933 - val_dense_1_accuracy: 0.0773 - val_dense_3_accuracy: 0.9948 - val_dense_5_accuracy: 0.9897 - val_dense_7_accuracy: 0.9588 - val_dense_9_accuracy: 0.9485 - val_dense_11_accuracy: 0.9794\n",
      "Epoch 196/200\n",
      "25/25 [==============================] - 1s 27ms/step - loss: 0.1378 - dense_1_loss: 0.0059 - dense_3_loss: 0.0240 - dense_5_loss: 0.0299 - dense_7_loss: 0.0284 - dense_9_loss: 0.0286 - dense_11_loss: 0.0210 - dense_1_accuracy: 0.9987 - dense_3_accuracy: 0.9884 - dense_5_accuracy: 0.9910 - dense_7_accuracy: 0.9871 - dense_9_accuracy: 0.9871 - dense_11_accuracy: 0.9910 - val_loss: 15.3930 - val_dense_1_loss: 14.5798 - val_dense_3_loss: 0.0938 - val_dense_5_loss: 0.0043 - val_dense_7_loss: 0.2215 - val_dense_9_loss: 0.3839 - val_dense_11_loss: 0.1098 - val_dense_1_accuracy: 0.0773 - val_dense_3_accuracy: 0.9897 - val_dense_5_accuracy: 0.9948 - val_dense_7_accuracy: 0.9588 - val_dense_9_accuracy: 0.9330 - val_dense_11_accuracy: 0.9845\n",
      "Epoch 197/200\n",
      "25/25 [==============================] - 1s 28ms/step - loss: 0.1467 - dense_1_loss: 0.0023 - dense_3_loss: 0.0182 - dense_5_loss: 0.0295 - dense_7_loss: 0.0340 - dense_9_loss: 0.0408 - dense_11_loss: 0.0219 - dense_1_accuracy: 0.9987 - dense_3_accuracy: 0.9910 - dense_5_accuracy: 0.9884 - dense_7_accuracy: 0.9858 - dense_9_accuracy: 0.9858 - dense_11_accuracy: 0.9936 - val_loss: 15.3811 - val_dense_1_loss: 14.7495 - val_dense_3_loss: 0.0831 - val_dense_5_loss: 0.0053 - val_dense_7_loss: 0.1415 - val_dense_9_loss: 0.3230 - val_dense_11_loss: 0.0787 - val_dense_1_accuracy: 0.0773 - val_dense_3_accuracy: 0.9948 - val_dense_5_accuracy: 1.0000 - val_dense_7_accuracy: 0.9691 - val_dense_9_accuracy: 0.9639 - val_dense_11_accuracy: 0.9897\n",
      "Epoch 198/200\n",
      "25/25 [==============================] - 1s 28ms/step - loss: 0.1687 - dense_1_loss: 0.0131 - dense_3_loss: 0.0261 - dense_5_loss: 0.0366 - dense_7_loss: 0.0324 - dense_9_loss: 0.0386 - dense_11_loss: 0.0220 - dense_1_accuracy: 0.9961 - dense_3_accuracy: 0.9936 - dense_5_accuracy: 0.9884 - dense_7_accuracy: 0.9884 - dense_9_accuracy: 0.9832 - dense_11_accuracy: 0.9910 - val_loss: 15.4049 - val_dense_1_loss: 14.7153 - val_dense_3_loss: 0.0831 - val_dense_5_loss: 1.3719e-05 - val_dense_7_loss: 0.1205 - val_dense_9_loss: 0.3691 - val_dense_11_loss: 0.1168 - val_dense_1_accuracy: 0.0773 - val_dense_3_accuracy: 0.9948 - val_dense_5_accuracy: 1.0000 - val_dense_7_accuracy: 0.9536 - val_dense_9_accuracy: 0.9588 - val_dense_11_accuracy: 0.9845\n"
     ]
    },
    {
     "name": "stdout",
     "output_type": "stream",
     "text": [
      "Epoch 199/200\n",
      "25/25 [==============================] - 1s 28ms/step - loss: 0.1638 - dense_1_loss: 9.9971e-04 - dense_3_loss: 0.0323 - dense_5_loss: 0.0540 - dense_7_loss: 0.0320 - dense_9_loss: 0.0312 - dense_11_loss: 0.0134 - dense_1_accuracy: 1.0000 - dense_3_accuracy: 0.9858 - dense_5_accuracy: 0.9794 - dense_7_accuracy: 0.9884 - dense_9_accuracy: 0.9884 - dense_11_accuracy: 0.9961 - val_loss: 15.4023 - val_dense_1_loss: 14.6141 - val_dense_3_loss: 0.1013 - val_dense_5_loss: 0.0111 - val_dense_7_loss: 0.1025 - val_dense_9_loss: 0.4496 - val_dense_11_loss: 0.1237 - val_dense_1_accuracy: 0.0773 - val_dense_3_accuracy: 0.9897 - val_dense_5_accuracy: 0.9948 - val_dense_7_accuracy: 0.9691 - val_dense_9_accuracy: 0.9485 - val_dense_11_accuracy: 0.9897\n",
      "Epoch 200/200\n",
      "25/25 [==============================] - 1s 27ms/step - loss: 0.1268 - dense_1_loss: 0.0100 - dense_3_loss: 0.0134 - dense_5_loss: 0.0349 - dense_7_loss: 0.0180 - dense_9_loss: 0.0356 - dense_11_loss: 0.0148 - dense_1_accuracy: 0.9987 - dense_3_accuracy: 0.9961 - dense_5_accuracy: 0.9884 - dense_7_accuracy: 0.9923 - dense_9_accuracy: 0.9884 - dense_11_accuracy: 0.9948 - val_loss: 15.5352 - val_dense_1_loss: 14.6773 - val_dense_3_loss: 0.0992 - val_dense_5_loss: 0.0085 - val_dense_7_loss: 0.1448 - val_dense_9_loss: 0.4803 - val_dense_11_loss: 0.1250 - val_dense_1_accuracy: 0.0773 - val_dense_3_accuracy: 0.9897 - val_dense_5_accuracy: 0.9948 - val_dense_7_accuracy: 0.9536 - val_dense_9_accuracy: 0.9485 - val_dense_11_accuracy: 0.9794\n"
     ]
    }
   ],
   "source": [
    "#model = create_model()\n",
    "hist = model.fit(X_train, [y_train[0], y_train[1], y_train[2], y_train[3], y_train[4], y_train[5]], batch_size=32, epochs=200,verbose=1, validation_split=0.2)"
   ]
  },
  {
   "cell_type": "code",
   "execution_count": 7,
   "metadata": {
    "collapsed": true
   },
   "outputs": [],
   "source": [
    "# Define function to predict captcha\n",
    "def predict(filepath, model):\n",
    "    img = cv2.imread(filepath, cv2.IMREAD_GRAYSCALE)\n",
    "    if img is not None:\n",
    "        img = img / 255.0\n",
    "    else:\n",
    "        print(\"Not detected\");\n",
    "    res = np.array(model.predict(img[np.newaxis, :, :, np.newaxis]))\n",
    "    ans = np.reshape(res, (6, 10))\n",
    "    l_ind = []\n",
    "    probs = []\n",
    "    for a in ans:\n",
    "        l_ind.append(np.argmax(a))\n",
    "        #probs.append(np.max(a))\n",
    "\n",
    "    capt = ''\n",
    "    for l in l_ind:\n",
    "        capt += symbols[l]\n",
    "    return capt#, sum(probs) / 5\n"
   ]
  },
  {
   "cell_type": "code",
   "execution_count": 8,
   "metadata": {},
   "outputs": [
    {
     "name": "stdout",
     "output_type": "stream",
     "text": [
      "5/5 [==============================] - 0s 34ms/step - loss: 16.8488 - dense_1_loss: 16.1123 - dense_3_loss: 6.5300e-07 - dense_5_loss: 0.1711 - dense_7_loss: 0.1493 - dense_9_loss: 0.2925 - dense_11_loss: 0.1236 - dense_1_accuracy: 0.0000e+00 - dense_3_accuracy: 1.0000 - dense_5_accuracy: 0.9851 - dense_7_accuracy: 0.9701 - dense_9_accuracy: 0.9627 - dense_11_accuracy: 0.9701  \n",
      "====================================================================================================\n",
      "Test Loss and accuracy: [16.84880256652832, 16.112314224243164, 6.529993470394402e-07, 0.171076700091362, 0.1492503434419632, 0.2925248146057129, 0.1236356794834137, 0.0, 1.0, 0.9850746393203735, 0.9701492786407471, 0.9626865386962891, 0.9701492786407471]\n"
     ]
    }
   ],
   "source": [
    "score= model.evaluate(X_test,[y_test[0], y_test[1], y_test[2], y_test[3], y_test[4], y_test[5]],verbose=1)\n",
    "print('='*100)\n",
    "print('Test Loss and accuracy:', score)"
   ]
  },
  {
   "cell_type": "code",
   "execution_count": 9,
   "metadata": {},
   "outputs": [
    {
     "name": "stdout",
     "output_type": "stream",
     "text": [
      "5/5 [==============================] - 0s 9ms/step - loss: 16.8488 - dense_1_loss: 16.1123 - dense_3_loss: 6.5300e-07 - dense_5_loss: 0.1711 - dense_7_loss: 0.1493 - dense_9_loss: 0.2925 - dense_11_loss: 0.1236 - dense_1_accuracy: 0.0000e+00 - dense_3_accuracy: 1.0000 - dense_5_accuracy: 0.9851 - dense_7_accuracy: 0.9701 - dense_9_accuracy: 0.9627 - dense_11_accuracy: 0.9701    \n",
      "====================================================================================================\n",
      "026885\n",
      "049838\n",
      "339524\n",
      "366405\n",
      "400567\n"
     ]
    }
   ],
   "source": [
    "# Check model on some samples\n",
    "model.evaluate(X_test,[y_test[0], y_test[1], y_test[2], y_test[3], y_test[4], y_test[5]])\n",
    "print('='*100)\n",
    "print(predict('data/test/wetax/028885.png', model))\n",
    "print(predict('data/test/wetax/049858.png', model))\n",
    "print(predict('data/test/wetax/339524.png', model))\n",
    "print(predict('data/test/wetax/366405.png', model))\n",
    "print(predict('data/test/wetax/400567.png', model))"
   ]
  },
  {
   "cell_type": "code",
   "execution_count": 10,
   "metadata": {},
   "outputs": [
    {
     "data": {
      "text/plain": [
       "<matplotlib.image.AxesImage at 0x1f90bedcbe0>"
      ]
     },
     "execution_count": 10,
     "metadata": {},
     "output_type": "execute_result"
    },
    {
     "data": {
      "image/png": "[encoded data removed]",
      "text/plain": [
       "<Figure size 432x288 with 1 Axes>"
      ]
     },
     "metadata": {
      "needs_background": "light"
     },
     "output_type": "display_data"
    }
   ],
   "source": [
    "#Lets test an unknown captcha\n",
    "#preview\n",
    "%matplotlib inline \n",
    "import matplotlib.pyplot as plt\n",
    "img=cv2.imread('data/test/wetax/521545.png',cv2.IMREAD_GRAYSCALE)\n",
    "plt.imshow(img, cmap=plt.get_cmap('gray'))"
   ]
  },
  {
   "cell_type": "code",
   "execution_count": 11,
   "metadata": {},
   "outputs": [
    {
     "name": "stdout",
     "output_type": "stream",
     "text": [
      "Predicted Captcha = 525451\n"
     ]
    }
   ],
   "source": [
    "#Lets Predict By Model\n",
    "print(\"Predicted Captcha =\",predict('data/test/wetax/521545.png', model))"
   ]
  },
  {
   "cell_type": "code",
   "execution_count": 12,
   "metadata": {
    "collapsed": true
   },
   "outputs": [],
   "source": [
    "# 전체 모델을 HDF5 파일로 저장합니다\n",
    "# '.h5' 확장자는 이 모델이 HDF5로 저장되었다는 것을 나타냅니다\n",
    "model.save('model/wetax_captcha_model.h5')"
   ]
  },
  {
   "cell_type": "code",
   "execution_count": 13,
   "metadata": {},
   "outputs": [
    {
     "name": "stdout",
     "output_type": "stream",
     "text": [
      "Model: \"functional_1\"\n",
      "__________________________________________________________________________________________________\n",
      "Layer (type)                    Output Shape         Param #     Connected to                     \n",
      "==================================================================================================\n",
      "input_1 (InputLayer)            [(None, 62, 175, 1)] 0                                            \n",
      "__________________________________________________________________________________________________\n",
      "conv2d (Conv2D)                 (None, 62, 175, 16)  160         input_1[0][0]                    \n",
      "__________________________________________________________________________________________________\n",
      "max_pooling2d (MaxPooling2D)    (None, 31, 88, 16)   0           conv2d[0][0]                     \n",
      "__________________________________________________________________________________________________\n",
      "conv2d_1 (Conv2D)               (None, 31, 88, 32)   4640        max_pooling2d[0][0]              \n",
      "__________________________________________________________________________________________________\n",
      "max_pooling2d_1 (MaxPooling2D)  (None, 16, 44, 32)   0           conv2d_1[0][0]                   \n",
      "__________________________________________________________________________________________________\n",
      "conv2d_2 (Conv2D)               (None, 16, 44, 32)   9248        max_pooling2d_1[0][0]            \n",
      "__________________________________________________________________________________________________\n",
      "batch_normalization (BatchNorma (None, 16, 44, 32)   128         conv2d_2[0][0]                   \n",
      "__________________________________________________________________________________________________\n",
      "max_pooling2d_2 (MaxPooling2D)  (None, 8, 22, 32)    0           batch_normalization[0][0]        \n",
      "__________________________________________________________________________________________________\n",
      "flatten (Flatten)               (None, 5632)         0           max_pooling2d_2[0][0]            \n",
      "__________________________________________________________________________________________________\n",
      "dense (Dense)                   (None, 64)           360512      flatten[0][0]                    \n",
      "__________________________________________________________________________________________________\n",
      "dense_2 (Dense)                 (None, 64)           360512      flatten[0][0]                    \n",
      "__________________________________________________________________________________________________\n",
      "dense_4 (Dense)                 (None, 64)           360512      flatten[0][0]                    \n",
      "__________________________________________________________________________________________________\n",
      "dense_6 (Dense)                 (None, 64)           360512      flatten[0][0]                    \n",
      "__________________________________________________________________________________________________\n",
      "dense_8 (Dense)                 (None, 64)           360512      flatten[0][0]                    \n",
      "__________________________________________________________________________________________________\n",
      "dense_10 (Dense)                (None, 64)           360512      flatten[0][0]                    \n",
      "__________________________________________________________________________________________________\n",
      "dropout (Dropout)               (None, 64)           0           dense[0][0]                      \n",
      "__________________________________________________________________________________________________\n",
      "dropout_1 (Dropout)             (None, 64)           0           dense_2[0][0]                    \n",
      "__________________________________________________________________________________________________\n",
      "dropout_2 (Dropout)             (None, 64)           0           dense_4[0][0]                    \n",
      "__________________________________________________________________________________________________\n",
      "dropout_3 (Dropout)             (None, 64)           0           dense_6[0][0]                    \n",
      "__________________________________________________________________________________________________\n",
      "dropout_4 (Dropout)             (None, 64)           0           dense_8[0][0]                    \n",
      "__________________________________________________________________________________________________\n",
      "dropout_5 (Dropout)             (None, 64)           0           dense_10[0][0]                   \n",
      "__________________________________________________________________________________________________\n",
      "dense_1 (Dense)                 (None, 10)           650         dropout[0][0]                    \n",
      "__________________________________________________________________________________________________\n",
      "dense_3 (Dense)                 (None, 10)           650         dropout_1[0][0]                  \n",
      "__________________________________________________________________________________________________\n",
      "dense_5 (Dense)                 (None, 10)           650         dropout_2[0][0]                  \n",
      "__________________________________________________________________________________________________\n",
      "dense_7 (Dense)                 (None, 10)           650         dropout_3[0][0]                  \n",
      "__________________________________________________________________________________________________\n",
      "dense_9 (Dense)                 (None, 10)           650         dropout_4[0][0]                  \n",
      "__________________________________________________________________________________________________\n",
      "dense_11 (Dense)                (None, 10)           650         dropout_5[0][0]                  \n",
      "==================================================================================================\n",
      "Total params: 2,181,148\n",
      "Trainable params: 2,181,084\n",
      "Non-trainable params: 64\n",
      "__________________________________________________________________________________________________\n"
     ]
    }
   ],
   "source": [
    "# 가중치와 옵티마이저를 포함하여 정확히 동일한 모델을 다시 생성합니다\n",
    "new_model = load_model('model/wetax_captcha_model.h5')\n",
    "\n",
    "# 모델 구조를 출력합니다\n",
    "new_model.summary()"
   ]
  },
  {
   "cell_type": "code",
   "execution_count": 14,
   "metadata": {},
   "outputs": [
    {
     "name": "stdout",
     "output_type": "stream",
     "text": [
      "5/5 - 0s - loss: 16.8488 - dense_1_loss: 16.1123 - dense_3_loss: 6.5300e-07 - dense_5_loss: 0.1711 - dense_7_loss: 0.1493 - dense_9_loss: 0.2925 - dense_11_loss: 0.1236 - dense_1_accuracy: 0.0000e+00 - dense_3_accuracy: 1.0000 - dense_5_accuracy: 0.9851 - dense_7_accuracy: 0.9701 - dense_9_accuracy: 0.9627 - dense_11_accuracy: 0.9701\n",
      "====================================================================================================\n",
      "New Model Test Loss and accuracy: [16.84880256652832, 16.112314224243164, 6.529993470394402e-07, 0.171076700091362, 0.1492503434419632, 0.2925248146057129, 0.1236356794834137, 0.0, 1.0, 0.9850746393203735, 0.9701492786407471, 0.9626865386962891, 0.9701492786407471]\n"
     ]
    }
   ],
   "source": [
    "score = new_model.evaluate(X_test,[y_test[0], y_test[1], y_test[2], y_test[3], y_test[4], y_test[5]], verbose=2)\n",
    "print('='*100)\n",
    "print('New Model Test Loss and accuracy:', score)"
   ]
  },
  {
   "cell_type": "code",
   "execution_count": 15,
   "metadata": {},
   "outputs": [
    {
     "name": "stdout",
     "output_type": "stream",
     "text": [
      "5/5 [==============================] - 0s 10ms/step - loss: 16.8488 - dense_1_loss: 16.1123 - dense_3_loss: 6.5300e-07 - dense_5_loss: 0.1711 - dense_7_loss: 0.1493 - dense_9_loss: 0.2925 - dense_11_loss: 0.1236 - dense_1_accuracy: 0.0000e+00 - dense_3_accuracy: 1.0000 - dense_5_accuracy: 0.9851 - dense_7_accuracy: 0.9701 - dense_9_accuracy: 0.9627 - dense_11_accuracy: 0.9701   \n",
      "====================================================================================================\n",
      "026885\n",
      "049838\n",
      "339524\n",
      "366405\n",
      "400567\n"
     ]
    }
   ],
   "source": [
    "# Check model on some samples\n",
    "model.evaluate(X_test,[y_test[0], y_test[1], y_test[2], y_test[3], y_test[4], y_test[5]])\n",
    "print('='*100)\n",
    "print(predict('data/test/wetax/028885.png', new_model))\n",
    "print(predict('data/test/wetax/049858.png', new_model))\n",
    "print(predict('data/test/wetax/339524.png', new_model))\n",
    "print(predict('data/test/wetax/366405.png', new_model))\n",
    "print(predict('data/test/wetax/400567.png', new_model))"
   ]
  },
  {
   "cell_type": "code",
   "execution_count": null,
   "metadata": {
    "collapsed": true
   },
   "outputs": [],
   "source": []
  }
 ],
 "metadata": {
  "kernelspec": {
   "display_name": "TensorFlow",
   "language": "python",
   "name": "tensorflow_env"
  },
  "language_info": {
   "codemirror_mode": {
    "name": "ipython",
    "version": 3
   },
   "file_extension": ".py",
   "mimetype": "text/x-python",
   "name": "python",
   "nbconvert_exporter": "python",
   "pygments_lexer": "ipython3",
   "version": "3.6.2"
  }
 },
 "nbformat": 4,
 "nbformat_minor": 2
}
