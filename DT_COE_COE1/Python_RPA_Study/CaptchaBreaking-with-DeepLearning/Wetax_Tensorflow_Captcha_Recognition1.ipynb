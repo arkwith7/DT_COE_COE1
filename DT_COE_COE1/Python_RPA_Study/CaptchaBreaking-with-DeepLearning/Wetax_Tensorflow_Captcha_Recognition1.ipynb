{
 "cells": [
  {
   "cell_type": "code",
   "execution_count": 1,
   "metadata": {
    "collapsed": true
   },
   "outputs": [],
   "source": [
    "from tensorflow.keras import layers\n",
    "from tensorflow.keras.models import Model\n",
    "from tensorflow.keras.models import load_model\n",
    "from tensorflow.keras import callbacks\n",
    "import os\n",
    "import cv2\n",
    "import string\n",
    "import numpy as np\n",
    "%matplotlib inline \n",
    "import matplotlib.pyplot as plt\n",
    "\n",
    "#Init main values\n",
    "# symbols = string.ascii_lowercase + \"0123456789\" # All symbols captcha can contain\n",
    "symbols = \"0123456789\" # All symbols captcha can contain\n",
    "num_symbols = len(symbols)\n",
    "img_shape = (62, 175, 1)"
   ]
  },
  {
   "cell_type": "code",
   "execution_count": 2,
   "metadata": {},
   "outputs": [
    {
     "name": "stdout",
     "output_type": "stream",
     "text": [
      "10\n"
     ]
    }
   ],
   "source": [
    "print(num_symbols)"
   ]
  },
  {
   "cell_type": "code",
   "execution_count": 3,
   "metadata": {
    "collapsed": true
   },
   "outputs": [],
   "source": [
    "def create_model():\n",
    "    img = layers.Input(shape=img_shape) # Get image as an input and process it through some Convs\n",
    "    conv1 = layers.Conv2D(16, (3, 3), padding='same', activation='relu')(img)\n",
    "    mp1 = layers.MaxPooling2D(padding='same')(conv1)  # 100x25\n",
    "    conv2 = layers.Conv2D(32, (3, 3), padding='same', activation='relu')(mp1)\n",
    "    mp2 = layers.MaxPooling2D(padding='same')(conv2)  # 50x13\n",
    "    conv3 = layers.Conv2D(32, (3, 3), padding='same', activation='relu')(mp2)\n",
    "    bn = layers.BatchNormalization()(conv3)\n",
    "    mp3 = layers.MaxPooling2D(padding='same')(bn)  # 25x7\n",
    "    \n",
    "    # Get flattened vector and make 5 branches from it. Each branch will predict one letter\n",
    "    flat = layers.Flatten()(mp3)\n",
    "    outs = []\n",
    "    #we have 6 letters\n",
    "    for _ in range(6):\n",
    "        dens1 = layers.Dense(64, activation='relu')(flat)\n",
    "        drop = layers.Dropout(0.5)(dens1)\n",
    "        res = layers.Dense(num_symbols, activation='sigmoid')(drop)\n",
    "\n",
    "        outs.append(res)\n",
    "    \n",
    "    # Compile model and return it\n",
    "    model = Model(img, outs)\n",
    "    model.compile(loss='categorical_crossentropy', optimizer='adam',metrics=[\"accuracy\"])\n",
    "    return model"
   ]
  },
  {
   "cell_type": "markdown",
   "metadata": {},
   "source": [
    "Importing Data"
   ]
  },
  {
   "cell_type": "code",
   "execution_count": 4,
   "metadata": {},
   "outputs": [
    {
     "name": "stdout",
     "output_type": "stream",
     "text": [
      "970 training samples\n",
      "134 validation samples\n"
     ]
    }
   ],
   "source": [
    "def preprocess_data():\n",
    "    n_samples = len(os.listdir('data/wetax'))\n",
    "    X = np.zeros((n_samples, 62, 175, 1)) #1070*62*175\n",
    "    y = np.zeros((6, n_samples, num_symbols)) #6*1070*10\n",
    "\n",
    "    for i, pic in enumerate(os.listdir('data/wetax')):\n",
    "        # Read image as grayscale\n",
    "        img = cv2.imread(os.path.join('data/wetax', pic), cv2.IMREAD_GRAYSCALE)\n",
    "        pic_target = pic[:-4]\n",
    "        if len(pic_target) < 7:\n",
    "            # Scale and reshape image\n",
    "            img = img / 255.0\n",
    "            img = np.reshape(img, (62, 175, 1))\n",
    "            # Define targets and code them using OneHotEncoding\n",
    "            targs = np.zeros((6, num_symbols))\n",
    "            for j, l in enumerate(pic_target):\n",
    "                ind = symbols.find(l)\n",
    "                targs[j, ind] = 1\n",
    "            X[i] = img\n",
    "            y[:, i] = targs\n",
    "    \n",
    "    # Return final data\n",
    "    return X, y\n",
    "\n",
    "X, y = preprocess_data()\n",
    "X_train, y_train = X[:970], y[:, :970]\n",
    "X_test, y_test = X[970:], y[:, 970:]\n",
    "print(str(len(X_train)) + \" training samples\")\n",
    "print(str(len(X_test)) + \" validation samples\")\n"
   ]
  },
  {
   "cell_type": "code",
   "execution_count": 5,
   "metadata": {},
   "outputs": [
    {
     "name": "stdout",
     "output_type": "stream",
     "text": [
      "Model: \"functional_1\"\n",
      "__________________________________________________________________________________________________\n",
      "Layer (type)                    Output Shape         Param #     Connected to                     \n",
      "==================================================================================================\n",
      "input_1 (InputLayer)            [(None, 62, 175, 1)] 0                                            \n",
      "__________________________________________________________________________________________________\n",
      "conv2d (Conv2D)                 (None, 62, 175, 16)  160         input_1[0][0]                    \n",
      "__________________________________________________________________________________________________\n",
      "max_pooling2d (MaxPooling2D)    (None, 31, 88, 16)   0           conv2d[0][0]                     \n",
      "__________________________________________________________________________________________________\n",
      "conv2d_1 (Conv2D)               (None, 31, 88, 32)   4640        max_pooling2d[0][0]              \n",
      "__________________________________________________________________________________________________\n",
      "max_pooling2d_1 (MaxPooling2D)  (None, 16, 44, 32)   0           conv2d_1[0][0]                   \n",
      "__________________________________________________________________________________________________\n",
      "conv2d_2 (Conv2D)               (None, 16, 44, 32)   9248        max_pooling2d_1[0][0]            \n",
      "__________________________________________________________________________________________________\n",
      "batch_normalization (BatchNorma (None, 16, 44, 32)   128         conv2d_2[0][0]                   \n",
      "__________________________________________________________________________________________________\n",
      "max_pooling2d_2 (MaxPooling2D)  (None, 8, 22, 32)    0           batch_normalization[0][0]        \n",
      "__________________________________________________________________________________________________\n",
      "flatten (Flatten)               (None, 5632)         0           max_pooling2d_2[0][0]            \n",
      "__________________________________________________________________________________________________\n",
      "dense (Dense)                   (None, 64)           360512      flatten[0][0]                    \n",
      "__________________________________________________________________________________________________\n",
      "dense_2 (Dense)                 (None, 64)           360512      flatten[0][0]                    \n",
      "__________________________________________________________________________________________________\n",
      "dense_4 (Dense)                 (None, 64)           360512      flatten[0][0]                    \n",
      "__________________________________________________________________________________________________\n",
      "dense_6 (Dense)                 (None, 64)           360512      flatten[0][0]                    \n",
      "__________________________________________________________________________________________________\n",
      "dense_8 (Dense)                 (None, 64)           360512      flatten[0][0]                    \n",
      "__________________________________________________________________________________________________\n",
      "dense_10 (Dense)                (None, 64)           360512      flatten[0][0]                    \n",
      "__________________________________________________________________________________________________\n",
      "dropout (Dropout)               (None, 64)           0           dense[0][0]                      \n",
      "__________________________________________________________________________________________________\n",
      "dropout_1 (Dropout)             (None, 64)           0           dense_2[0][0]                    \n",
      "__________________________________________________________________________________________________\n",
      "dropout_2 (Dropout)             (None, 64)           0           dense_4[0][0]                    \n",
      "__________________________________________________________________________________________________\n",
      "dropout_3 (Dropout)             (None, 64)           0           dense_6[0][0]                    \n",
      "__________________________________________________________________________________________________\n",
      "dropout_4 (Dropout)             (None, 64)           0           dense_8[0][0]                    \n",
      "__________________________________________________________________________________________________\n",
      "dropout_5 (Dropout)             (None, 64)           0           dense_10[0][0]                   \n",
      "__________________________________________________________________________________________________\n",
      "dense_1 (Dense)                 (None, 10)           650         dropout[0][0]                    \n",
      "__________________________________________________________________________________________________\n",
      "dense_3 (Dense)                 (None, 10)           650         dropout_1[0][0]                  \n",
      "__________________________________________________________________________________________________\n",
      "dense_5 (Dense)                 (None, 10)           650         dropout_2[0][0]                  \n",
      "__________________________________________________________________________________________________\n",
      "dense_7 (Dense)                 (None, 10)           650         dropout_3[0][0]                  \n",
      "__________________________________________________________________________________________________\n",
      "dense_9 (Dense)                 (None, 10)           650         dropout_4[0][0]                  \n",
      "__________________________________________________________________________________________________\n",
      "dense_11 (Dense)                (None, 10)           650         dropout_5[0][0]                  \n",
      "==================================================================================================\n",
      "Total params: 2,181,148\n",
      "Trainable params: 2,181,084\n",
      "Non-trainable params: 64\n",
      "__________________________________________________________________________________________________\n"
     ]
    }
   ],
   "source": [
    "model=create_model();\n",
    "model.summary();"
   ]
  },
  {
   "cell_type": "code",
   "execution_count": 12,
   "metadata": {},
   "outputs": [
    {
     "name": "stdout",
     "output_type": "stream",
     "text": [
      "Epoch 1/100\n",
      "25/25 [==============================] - 1s 29ms/step - loss: 0.2453 - dense_1_loss: 0.0125 - dense_3_loss: 0.0303 - dense_5_loss: 0.0337 - dense_7_loss: 0.0401 - dense_9_loss: 0.0548 - dense_11_loss: 0.0739 - dense_1_accuracy: 0.9948 - dense_3_accuracy: 0.9884 - dense_5_accuracy: 0.9871 - dense_7_accuracy: 0.9820 - dense_9_accuracy: 0.9768 - dense_11_accuracy: 0.9755 - val_loss: 14.9174 - val_dense_1_loss: 14.0910 - val_dense_3_loss: 0.0833 - val_dense_5_loss: 0.0086 - val_dense_7_loss: 0.2602 - val_dense_9_loss: 0.4076 - val_dense_11_loss: 0.0668 - val_dense_1_accuracy: 0.0773 - val_dense_3_accuracy: 0.9948 - val_dense_5_accuracy: 0.9948 - val_dense_7_accuracy: 0.9588 - val_dense_9_accuracy: 0.9330 - val_dense_11_accuracy: 0.9897\n",
      "Epoch 2/100\n",
      "25/25 [==============================] - 1s 27ms/step - loss: 0.2300 - dense_1_loss: 0.0033 - dense_3_loss: 0.0223 - dense_5_loss: 0.0472 - dense_7_loss: 0.0522 - dense_9_loss: 0.0690 - dense_11_loss: 0.0359 - dense_1_accuracy: 1.0000 - dense_3_accuracy: 0.9897 - dense_5_accuracy: 0.9807 - dense_7_accuracy: 0.9845 - dense_9_accuracy: 0.9729 - dense_11_accuracy: 0.9897 - val_loss: 15.1497 - val_dense_1_loss: 14.1506 - val_dense_3_loss: 0.0834 - val_dense_5_loss: 0.0019 - val_dense_7_loss: 0.2565 - val_dense_9_loss: 0.5643 - val_dense_11_loss: 0.0930 - val_dense_1_accuracy: 0.0773 - val_dense_3_accuracy: 0.9948 - val_dense_5_accuracy: 1.0000 - val_dense_7_accuracy: 0.9536 - val_dense_9_accuracy: 0.9227 - val_dense_11_accuracy: 0.9845\n",
      "Epoch 3/100\n",
      "25/25 [==============================] - 1s 27ms/step - loss: 0.2847 - dense_1_loss: 0.0152 - dense_3_loss: 0.0288 - dense_5_loss: 0.0587 - dense_7_loss: 0.0599 - dense_9_loss: 0.0687 - dense_11_loss: 0.0535 - dense_1_accuracy: 0.9961 - dense_3_accuracy: 0.9923 - dense_5_accuracy: 0.9794 - dense_7_accuracy: 0.9768 - dense_9_accuracy: 0.9716 - dense_11_accuracy: 0.9781 - val_loss: 15.7396 - val_dense_1_loss: 14.8296 - val_dense_3_loss: 0.0837 - val_dense_5_loss: 0.0050 - val_dense_7_loss: 0.2631 - val_dense_9_loss: 0.4194 - val_dense_11_loss: 0.1389 - val_dense_1_accuracy: 0.0773 - val_dense_3_accuracy: 0.9948 - val_dense_5_accuracy: 1.0000 - val_dense_7_accuracy: 0.9588 - val_dense_9_accuracy: 0.9278 - val_dense_11_accuracy: 0.9845\n",
      "Epoch 4/100\n",
      "25/25 [==============================] - 1s 27ms/step - loss: 0.2711 - dense_1_loss: 0.0066 - dense_3_loss: 0.0545 - dense_5_loss: 0.0498 - dense_7_loss: 0.0624 - dense_9_loss: 0.0684 - dense_11_loss: 0.0295 - dense_1_accuracy: 0.9974 - dense_3_accuracy: 0.9820 - dense_5_accuracy: 0.9781 - dense_7_accuracy: 0.9729 - dense_9_accuracy: 0.9755 - dense_11_accuracy: 0.9871 - val_loss: 15.6930 - val_dense_1_loss: 14.8000 - val_dense_3_loss: 0.0873 - val_dense_5_loss: 0.0103 - val_dense_7_loss: 0.2849 - val_dense_9_loss: 0.4428 - val_dense_11_loss: 0.0678 - val_dense_1_accuracy: 0.0773 - val_dense_3_accuracy: 0.9948 - val_dense_5_accuracy: 0.9948 - val_dense_7_accuracy: 0.9588 - val_dense_9_accuracy: 0.9330 - val_dense_11_accuracy: 0.9794\n",
      "Epoch 5/100\n",
      "25/25 [==============================] - 1s 26ms/step - loss: 0.2377 - dense_1_loss: 0.0163 - dense_3_loss: 0.0241 - dense_5_loss: 0.0326 - dense_7_loss: 0.0388 - dense_9_loss: 0.0529 - dense_11_loss: 0.0731 - dense_1_accuracy: 0.9974 - dense_3_accuracy: 0.9897 - dense_5_accuracy: 0.9884 - dense_7_accuracy: 0.9897 - dense_9_accuracy: 0.9807 - dense_11_accuracy: 0.9755 - val_loss: 15.7554 - val_dense_1_loss: 14.8044 - val_dense_3_loss: 0.0832 - val_dense_5_loss: 0.0073 - val_dense_7_loss: 0.3764 - val_dense_9_loss: 0.4440 - val_dense_11_loss: 0.0401 - val_dense_1_accuracy: 0.0773 - val_dense_3_accuracy: 0.9948 - val_dense_5_accuracy: 0.9948 - val_dense_7_accuracy: 0.9330 - val_dense_9_accuracy: 0.9381 - val_dense_11_accuracy: 0.9948\n",
      "Epoch 6/100\n",
      "25/25 [==============================] - 1s 26ms/step - loss: 0.2513 - dense_1_loss: 0.0232 - dense_3_loss: 0.0230 - dense_5_loss: 0.0467 - dense_7_loss: 0.0477 - dense_9_loss: 0.0585 - dense_11_loss: 0.0523 - dense_1_accuracy: 0.9923 - dense_3_accuracy: 0.9871 - dense_5_accuracy: 0.9755 - dense_7_accuracy: 0.9820 - dense_9_accuracy: 0.9755 - dense_11_accuracy: 0.9781 - val_loss: 15.2193 - val_dense_1_loss: 14.3462 - val_dense_3_loss: 0.0851 - val_dense_5_loss: 0.0073 - val_dense_7_loss: 0.2293 - val_dense_9_loss: 0.4093 - val_dense_11_loss: 0.1422 - val_dense_1_accuracy: 0.0773 - val_dense_3_accuracy: 0.9948 - val_dense_5_accuracy: 0.9948 - val_dense_7_accuracy: 0.9485 - val_dense_9_accuracy: 0.9485 - val_dense_11_accuracy: 0.9742\n",
      "Epoch 7/100\n",
      "25/25 [==============================] - 1s 27ms/step - loss: 0.1927 - dense_1_loss: 0.0071 - dense_3_loss: 0.0426 - dense_5_loss: 0.0423 - dense_7_loss: 0.0264 - dense_9_loss: 0.0282 - dense_11_loss: 0.0460 - dense_1_accuracy: 0.9987 - dense_3_accuracy: 0.9871 - dense_5_accuracy: 0.9807 - dense_7_accuracy: 0.9884 - dense_9_accuracy: 0.9897 - dense_11_accuracy: 0.9858 - val_loss: 15.3047 - val_dense_1_loss: 14.5932 - val_dense_3_loss: 0.0832 - val_dense_5_loss: 3.2445e-04 - val_dense_7_loss: 0.2368 - val_dense_9_loss: 0.3198 - val_dense_11_loss: 0.0713 - val_dense_1_accuracy: 0.0773 - val_dense_3_accuracy: 0.9948 - val_dense_5_accuracy: 1.0000 - val_dense_7_accuracy: 0.9691 - val_dense_9_accuracy: 0.9381 - val_dense_11_accuracy: 0.9845\n",
      "Epoch 8/100\n",
      "25/25 [==============================] - 1s 26ms/step - loss: 0.2115 - dense_1_loss: 0.0058 - dense_3_loss: 0.0222 - dense_5_loss: 0.0370 - dense_7_loss: 0.0580 - dense_9_loss: 0.0443 - dense_11_loss: 0.0442 - dense_1_accuracy: 0.9961 - dense_3_accuracy: 0.9897 - dense_5_accuracy: 0.9858 - dense_7_accuracy: 0.9781 - dense_9_accuracy: 0.9845 - dense_11_accuracy: 0.9845 - val_loss: 15.3277 - val_dense_1_loss: 14.5727 - val_dense_3_loss: 0.0832 - val_dense_5_loss: 0.0011 - val_dense_7_loss: 0.2425 - val_dense_9_loss: 0.3496 - val_dense_11_loss: 0.0785 - val_dense_1_accuracy: 0.0773 - val_dense_3_accuracy: 0.9948 - val_dense_5_accuracy: 1.0000 - val_dense_7_accuracy: 0.9536 - val_dense_9_accuracy: 0.9433 - val_dense_11_accuracy: 0.9845\n",
      "Epoch 9/100\n",
      "25/25 [==============================] - 1s 27ms/step - loss: 0.1942 - dense_1_loss: 0.0039 - dense_3_loss: 0.0203 - dense_5_loss: 0.0336 - dense_7_loss: 0.0310 - dense_9_loss: 0.0733 - dense_11_loss: 0.0321 - dense_1_accuracy: 0.9987 - dense_3_accuracy: 0.9948 - dense_5_accuracy: 0.9871 - dense_7_accuracy: 0.9923 - dense_9_accuracy: 0.9781 - dense_11_accuracy: 0.9871 - val_loss: 15.4288 - val_dense_1_loss: 14.6612 - val_dense_3_loss: 0.0833 - val_dense_5_loss: 0.0019 - val_dense_7_loss: 0.2537 - val_dense_9_loss: 0.3442 - val_dense_11_loss: 0.0845 - val_dense_1_accuracy: 0.0773 - val_dense_3_accuracy: 0.9948 - val_dense_5_accuracy: 1.0000 - val_dense_7_accuracy: 0.9536 - val_dense_9_accuracy: 0.9381 - val_dense_11_accuracy: 0.9845\n",
      "Epoch 10/100\n",
      "25/25 [==============================] - 1s 27ms/step - loss: 0.2466 - dense_1_loss: 0.0167 - dense_3_loss: 0.0267 - dense_5_loss: 0.0487 - dense_7_loss: 0.0469 - dense_9_loss: 0.0536 - dense_11_loss: 0.0539 - dense_1_accuracy: 0.9961 - dense_3_accuracy: 0.9897 - dense_5_accuracy: 0.9807 - dense_7_accuracy: 0.9794 - dense_9_accuracy: 0.9742 - dense_11_accuracy: 0.9794 - val_loss: 15.2093 - val_dense_1_loss: 14.4296 - val_dense_3_loss: 0.0831 - val_dense_5_loss: 0.0149 - val_dense_7_loss: 0.2025 - val_dense_9_loss: 0.3585 - val_dense_11_loss: 0.1207 - val_dense_1_accuracy: 0.0773 - val_dense_3_accuracy: 0.9948 - val_dense_5_accuracy: 0.9897 - val_dense_7_accuracy: 0.9639 - val_dense_9_accuracy: 0.9381 - val_dense_11_accuracy: 0.9794\n",
      "Epoch 11/100\n",
      "25/25 [==============================] - 1s 27ms/step - loss: 0.2428 - dense_1_loss: 0.0159 - dense_3_loss: 0.0387 - dense_5_loss: 0.0427 - dense_7_loss: 0.0527 - dense_9_loss: 0.0711 - dense_11_loss: 0.0217 - dense_1_accuracy: 0.9936 - dense_3_accuracy: 0.9884 - dense_5_accuracy: 0.9820 - dense_7_accuracy: 0.9794 - dense_9_accuracy: 0.9691 - dense_11_accuracy: 0.9910 - val_loss: 15.5718 - val_dense_1_loss: 14.5877 - val_dense_3_loss: 0.0898 - val_dense_5_loss: 0.0138 - val_dense_7_loss: 0.2888 - val_dense_9_loss: 0.4535 - val_dense_11_loss: 0.1381 - val_dense_1_accuracy: 0.0773 - val_dense_3_accuracy: 0.9897 - val_dense_5_accuracy: 0.9948 - val_dense_7_accuracy: 0.9433 - val_dense_9_accuracy: 0.9278 - val_dense_11_accuracy: 0.9742\n"
     ]
    },
    {
     "name": "stdout",
     "output_type": "stream",
     "text": [
      "Epoch 12/100\n",
      "25/25 [==============================] - 1s 26ms/step - loss: 0.1571 - dense_1_loss: 0.0036 - dense_3_loss: 0.0192 - dense_5_loss: 0.0280 - dense_7_loss: 0.0336 - dense_9_loss: 0.0374 - dense_11_loss: 0.0353 - dense_1_accuracy: 1.0000 - dense_3_accuracy: 0.9923 - dense_5_accuracy: 0.9910 - dense_7_accuracy: 0.9820 - dense_9_accuracy: 0.9871 - dense_11_accuracy: 0.9871 - val_loss: 15.6870 - val_dense_1_loss: 14.7613 - val_dense_3_loss: 0.0835 - val_dense_5_loss: 0.0013 - val_dense_7_loss: 0.2709 - val_dense_9_loss: 0.4506 - val_dense_11_loss: 0.1194 - val_dense_1_accuracy: 0.0773 - val_dense_3_accuracy: 0.9948 - val_dense_5_accuracy: 1.0000 - val_dense_7_accuracy: 0.9536 - val_dense_9_accuracy: 0.9381 - val_dense_11_accuracy: 0.9794\n",
      "Epoch 13/100\n",
      "25/25 [==============================] - 1s 27ms/step - loss: 0.2044 - dense_1_loss: 0.0205 - dense_3_loss: 0.0274 - dense_5_loss: 0.0277 - dense_7_loss: 0.0470 - dense_9_loss: 0.0580 - dense_11_loss: 0.0237 - dense_1_accuracy: 0.9987 - dense_3_accuracy: 0.9871 - dense_5_accuracy: 0.9910 - dense_7_accuracy: 0.9755 - dense_9_accuracy: 0.9807 - dense_11_accuracy: 0.9897 - val_loss: 15.6619 - val_dense_1_loss: 14.7225 - val_dense_3_loss: 0.0831 - val_dense_5_loss: 0.0269 - val_dense_7_loss: 0.2205 - val_dense_9_loss: 0.4792 - val_dense_11_loss: 0.1297 - val_dense_1_accuracy: 0.0773 - val_dense_3_accuracy: 0.9948 - val_dense_5_accuracy: 0.9897 - val_dense_7_accuracy: 0.9588 - val_dense_9_accuracy: 0.9381 - val_dense_11_accuracy: 0.9794\n",
      "Epoch 14/100\n",
      "25/25 [==============================] - 1s 26ms/step - loss: 0.2005 - dense_1_loss: 0.0093 - dense_3_loss: 0.0191 - dense_5_loss: 0.0339 - dense_7_loss: 0.0397 - dense_9_loss: 0.0597 - dense_11_loss: 0.0388 - dense_1_accuracy: 0.9948 - dense_3_accuracy: 0.9936 - dense_5_accuracy: 0.9832 - dense_7_accuracy: 0.9820 - dense_9_accuracy: 0.9781 - dense_11_accuracy: 0.9820 - val_loss: 15.7411 - val_dense_1_loss: 14.7826 - val_dense_3_loss: 0.0831 - val_dense_5_loss: 6.4929e-04 - val_dense_7_loss: 0.2567 - val_dense_9_loss: 0.4553 - val_dense_11_loss: 0.1627 - val_dense_1_accuracy: 0.0773 - val_dense_3_accuracy: 0.9948 - val_dense_5_accuracy: 1.0000 - val_dense_7_accuracy: 0.9433 - val_dense_9_accuracy: 0.9330 - val_dense_11_accuracy: 0.9742\n",
      "Epoch 15/100\n",
      "25/25 [==============================] - 1s 27ms/step - loss: 0.2301 - dense_1_loss: 0.0057 - dense_3_loss: 0.0367 - dense_5_loss: 0.0339 - dense_7_loss: 0.0504 - dense_9_loss: 0.0722 - dense_11_loss: 0.0311 - dense_1_accuracy: 0.9974 - dense_3_accuracy: 0.9832 - dense_5_accuracy: 0.9832 - dense_7_accuracy: 0.9845 - dense_9_accuracy: 0.9704 - dense_11_accuracy: 0.9897 - val_loss: 15.5839 - val_dense_1_loss: 14.7603 - val_dense_3_loss: 0.0831 - val_dense_5_loss: 0.0059 - val_dense_7_loss: 0.2375 - val_dense_9_loss: 0.3698 - val_dense_11_loss: 0.1274 - val_dense_1_accuracy: 0.0773 - val_dense_3_accuracy: 0.9948 - val_dense_5_accuracy: 0.9948 - val_dense_7_accuracy: 0.9639 - val_dense_9_accuracy: 0.9433 - val_dense_11_accuracy: 0.9845\n",
      "Epoch 16/100\n",
      "25/25 [==============================] - 1s 27ms/step - loss: 0.2137 - dense_1_loss: 0.0156 - dense_3_loss: 0.0229 - dense_5_loss: 0.0286 - dense_7_loss: 0.0448 - dense_9_loss: 0.0539 - dense_11_loss: 0.0479 - dense_1_accuracy: 0.9974 - dense_3_accuracy: 0.9910 - dense_5_accuracy: 0.9897 - dense_7_accuracy: 0.9820 - dense_9_accuracy: 0.9781 - dense_11_accuracy: 0.9832 - val_loss: 15.5594 - val_dense_1_loss: 14.6189 - val_dense_3_loss: 0.0832 - val_dense_5_loss: 2.9480e-04 - val_dense_7_loss: 0.2202 - val_dense_9_loss: 0.5156 - val_dense_11_loss: 0.1212 - val_dense_1_accuracy: 0.0773 - val_dense_3_accuracy: 0.9948 - val_dense_5_accuracy: 1.0000 - val_dense_7_accuracy: 0.9588 - val_dense_9_accuracy: 0.9381 - val_dense_11_accuracy: 0.9845\n",
      "Epoch 17/100\n",
      "25/25 [==============================] - 1s 27ms/step - loss: 0.1688 - dense_1_loss: 0.0119 - dense_3_loss: 0.0261 - dense_5_loss: 0.0222 - dense_7_loss: 0.0392 - dense_9_loss: 0.0421 - dense_11_loss: 0.0273 - dense_1_accuracy: 0.9961 - dense_3_accuracy: 0.9897 - dense_5_accuracy: 0.9884 - dense_7_accuracy: 0.9845 - dense_9_accuracy: 0.9845 - dense_11_accuracy: 0.9884 - val_loss: 15.1969 - val_dense_1_loss: 14.4344 - val_dense_3_loss: 0.0978 - val_dense_5_loss: 0.0034 - val_dense_7_loss: 0.2694 - val_dense_9_loss: 0.3142 - val_dense_11_loss: 0.0778 - val_dense_1_accuracy: 0.0773 - val_dense_3_accuracy: 0.9897 - val_dense_5_accuracy: 1.0000 - val_dense_7_accuracy: 0.9639 - val_dense_9_accuracy: 0.9485 - val_dense_11_accuracy: 0.9794\n",
      "Epoch 18/100\n",
      "25/25 [==============================] - 1s 26ms/step - loss: 0.2150 - dense_1_loss: 0.0088 - dense_3_loss: 0.0210 - dense_5_loss: 0.0311 - dense_7_loss: 0.0269 - dense_9_loss: 0.0633 - dense_11_loss: 0.0637 - dense_1_accuracy: 0.9974 - dense_3_accuracy: 0.9923 - dense_5_accuracy: 0.9871 - dense_7_accuracy: 0.9832 - dense_9_accuracy: 0.9807 - dense_11_accuracy: 0.9794 - val_loss: 15.5725 - val_dense_1_loss: 14.7491 - val_dense_3_loss: 0.0876 - val_dense_5_loss: 0.0028 - val_dense_7_loss: 0.2141 - val_dense_9_loss: 0.4526 - val_dense_11_loss: 0.0662 - val_dense_1_accuracy: 0.0773 - val_dense_3_accuracy: 0.9897 - val_dense_5_accuracy: 1.0000 - val_dense_7_accuracy: 0.9588 - val_dense_9_accuracy: 0.9227 - val_dense_11_accuracy: 0.9897\n",
      "Epoch 19/100\n",
      "25/25 [==============================] - 1s 26ms/step - loss: 0.2005 - dense_1_loss: 0.0126 - dense_3_loss: 0.0203 - dense_5_loss: 0.0358 - dense_7_loss: 0.0465 - dense_9_loss: 0.0559 - dense_11_loss: 0.0293 - dense_1_accuracy: 0.9961 - dense_3_accuracy: 0.9923 - dense_5_accuracy: 0.9832 - dense_7_accuracy: 0.9781 - dense_9_accuracy: 0.9729 - dense_11_accuracy: 0.9884 - val_loss: 15.5854 - val_dense_1_loss: 14.8442 - val_dense_3_loss: 0.0831 - val_dense_5_loss: 8.2241e-04 - val_dense_7_loss: 0.2596 - val_dense_9_loss: 0.3745 - val_dense_11_loss: 0.0231 - val_dense_1_accuracy: 0.0773 - val_dense_3_accuracy: 0.9948 - val_dense_5_accuracy: 1.0000 - val_dense_7_accuracy: 0.9639 - val_dense_9_accuracy: 0.9485 - val_dense_11_accuracy: 0.9948\n",
      "Epoch 20/100\n",
      "25/25 [==============================] - 1s 27ms/step - loss: 0.1535 - dense_1_loss: 0.0051 - dense_3_loss: 0.0154 - dense_5_loss: 0.0240 - dense_7_loss: 0.0308 - dense_9_loss: 0.0433 - dense_11_loss: 0.0348 - dense_1_accuracy: 0.9987 - dense_3_accuracy: 0.9910 - dense_5_accuracy: 0.9858 - dense_7_accuracy: 0.9858 - dense_9_accuracy: 0.9832 - dense_11_accuracy: 0.9897 - val_loss: 15.6340 - val_dense_1_loss: 14.7902 - val_dense_3_loss: 0.0831 - val_dense_5_loss: 8.8534e-04 - val_dense_7_loss: 0.2753 - val_dense_9_loss: 0.4568 - val_dense_11_loss: 0.0277 - val_dense_1_accuracy: 0.0773 - val_dense_3_accuracy: 0.9948 - val_dense_5_accuracy: 1.0000 - val_dense_7_accuracy: 0.9742 - val_dense_9_accuracy: 0.9485 - val_dense_11_accuracy: 0.9897\n",
      "Epoch 21/100\n",
      "25/25 [==============================] - 1s 26ms/step - loss: 0.1777 - dense_1_loss: 0.0067 - dense_3_loss: 0.0200 - dense_5_loss: 0.0234 - dense_7_loss: 0.0385 - dense_9_loss: 0.0464 - dense_11_loss: 0.0426 - dense_1_accuracy: 0.9974 - dense_3_accuracy: 0.9923 - dense_5_accuracy: 0.9897 - dense_7_accuracy: 0.9858 - dense_9_accuracy: 0.9832 - dense_11_accuracy: 0.9768 - val_loss: 15.7061 - val_dense_1_loss: 14.8152 - val_dense_3_loss: 0.0833 - val_dense_5_loss: 0.0010 - val_dense_7_loss: 0.2705 - val_dense_9_loss: 0.5039 - val_dense_11_loss: 0.0321 - val_dense_1_accuracy: 0.0773 - val_dense_3_accuracy: 0.9948 - val_dense_5_accuracy: 1.0000 - val_dense_7_accuracy: 0.9639 - val_dense_9_accuracy: 0.9330 - val_dense_11_accuracy: 0.9897\n",
      "Epoch 22/100\n",
      "25/25 [==============================] - 1s 27ms/step - loss: 0.1860 - dense_1_loss: 0.0043 - dense_3_loss: 0.0228 - dense_5_loss: 0.0245 - dense_7_loss: 0.0318 - dense_9_loss: 0.0694 - dense_11_loss: 0.0333 - dense_1_accuracy: 0.9987 - dense_3_accuracy: 0.9884 - dense_5_accuracy: 0.9858 - dense_7_accuracy: 0.9923 - dense_9_accuracy: 0.9665 - dense_11_accuracy: 0.9910 - val_loss: 15.5795 - val_dense_1_loss: 14.7700 - val_dense_3_loss: 0.0831 - val_dense_5_loss: 0.0103 - val_dense_7_loss: 0.2296 - val_dense_9_loss: 0.4380 - val_dense_11_loss: 0.0484 - val_dense_1_accuracy: 0.0773 - val_dense_3_accuracy: 0.9948 - val_dense_5_accuracy: 0.9948 - val_dense_7_accuracy: 0.9639 - val_dense_9_accuracy: 0.9381 - val_dense_11_accuracy: 0.9897\n"
     ]
    },
    {
     "name": "stdout",
     "output_type": "stream",
     "text": [
      "Epoch 23/100\n",
      "25/25 [==============================] - 1s 27ms/step - loss: 0.1758 - dense_1_loss: 0.0177 - dense_3_loss: 0.0206 - dense_5_loss: 0.0292 - dense_7_loss: 0.0414 - dense_9_loss: 0.0398 - dense_11_loss: 0.0272 - dense_1_accuracy: 0.9936 - dense_3_accuracy: 0.9936 - dense_5_accuracy: 0.9910 - dense_7_accuracy: 0.9871 - dense_9_accuracy: 0.9871 - dense_11_accuracy: 0.9910 - val_loss: 15.6092 - val_dense_1_loss: 14.6520 - val_dense_3_loss: 0.0831 - val_dense_5_loss: 0.0065 - val_dense_7_loss: 0.3009 - val_dense_9_loss: 0.5037 - val_dense_11_loss: 0.0630 - val_dense_1_accuracy: 0.0773 - val_dense_3_accuracy: 0.9948 - val_dense_5_accuracy: 0.9948 - val_dense_7_accuracy: 0.9691 - val_dense_9_accuracy: 0.9330 - val_dense_11_accuracy: 0.9845\n",
      "Epoch 24/100\n",
      "25/25 [==============================] - 1s 27ms/step - loss: 0.1663 - dense_1_loss: 0.0037 - dense_3_loss: 0.0140 - dense_5_loss: 0.0371 - dense_7_loss: 0.0431 - dense_9_loss: 0.0436 - dense_11_loss: 0.0249 - dense_1_accuracy: 0.9974 - dense_3_accuracy: 0.9961 - dense_5_accuracy: 0.9871 - dense_7_accuracy: 0.9858 - dense_9_accuracy: 0.9820 - dense_11_accuracy: 0.9936 - val_loss: 15.4896 - val_dense_1_loss: 14.6218 - val_dense_3_loss: 0.0831 - val_dense_5_loss: 0.0014 - val_dense_7_loss: 0.2481 - val_dense_9_loss: 0.4758 - val_dense_11_loss: 0.0594 - val_dense_1_accuracy: 0.0773 - val_dense_3_accuracy: 0.9948 - val_dense_5_accuracy: 1.0000 - val_dense_7_accuracy: 0.9639 - val_dense_9_accuracy: 0.9485 - val_dense_11_accuracy: 0.9794\n",
      "Epoch 25/100\n",
      "25/25 [==============================] - 1s 27ms/step - loss: 0.1972 - dense_1_loss: 0.0098 - dense_3_loss: 0.0274 - dense_5_loss: 0.0261 - dense_7_loss: 0.0423 - dense_9_loss: 0.0528 - dense_11_loss: 0.0389 - dense_1_accuracy: 0.9987 - dense_3_accuracy: 0.9897 - dense_5_accuracy: 0.9832 - dense_7_accuracy: 0.9820 - dense_9_accuracy: 0.9781 - dense_11_accuracy: 0.9832 - val_loss: 15.1701 - val_dense_1_loss: 14.3188 - val_dense_3_loss: 0.0833 - val_dense_5_loss: 0.0060 - val_dense_7_loss: 0.3277 - val_dense_9_loss: 0.3723 - val_dense_11_loss: 0.0620 - val_dense_1_accuracy: 0.0773 - val_dense_3_accuracy: 0.9948 - val_dense_5_accuracy: 0.9948 - val_dense_7_accuracy: 0.9536 - val_dense_9_accuracy: 0.9536 - val_dense_11_accuracy: 0.9794\n",
      "Epoch 26/100\n",
      "25/25 [==============================] - 1s 27ms/step - loss: 0.2208 - dense_1_loss: 0.0062 - dense_3_loss: 0.0332 - dense_5_loss: 0.0300 - dense_7_loss: 0.0476 - dense_9_loss: 0.0599 - dense_11_loss: 0.0440 - dense_1_accuracy: 0.9987 - dense_3_accuracy: 0.9897 - dense_5_accuracy: 0.9871 - dense_7_accuracy: 0.9820 - dense_9_accuracy: 0.9729 - dense_11_accuracy: 0.9910 - val_loss: 15.0942 - val_dense_1_loss: 14.3576 - val_dense_3_loss: 0.0838 - val_dense_5_loss: 0.0035 - val_dense_7_loss: 0.1666 - val_dense_9_loss: 0.4231 - val_dense_11_loss: 0.0597 - val_dense_1_accuracy: 0.0773 - val_dense_3_accuracy: 0.9948 - val_dense_5_accuracy: 1.0000 - val_dense_7_accuracy: 0.9639 - val_dense_9_accuracy: 0.9485 - val_dense_11_accuracy: 0.9845\n",
      "Epoch 27/100\n",
      "25/25 [==============================] - 1s 26ms/step - loss: 0.2220 - dense_1_loss: 0.0019 - dense_3_loss: 0.0255 - dense_5_loss: 0.0465 - dense_7_loss: 0.0288 - dense_9_loss: 0.0693 - dense_11_loss: 0.0500 - dense_1_accuracy: 1.0000 - dense_3_accuracy: 0.9871 - dense_5_accuracy: 0.9858 - dense_7_accuracy: 0.9884 - dense_9_accuracy: 0.9691 - dense_11_accuracy: 0.9781 - val_loss: 15.5910 - val_dense_1_loss: 14.6925 - val_dense_3_loss: 0.0837 - val_dense_5_loss: 9.4693e-04 - val_dense_7_loss: 0.2405 - val_dense_9_loss: 0.5242 - val_dense_11_loss: 0.0491 - val_dense_1_accuracy: 0.0773 - val_dense_3_accuracy: 0.9948 - val_dense_5_accuracy: 1.0000 - val_dense_7_accuracy: 0.9639 - val_dense_9_accuracy: 0.9485 - val_dense_11_accuracy: 0.9897\n",
      "Epoch 28/100\n",
      "25/25 [==============================] - 1s 26ms/step - loss: 0.2116 - dense_1_loss: 0.0061 - dense_3_loss: 0.0305 - dense_5_loss: 0.0394 - dense_7_loss: 0.0334 - dense_9_loss: 0.0671 - dense_11_loss: 0.0351 - dense_1_accuracy: 0.9974 - dense_3_accuracy: 0.9871 - dense_5_accuracy: 0.9884 - dense_7_accuracy: 0.9884 - dense_9_accuracy: 0.9768 - dense_11_accuracy: 0.9845 - val_loss: 15.6506 - val_dense_1_loss: 14.7214 - val_dense_3_loss: 0.0834 - val_dense_5_loss: 0.0013 - val_dense_7_loss: 0.2636 - val_dense_9_loss: 0.5714 - val_dense_11_loss: 0.0095 - val_dense_1_accuracy: 0.0773 - val_dense_3_accuracy: 0.9948 - val_dense_5_accuracy: 1.0000 - val_dense_7_accuracy: 0.9639 - val_dense_9_accuracy: 0.9485 - val_dense_11_accuracy: 0.9948\n",
      "Epoch 29/100\n",
      "25/25 [==============================] - 1s 27ms/step - loss: 0.2114 - dense_1_loss: 0.0090 - dense_3_loss: 0.0233 - dense_5_loss: 0.0384 - dense_7_loss: 0.0337 - dense_9_loss: 0.0482 - dense_11_loss: 0.0589 - dense_1_accuracy: 0.9974 - dense_3_accuracy: 0.9910 - dense_5_accuracy: 0.9910 - dense_7_accuracy: 0.9910 - dense_9_accuracy: 0.9755 - dense_11_accuracy: 0.9781 - val_loss: 15.5830 - val_dense_1_loss: 14.5975 - val_dense_3_loss: 0.0832 - val_dense_5_loss: 0.0109 - val_dense_7_loss: 0.2696 - val_dense_9_loss: 0.5113 - val_dense_11_loss: 0.1105 - val_dense_1_accuracy: 0.0773 - val_dense_3_accuracy: 0.9948 - val_dense_5_accuracy: 0.9897 - val_dense_7_accuracy: 0.9639 - val_dense_9_accuracy: 0.9330 - val_dense_11_accuracy: 0.9845\n",
      "Epoch 30/100\n",
      "25/25 [==============================] - 1s 27ms/step - loss: 0.1768 - dense_1_loss: 0.0097 - dense_3_loss: 0.0147 - dense_5_loss: 0.0285 - dense_7_loss: 0.0257 - dense_9_loss: 0.0539 - dense_11_loss: 0.0444 - dense_1_accuracy: 0.9987 - dense_3_accuracy: 0.9948 - dense_5_accuracy: 0.9910 - dense_7_accuracy: 0.9845 - dense_9_accuracy: 0.9742 - dense_11_accuracy: 0.9820 - val_loss: 15.7055 - val_dense_1_loss: 14.7289 - val_dense_3_loss: 0.0845 - val_dense_5_loss: 0.0341 - val_dense_7_loss: 0.2502 - val_dense_9_loss: 0.5632 - val_dense_11_loss: 0.0445 - val_dense_1_accuracy: 0.0773 - val_dense_3_accuracy: 0.9948 - val_dense_5_accuracy: 0.9948 - val_dense_7_accuracy: 0.9691 - val_dense_9_accuracy: 0.9433 - val_dense_11_accuracy: 0.9897\n",
      "Epoch 31/100\n",
      "25/25 [==============================] - 1s 26ms/step - loss: 0.2434 - dense_1_loss: 0.0062 - dense_3_loss: 0.0390 - dense_5_loss: 0.0319 - dense_7_loss: 0.0589 - dense_9_loss: 0.0558 - dense_11_loss: 0.0516 - dense_1_accuracy: 0.9987 - dense_3_accuracy: 0.9936 - dense_5_accuracy: 0.9884 - dense_7_accuracy: 0.9742 - dense_9_accuracy: 0.9755 - dense_11_accuracy: 0.9807 - val_loss: 15.4437 - val_dense_1_loss: 14.4971 - val_dense_3_loss: 0.0845 - val_dense_5_loss: 0.0046 - val_dense_7_loss: 0.2164 - val_dense_9_loss: 0.6091 - val_dense_11_loss: 0.0320 - val_dense_1_accuracy: 0.0773 - val_dense_3_accuracy: 0.9948 - val_dense_5_accuracy: 1.0000 - val_dense_7_accuracy: 0.9588 - val_dense_9_accuracy: 0.9433 - val_dense_11_accuracy: 0.9897\n",
      "Epoch 32/100\n",
      "25/25 [==============================] - 1s 27ms/step - loss: 0.2176 - dense_1_loss: 0.0040 - dense_3_loss: 0.0219 - dense_5_loss: 0.0302 - dense_7_loss: 0.0498 - dense_9_loss: 0.0642 - dense_11_loss: 0.0475 - dense_1_accuracy: 0.9987 - dense_3_accuracy: 0.9897 - dense_5_accuracy: 0.9832 - dense_7_accuracy: 0.9768 - dense_9_accuracy: 0.9755 - dense_11_accuracy: 0.9807 - val_loss: 15.0797 - val_dense_1_loss: 14.3334 - val_dense_3_loss: 0.0831 - val_dense_5_loss: 0.0065 - val_dense_7_loss: 0.1678 - val_dense_9_loss: 0.4286 - val_dense_11_loss: 0.0603 - val_dense_1_accuracy: 0.0773 - val_dense_3_accuracy: 0.9948 - val_dense_5_accuracy: 0.9948 - val_dense_7_accuracy: 0.9742 - val_dense_9_accuracy: 0.9433 - val_dense_11_accuracy: 0.9897\n",
      "Epoch 33/100\n",
      "25/25 [==============================] - 1s 27ms/step - loss: 0.1554 - dense_1_loss: 0.0027 - dense_3_loss: 0.0279 - dense_5_loss: 0.0325 - dense_7_loss: 0.0208 - dense_9_loss: 0.0412 - dense_11_loss: 0.0303 - dense_1_accuracy: 0.9987 - dense_3_accuracy: 0.9910 - dense_5_accuracy: 0.9845 - dense_7_accuracy: 0.9884 - dense_9_accuracy: 0.9807 - dense_11_accuracy: 0.9871 - val_loss: 15.0574 - val_dense_1_loss: 14.2299 - val_dense_3_loss: 0.0831 - val_dense_5_loss: 0.0019 - val_dense_7_loss: 0.2239 - val_dense_9_loss: 0.4758 - val_dense_11_loss: 0.0429 - val_dense_1_accuracy: 0.0773 - val_dense_3_accuracy: 0.9948 - val_dense_5_accuracy: 1.0000 - val_dense_7_accuracy: 0.9742 - val_dense_9_accuracy: 0.9381 - val_dense_11_accuracy: 0.9845\n"
     ]
    },
    {
     "name": "stdout",
     "output_type": "stream",
     "text": [
      "Epoch 34/100\n",
      "25/25 [==============================] - 1s 27ms/step - loss: 0.1561 - dense_1_loss: 0.0040 - dense_3_loss: 0.0407 - dense_5_loss: 0.0243 - dense_7_loss: 0.0219 - dense_9_loss: 0.0347 - dense_11_loss: 0.0305 - dense_1_accuracy: 1.0000 - dense_3_accuracy: 0.9871 - dense_5_accuracy: 0.9845 - dense_7_accuracy: 0.9910 - dense_9_accuracy: 0.9820 - dense_11_accuracy: 0.9884 - val_loss: 15.4332 - val_dense_1_loss: 14.4894 - val_dense_3_loss: 0.0831 - val_dense_5_loss: 0.0055 - val_dense_7_loss: 0.2196 - val_dense_9_loss: 0.5642 - val_dense_11_loss: 0.0713 - val_dense_1_accuracy: 0.0773 - val_dense_3_accuracy: 0.9948 - val_dense_5_accuracy: 1.0000 - val_dense_7_accuracy: 0.9691 - val_dense_9_accuracy: 0.9433 - val_dense_11_accuracy: 0.9794\n",
      "Epoch 35/100\n",
      "25/25 [==============================] - 1s 26ms/step - loss: 0.1791 - dense_1_loss: 0.0022 - dense_3_loss: 0.0173 - dense_5_loss: 0.0374 - dense_7_loss: 0.0361 - dense_9_loss: 0.0532 - dense_11_loss: 0.0330 - dense_1_accuracy: 1.0000 - dense_3_accuracy: 0.9910 - dense_5_accuracy: 0.9871 - dense_7_accuracy: 0.9884 - dense_9_accuracy: 0.9729 - dense_11_accuracy: 0.9845 - val_loss: 15.4518 - val_dense_1_loss: 14.5475 - val_dense_3_loss: 0.0850 - val_dense_5_loss: 1.1978e-04 - val_dense_7_loss: 0.2193 - val_dense_9_loss: 0.5295 - val_dense_11_loss: 0.0703 - val_dense_1_accuracy: 0.0773 - val_dense_3_accuracy: 0.9948 - val_dense_5_accuracy: 1.0000 - val_dense_7_accuracy: 0.9742 - val_dense_9_accuracy: 0.9433 - val_dense_11_accuracy: 0.9845\n",
      "Epoch 36/100\n",
      "25/25 [==============================] - 1s 27ms/step - loss: 0.2107 - dense_1_loss: 0.0162 - dense_3_loss: 0.0276 - dense_5_loss: 0.0353 - dense_7_loss: 0.0358 - dense_9_loss: 0.0604 - dense_11_loss: 0.0353 - dense_1_accuracy: 0.9961 - dense_3_accuracy: 0.9858 - dense_5_accuracy: 0.9884 - dense_7_accuracy: 0.9897 - dense_9_accuracy: 0.9729 - dense_11_accuracy: 0.9807 - val_loss: 15.8850 - val_dense_1_loss: 14.7768 - val_dense_3_loss: 0.0840 - val_dense_5_loss: 0.0307 - val_dense_7_loss: 0.3142 - val_dense_9_loss: 0.5924 - val_dense_11_loss: 0.0868 - val_dense_1_accuracy: 0.0773 - val_dense_3_accuracy: 0.9948 - val_dense_5_accuracy: 0.9948 - val_dense_7_accuracy: 0.9691 - val_dense_9_accuracy: 0.9433 - val_dense_11_accuracy: 0.9845\n",
      "Epoch 37/100\n",
      "25/25 [==============================] - 1s 27ms/step - loss: 0.2160 - dense_1_loss: 0.0018 - dense_3_loss: 0.0202 - dense_5_loss: 0.0338 - dense_7_loss: 0.0437 - dense_9_loss: 0.0723 - dense_11_loss: 0.0442 - dense_1_accuracy: 1.0000 - dense_3_accuracy: 0.9923 - dense_5_accuracy: 0.9832 - dense_7_accuracy: 0.9832 - dense_9_accuracy: 0.9781 - dense_11_accuracy: 0.9794 - val_loss: 15.7193 - val_dense_1_loss: 14.7390 - val_dense_3_loss: 0.0835 - val_dense_5_loss: 0.0291 - val_dense_7_loss: 0.2562 - val_dense_9_loss: 0.5472 - val_dense_11_loss: 0.0644 - val_dense_1_accuracy: 0.0773 - val_dense_3_accuracy: 0.9948 - val_dense_5_accuracy: 0.9948 - val_dense_7_accuracy: 0.9691 - val_dense_9_accuracy: 0.9175 - val_dense_11_accuracy: 0.9845\n",
      "Epoch 38/100\n",
      "25/25 [==============================] - ETA: 0s - loss: 0.1812 - dense_1_loss: 0.0155 - dense_3_loss: 0.0249 - dense_5_loss: 0.0299 - dense_7_loss: 0.0240 - dense_9_loss: 0.0398 - dense_11_loss: 0.0470 - dense_1_accuracy: 0.9961 - dense_3_accuracy: 0.9936 - dense_5_accuracy: 0.9871 - dense_7_accuracy: 0.9897 - dense_9_accuracy: 0.9845 - dense_11_accuracy: 0.978 - 1s 27ms/step - loss: 0.1812 - dense_1_loss: 0.0155 - dense_3_loss: 0.0249 - dense_5_loss: 0.0299 - dense_7_loss: 0.0240 - dense_9_loss: 0.0398 - dense_11_loss: 0.0470 - dense_1_accuracy: 0.9961 - dense_3_accuracy: 0.9936 - dense_5_accuracy: 0.9871 - dense_7_accuracy: 0.9897 - dense_9_accuracy: 0.9845 - dense_11_accuracy: 0.9781 - val_loss: 15.5640 - val_dense_1_loss: 14.6421 - val_dense_3_loss: 0.0831 - val_dense_5_loss: 1.7364e-04 - val_dense_7_loss: 0.2349 - val_dense_9_loss: 0.5481 - val_dense_11_loss: 0.0556 - val_dense_1_accuracy: 0.0773 - val_dense_3_accuracy: 0.9948 - val_dense_5_accuracy: 1.0000 - val_dense_7_accuracy: 0.9639 - val_dense_9_accuracy: 0.9381 - val_dense_11_accuracy: 0.9794\n",
      "Epoch 39/100\n",
      "25/25 [==============================] - 1s 26ms/step - loss: 0.2047 - dense_1_loss: 0.0086 - dense_3_loss: 0.0122 - dense_5_loss: 0.0181 - dense_7_loss: 0.0713 - dense_9_loss: 0.0701 - dense_11_loss: 0.0244 - dense_1_accuracy: 0.9987 - dense_3_accuracy: 0.9936 - dense_5_accuracy: 0.9923 - dense_7_accuracy: 0.9820 - dense_9_accuracy: 0.9768 - dense_11_accuracy: 0.9923 - val_loss: 15.7427 - val_dense_1_loss: 14.6820 - val_dense_3_loss: 0.0831 - val_dense_5_loss: 0.0010 - val_dense_7_loss: 0.3505 - val_dense_9_loss: 0.5790 - val_dense_11_loss: 0.0470 - val_dense_1_accuracy: 0.0773 - val_dense_3_accuracy: 0.9948 - val_dense_5_accuracy: 1.0000 - val_dense_7_accuracy: 0.9588 - val_dense_9_accuracy: 0.9433 - val_dense_11_accuracy: 0.9897\n",
      "Epoch 40/100\n",
      "25/25 [==============================] - 1s 27ms/step - loss: 0.1468 - dense_1_loss: 0.0078 - dense_3_loss: 0.0130 - dense_5_loss: 0.0215 - dense_7_loss: 0.0156 - dense_9_loss: 0.0499 - dense_11_loss: 0.0389 - dense_1_accuracy: 0.9987 - dense_3_accuracy: 0.9948 - dense_5_accuracy: 0.9897 - dense_7_accuracy: 0.9974 - dense_9_accuracy: 0.9845 - dense_11_accuracy: 0.9845 - val_loss: 15.9365 - val_dense_1_loss: 14.7164 - val_dense_3_loss: 0.0841 - val_dense_5_loss: 0.0139 - val_dense_7_loss: 0.3299 - val_dense_9_loss: 0.6297 - val_dense_11_loss: 0.1625 - val_dense_1_accuracy: 0.0773 - val_dense_3_accuracy: 0.9948 - val_dense_5_accuracy: 0.9948 - val_dense_7_accuracy: 0.9536 - val_dense_9_accuracy: 0.9433 - val_dense_11_accuracy: 0.9691\n",
      "Epoch 41/100\n",
      "25/25 [==============================] - 1s 26ms/step - loss: 0.1912 - dense_1_loss: 0.0103 - dense_3_loss: 0.0253 - dense_5_loss: 0.0300 - dense_7_loss: 0.0424 - dense_9_loss: 0.0391 - dense_11_loss: 0.0442 - dense_1_accuracy: 0.9923 - dense_3_accuracy: 0.9871 - dense_5_accuracy: 0.9910 - dense_7_accuracy: 0.9832 - dense_9_accuracy: 0.9871 - dense_11_accuracy: 0.9820 - val_loss: 15.1654 - val_dense_1_loss: 14.2378 - val_dense_3_loss: 0.1166 - val_dense_5_loss: 0.0047 - val_dense_7_loss: 0.2616 - val_dense_9_loss: 0.4831 - val_dense_11_loss: 0.0616 - val_dense_1_accuracy: 0.0773 - val_dense_3_accuracy: 0.9897 - val_dense_5_accuracy: 1.0000 - val_dense_7_accuracy: 0.9588 - val_dense_9_accuracy: 0.9433 - val_dense_11_accuracy: 0.9845\n",
      "Epoch 42/100\n",
      "25/25 [==============================] - 1s 27ms/step - loss: 0.1897 - dense_1_loss: 0.0106 - dense_3_loss: 0.0247 - dense_5_loss: 0.0326 - dense_7_loss: 0.0479 - dense_9_loss: 0.0407 - dense_11_loss: 0.0332 - dense_1_accuracy: 0.9974 - dense_3_accuracy: 0.9897 - dense_5_accuracy: 0.9858 - dense_7_accuracy: 0.9807 - dense_9_accuracy: 0.9845 - dense_11_accuracy: 0.9871 - val_loss: 15.6059 - val_dense_1_loss: 14.4998 - val_dense_3_loss: 0.0836 - val_dense_5_loss: 0.0097 - val_dense_7_loss: 0.2417 - val_dense_9_loss: 0.6200 - val_dense_11_loss: 0.1510 - val_dense_1_accuracy: 0.0773 - val_dense_3_accuracy: 0.9948 - val_dense_5_accuracy: 0.9948 - val_dense_7_accuracy: 0.9588 - val_dense_9_accuracy: 0.9381 - val_dense_11_accuracy: 0.9845\n",
      "Epoch 43/100\n",
      "25/25 [==============================] - 1s 27ms/step - loss: 0.2254 - dense_1_loss: 0.0066 - dense_3_loss: 0.0235 - dense_5_loss: 0.0247 - dense_7_loss: 0.0455 - dense_9_loss: 0.0502 - dense_11_loss: 0.0750 - dense_1_accuracy: 0.9961 - dense_3_accuracy: 0.9897 - dense_5_accuracy: 0.9910 - dense_7_accuracy: 0.9768 - dense_9_accuracy: 0.9755 - dense_11_accuracy: 0.9755 - val_loss: 15.8156 - val_dense_1_loss: 14.6567 - val_dense_3_loss: 0.0938 - val_dense_5_loss: 0.0132 - val_dense_7_loss: 0.2543 - val_dense_9_loss: 0.5813 - val_dense_11_loss: 0.2163 - val_dense_1_accuracy: 0.0773 - val_dense_3_accuracy: 0.9897 - val_dense_5_accuracy: 0.9948 - val_dense_7_accuracy: 0.9485 - val_dense_9_accuracy: 0.9278 - val_dense_11_accuracy: 0.9742\n",
      "Epoch 44/100\n"
     ]
    },
    {
     "name": "stdout",
     "output_type": "stream",
     "text": [
      "25/25 [==============================] - 1s 26ms/step - loss: 0.2329 - dense_1_loss: 0.0069 - dense_3_loss: 0.0196 - dense_5_loss: 0.0461 - dense_7_loss: 0.0490 - dense_9_loss: 0.0596 - dense_11_loss: 0.0516 - dense_1_accuracy: 0.9974 - dense_3_accuracy: 0.9948 - dense_5_accuracy: 0.9884 - dense_7_accuracy: 0.9820 - dense_9_accuracy: 0.9858 - dense_11_accuracy: 0.9781 - val_loss: 16.0899 - val_dense_1_loss: 14.8520 - val_dense_3_loss: 0.0842 - val_dense_5_loss: 0.0121 - val_dense_7_loss: 0.3432 - val_dense_9_loss: 0.6259 - val_dense_11_loss: 0.1725 - val_dense_1_accuracy: 0.0773 - val_dense_3_accuracy: 0.9948 - val_dense_5_accuracy: 0.9948 - val_dense_7_accuracy: 0.9381 - val_dense_9_accuracy: 0.9278 - val_dense_11_accuracy: 0.9794\n",
      "Epoch 45/100\n",
      "25/25 [==============================] - 1s 26ms/step - loss: 0.2289 - dense_1_loss: 0.0034 - dense_3_loss: 0.0159 - dense_5_loss: 0.0563 - dense_7_loss: 0.0549 - dense_9_loss: 0.0396 - dense_11_loss: 0.0588 - dense_1_accuracy: 1.0000 - dense_3_accuracy: 0.9936 - dense_5_accuracy: 0.9781 - dense_7_accuracy: 0.9858 - dense_9_accuracy: 0.9858 - dense_11_accuracy: 0.9820 - val_loss: 15.7562 - val_dense_1_loss: 14.8024 - val_dense_3_loss: 0.1034 - val_dense_5_loss: 5.2619e-04 - val_dense_7_loss: 0.2733 - val_dense_9_loss: 0.4866 - val_dense_11_loss: 0.0900 - val_dense_1_accuracy: 0.0773 - val_dense_3_accuracy: 0.9845 - val_dense_5_accuracy: 1.0000 - val_dense_7_accuracy: 0.9691 - val_dense_9_accuracy: 0.9433 - val_dense_11_accuracy: 0.9794\n",
      "Epoch 46/100\n",
      "25/25 [==============================] - 1s 26ms/step - loss: 0.2213 - dense_1_loss: 0.0221 - dense_3_loss: 0.0155 - dense_5_loss: 0.0332 - dense_7_loss: 0.0419 - dense_9_loss: 0.0491 - dense_11_loss: 0.0595 - dense_1_accuracy: 0.9936 - dense_3_accuracy: 0.9961 - dense_5_accuracy: 0.9845 - dense_7_accuracy: 0.9845 - dense_9_accuracy: 0.9807 - dense_11_accuracy: 0.9832 - val_loss: 15.3254 - val_dense_1_loss: 14.4174 - val_dense_3_loss: 0.0911 - val_dense_5_loss: 0.0013 - val_dense_7_loss: 0.2388 - val_dense_9_loss: 0.4454 - val_dense_11_loss: 0.1315 - val_dense_1_accuracy: 0.0773 - val_dense_3_accuracy: 0.9897 - val_dense_5_accuracy: 1.0000 - val_dense_7_accuracy: 0.9742 - val_dense_9_accuracy: 0.9278 - val_dense_11_accuracy: 0.9845\n",
      "Epoch 47/100\n",
      "25/25 [==============================] - 1s 26ms/step - loss: 0.1836 - dense_1_loss: 0.0067 - dense_3_loss: 0.0190 - dense_5_loss: 0.0322 - dense_7_loss: 0.0396 - dense_9_loss: 0.0387 - dense_11_loss: 0.0473 - dense_1_accuracy: 0.9974 - dense_3_accuracy: 0.9936 - dense_5_accuracy: 0.9871 - dense_7_accuracy: 0.9781 - dense_9_accuracy: 0.9871 - dense_11_accuracy: 0.9845 - val_loss: 15.4029 - val_dense_1_loss: 14.4754 - val_dense_3_loss: 0.0951 - val_dense_5_loss: 0.0012 - val_dense_7_loss: 0.2199 - val_dense_9_loss: 0.4234 - val_dense_11_loss: 0.1880 - val_dense_1_accuracy: 0.0773 - val_dense_3_accuracy: 0.9794 - val_dense_5_accuracy: 1.0000 - val_dense_7_accuracy: 0.9639 - val_dense_9_accuracy: 0.9227 - val_dense_11_accuracy: 0.9742\n",
      "Epoch 48/100\n",
      "25/25 [==============================] - 1s 27ms/step - loss: 0.1534 - dense_1_loss: 0.0030 - dense_3_loss: 0.0194 - dense_5_loss: 0.0341 - dense_7_loss: 0.0271 - dense_9_loss: 0.0396 - dense_11_loss: 0.0302 - dense_1_accuracy: 0.9974 - dense_3_accuracy: 0.9961 - dense_5_accuracy: 0.9910 - dense_7_accuracy: 0.9897 - dense_9_accuracy: 0.9794 - dense_11_accuracy: 0.9910 - val_loss: 15.6530 - val_dense_1_loss: 14.6631 - val_dense_3_loss: 0.0832 - val_dense_5_loss: 2.3924e-04 - val_dense_7_loss: 0.2636 - val_dense_9_loss: 0.4434 - val_dense_11_loss: 0.1994 - val_dense_1_accuracy: 0.0773 - val_dense_3_accuracy: 0.9948 - val_dense_5_accuracy: 1.0000 - val_dense_7_accuracy: 0.9639 - val_dense_9_accuracy: 0.9536 - val_dense_11_accuracy: 0.9794\n",
      "Epoch 49/100\n",
      "25/25 [==============================] - 1s 27ms/step - loss: 0.1755 - dense_1_loss: 0.0052 - dense_3_loss: 0.0152 - dense_5_loss: 0.0386 - dense_7_loss: 0.0237 - dense_9_loss: 0.0555 - dense_11_loss: 0.0373 - dense_1_accuracy: 0.9987 - dense_3_accuracy: 0.9936 - dense_5_accuracy: 0.9884 - dense_7_accuracy: 0.9884 - dense_9_accuracy: 0.9742 - dense_11_accuracy: 0.9910 - val_loss: 15.5313 - val_dense_1_loss: 14.4450 - val_dense_3_loss: 0.0833 - val_dense_5_loss: 0.0155 - val_dense_7_loss: 0.2783 - val_dense_9_loss: 0.4992 - val_dense_11_loss: 0.2100 - val_dense_1_accuracy: 0.0773 - val_dense_3_accuracy: 0.9948 - val_dense_5_accuracy: 0.9948 - val_dense_7_accuracy: 0.9588 - val_dense_9_accuracy: 0.9381 - val_dense_11_accuracy: 0.9794\n",
      "Epoch 50/100\n",
      "25/25 [==============================] - 1s 27ms/step - loss: 0.1780 - dense_1_loss: 0.0048 - dense_3_loss: 0.0190 - dense_5_loss: 0.0406 - dense_7_loss: 0.0433 - dense_9_loss: 0.0350 - dense_11_loss: 0.0354 - dense_1_accuracy: 0.9987 - dense_3_accuracy: 0.9936 - dense_5_accuracy: 0.9897 - dense_7_accuracy: 0.9781 - dense_9_accuracy: 0.9910 - dense_11_accuracy: 0.9858 - val_loss: 15.5258 - val_dense_1_loss: 14.5296 - val_dense_3_loss: 0.0831 - val_dense_5_loss: 0.0029 - val_dense_7_loss: 0.2856 - val_dense_9_loss: 0.4418 - val_dense_11_loss: 0.1827 - val_dense_1_accuracy: 0.0773 - val_dense_3_accuracy: 0.9948 - val_dense_5_accuracy: 1.0000 - val_dense_7_accuracy: 0.9639 - val_dense_9_accuracy: 0.9278 - val_dense_11_accuracy: 0.9742\n",
      "Epoch 51/100\n",
      "25/25 [==============================] - 1s 27ms/step - loss: 0.1888 - dense_1_loss: 0.0011 - dense_3_loss: 0.0167 - dense_5_loss: 0.0440 - dense_7_loss: 0.0303 - dense_9_loss: 0.0429 - dense_11_loss: 0.0539 - dense_1_accuracy: 1.0000 - dense_3_accuracy: 0.9974 - dense_5_accuracy: 0.9845 - dense_7_accuracy: 0.9910 - dense_9_accuracy: 0.9807 - dense_11_accuracy: 0.9832 - val_loss: 15.7544 - val_dense_1_loss: 14.6163 - val_dense_3_loss: 0.0832 - val_dense_5_loss: 0.0276 - val_dense_7_loss: 0.2824 - val_dense_9_loss: 0.6000 - val_dense_11_loss: 0.1449 - val_dense_1_accuracy: 0.0773 - val_dense_3_accuracy: 0.9948 - val_dense_5_accuracy: 0.9897 - val_dense_7_accuracy: 0.9588 - val_dense_9_accuracy: 0.9330 - val_dense_11_accuracy: 0.9794\n",
      "Epoch 52/100\n",
      "25/25 [==============================] - 1s 27ms/step - loss: 0.1792 - dense_1_loss: 0.0235 - dense_3_loss: 0.0166 - dense_5_loss: 0.0314 - dense_7_loss: 0.0369 - dense_9_loss: 0.0283 - dense_11_loss: 0.0425 - dense_1_accuracy: 0.9948 - dense_3_accuracy: 0.9948 - dense_5_accuracy: 0.9897 - dense_7_accuracy: 0.9910 - dense_9_accuracy: 0.9858 - dense_11_accuracy: 0.9858 - val_loss: 15.7288 - val_dense_1_loss: 14.8650 - val_dense_3_loss: 0.0832 - val_dense_5_loss: 5.9908e-04 - val_dense_7_loss: 0.2452 - val_dense_9_loss: 0.4232 - val_dense_11_loss: 0.1115 - val_dense_1_accuracy: 0.0773 - val_dense_3_accuracy: 0.9948 - val_dense_5_accuracy: 1.0000 - val_dense_7_accuracy: 0.9588 - val_dense_9_accuracy: 0.9536 - val_dense_11_accuracy: 0.9897\n",
      "Epoch 53/100\n",
      "25/25 [==============================] - 1s 26ms/step - loss: 0.1525 - dense_1_loss: 0.0052 - dense_3_loss: 0.0065 - dense_5_loss: 0.0242 - dense_7_loss: 0.0408 - dense_9_loss: 0.0323 - dense_11_loss: 0.0435 - dense_1_accuracy: 0.9987 - dense_3_accuracy: 0.9974 - dense_5_accuracy: 0.9897 - dense_7_accuracy: 0.9845 - dense_9_accuracy: 0.9910 - dense_11_accuracy: 0.9820 - val_loss: 15.8060 - val_dense_1_loss: 14.8376 - val_dense_3_loss: 0.0833 - val_dense_5_loss: 0.0042 - val_dense_7_loss: 0.2584 - val_dense_9_loss: 0.4957 - val_dense_11_loss: 0.1268 - val_dense_1_accuracy: 0.0773 - val_dense_3_accuracy: 0.9948 - val_dense_5_accuracy: 0.9948 - val_dense_7_accuracy: 0.9639 - val_dense_9_accuracy: 0.9485 - val_dense_11_accuracy: 0.9845\n",
      "Epoch 54/100\n",
      "25/25 [==============================] - 1s 26ms/step - loss: 0.1754 - dense_1_loss: 0.0144 - dense_3_loss: 0.0272 - dense_5_loss: 0.0259 - dense_7_loss: 0.0210 - dense_9_loss: 0.0432 - dense_11_loss: 0.0437 - dense_1_accuracy: 0.9948 - dense_3_accuracy: 0.9923 - dense_5_accuracy: 0.9923 - dense_7_accuracy: 0.9936 - dense_9_accuracy: 0.9845 - dense_11_accuracy: 0.9845 - val_loss: 15.9579 - val_dense_1_loss: 14.8455 - val_dense_3_loss: 0.0833 - val_dense_5_loss: 0.0085 - val_dense_7_loss: 0.3220 - val_dense_9_loss: 0.5791 - val_dense_11_loss: 0.1194 - val_dense_1_accuracy: 0.0773 - val_dense_3_accuracy: 0.9948 - val_dense_5_accuracy: 0.9948 - val_dense_7_accuracy: 0.9639 - val_dense_9_accuracy: 0.9330 - val_dense_11_accuracy: 0.9845\n"
     ]
    },
    {
     "name": "stdout",
     "output_type": "stream",
     "text": [
      "Epoch 55/100\n",
      "25/25 [==============================] - 1s 26ms/step - loss: 0.1290 - dense_1_loss: 0.0036 - dense_3_loss: 0.0185 - dense_5_loss: 0.0282 - dense_7_loss: 0.0234 - dense_9_loss: 0.0258 - dense_11_loss: 0.0295 - dense_1_accuracy: 1.0000 - dense_3_accuracy: 0.9936 - dense_5_accuracy: 0.9923 - dense_7_accuracy: 0.9948 - dense_9_accuracy: 0.9871 - dense_11_accuracy: 0.9897 - val_loss: 15.8251 - val_dense_1_loss: 14.8150 - val_dense_3_loss: 0.0831 - val_dense_5_loss: 7.2905e-04 - val_dense_7_loss: 0.3215 - val_dense_9_loss: 0.5188 - val_dense_11_loss: 0.0859 - val_dense_1_accuracy: 0.0773 - val_dense_3_accuracy: 0.9948 - val_dense_5_accuracy: 1.0000 - val_dense_7_accuracy: 0.9639 - val_dense_9_accuracy: 0.9485 - val_dense_11_accuracy: 0.9897\n",
      "Epoch 56/100\n",
      "25/25 [==============================] - 1s 27ms/step - loss: 0.1506 - dense_1_loss: 0.0025 - dense_3_loss: 0.0194 - dense_5_loss: 0.0329 - dense_7_loss: 0.0272 - dense_9_loss: 0.0377 - dense_11_loss: 0.0308 - dense_1_accuracy: 1.0000 - dense_3_accuracy: 0.9936 - dense_5_accuracy: 0.9884 - dense_7_accuracy: 0.9897 - dense_9_accuracy: 0.9845 - dense_11_accuracy: 0.9897 - val_loss: 15.6198 - val_dense_1_loss: 14.7084 - val_dense_3_loss: 0.0832 - val_dense_5_loss: 3.9503e-04 - val_dense_7_loss: 0.2628 - val_dense_9_loss: 0.4967 - val_dense_11_loss: 0.0683 - val_dense_1_accuracy: 0.0773 - val_dense_3_accuracy: 0.9948 - val_dense_5_accuracy: 1.0000 - val_dense_7_accuracy: 0.9691 - val_dense_9_accuracy: 0.9433 - val_dense_11_accuracy: 0.9897\n",
      "Epoch 57/100\n",
      "25/25 [==============================] - 1s 26ms/step - loss: 0.2206 - dense_1_loss: 0.0180 - dense_3_loss: 0.0248 - dense_5_loss: 0.0337 - dense_7_loss: 0.0344 - dense_9_loss: 0.0798 - dense_11_loss: 0.0300 - dense_1_accuracy: 0.9948 - dense_3_accuracy: 0.9858 - dense_5_accuracy: 0.9858 - dense_7_accuracy: 0.9832 - dense_9_accuracy: 0.9678 - dense_11_accuracy: 0.9871 - val_loss: 15.6052 - val_dense_1_loss: 14.6723 - val_dense_3_loss: 0.0831 - val_dense_5_loss: 0.0020 - val_dense_7_loss: 0.2603 - val_dense_9_loss: 0.4706 - val_dense_11_loss: 0.1170 - val_dense_1_accuracy: 0.0773 - val_dense_3_accuracy: 0.9948 - val_dense_5_accuracy: 1.0000 - val_dense_7_accuracy: 0.9639 - val_dense_9_accuracy: 0.9485 - val_dense_11_accuracy: 0.9845\n",
      "Epoch 58/100\n",
      "25/25 [==============================] - 1s 27ms/step - loss: 0.1671 - dense_1_loss: 0.0121 - dense_3_loss: 0.0152 - dense_5_loss: 0.0329 - dense_7_loss: 0.0303 - dense_9_loss: 0.0451 - dense_11_loss: 0.0316 - dense_1_accuracy: 0.9961 - dense_3_accuracy: 0.9923 - dense_5_accuracy: 0.9832 - dense_7_accuracy: 0.9897 - dense_9_accuracy: 0.9794 - dense_11_accuracy: 0.9897 - val_loss: 15.7191 - val_dense_1_loss: 14.7199 - val_dense_3_loss: 0.0832 - val_dense_5_loss: 1.3668e-04 - val_dense_7_loss: 0.2715 - val_dense_9_loss: 0.5381 - val_dense_11_loss: 0.1063 - val_dense_1_accuracy: 0.0773 - val_dense_3_accuracy: 0.9948 - val_dense_5_accuracy: 1.0000 - val_dense_7_accuracy: 0.9588 - val_dense_9_accuracy: 0.9485 - val_dense_11_accuracy: 0.9845\n",
      "Epoch 59/100\n",
      "25/25 [==============================] - 1s 26ms/step - loss: 0.1499 - dense_1_loss: 0.0103 - dense_3_loss: 0.0165 - dense_5_loss: 0.0346 - dense_7_loss: 0.0250 - dense_9_loss: 0.0355 - dense_11_loss: 0.0280 - dense_1_accuracy: 0.9961 - dense_3_accuracy: 0.9923 - dense_5_accuracy: 0.9858 - dense_7_accuracy: 0.9897 - dense_9_accuracy: 0.9820 - dense_11_accuracy: 0.9910 - val_loss: 15.7561 - val_dense_1_loss: 14.7205 - val_dense_3_loss: 0.1060 - val_dense_5_loss: 5.4651e-05 - val_dense_7_loss: 0.2991 - val_dense_9_loss: 0.5074 - val_dense_11_loss: 0.1231 - val_dense_1_accuracy: 0.0773 - val_dense_3_accuracy: 0.9897 - val_dense_5_accuracy: 1.0000 - val_dense_7_accuracy: 0.9639 - val_dense_9_accuracy: 0.9536 - val_dense_11_accuracy: 0.9845\n",
      "Epoch 60/100\n",
      "25/25 [==============================] - 1s 27ms/step - loss: 0.1515 - dense_1_loss: 0.0010 - dense_3_loss: 0.0288 - dense_5_loss: 0.0269 - dense_7_loss: 0.0260 - dense_9_loss: 0.0290 - dense_11_loss: 0.0398 - dense_1_accuracy: 1.0000 - dense_3_accuracy: 0.9923 - dense_5_accuracy: 0.9871 - dense_7_accuracy: 0.9858 - dense_9_accuracy: 0.9910 - dense_11_accuracy: 0.9832 - val_loss: 15.5408 - val_dense_1_loss: 14.6900 - val_dense_3_loss: 0.0964 - val_dense_5_loss: 0.0013 - val_dense_7_loss: 0.2513 - val_dense_9_loss: 0.4678 - val_dense_11_loss: 0.0340 - val_dense_1_accuracy: 0.0773 - val_dense_3_accuracy: 0.9897 - val_dense_5_accuracy: 1.0000 - val_dense_7_accuracy: 0.9588 - val_dense_9_accuracy: 0.9433 - val_dense_11_accuracy: 0.9897\n",
      "Epoch 61/100\n",
      "25/25 [==============================] - 1s 27ms/step - loss: 0.1401 - dense_1_loss: 0.0123 - dense_3_loss: 0.0167 - dense_5_loss: 0.0275 - dense_7_loss: 0.0230 - dense_9_loss: 0.0311 - dense_11_loss: 0.0295 - dense_1_accuracy: 0.9936 - dense_3_accuracy: 0.9910 - dense_5_accuracy: 0.9897 - dense_7_accuracy: 0.9884 - dense_9_accuracy: 0.9923 - dense_11_accuracy: 0.9820 - val_loss: 15.2970 - val_dense_1_loss: 14.5166 - val_dense_3_loss: 0.0852 - val_dense_5_loss: 0.0076 - val_dense_7_loss: 0.2271 - val_dense_9_loss: 0.4037 - val_dense_11_loss: 0.0568 - val_dense_1_accuracy: 0.0773 - val_dense_3_accuracy: 0.9948 - val_dense_5_accuracy: 0.9948 - val_dense_7_accuracy: 0.9588 - val_dense_9_accuracy: 0.9433 - val_dense_11_accuracy: 0.9897\n",
      "Epoch 62/100\n",
      "25/25 [==============================] - 1s 27ms/step - loss: 0.1346 - dense_1_loss: 0.0030 - dense_3_loss: 0.0098 - dense_5_loss: 0.0258 - dense_7_loss: 0.0343 - dense_9_loss: 0.0377 - dense_11_loss: 0.0239 - dense_1_accuracy: 1.0000 - dense_3_accuracy: 0.9961 - dense_5_accuracy: 0.9871 - dense_7_accuracy: 0.9832 - dense_9_accuracy: 0.9858 - dense_11_accuracy: 0.9923 - val_loss: 15.7469 - val_dense_1_loss: 14.8209 - val_dense_3_loss: 0.0831 - val_dense_5_loss: 0.0015 - val_dense_7_loss: 0.2722 - val_dense_9_loss: 0.4529 - val_dense_11_loss: 0.1164 - val_dense_1_accuracy: 0.0773 - val_dense_3_accuracy: 0.9948 - val_dense_5_accuracy: 1.0000 - val_dense_7_accuracy: 0.9742 - val_dense_9_accuracy: 0.9536 - val_dense_11_accuracy: 0.9897\n",
      "Epoch 63/100\n",
      "25/25 [==============================] - 1s 27ms/step - loss: 0.1508 - dense_1_loss: 0.0032 - dense_3_loss: 0.0081 - dense_5_loss: 0.0276 - dense_7_loss: 0.0339 - dense_9_loss: 0.0561 - dense_11_loss: 0.0220 - dense_1_accuracy: 0.9974 - dense_3_accuracy: 0.9987 - dense_5_accuracy: 0.9884 - dense_7_accuracy: 0.9858 - dense_9_accuracy: 0.9742 - dense_11_accuracy: 0.9923 - val_loss: 15.7698 - val_dense_1_loss: 14.8235 - val_dense_3_loss: 0.0831 - val_dense_5_loss: 8.7270e-05 - val_dense_7_loss: 0.2813 - val_dense_9_loss: 0.4610 - val_dense_11_loss: 0.1209 - val_dense_1_accuracy: 0.0773 - val_dense_3_accuracy: 0.9948 - val_dense_5_accuracy: 1.0000 - val_dense_7_accuracy: 0.9639 - val_dense_9_accuracy: 0.9433 - val_dense_11_accuracy: 0.9794\n",
      "Epoch 64/100\n",
      "25/25 [==============================] - 1s 26ms/step - loss: 0.1376 - dense_1_loss: 8.2985e-04 - dense_3_loss: 0.0149 - dense_5_loss: 0.0237 - dense_7_loss: 0.0366 - dense_9_loss: 0.0472 - dense_11_loss: 0.0145 - dense_1_accuracy: 1.0000 - dense_3_accuracy: 0.9948 - dense_5_accuracy: 0.9897 - dense_7_accuracy: 0.9845 - dense_9_accuracy: 0.9807 - dense_11_accuracy: 0.9961 - val_loss: 15.7947 - val_dense_1_loss: 14.8380 - val_dense_3_loss: 0.0837 - val_dense_5_loss: 4.5721e-05 - val_dense_7_loss: 0.3459 - val_dense_9_loss: 0.4583 - val_dense_11_loss: 0.0687 - val_dense_1_accuracy: 0.0773 - val_dense_3_accuracy: 0.9948 - val_dense_5_accuracy: 1.0000 - val_dense_7_accuracy: 0.9588 - val_dense_9_accuracy: 0.9433 - val_dense_11_accuracy: 0.9897\n",
      "Epoch 65/100\n",
      "25/25 [==============================] - 1s 27ms/step - loss: 0.1582 - dense_1_loss: 0.0072 - dense_3_loss: 0.0291 - dense_5_loss: 0.0189 - dense_7_loss: 0.0310 - dense_9_loss: 0.0480 - dense_11_loss: 0.0240 - dense_1_accuracy: 0.9974 - dense_3_accuracy: 0.9871 - dense_5_accuracy: 0.9923 - dense_7_accuracy: 0.9858 - dense_9_accuracy: 0.9755 - dense_11_accuracy: 0.9897 - val_loss: 15.7378 - val_dense_1_loss: 14.8367 - val_dense_3_loss: 0.0998 - val_dense_5_loss: 4.3355e-04 - val_dense_7_loss: 0.2967 - val_dense_9_loss: 0.4380 - val_dense_11_loss: 0.0661 - val_dense_1_accuracy: 0.0773 - val_dense_3_accuracy: 0.9897 - val_dense_5_accuracy: 1.0000 - val_dense_7_accuracy: 0.9639 - val_dense_9_accuracy: 0.9485 - val_dense_11_accuracy: 0.9845\n"
     ]
    },
    {
     "name": "stdout",
     "output_type": "stream",
     "text": [
      "Epoch 66/100\n",
      "25/25 [==============================] - 1s 27ms/step - loss: 0.1078 - dense_1_loss: 0.0051 - dense_3_loss: 0.0145 - dense_5_loss: 0.0131 - dense_7_loss: 0.0214 - dense_9_loss: 0.0336 - dense_11_loss: 0.0202 - dense_1_accuracy: 0.9987 - dense_3_accuracy: 0.9936 - dense_5_accuracy: 0.9936 - dense_7_accuracy: 0.9936 - dense_9_accuracy: 0.9871 - dense_11_accuracy: 0.9910 - val_loss: 15.8709 - val_dense_1_loss: 14.8445 - val_dense_3_loss: 0.0898 - val_dense_5_loss: 9.7067e-04 - val_dense_7_loss: 0.3568 - val_dense_9_loss: 0.4795 - val_dense_11_loss: 0.0993 - val_dense_1_accuracy: 0.0773 - val_dense_3_accuracy: 0.9897 - val_dense_5_accuracy: 1.0000 - val_dense_7_accuracy: 0.9588 - val_dense_9_accuracy: 0.9433 - val_dense_11_accuracy: 0.9845\n",
      "Epoch 67/100\n",
      "25/25 [==============================] - 1s 26ms/step - loss: 0.1654 - dense_1_loss: 0.0022 - dense_3_loss: 0.0229 - dense_5_loss: 0.0183 - dense_7_loss: 0.0491 - dense_9_loss: 0.0390 - dense_11_loss: 0.0338 - dense_1_accuracy: 0.9987 - dense_3_accuracy: 0.9923 - dense_5_accuracy: 0.9936 - dense_7_accuracy: 0.9858 - dense_9_accuracy: 0.9832 - dense_11_accuracy: 0.9845 - val_loss: 15.7377 - val_dense_1_loss: 14.7794 - val_dense_3_loss: 0.1018 - val_dense_5_loss: 8.4337e-04 - val_dense_7_loss: 0.2807 - val_dense_9_loss: 0.4254 - val_dense_11_loss: 0.1495 - val_dense_1_accuracy: 0.0773 - val_dense_3_accuracy: 0.9897 - val_dense_5_accuracy: 1.0000 - val_dense_7_accuracy: 0.9588 - val_dense_9_accuracy: 0.9433 - val_dense_11_accuracy: 0.9845\n",
      "Epoch 68/100\n",
      "25/25 [==============================] - 1s 26ms/step - loss: 0.1415 - dense_1_loss: 0.0079 - dense_3_loss: 0.0178 - dense_5_loss: 0.0281 - dense_7_loss: 0.0293 - dense_9_loss: 0.0401 - dense_11_loss: 0.0182 - dense_1_accuracy: 0.9987 - dense_3_accuracy: 0.9923 - dense_5_accuracy: 0.9936 - dense_7_accuracy: 0.9897 - dense_9_accuracy: 0.9832 - dense_11_accuracy: 0.9923 - val_loss: 15.7245 - val_dense_1_loss: 14.7884 - val_dense_3_loss: 0.0876 - val_dense_5_loss: 1.4222e-05 - val_dense_7_loss: 0.2627 - val_dense_9_loss: 0.4596 - val_dense_11_loss: 0.1262 - val_dense_1_accuracy: 0.0773 - val_dense_3_accuracy: 0.9897 - val_dense_5_accuracy: 1.0000 - val_dense_7_accuracy: 0.9691 - val_dense_9_accuracy: 0.9485 - val_dense_11_accuracy: 0.9845\n",
      "Epoch 69/100\n",
      "25/25 [==============================] - 1s 26ms/step - loss: 0.1782 - dense_1_loss: 0.0240 - dense_3_loss: 0.0150 - dense_5_loss: 0.0291 - dense_7_loss: 0.0439 - dense_9_loss: 0.0410 - dense_11_loss: 0.0252 - dense_1_accuracy: 0.9961 - dense_3_accuracy: 0.9910 - dense_5_accuracy: 0.9884 - dense_7_accuracy: 0.9858 - dense_9_accuracy: 0.9807 - dense_11_accuracy: 0.9936 - val_loss: 15.4894 - val_dense_1_loss: 14.5870 - val_dense_3_loss: 0.0832 - val_dense_5_loss: 8.5874e-04 - val_dense_7_loss: 0.2540 - val_dense_9_loss: 0.4074 - val_dense_11_loss: 0.1570 - val_dense_1_accuracy: 0.0773 - val_dense_3_accuracy: 0.9948 - val_dense_5_accuracy: 1.0000 - val_dense_7_accuracy: 0.9588 - val_dense_9_accuracy: 0.9485 - val_dense_11_accuracy: 0.9794\n",
      "Epoch 70/100\n",
      "25/25 [==============================] - 1s 27ms/step - loss: 0.1370 - dense_1_loss: 0.0067 - dense_3_loss: 0.0204 - dense_5_loss: 0.0224 - dense_7_loss: 0.0307 - dense_9_loss: 0.0259 - dense_11_loss: 0.0308 - dense_1_accuracy: 0.9961 - dense_3_accuracy: 0.9948 - dense_5_accuracy: 0.9910 - dense_7_accuracy: 0.9897 - dense_9_accuracy: 0.9897 - dense_11_accuracy: 0.9897 - val_loss: 15.7618 - val_dense_1_loss: 14.7552 - val_dense_3_loss: 0.1029 - val_dense_5_loss: 0.0156 - val_dense_7_loss: 0.3121 - val_dense_9_loss: 0.4516 - val_dense_11_loss: 0.1243 - val_dense_1_accuracy: 0.0773 - val_dense_3_accuracy: 0.9897 - val_dense_5_accuracy: 0.9948 - val_dense_7_accuracy: 0.9639 - val_dense_9_accuracy: 0.9433 - val_dense_11_accuracy: 0.9845\n",
      "Epoch 71/100\n",
      "25/25 [==============================] - 1s 26ms/step - loss: 0.1450 - dense_1_loss: 0.0021 - dense_3_loss: 0.0249 - dense_5_loss: 0.0096 - dense_7_loss: 0.0338 - dense_9_loss: 0.0279 - dense_11_loss: 0.0466 - dense_1_accuracy: 0.9987 - dense_3_accuracy: 0.9884 - dense_5_accuracy: 0.9961 - dense_7_accuracy: 0.9871 - dense_9_accuracy: 0.9910 - dense_11_accuracy: 0.9820 - val_loss: 15.8581 - val_dense_1_loss: 14.8209 - val_dense_3_loss: 0.0848 - val_dense_5_loss: 0.0012 - val_dense_7_loss: 0.3624 - val_dense_9_loss: 0.4813 - val_dense_11_loss: 0.1076 - val_dense_1_accuracy: 0.0773 - val_dense_3_accuracy: 0.9948 - val_dense_5_accuracy: 1.0000 - val_dense_7_accuracy: 0.9691 - val_dense_9_accuracy: 0.9536 - val_dense_11_accuracy: 0.9845\n",
      "Epoch 72/100\n",
      "25/25 [==============================] - 1s 27ms/step - loss: 0.1903 - dense_1_loss: 0.0126 - dense_3_loss: 0.0142 - dense_5_loss: 0.0471 - dense_7_loss: 0.0330 - dense_9_loss: 0.0527 - dense_11_loss: 0.0308 - dense_1_accuracy: 0.9948 - dense_3_accuracy: 0.9936 - dense_5_accuracy: 0.9832 - dense_7_accuracy: 0.9845 - dense_9_accuracy: 0.9794 - dense_11_accuracy: 0.9897 - val_loss: 16.0250 - val_dense_1_loss: 14.7993 - val_dense_3_loss: 0.0836 - val_dense_5_loss: 2.5343e-04 - val_dense_7_loss: 0.3756 - val_dense_9_loss: 0.5920 - val_dense_11_loss: 0.1741 - val_dense_1_accuracy: 0.0773 - val_dense_3_accuracy: 0.9948 - val_dense_5_accuracy: 1.0000 - val_dense_7_accuracy: 0.9588 - val_dense_9_accuracy: 0.9330 - val_dense_11_accuracy: 0.9845\n",
      "Epoch 73/100\n",
      "25/25 [==============================] - 1s 26ms/step - loss: 0.1478 - dense_1_loss: 0.0041 - dense_3_loss: 0.0122 - dense_5_loss: 0.0334 - dense_7_loss: 0.0247 - dense_9_loss: 0.0328 - dense_11_loss: 0.0406 - dense_1_accuracy: 0.9987 - dense_3_accuracy: 0.9974 - dense_5_accuracy: 0.9910 - dense_7_accuracy: 0.9923 - dense_9_accuracy: 0.9858 - dense_11_accuracy: 0.9858 - val_loss: 15.8835 - val_dense_1_loss: 14.6758 - val_dense_3_loss: 0.0869 - val_dense_5_loss: 0.0023 - val_dense_7_loss: 0.3925 - val_dense_9_loss: 0.5820 - val_dense_11_loss: 0.1439 - val_dense_1_accuracy: 0.0773 - val_dense_3_accuracy: 0.9897 - val_dense_5_accuracy: 1.0000 - val_dense_7_accuracy: 0.9536 - val_dense_9_accuracy: 0.9381 - val_dense_11_accuracy: 0.9845\n",
      "Epoch 74/100\n",
      "25/25 [==============================] - 1s 27ms/step - loss: 0.1983 - dense_1_loss: 0.0098 - dense_3_loss: 0.0386 - dense_5_loss: 0.0347 - dense_7_loss: 0.0296 - dense_9_loss: 0.0485 - dense_11_loss: 0.0371 - dense_1_accuracy: 0.9974 - dense_3_accuracy: 0.9884 - dense_5_accuracy: 0.9858 - dense_7_accuracy: 0.9871 - dense_9_accuracy: 0.9845 - dense_11_accuracy: 0.9858 - val_loss: 16.2649 - val_dense_1_loss: 14.8497 - val_dense_3_loss: 0.0832 - val_dense_5_loss: 0.0146 - val_dense_7_loss: 0.4411 - val_dense_9_loss: 0.6828 - val_dense_11_loss: 0.1934 - val_dense_1_accuracy: 0.0773 - val_dense_3_accuracy: 0.9948 - val_dense_5_accuracy: 0.9948 - val_dense_7_accuracy: 0.9588 - val_dense_9_accuracy: 0.9381 - val_dense_11_accuracy: 0.9845\n",
      "Epoch 75/100\n",
      "25/25 [==============================] - 1s 26ms/step - loss: 0.1446 - dense_1_loss: 0.0098 - dense_3_loss: 0.0158 - dense_5_loss: 0.0369 - dense_7_loss: 0.0201 - dense_9_loss: 0.0311 - dense_11_loss: 0.0309 - dense_1_accuracy: 0.9948 - dense_3_accuracy: 0.9936 - dense_5_accuracy: 0.9871 - dense_7_accuracy: 0.9948 - dense_9_accuracy: 0.9884 - dense_11_accuracy: 0.9871 - val_loss: 15.7142 - val_dense_1_loss: 14.7268 - val_dense_3_loss: 0.0831 - val_dense_5_loss: 0.0081 - val_dense_7_loss: 0.2601 - val_dense_9_loss: 0.4837 - val_dense_11_loss: 0.1524 - val_dense_1_accuracy: 0.0773 - val_dense_3_accuracy: 0.9948 - val_dense_5_accuracy: 0.9948 - val_dense_7_accuracy: 0.9588 - val_dense_9_accuracy: 0.9381 - val_dense_11_accuracy: 0.9845\n",
      "Epoch 76/100\n",
      "25/25 [==============================] - 1s 26ms/step - loss: 0.1629 - dense_1_loss: 0.0089 - dense_3_loss: 0.0277 - dense_5_loss: 0.0309 - dense_7_loss: 0.0340 - dense_9_loss: 0.0281 - dense_11_loss: 0.0334 - dense_1_accuracy: 0.9961 - dense_3_accuracy: 0.9884 - dense_5_accuracy: 0.9884 - dense_7_accuracy: 0.9871 - dense_9_accuracy: 0.9884 - dense_11_accuracy: 0.9871 - val_loss: 16.0582 - val_dense_1_loss: 14.8719 - val_dense_3_loss: 0.0831 - val_dense_5_loss: 5.6700e-04 - val_dense_7_loss: 0.3768 - val_dense_9_loss: 0.5749 - val_dense_11_loss: 0.1510 - val_dense_1_accuracy: 0.0773 - val_dense_3_accuracy: 0.9948 - val_dense_5_accuracy: 1.0000 - val_dense_7_accuracy: 0.9588 - val_dense_9_accuracy: 0.9330 - val_dense_11_accuracy: 0.9897\n"
     ]
    },
    {
     "name": "stdout",
     "output_type": "stream",
     "text": [
      "Epoch 77/100\n",
      "25/25 [==============================] - 1s 26ms/step - loss: 0.1298 - dense_1_loss: 0.0044 - dense_3_loss: 0.0165 - dense_5_loss: 0.0300 - dense_7_loss: 0.0221 - dense_9_loss: 0.0273 - dense_11_loss: 0.0296 - dense_1_accuracy: 0.9987 - dense_3_accuracy: 0.9936 - dense_5_accuracy: 0.9884 - dense_7_accuracy: 0.9910 - dense_9_accuracy: 0.9858 - dense_11_accuracy: 0.9845 - val_loss: 15.8501 - val_dense_1_loss: 14.8457 - val_dense_3_loss: 0.0862 - val_dense_5_loss: 1.2202e-05 - val_dense_7_loss: 0.3403 - val_dense_9_loss: 0.4574 - val_dense_11_loss: 0.1206 - val_dense_1_accuracy: 0.0773 - val_dense_3_accuracy: 0.9948 - val_dense_5_accuracy: 1.0000 - val_dense_7_accuracy: 0.9485 - val_dense_9_accuracy: 0.9433 - val_dense_11_accuracy: 0.9897\n",
      "Epoch 78/100\n",
      "25/25 [==============================] - 1s 26ms/step - loss: 0.1364 - dense_1_loss: 0.0034 - dense_3_loss: 0.0234 - dense_5_loss: 0.0194 - dense_7_loss: 0.0316 - dense_9_loss: 0.0370 - dense_11_loss: 0.0216 - dense_1_accuracy: 0.9987 - dense_3_accuracy: 0.9936 - dense_5_accuracy: 0.9897 - dense_7_accuracy: 0.9858 - dense_9_accuracy: 0.9871 - dense_11_accuracy: 0.9923 - val_loss: 15.7237 - val_dense_1_loss: 14.7367 - val_dense_3_loss: 0.0831 - val_dense_5_loss: 2.6036e-05 - val_dense_7_loss: 0.2701 - val_dense_9_loss: 0.5048 - val_dense_11_loss: 0.1289 - val_dense_1_accuracy: 0.0773 - val_dense_3_accuracy: 0.9948 - val_dense_5_accuracy: 1.0000 - val_dense_7_accuracy: 0.9639 - val_dense_9_accuracy: 0.9381 - val_dense_11_accuracy: 0.9845\n",
      "Epoch 79/100\n",
      "25/25 [==============================] - 1s 26ms/step - loss: 0.1776 - dense_1_loss: 0.0057 - dense_3_loss: 0.0138 - dense_5_loss: 0.0301 - dense_7_loss: 0.0389 - dense_9_loss: 0.0437 - dense_11_loss: 0.0455 - dense_1_accuracy: 0.9961 - dense_3_accuracy: 0.9936 - dense_5_accuracy: 0.9871 - dense_7_accuracy: 0.9871 - dense_9_accuracy: 0.9832 - dense_11_accuracy: 0.9845 - val_loss: 15.4662 - val_dense_1_loss: 14.4817 - val_dense_3_loss: 0.0835 - val_dense_5_loss: 4.6539e-04 - val_dense_7_loss: 0.2682 - val_dense_9_loss: 0.4978 - val_dense_11_loss: 0.1346 - val_dense_1_accuracy: 0.0773 - val_dense_3_accuracy: 0.9948 - val_dense_5_accuracy: 1.0000 - val_dense_7_accuracy: 0.9588 - val_dense_9_accuracy: 0.9330 - val_dense_11_accuracy: 0.9845\n",
      "Epoch 80/100\n",
      "25/25 [==============================] - 1s 29ms/step - loss: 0.1346 - dense_1_loss: 7.6998e-04 - dense_3_loss: 0.0104 - dense_5_loss: 0.0347 - dense_7_loss: 0.0236 - dense_9_loss: 0.0332 - dense_11_loss: 0.0320 - dense_1_accuracy: 1.0000 - dense_3_accuracy: 0.9974 - dense_5_accuracy: 0.9845 - dense_7_accuracy: 0.9923 - dense_9_accuracy: 0.9897 - dense_11_accuracy: 0.9858 - val_loss: 15.6615 - val_dense_1_loss: 14.6580 - val_dense_3_loss: 0.0831 - val_dense_5_loss: 1.5360e-04 - val_dense_7_loss: 0.2843 - val_dense_9_loss: 0.5031 - val_dense_11_loss: 0.1329 - val_dense_1_accuracy: 0.0773 - val_dense_3_accuracy: 0.9948 - val_dense_5_accuracy: 1.0000 - val_dense_7_accuracy: 0.9639 - val_dense_9_accuracy: 0.9278 - val_dense_11_accuracy: 0.9845\n",
      "Epoch 81/100\n",
      "25/25 [==============================] - 1s 29ms/step - loss: 0.1445 - dense_1_loss: 0.0033 - dense_3_loss: 0.0109 - dense_5_loss: 0.0336 - dense_7_loss: 0.0326 - dense_9_loss: 0.0371 - dense_11_loss: 0.0270 - dense_1_accuracy: 0.9987 - dense_3_accuracy: 0.9961 - dense_5_accuracy: 0.9858 - dense_7_accuracy: 0.9845 - dense_9_accuracy: 0.9858 - dense_11_accuracy: 0.9923 - val_loss: 14.8944 - val_dense_1_loss: 14.0393 - val_dense_3_loss: 0.0961 - val_dense_5_loss: 0.0019 - val_dense_7_loss: 0.2803 - val_dense_9_loss: 0.3891 - val_dense_11_loss: 0.0878 - val_dense_1_accuracy: 0.0773 - val_dense_3_accuracy: 0.9897 - val_dense_5_accuracy: 1.0000 - val_dense_7_accuracy: 0.9639 - val_dense_9_accuracy: 0.9330 - val_dense_11_accuracy: 0.9845\n",
      "Epoch 82/100\n",
      "25/25 [==============================] - 1s 29ms/step - loss: 0.1369 - dense_1_loss: 0.0094 - dense_3_loss: 0.0125 - dense_5_loss: 0.0384 - dense_7_loss: 0.0279 - dense_9_loss: 0.0201 - dense_11_loss: 0.0286 - dense_1_accuracy: 0.9948 - dense_3_accuracy: 0.9936 - dense_5_accuracy: 0.9871 - dense_7_accuracy: 0.9884 - dense_9_accuracy: 0.9884 - dense_11_accuracy: 0.9910 - val_loss: 15.7866 - val_dense_1_loss: 14.7768 - val_dense_3_loss: 0.0831 - val_dense_5_loss: 1.4896e-04 - val_dense_7_loss: 0.3019 - val_dense_9_loss: 0.4838 - val_dense_11_loss: 0.1409 - val_dense_1_accuracy: 0.0773 - val_dense_3_accuracy: 0.9948 - val_dense_5_accuracy: 1.0000 - val_dense_7_accuracy: 0.9691 - val_dense_9_accuracy: 0.9330 - val_dense_11_accuracy: 0.9845\n",
      "Epoch 83/100\n",
      "25/25 [==============================] - 1s 30ms/step - loss: 0.1289 - dense_1_loss: 0.0029 - dense_3_loss: 0.0308 - dense_5_loss: 0.0177 - dense_7_loss: 0.0203 - dense_9_loss: 0.0326 - dense_11_loss: 0.0246 - dense_1_accuracy: 0.9987 - dense_3_accuracy: 0.9871 - dense_5_accuracy: 0.9910 - dense_7_accuracy: 0.9910 - dense_9_accuracy: 0.9858 - dense_11_accuracy: 0.9884 - val_loss: 15.9518 - val_dense_1_loss: 14.8504 - val_dense_3_loss: 0.0831 - val_dense_5_loss: 5.5733e-06 - val_dense_7_loss: 0.3368 - val_dense_9_loss: 0.5538 - val_dense_11_loss: 0.1277 - val_dense_1_accuracy: 0.0773 - val_dense_3_accuracy: 0.9948 - val_dense_5_accuracy: 1.0000 - val_dense_7_accuracy: 0.9639 - val_dense_9_accuracy: 0.9433 - val_dense_11_accuracy: 0.9845\n",
      "Epoch 84/100\n",
      "25/25 [==============================] - 1s 29ms/step - loss: 0.1505 - dense_1_loss: 0.0116 - dense_3_loss: 0.0110 - dense_5_loss: 0.0317 - dense_7_loss: 0.0249 - dense_9_loss: 0.0317 - dense_11_loss: 0.0396 - dense_1_accuracy: 0.9974 - dense_3_accuracy: 0.9974 - dense_5_accuracy: 0.9871 - dense_7_accuracy: 0.9884 - dense_9_accuracy: 0.9845 - dense_11_accuracy: 0.9871 - val_loss: 15.9884 - val_dense_1_loss: 14.8609 - val_dense_3_loss: 0.0831 - val_dense_5_loss: 6.3904e-05 - val_dense_7_loss: 0.3613 - val_dense_9_loss: 0.5731 - val_dense_11_loss: 0.1100 - val_dense_1_accuracy: 0.0773 - val_dense_3_accuracy: 0.9948 - val_dense_5_accuracy: 1.0000 - val_dense_7_accuracy: 0.9691 - val_dense_9_accuracy: 0.9381 - val_dense_11_accuracy: 0.9897\n",
      "Epoch 85/100\n",
      "25/25 [==============================] - 1s 29ms/step - loss: 0.1067 - dense_1_loss: 0.0048 - dense_3_loss: 0.0117 - dense_5_loss: 0.0176 - dense_7_loss: 0.0172 - dense_9_loss: 0.0425 - dense_11_loss: 0.0129 - dense_1_accuracy: 0.9987 - dense_3_accuracy: 0.9974 - dense_5_accuracy: 0.9910 - dense_7_accuracy: 0.9948 - dense_9_accuracy: 0.9884 - dense_11_accuracy: 0.9974 - val_loss: 16.0045 - val_dense_1_loss: 14.8559 - val_dense_3_loss: 0.0831 - val_dense_5_loss: 8.7041e-05 - val_dense_7_loss: 0.3533 - val_dense_9_loss: 0.6219 - val_dense_11_loss: 0.0903 - val_dense_1_accuracy: 0.0773 - val_dense_3_accuracy: 0.9948 - val_dense_5_accuracy: 1.0000 - val_dense_7_accuracy: 0.9691 - val_dense_9_accuracy: 0.9381 - val_dense_11_accuracy: 0.9897\n",
      "Epoch 86/100\n",
      "25/25 [==============================] - 1s 29ms/step - loss: 0.1252 - dense_1_loss: 0.0029 - dense_3_loss: 0.0198 - dense_5_loss: 0.0141 - dense_7_loss: 0.0120 - dense_9_loss: 0.0327 - dense_11_loss: 0.0436 - dense_1_accuracy: 0.9987 - dense_3_accuracy: 0.9948 - dense_5_accuracy: 0.9961 - dense_7_accuracy: 0.9961 - dense_9_accuracy: 0.9845 - dense_11_accuracy: 0.9845 - val_loss: 15.8832 - val_dense_1_loss: 14.8719 - val_dense_3_loss: 0.0831 - val_dense_5_loss: 5.4116e-05 - val_dense_7_loss: 0.2645 - val_dense_9_loss: 0.6107 - val_dense_11_loss: 0.0530 - val_dense_1_accuracy: 0.0773 - val_dense_3_accuracy: 0.9948 - val_dense_5_accuracy: 1.0000 - val_dense_7_accuracy: 0.9742 - val_dense_9_accuracy: 0.9330 - val_dense_11_accuracy: 0.9897\n",
      "Epoch 87/100\n",
      "25/25 [==============================] - 1s 29ms/step - loss: 0.1586 - dense_1_loss: 0.0040 - dense_3_loss: 0.0311 - dense_5_loss: 0.0357 - dense_7_loss: 0.0302 - dense_9_loss: 0.0372 - dense_11_loss: 0.0204 - dense_1_accuracy: 1.0000 - dense_3_accuracy: 0.9897 - dense_5_accuracy: 0.9897 - dense_7_accuracy: 0.9884 - dense_9_accuracy: 0.9832 - dense_11_accuracy: 0.9936 - val_loss: 15.7198 - val_dense_1_loss: 14.8361 - val_dense_3_loss: 0.0831 - val_dense_5_loss: 3.0804e-05 - val_dense_7_loss: 0.2472 - val_dense_9_loss: 0.4793 - val_dense_11_loss: 0.0741 - val_dense_1_accuracy: 0.0773 - val_dense_3_accuracy: 0.9948 - val_dense_5_accuracy: 1.0000 - val_dense_7_accuracy: 0.9639 - val_dense_9_accuracy: 0.9330 - val_dense_11_accuracy: 0.9845\n"
     ]
    },
    {
     "name": "stdout",
     "output_type": "stream",
     "text": [
      "Epoch 88/100\n",
      "25/25 [==============================] - 1s 29ms/step - loss: 0.1067 - dense_1_loss: 0.0021 - dense_3_loss: 0.0094 - dense_5_loss: 0.0142 - dense_7_loss: 0.0186 - dense_9_loss: 0.0322 - dense_11_loss: 0.0303 - dense_1_accuracy: 1.0000 - dense_3_accuracy: 0.9961 - dense_5_accuracy: 0.9936 - dense_7_accuracy: 0.9923 - dense_9_accuracy: 0.9832 - dense_11_accuracy: 0.9884 - val_loss: 15.6652 - val_dense_1_loss: 14.8547 - val_dense_3_loss: 0.0832 - val_dense_5_loss: 2.5847e-05 - val_dense_7_loss: 0.2199 - val_dense_9_loss: 0.4333 - val_dense_11_loss: 0.0741 - val_dense_1_accuracy: 0.0773 - val_dense_3_accuracy: 0.9948 - val_dense_5_accuracy: 1.0000 - val_dense_7_accuracy: 0.9691 - val_dense_9_accuracy: 0.9330 - val_dense_11_accuracy: 0.9845\n",
      "Epoch 89/100\n",
      "25/25 [==============================] - 1s 29ms/step - loss: 0.1646 - dense_1_loss: 0.0095 - dense_3_loss: 0.0242 - dense_5_loss: 0.0235 - dense_7_loss: 0.0340 - dense_9_loss: 0.0391 - dense_11_loss: 0.0343 - dense_1_accuracy: 0.9961 - dense_3_accuracy: 0.9910 - dense_5_accuracy: 0.9884 - dense_7_accuracy: 0.9884 - dense_9_accuracy: 0.9845 - dense_11_accuracy: 0.9845 - val_loss: 15.7500 - val_dense_1_loss: 14.8455 - val_dense_3_loss: 0.0831 - val_dense_5_loss: 0.0024 - val_dense_7_loss: 0.1853 - val_dense_9_loss: 0.4819 - val_dense_11_loss: 0.1519 - val_dense_1_accuracy: 0.0773 - val_dense_3_accuracy: 0.9948 - val_dense_5_accuracy: 1.0000 - val_dense_7_accuracy: 0.9794 - val_dense_9_accuracy: 0.9278 - val_dense_11_accuracy: 0.9897\n",
      "Epoch 90/100\n",
      "25/25 [==============================] - 1s 29ms/step - loss: 0.1506 - dense_1_loss: 0.0099 - dense_3_loss: 0.0301 - dense_5_loss: 0.0164 - dense_7_loss: 0.0240 - dense_9_loss: 0.0250 - dense_11_loss: 0.0451 - dense_1_accuracy: 0.9974 - dense_3_accuracy: 0.9858 - dense_5_accuracy: 0.9910 - dense_7_accuracy: 0.9948 - dense_9_accuracy: 0.9884 - dense_11_accuracy: 0.9858 - val_loss: 15.9211 - val_dense_1_loss: 14.8626 - val_dense_3_loss: 0.0831 - val_dense_5_loss: 0.0014 - val_dense_7_loss: 0.2609 - val_dense_9_loss: 0.5630 - val_dense_11_loss: 0.1500 - val_dense_1_accuracy: 0.0773 - val_dense_3_accuracy: 0.9948 - val_dense_5_accuracy: 1.0000 - val_dense_7_accuracy: 0.9588 - val_dense_9_accuracy: 0.9330 - val_dense_11_accuracy: 0.9845\n",
      "Epoch 91/100\n",
      "25/25 [==============================] - 1s 29ms/step - loss: 0.1475 - dense_1_loss: 0.0032 - dense_3_loss: 0.0056 - dense_5_loss: 0.0192 - dense_7_loss: 0.0431 - dense_9_loss: 0.0332 - dense_11_loss: 0.0431 - dense_1_accuracy: 0.9974 - dense_3_accuracy: 0.9961 - dense_5_accuracy: 0.9974 - dense_7_accuracy: 0.9858 - dense_9_accuracy: 0.9858 - dense_11_accuracy: 0.9858 - val_loss: 15.8486 - val_dense_1_loss: 14.8542 - val_dense_3_loss: 0.0831 - val_dense_5_loss: 0.0025 - val_dense_7_loss: 0.2767 - val_dense_9_loss: 0.4789 - val_dense_11_loss: 0.1530 - val_dense_1_accuracy: 0.0773 - val_dense_3_accuracy: 0.9948 - val_dense_5_accuracy: 1.0000 - val_dense_7_accuracy: 0.9485 - val_dense_9_accuracy: 0.9536 - val_dense_11_accuracy: 0.9845\n",
      "Epoch 92/100\n",
      "25/25 [==============================] - 1s 30ms/step - loss: 0.1728 - dense_1_loss: 0.0023 - dense_3_loss: 0.0205 - dense_5_loss: 0.0387 - dense_7_loss: 0.0325 - dense_9_loss: 0.0486 - dense_11_loss: 0.0301 - dense_1_accuracy: 1.0000 - dense_3_accuracy: 0.9923 - dense_5_accuracy: 0.9871 - dense_7_accuracy: 0.9897 - dense_9_accuracy: 0.9832 - dense_11_accuracy: 0.9845 - val_loss: 15.6987 - val_dense_1_loss: 14.8499 - val_dense_3_loss: 0.0831 - val_dense_5_loss: 1.2347e-04 - val_dense_7_loss: 0.2456 - val_dense_9_loss: 0.4325 - val_dense_11_loss: 0.0875 - val_dense_1_accuracy: 0.0773 - val_dense_3_accuracy: 0.9948 - val_dense_5_accuracy: 1.0000 - val_dense_7_accuracy: 0.9691 - val_dense_9_accuracy: 0.9433 - val_dense_11_accuracy: 0.9845\n",
      "Epoch 93/100\n",
      "25/25 [==============================] - 1s 30ms/step - loss: 0.1595 - dense_1_loss: 0.0015 - dense_3_loss: 0.0216 - dense_5_loss: 0.0185 - dense_7_loss: 0.0423 - dense_9_loss: 0.0628 - dense_11_loss: 0.0129 - dense_1_accuracy: 1.0000 - dense_3_accuracy: 0.9910 - dense_5_accuracy: 0.9948 - dense_7_accuracy: 0.9845 - dense_9_accuracy: 0.9794 - dense_11_accuracy: 0.9987 - val_loss: 15.5520 - val_dense_1_loss: 14.6823 - val_dense_3_loss: 0.0831 - val_dense_5_loss: 2.6093e-04 - val_dense_7_loss: 0.2235 - val_dense_9_loss: 0.4540 - val_dense_11_loss: 0.1087 - val_dense_1_accuracy: 0.0773 - val_dense_3_accuracy: 0.9948 - val_dense_5_accuracy: 1.0000 - val_dense_7_accuracy: 0.9639 - val_dense_9_accuracy: 0.9381 - val_dense_11_accuracy: 0.9845\n",
      "Epoch 94/100\n",
      "25/25 [==============================] - 1s 30ms/step - loss: 0.1617 - dense_1_loss: 5.4904e-04 - dense_3_loss: 0.0217 - dense_5_loss: 0.0372 - dense_7_loss: 0.0415 - dense_9_loss: 0.0346 - dense_11_loss: 0.0262 - dense_1_accuracy: 1.0000 - dense_3_accuracy: 0.9910 - dense_5_accuracy: 0.9871 - dense_7_accuracy: 0.9858 - dense_9_accuracy: 0.9884 - dense_11_accuracy: 0.9923 - val_loss: 15.1488 - val_dense_1_loss: 14.2188 - val_dense_3_loss: 0.0831 - val_dense_5_loss: 0.0050 - val_dense_7_loss: 0.1886 - val_dense_9_loss: 0.5189 - val_dense_11_loss: 0.1344 - val_dense_1_accuracy: 0.0773 - val_dense_3_accuracy: 0.9948 - val_dense_5_accuracy: 0.9948 - val_dense_7_accuracy: 0.9742 - val_dense_9_accuracy: 0.9278 - val_dense_11_accuracy: 0.9897\n",
      "Epoch 95/100\n",
      "25/25 [==============================] - 1s 29ms/step - loss: 0.1659 - dense_1_loss: 0.0073 - dense_3_loss: 0.0124 - dense_5_loss: 0.0311 - dense_7_loss: 0.0277 - dense_9_loss: 0.0537 - dense_11_loss: 0.0337 - dense_1_accuracy: 0.9974 - dense_3_accuracy: 0.9936 - dense_5_accuracy: 0.9897 - dense_7_accuracy: 0.9936 - dense_9_accuracy: 0.9781 - dense_11_accuracy: 0.9845 - val_loss: 15.3386 - val_dense_1_loss: 14.5580 - val_dense_3_loss: 0.0832 - val_dense_5_loss: 0.0012 - val_dense_7_loss: 0.2095 - val_dense_9_loss: 0.3958 - val_dense_11_loss: 0.0909 - val_dense_1_accuracy: 0.0773 - val_dense_3_accuracy: 0.9948 - val_dense_5_accuracy: 1.0000 - val_dense_7_accuracy: 0.9742 - val_dense_9_accuracy: 0.9433 - val_dense_11_accuracy: 0.9845\n",
      "Epoch 96/100\n",
      "25/25 [==============================] - 1s 31ms/step - loss: 0.1459 - dense_1_loss: 0.0111 - dense_3_loss: 0.0135 - dense_5_loss: 0.0322 - dense_7_loss: 0.0416 - dense_9_loss: 0.0216 - dense_11_loss: 0.0259 - dense_1_accuracy: 0.9961 - dense_3_accuracy: 0.9910 - dense_5_accuracy: 0.9910 - dense_7_accuracy: 0.9820 - dense_9_accuracy: 0.9923 - dense_11_accuracy: 0.9923 - val_loss: 15.4312 - val_dense_1_loss: 14.6773 - val_dense_3_loss: 0.0831 - val_dense_5_loss: 1.8717e-05 - val_dense_7_loss: 0.1791 - val_dense_9_loss: 0.4280 - val_dense_11_loss: 0.0638 - val_dense_1_accuracy: 0.0773 - val_dense_3_accuracy: 0.9948 - val_dense_5_accuracy: 1.0000 - val_dense_7_accuracy: 0.9742 - val_dense_9_accuracy: 0.9588 - val_dense_11_accuracy: 0.9845\n",
      "Epoch 97/100\n",
      "25/25 [==============================] - 1s 29ms/step - loss: 0.1473 - dense_1_loss: 0.0096 - dense_3_loss: 0.0214 - dense_5_loss: 0.0226 - dense_7_loss: 0.0231 - dense_9_loss: 0.0389 - dense_11_loss: 0.0317 - dense_1_accuracy: 0.9961 - dense_3_accuracy: 0.9948 - dense_5_accuracy: 0.9923 - dense_7_accuracy: 0.9910 - dense_9_accuracy: 0.9871 - dense_11_accuracy: 0.9910 - val_loss: 15.5604 - val_dense_1_loss: 14.8156 - val_dense_3_loss: 0.0831 - val_dense_5_loss: 2.5561e-05 - val_dense_7_loss: 0.2155 - val_dense_9_loss: 0.4439 - val_dense_11_loss: 0.0024 - val_dense_1_accuracy: 0.0773 - val_dense_3_accuracy: 0.9948 - val_dense_5_accuracy: 1.0000 - val_dense_7_accuracy: 0.9639 - val_dense_9_accuracy: 0.9485 - val_dense_11_accuracy: 1.0000\n",
      "Epoch 98/100\n",
      "25/25 [==============================] - 1s 29ms/step - loss: 0.1498 - dense_1_loss: 0.0067 - dense_3_loss: 0.0209 - dense_5_loss: 0.0110 - dense_7_loss: 0.0438 - dense_9_loss: 0.0364 - dense_11_loss: 0.0310 - dense_1_accuracy: 0.9987 - dense_3_accuracy: 0.9936 - dense_5_accuracy: 0.9948 - dense_7_accuracy: 0.9845 - dense_9_accuracy: 0.9858 - dense_11_accuracy: 0.9845 - val_loss: 15.7257 - val_dense_1_loss: 14.8350 - val_dense_3_loss: 0.0831 - val_dense_5_loss: 5.5230e-05 - val_dense_7_loss: 0.2524 - val_dense_9_loss: 0.5453 - val_dense_11_loss: 0.0099 - val_dense_1_accuracy: 0.0773 - val_dense_3_accuracy: 0.9948 - val_dense_5_accuracy: 1.0000 - val_dense_7_accuracy: 0.9691 - val_dense_9_accuracy: 0.9381 - val_dense_11_accuracy: 1.0000\n"
     ]
    },
    {
     "name": "stdout",
     "output_type": "stream",
     "text": [
      "Epoch 99/100\n",
      "25/25 [==============================] - 1s 30ms/step - loss: 0.1182 - dense_1_loss: 0.0241 - dense_3_loss: 0.0169 - dense_5_loss: 0.0228 - dense_7_loss: 0.0190 - dense_9_loss: 0.0236 - dense_11_loss: 0.0118 - dense_1_accuracy: 0.9961 - dense_3_accuracy: 0.9936 - dense_5_accuracy: 0.9910 - dense_7_accuracy: 0.9936 - dense_9_accuracy: 0.9897 - dense_11_accuracy: 0.9948 - val_loss: 15.7605 - val_dense_1_loss: 14.7822 - val_dense_3_loss: 0.0831 - val_dense_5_loss: 5.4408e-06 - val_dense_7_loss: 0.2461 - val_dense_9_loss: 0.5597 - val_dense_11_loss: 0.0894 - val_dense_1_accuracy: 0.0773 - val_dense_3_accuracy: 0.9948 - val_dense_5_accuracy: 1.0000 - val_dense_7_accuracy: 0.9742 - val_dense_9_accuracy: 0.9433 - val_dense_11_accuracy: 0.9897\n",
      "Epoch 100/100\n",
      "25/25 [==============================] - 1s 30ms/step - loss: 0.1214 - dense_1_loss: 0.0046 - dense_3_loss: 0.0227 - dense_5_loss: 0.0185 - dense_7_loss: 0.0328 - dense_9_loss: 0.0163 - dense_11_loss: 0.0265 - dense_1_accuracy: 0.9987 - dense_3_accuracy: 0.9936 - dense_5_accuracy: 0.9936 - dense_7_accuracy: 0.9897 - dense_9_accuracy: 0.9948 - dense_11_accuracy: 0.9871 - val_loss: 15.5682 - val_dense_1_loss: 14.6282 - val_dense_3_loss: 0.0831 - val_dense_5_loss: 7.6489e-06 - val_dense_7_loss: 0.2294 - val_dense_9_loss: 0.5395 - val_dense_11_loss: 0.0879 - val_dense_1_accuracy: 0.0773 - val_dense_3_accuracy: 0.9948 - val_dense_5_accuracy: 1.0000 - val_dense_7_accuracy: 0.9742 - val_dense_9_accuracy: 0.9433 - val_dense_11_accuracy: 0.9897\n"
     ]
    }
   ],
   "source": [
    "#model = create_model()\n",
    "hist = model.fit(X_train, [y_train[0], y_train[1], y_train[2], y_train[3], y_train[4], y_train[5]], batch_size=32, epochs=100,verbose=1, validation_split=0.2)"
   ]
  },
  {
   "cell_type": "code",
   "execution_count": 13,
   "metadata": {
    "collapsed": true
   },
   "outputs": [],
   "source": [
    "# Define function to predict captcha\n",
    "def predict(filepath):\n",
    "    img = cv2.imread(filepath, cv2.IMREAD_GRAYSCALE)\n",
    "    if img is not None:\n",
    "        img = img / 255.0\n",
    "    else:\n",
    "        print(\"Not detected\");\n",
    "    res = np.array(model.predict(img[np.newaxis, :, :, np.newaxis]))\n",
    "    ans = np.reshape(res, (6, 10))\n",
    "    l_ind = []\n",
    "    probs = []\n",
    "    for a in ans:\n",
    "        l_ind.append(np.argmax(a))\n",
    "        #probs.append(np.max(a))\n",
    "\n",
    "    capt = ''\n",
    "    for l in l_ind:\n",
    "        capt += symbols[l]\n",
    "    return capt#, sum(probs) / 5\n"
   ]
  },
  {
   "cell_type": "code",
   "execution_count": 14,
   "metadata": {},
   "outputs": [
    {
     "name": "stdout",
     "output_type": "stream",
     "text": [
      "5/5 [==============================] - 0s 9ms/step - loss: 16.6693 - dense_1_loss: 15.5198 - dense_3_loss: 2.3484e-05 - dense_5_loss: 0.1203 - dense_7_loss: 0.3791 - dense_9_loss: 0.3349 - dense_11_loss: 0.3152 - dense_1_accuracy: 0.0000e+00 - dense_3_accuracy: 1.0000 - dense_5_accuracy: 0.9925 - dense_7_accuracy: 0.9478 - dense_9_accuracy: 0.9627 - dense_11_accuracy: 0.9776    \n",
      "====================================================================================================\n",
      "Test Loss and accuracy: [16.669261932373047, 15.519804954528809, 2.3483778932131827e-05, 0.12028636038303375, 0.3790777027606964, 0.33487430214881897, 0.3151951730251312, 0.0, 1.0, 0.9925373196601868, 0.9477611780166626, 0.9626865386962891, 0.9776119589805603]\n"
     ]
    }
   ],
   "source": [
    "score= model.evaluate(X_test,[y_test[0], y_test[1], y_test[2], y_test[3], y_test[4], y_test[5]],verbose=1)\n",
    "print('='*100)\n",
    "print('Test Loss and accuracy:', score)"
   ]
  },
  {
   "cell_type": "code",
   "execution_count": 15,
   "metadata": {},
   "outputs": [
    {
     "name": "stdout",
     "output_type": "stream",
     "text": [
      "5/5 [==============================] - 0s 9ms/step - loss: 16.6693 - dense_1_loss: 15.5198 - dense_3_loss: 2.3484e-05 - dense_5_loss: 0.1203 - dense_7_loss: 0.3791 - dense_9_loss: 0.3349 - dense_11_loss: 0.3152 - dense_1_accuracy: 0.0000e+00 - dense_3_accuracy: 1.0000 - dense_5_accuracy: 0.9925 - dense_7_accuracy: 0.9478 - dense_9_accuracy: 0.9627 - dense_11_accuracy: 0.9776    \n",
      "====================================================================================================\n",
      "028885\n",
      "049858\n",
      "339524\n",
      "366405\n",
      "400567\n"
     ]
    }
   ],
   "source": [
    "# Check model on some samples\n",
    "model.evaluate(X_test,[y_test[0], y_test[1], y_test[2], y_test[3], y_test[4], y_test[5]])\n",
    "print('='*100)\n",
    "print(predict('data/test/wetax/028885.png'))\n",
    "print(predict('data/test/wetax/049858.png'))\n",
    "print(predict('data/test/wetax/339524.png'))\n",
    "print(predict('data/test/wetax/366405.png'))\n",
    "print(predict('data/test/wetax/400567.png'))"
   ]
  },
  {
   "cell_type": "code",
   "execution_count": 10,
   "metadata": {},
   "outputs": [
    {
     "data": {
      "text/plain": [
       "<matplotlib.image.AxesImage at 0x1c20e351320>"
      ]
     },
     "execution_count": 10,
     "metadata": {},
     "output_type": "execute_result"
    },
    {
     "data": {
      "image/png": "[encoded data removed]",
      "text/plain": [
       "<Figure size 432x288 with 1 Axes>"
      ]
     },
     "metadata": {
      "needs_background": "light"
     },
     "output_type": "display_data"
    }
   ],
   "source": [
    "#Lets test an unknown captcha\n",
    "#preview\n",
    "%matplotlib inline \n",
    "import matplotlib.pyplot as plt\n",
    "img=cv2.imread('data/test/wetax/521545.png',cv2.IMREAD_GRAYSCALE)\n",
    "plt.imshow(img, cmap=plt.get_cmap('gray'))"
   ]
  },
  {
   "cell_type": "code",
   "execution_count": 16,
   "metadata": {},
   "outputs": [
    {
     "name": "stdout",
     "output_type": "stream",
     "text": [
      "Predicted Captcha = 525451\n"
     ]
    }
   ],
   "source": [
    "#Lets Predict By Model\n",
    "print(\"Predicted Captcha =\",predict('data/test/wetax/521545.png'))"
   ]
  },
  {
   "cell_type": "code",
   "execution_count": null,
   "metadata": {
    "collapsed": true
   },
   "outputs": [],
   "source": []
  }
 ],
 "metadata": {
  "kernelspec": {
   "display_name": "TensorFlow",
   "language": "python",
   "name": "tensorflow_env"
  },
  "language_info": {
   "codemirror_mode": {
    "name": "ipython",
    "version": 3
   },
   "file_extension": ".py",
   "mimetype": "text/x-python",
   "name": "python",
   "nbconvert_exporter": "python",
   "pygments_lexer": "ipython3",
   "version": "3.6.2"
  }
 },
 "nbformat": 4,
 "nbformat_minor": 2
}
