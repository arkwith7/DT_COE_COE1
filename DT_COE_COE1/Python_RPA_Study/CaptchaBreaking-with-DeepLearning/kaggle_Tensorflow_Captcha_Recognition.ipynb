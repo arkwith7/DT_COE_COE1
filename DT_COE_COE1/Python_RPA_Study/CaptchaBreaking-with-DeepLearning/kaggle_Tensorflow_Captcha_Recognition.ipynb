{
 "cells": [
  {
   "cell_type": "code",
   "execution_count": 1,
   "metadata": {
    "collapsed": true
   },
   "outputs": [],
   "source": [
    "from tensorflow.keras import layers\n",
    "from tensorflow.keras.models import Model\n",
    "from tensorflow.keras.models import load_model\n",
    "from tensorflow.keras import callbacks\n",
    "import os\n",
    "import cv2\n",
    "import string\n",
    "import numpy as np\n",
    "%matplotlib inline \n",
    "import matplotlib.pyplot as plt\n",
    "\n",
    "#Init main values\n",
    "symbols = string.ascii_lowercase + \"0123456789\" # All symbols captcha can contain\n",
    "num_symbols = len(symbols)\n",
    "img_shape = (50, 200, 1)"
   ]
  },
  {
   "cell_type": "code",
   "execution_count": 2,
   "metadata": {},
   "outputs": [
    {
     "name": "stdout",
     "output_type": "stream",
     "text": [
      "36\n"
     ]
    }
   ],
   "source": [
    "print(num_symbols)"
   ]
  },
  {
   "cell_type": "code",
   "execution_count": 3,
   "metadata": {
    "collapsed": true
   },
   "outputs": [],
   "source": [
    "def create_model():\n",
    "    img = layers.Input(shape=img_shape) # Get image as an input and process it through some Convs\n",
    "    conv1 = layers.Conv2D(16, (3, 3), padding='same', activation='relu')(img)\n",
    "    mp1 = layers.MaxPooling2D(padding='same')(conv1)  # 100x25\n",
    "    conv2 = layers.Conv2D(32, (3, 3), padding='same', activation='relu')(mp1)\n",
    "    mp2 = layers.MaxPooling2D(padding='same')(conv2)  # 50x13\n",
    "    conv3 = layers.Conv2D(32, (3, 3), padding='same', activation='relu')(mp2)\n",
    "    bn = layers.BatchNormalization()(conv3)\n",
    "    mp3 = layers.MaxPooling2D(padding='same')(bn)  # 25x7\n",
    "    \n",
    "    # Get flattened vector and make 5 branches from it. Each branch will predict one letter\n",
    "    flat = layers.Flatten()(mp3)\n",
    "    outs = []\n",
    "    for _ in range(5):\n",
    "        dens1 = layers.Dense(64, activation='relu')(flat)\n",
    "        drop = layers.Dropout(0.5)(dens1)\n",
    "        res = layers.Dense(num_symbols, activation='sigmoid')(drop)\n",
    "\n",
    "        outs.append(res)\n",
    "    \n",
    "    # Compile model and return it\n",
    "    model = Model(img, outs)\n",
    "    model.compile(loss='categorical_crossentropy', optimizer='adam',metrics=[\"accuracy\"])\n",
    "    return model"
   ]
  },
  {
   "cell_type": "markdown",
   "metadata": {},
   "source": [
    "Importing Data"
   ]
  },
  {
   "cell_type": "code",
   "execution_count": 4,
   "metadata": {},
   "outputs": [
    {
     "name": "stdout",
     "output_type": "stream",
     "text": [
      "970 training samples\n",
      "100 validation samples\n"
     ]
    }
   ],
   "source": [
    "def preprocess_data():\n",
    "    n_samples = len(os.listdir('captcha-version-2-images/samples/samples'))\n",
    "    X = np.zeros((n_samples, 50, 200, 1)) #1070*50*200\n",
    "    y = np.zeros((5, n_samples, num_symbols)) #5*1070*36\n",
    "\n",
    "    for i, pic in enumerate(os.listdir('captcha-version-2-images/samples/samples')):\n",
    "        # Read image as grayscale\n",
    "        img = cv2.imread(os.path.join('captcha-version-2-images/samples/samples', pic), cv2.IMREAD_GRAYSCALE)\n",
    "        pic_target = pic[:-4]\n",
    "        if len(pic_target) < 6:\n",
    "            # Scale and reshape image\n",
    "            img = img / 255.0\n",
    "            img = np.reshape(img, (50, 200, 1))\n",
    "            # Define targets and code them using OneHotEncoding\n",
    "            targs = np.zeros((5, num_symbols))\n",
    "            for j, l in enumerate(pic_target):\n",
    "                ind = symbols.find(l)\n",
    "                targs[j, ind] = 1\n",
    "            X[i] = img\n",
    "            y[:, i] = targs\n",
    "    \n",
    "    # Return final data\n",
    "    return X, y\n",
    "\n",
    "X, y = preprocess_data()\n",
    "X_train, y_train = X[:970], y[:, :970]\n",
    "X_test, y_test = X[970:], y[:, 970:]\n",
    "print(str(len(X_train)) + \" training samples\")\n",
    "print(str(len(X_test)) + \" validation samples\")\n"
   ]
  },
  {
   "cell_type": "code",
   "execution_count": 5,
   "metadata": {},
   "outputs": [
    {
     "name": "stdout",
     "output_type": "stream",
     "text": [
      "Model: \"model\"\n",
      "__________________________________________________________________________________________________\n",
      "Layer (type)                    Output Shape         Param #     Connected to                     \n",
      "==================================================================================================\n",
      "input_1 (InputLayer)            [(None, 50, 200, 1)] 0                                            \n",
      "__________________________________________________________________________________________________\n",
      "conv2d (Conv2D)                 (None, 50, 200, 16)  160         input_1[0][0]                    \n",
      "__________________________________________________________________________________________________\n",
      "max_pooling2d (MaxPooling2D)    (None, 25, 100, 16)  0           conv2d[0][0]                     \n",
      "__________________________________________________________________________________________________\n",
      "conv2d_1 (Conv2D)               (None, 25, 100, 32)  4640        max_pooling2d[0][0]              \n",
      "__________________________________________________________________________________________________\n",
      "max_pooling2d_1 (MaxPooling2D)  (None, 13, 50, 32)   0           conv2d_1[0][0]                   \n",
      "__________________________________________________________________________________________________\n",
      "conv2d_2 (Conv2D)               (None, 13, 50, 32)   9248        max_pooling2d_1[0][0]            \n",
      "__________________________________________________________________________________________________\n",
      "batch_normalization (BatchNorma (None, 13, 50, 32)   128         conv2d_2[0][0]                   \n",
      "__________________________________________________________________________________________________\n",
      "max_pooling2d_2 (MaxPooling2D)  (None, 7, 25, 32)    0           batch_normalization[0][0]        \n",
      "__________________________________________________________________________________________________\n",
      "flatten (Flatten)               (None, 5600)         0           max_pooling2d_2[0][0]            \n",
      "__________________________________________________________________________________________________\n",
      "dense (Dense)                   (None, 64)           358464      flatten[0][0]                    \n",
      "__________________________________________________________________________________________________\n",
      "dense_2 (Dense)                 (None, 64)           358464      flatten[0][0]                    \n",
      "__________________________________________________________________________________________________\n",
      "dense_4 (Dense)                 (None, 64)           358464      flatten[0][0]                    \n",
      "__________________________________________________________________________________________________\n",
      "dense_6 (Dense)                 (None, 64)           358464      flatten[0][0]                    \n",
      "__________________________________________________________________________________________________\n",
      "dense_8 (Dense)                 (None, 64)           358464      flatten[0][0]                    \n",
      "__________________________________________________________________________________________________\n",
      "dropout (Dropout)               (None, 64)           0           dense[0][0]                      \n",
      "__________________________________________________________________________________________________\n",
      "dropout_1 (Dropout)             (None, 64)           0           dense_2[0][0]                    \n",
      "__________________________________________________________________________________________________\n",
      "dropout_2 (Dropout)             (None, 64)           0           dense_4[0][0]                    \n",
      "__________________________________________________________________________________________________\n",
      "dropout_3 (Dropout)             (None, 64)           0           dense_6[0][0]                    \n",
      "__________________________________________________________________________________________________\n",
      "dropout_4 (Dropout)             (None, 64)           0           dense_8[0][0]                    \n",
      "__________________________________________________________________________________________________\n",
      "dense_1 (Dense)                 (None, 36)           2340        dropout[0][0]                    \n",
      "__________________________________________________________________________________________________\n",
      "dense_3 (Dense)                 (None, 36)           2340        dropout_1[0][0]                  \n",
      "__________________________________________________________________________________________________\n",
      "dense_5 (Dense)                 (None, 36)           2340        dropout_2[0][0]                  \n",
      "__________________________________________________________________________________________________\n",
      "dense_7 (Dense)                 (None, 36)           2340        dropout_3[0][0]                  \n",
      "__________________________________________________________________________________________________\n",
      "dense_9 (Dense)                 (None, 36)           2340        dropout_4[0][0]                  \n",
      "==================================================================================================\n",
      "Total params: 1,818,196\n",
      "Trainable params: 1,818,132\n",
      "Non-trainable params: 64\n",
      "__________________________________________________________________________________________________\n"
     ]
    }
   ],
   "source": [
    "model=create_model();\n",
    "model.summary();"
   ]
  },
  {
   "cell_type": "code",
   "execution_count": 6,
   "metadata": {},
   "outputs": [
    {
     "name": "stdout",
     "output_type": "stream",
     "text": [
      "Epoch 1/30\n",
      "25/25 [==============================] - 5s 38ms/step - loss: 17.6682 - dense_1_loss: 3.4267 - dense_3_loss: 3.5796 - dense_5_loss: 3.5649 - dense_7_loss: 3.5992 - dense_9_loss: 3.4978 - dense_1_accuracy: 0.0735 - dense_3_accuracy: 0.0451 - dense_5_accuracy: 0.0503 - dense_7_accuracy: 0.0438 - dense_9_accuracy: 0.0696 - val_loss: 17.7506 - val_dense_1_loss: 3.6278 - val_dense_3_loss: 3.5343 - val_dense_5_loss: 3.5366 - val_dense_7_loss: 3.5329 - val_dense_9_loss: 3.5190 - val_dense_1_accuracy: 0.0000e+00 - val_dense_3_accuracy: 0.0722 - val_dense_5_accuracy: 0.0979 - val_dense_7_accuracy: 0.0567 - val_dense_9_accuracy: 0.1443\n",
      "Epoch 2/30\n",
      "25/25 [==============================] - 0s 16ms/step - loss: 16.1591 - dense_1_loss: 2.8476 - dense_3_loss: 3.2834 - dense_5_loss: 3.3157 - dense_7_loss: 3.3892 - dense_9_loss: 3.3233 - dense_1_accuracy: 0.1675 - dense_3_accuracy: 0.0760 - dense_5_accuracy: 0.0760 - dense_7_accuracy: 0.0657 - dense_9_accuracy: 0.0683 - val_loss: 17.6949 - val_dense_1_loss: 3.6354 - val_dense_3_loss: 3.5102 - val_dense_5_loss: 3.5191 - val_dense_7_loss: 3.5177 - val_dense_9_loss: 3.5125 - val_dense_1_accuracy: 0.0000e+00 - val_dense_3_accuracy: 0.0722 - val_dense_5_accuracy: 0.1237 - val_dense_7_accuracy: 0.0979 - val_dense_9_accuracy: 0.1392\n",
      "Epoch 3/30\n",
      "25/25 [==============================] - 0s 16ms/step - loss: 14.7150 - dense_1_loss: 2.1803 - dense_3_loss: 3.0151 - dense_5_loss: 3.1329 - dense_7_loss: 3.2311 - dense_9_loss: 3.1558 - dense_1_accuracy: 0.3376 - dense_3_accuracy: 0.1134 - dense_5_accuracy: 0.1031 - dense_7_accuracy: 0.1018 - dense_9_accuracy: 0.0941 - val_loss: 17.5816 - val_dense_1_loss: 3.6364 - val_dense_3_loss: 3.4903 - val_dense_5_loss: 3.4713 - val_dense_7_loss: 3.4960 - val_dense_9_loss: 3.4875 - val_dense_1_accuracy: 0.0000e+00 - val_dense_3_accuracy: 0.2010 - val_dense_5_accuracy: 0.1443 - val_dense_7_accuracy: 0.1495 - val_dense_9_accuracy: 0.1237\n",
      "Epoch 4/30\n",
      "25/25 [==============================] - 0s 17ms/step - loss: 12.8838 - dense_1_loss: 1.4602 - dense_3_loss: 2.7317 - dense_5_loss: 2.8095 - dense_7_loss: 2.9537 - dense_9_loss: 2.9287 - dense_1_accuracy: 0.5296 - dense_3_accuracy: 0.1933 - dense_5_accuracy: 0.1521 - dense_7_accuracy: 0.1430 - dense_9_accuracy: 0.0979 - val_loss: 17.3717 - val_dense_1_loss: 3.6294 - val_dense_3_loss: 3.4183 - val_dense_5_loss: 3.4328 - val_dense_7_loss: 3.4514 - val_dense_9_loss: 3.4397 - val_dense_1_accuracy: 0.0000e+00 - val_dense_3_accuracy: 0.1959 - val_dense_5_accuracy: 0.2216 - val_dense_7_accuracy: 0.1907 - val_dense_9_accuracy: 0.1907\n",
      "Epoch 5/30\n",
      "25/25 [==============================] - 0s 17ms/step - loss: 11.1406 - dense_1_loss: 1.0754 - dense_3_loss: 2.3343 - dense_5_loss: 2.4547 - dense_7_loss: 2.6489 - dense_9_loss: 2.6275 - dense_1_accuracy: 0.6327 - dense_3_accuracy: 0.2925 - dense_5_accuracy: 0.2539 - dense_7_accuracy: 0.1907 - dense_9_accuracy: 0.2062 - val_loss: 16.8758 - val_dense_1_loss: 3.6426 - val_dense_3_loss: 3.2663 - val_dense_5_loss: 3.2812 - val_dense_7_loss: 3.3478 - val_dense_9_loss: 3.3379 - val_dense_1_accuracy: 0.0000e+00 - val_dense_3_accuracy: 0.4330 - val_dense_5_accuracy: 0.3454 - val_dense_7_accuracy: 0.2938 - val_dense_9_accuracy: 0.2990\n",
      "Epoch 6/30\n",
      "25/25 [==============================] - 0s 17ms/step - loss: 9.5990 - dense_1_loss: 0.7415 - dense_3_loss: 2.0046 - dense_5_loss: 2.0119 - dense_7_loss: 2.4143 - dense_9_loss: 2.4267 - dense_1_accuracy: 0.7436 - dense_3_accuracy: 0.3363 - dense_5_accuracy: 0.3505 - dense_7_accuracy: 0.2371 - dense_9_accuracy: 0.2436 - val_loss: 16.5299 - val_dense_1_loss: 3.6162 - val_dense_3_loss: 3.1849 - val_dense_5_loss: 3.2035 - val_dense_7_loss: 3.2709 - val_dense_9_loss: 3.2543 - val_dense_1_accuracy: 0.0000e+00 - val_dense_3_accuracy: 0.3969 - val_dense_5_accuracy: 0.4227 - val_dense_7_accuracy: 0.3247 - val_dense_9_accuracy: 0.3660\n",
      "Epoch 7/30\n",
      "25/25 [==============================] - 0s 17ms/step - loss: 8.2938 - dense_1_loss: 0.6586 - dense_3_loss: 1.6583 - dense_5_loss: 1.7106 - dense_7_loss: 2.1846 - dense_9_loss: 2.0817 - dense_1_accuracy: 0.7655 - dense_3_accuracy: 0.4575 - dense_5_accuracy: 0.4149 - dense_7_accuracy: 0.2951 - dense_9_accuracy: 0.3273 - val_loss: 16.1139 - val_dense_1_loss: 3.6221 - val_dense_3_loss: 3.0465 - val_dense_5_loss: 3.1083 - val_dense_7_loss: 3.1918 - val_dense_9_loss: 3.1452 - val_dense_1_accuracy: 0.0000e+00 - val_dense_3_accuracy: 0.4794 - val_dense_5_accuracy: 0.4227 - val_dense_7_accuracy: 0.4124 - val_dense_9_accuracy: 0.4278\n",
      "Epoch 8/30\n",
      "25/25 [==============================] - 0s 17ms/step - loss: 7.2441 - dense_1_loss: 0.5245 - dense_3_loss: 1.3513 - dense_5_loss: 1.4315 - dense_7_loss: 2.0376 - dense_9_loss: 1.8992 - dense_1_accuracy: 0.8222 - dense_3_accuracy: 0.5490 - dense_5_accuracy: 0.5258 - dense_7_accuracy: 0.3389 - dense_9_accuracy: 0.4149 - val_loss: 14.9647 - val_dense_1_loss: 3.4821 - val_dense_3_loss: 2.7451 - val_dense_5_loss: 2.8538 - val_dense_7_loss: 2.9504 - val_dense_9_loss: 2.9333 - val_dense_1_accuracy: 0.0412 - val_dense_3_accuracy: 0.6856 - val_dense_5_accuracy: 0.5567 - val_dense_7_accuracy: 0.5000 - val_dense_9_accuracy: 0.5567\n",
      "Epoch 9/30\n",
      "25/25 [==============================] - 0s 17ms/step - loss: 6.2292 - dense_1_loss: 0.4316 - dense_3_loss: 1.0824 - dense_5_loss: 1.2878 - dense_7_loss: 1.8829 - dense_9_loss: 1.5444 - dense_1_accuracy: 0.8479 - dense_3_accuracy: 0.6392 - dense_5_accuracy: 0.5593 - dense_7_accuracy: 0.3595 - dense_9_accuracy: 0.4987 - val_loss: 14.5011 - val_dense_1_loss: 3.7639 - val_dense_3_loss: 2.4818 - val_dense_5_loss: 2.5880 - val_dense_7_loss: 2.8941 - val_dense_9_loss: 2.7734 - val_dense_1_accuracy: 0.0103 - val_dense_3_accuracy: 0.6392 - val_dense_5_accuracy: 0.6082 - val_dense_7_accuracy: 0.4588 - val_dense_9_accuracy: 0.5103\n",
      "Epoch 10/30\n",
      "25/25 [==============================] - 0s 17ms/step - loss: 5.7064 - dense_1_loss: 0.4137 - dense_3_loss: 0.9219 - dense_5_loss: 1.0682 - dense_7_loss: 1.8001 - dense_9_loss: 1.5024 - dense_1_accuracy: 0.8660 - dense_3_accuracy: 0.6843 - dense_5_accuracy: 0.6379 - dense_7_accuracy: 0.4098 - dense_9_accuracy: 0.4858 - val_loss: 13.4246 - val_dense_1_loss: 3.6456 - val_dense_3_loss: 2.1577 - val_dense_5_loss: 2.3720 - val_dense_7_loss: 2.6987 - val_dense_9_loss: 2.5506 - val_dense_1_accuracy: 0.0309 - val_dense_3_accuracy: 0.7732 - val_dense_5_accuracy: 0.6649 - val_dense_7_accuracy: 0.5670 - val_dense_9_accuracy: 0.5979\n",
      "Epoch 11/30\n",
      "25/25 [==============================] - 0s 17ms/step - loss: 5.0380 - dense_1_loss: 0.3490 - dense_3_loss: 0.7882 - dense_5_loss: 0.9845 - dense_7_loss: 1.6139 - dense_9_loss: 1.3024 - dense_1_accuracy: 0.8724 - dense_3_accuracy: 0.7242 - dense_5_accuracy: 0.6611 - dense_7_accuracy: 0.4497 - dense_9_accuracy: 0.5541 - val_loss: 12.3154 - val_dense_1_loss: 3.5698 - val_dense_3_loss: 1.8539 - val_dense_5_loss: 2.1334 - val_dense_7_loss: 2.4991 - val_dense_9_loss: 2.2591 - val_dense_1_accuracy: 0.0412 - val_dense_3_accuracy: 0.7320 - val_dense_5_accuracy: 0.7216 - val_dense_7_accuracy: 0.6031 - val_dense_9_accuracy: 0.6804\n",
      "Epoch 12/30\n",
      "25/25 [==============================] - 0s 17ms/step - loss: 4.5396 - dense_1_loss: 0.3189 - dense_3_loss: 0.6765 - dense_5_loss: 0.9039 - dense_7_loss: 1.4617 - dense_9_loss: 1.1785 - dense_1_accuracy: 0.8853 - dense_3_accuracy: 0.7410 - dense_5_accuracy: 0.6778 - dense_7_accuracy: 0.4871 - dense_9_accuracy: 0.5851 - val_loss: 11.3806 - val_dense_1_loss: 3.7341 - val_dense_3_loss: 1.5214 - val_dense_5_loss: 1.9189 - val_dense_7_loss: 2.3216 - val_dense_9_loss: 1.8847 - val_dense_1_accuracy: 0.0412 - val_dense_3_accuracy: 0.7784 - val_dense_5_accuracy: 0.7268 - val_dense_7_accuracy: 0.6289 - val_dense_9_accuracy: 0.6701\n",
      "Epoch 13/30\n",
      "25/25 [==============================] - ETA: 0s - loss: 3.9831 - dense_1_loss: 0.2533 - dense_3_loss: 0.5591 - dense_5_loss: 0.7311 - dense_7_loss: 1.3884 - dense_9_loss: 1.0513 - dense_1_accuracy: 0.9046 - dense_3_accuracy: 0.8067 - dense_5_accuracy: 0.7436 - dense_7_accuracy: 0.5077 - dense_9_accuracy: 0.645 - 0s 17ms/step - loss: 3.9831 - dense_1_loss: 0.2533 - dense_3_loss: 0.5591 - dense_5_loss: 0.7311 - dense_7_loss: 1.3884 - dense_9_loss: 1.0513 - dense_1_accuracy: 0.9046 - dense_3_accuracy: 0.8067 - dense_5_accuracy: 0.7436 - dense_7_accuracy: 0.5077 - dense_9_accuracy: 0.6456 - val_loss: 11.1082 - val_dense_1_loss: 3.8259 - val_dense_3_loss: 1.3920 - val_dense_5_loss: 1.8186 - val_dense_7_loss: 2.1730 - val_dense_9_loss: 1.8987 - val_dense_1_accuracy: 0.0103 - val_dense_3_accuracy: 0.7938 - val_dense_5_accuracy: 0.7010 - val_dense_7_accuracy: 0.5670 - val_dense_9_accuracy: 0.6907\n"
     ]
    },
    {
     "name": "stdout",
     "output_type": "stream",
     "text": [
      "Epoch 14/30\n",
      "25/25 [==============================] - 0s 17ms/step - loss: 3.6851 - dense_1_loss: 0.2774 - dense_3_loss: 0.4825 - dense_5_loss: 0.6551 - dense_7_loss: 1.3439 - dense_9_loss: 0.9261 - dense_1_accuracy: 0.9008 - dense_3_accuracy: 0.8325 - dense_5_accuracy: 0.7693 - dense_7_accuracy: 0.5219 - dense_9_accuracy: 0.6778 - val_loss: 9.5981 - val_dense_1_loss: 3.8629 - val_dense_3_loss: 1.0521 - val_dense_5_loss: 1.4515 - val_dense_7_loss: 1.8446 - val_dense_9_loss: 1.3871 - val_dense_1_accuracy: 0.0773 - val_dense_3_accuracy: 0.8093 - val_dense_5_accuracy: 0.7268 - val_dense_7_accuracy: 0.6289 - val_dense_9_accuracy: 0.7423\n",
      "Epoch 15/30\n",
      "25/25 [==============================] - 0s 17ms/step - loss: 3.3936 - dense_1_loss: 0.2626 - dense_3_loss: 0.4859 - dense_5_loss: 0.6411 - dense_7_loss: 1.1554 - dense_9_loss: 0.8485 - dense_1_accuracy: 0.9072 - dense_3_accuracy: 0.8170 - dense_5_accuracy: 0.7616 - dense_7_accuracy: 0.6082 - dense_9_accuracy: 0.7152 - val_loss: 9.2373 - val_dense_1_loss: 4.0837 - val_dense_3_loss: 0.9237 - val_dense_5_loss: 1.3556 - val_dense_7_loss: 1.6853 - val_dense_9_loss: 1.1890 - val_dense_1_accuracy: 0.0258 - val_dense_3_accuracy: 0.8041 - val_dense_5_accuracy: 0.7113 - val_dense_7_accuracy: 0.5979 - val_dense_9_accuracy: 0.7680\n",
      "Epoch 16/30\n",
      "25/25 [==============================] - 0s 17ms/step - loss: 3.1604 - dense_1_loss: 0.2350 - dense_3_loss: 0.4202 - dense_5_loss: 0.5925 - dense_7_loss: 1.1583 - dense_9_loss: 0.7543 - dense_1_accuracy: 0.9085 - dense_3_accuracy: 0.8570 - dense_5_accuracy: 0.7822 - dense_7_accuracy: 0.5786 - dense_9_accuracy: 0.7062 - val_loss: 9.3522 - val_dense_1_loss: 4.6194 - val_dense_3_loss: 0.8243 - val_dense_5_loss: 1.2113 - val_dense_7_loss: 1.4965 - val_dense_9_loss: 1.2008 - val_dense_1_accuracy: 0.0309 - val_dense_3_accuracy: 0.7990 - val_dense_5_accuracy: 0.7268 - val_dense_7_accuracy: 0.7010 - val_dense_9_accuracy: 0.7216\n",
      "Epoch 17/30\n",
      "25/25 [==============================] - 0s 18ms/step - loss: 2.9694 - dense_1_loss: 0.1974 - dense_3_loss: 0.4504 - dense_5_loss: 0.5681 - dense_7_loss: 1.0553 - dense_9_loss: 0.6982 - dense_1_accuracy: 0.9240 - dense_3_accuracy: 0.8389 - dense_5_accuracy: 0.7706 - dense_7_accuracy: 0.6031 - dense_9_accuracy: 0.7332 - val_loss: 8.4411 - val_dense_1_loss: 4.4750 - val_dense_3_loss: 0.7414 - val_dense_5_loss: 1.0513 - val_dense_7_loss: 1.3459 - val_dense_9_loss: 0.8275 - val_dense_1_accuracy: 0.0825 - val_dense_3_accuracy: 0.8196 - val_dense_5_accuracy: 0.7165 - val_dense_7_accuracy: 0.6598 - val_dense_9_accuracy: 0.7835\n",
      "Epoch 18/30\n",
      "25/25 [==============================] - 0s 17ms/step - loss: 2.8810 - dense_1_loss: 0.2039 - dense_3_loss: 0.3845 - dense_5_loss: 0.5659 - dense_7_loss: 1.0479 - dense_9_loss: 0.6788 - dense_1_accuracy: 0.9175 - dense_3_accuracy: 0.8505 - dense_5_accuracy: 0.7938 - dense_7_accuracy: 0.6327 - dense_9_accuracy: 0.7539 - val_loss: 8.6465 - val_dense_1_loss: 4.8144 - val_dense_3_loss: 0.6708 - val_dense_5_loss: 0.9815 - val_dense_7_loss: 1.3265 - val_dense_9_loss: 0.8533 - val_dense_1_accuracy: 0.1134 - val_dense_3_accuracy: 0.8505 - val_dense_5_accuracy: 0.7680 - val_dense_7_accuracy: 0.7268 - val_dense_9_accuracy: 0.7887\n",
      "Epoch 19/30\n",
      "25/25 [==============================] - 0s 17ms/step - loss: 2.7021 - dense_1_loss: 0.2167 - dense_3_loss: 0.3767 - dense_5_loss: 0.5326 - dense_7_loss: 0.9918 - dense_9_loss: 0.5843 - dense_1_accuracy: 0.9124 - dense_3_accuracy: 0.8724 - dense_5_accuracy: 0.8093 - dense_7_accuracy: 0.6521 - dense_9_accuracy: 0.7887 - val_loss: 8.6957 - val_dense_1_loss: 5.0901 - val_dense_3_loss: 0.6504 - val_dense_5_loss: 1.0019 - val_dense_7_loss: 1.1719 - val_dense_9_loss: 0.7814 - val_dense_1_accuracy: 0.0979 - val_dense_3_accuracy: 0.8454 - val_dense_5_accuracy: 0.7320 - val_dense_7_accuracy: 0.7165 - val_dense_9_accuracy: 0.7680\n",
      "Epoch 20/30\n",
      "25/25 [==============================] - 0s 17ms/step - loss: 2.5462 - dense_1_loss: 0.2163 - dense_3_loss: 0.3371 - dense_5_loss: 0.4696 - dense_7_loss: 0.9415 - dense_9_loss: 0.5817 - dense_1_accuracy: 0.9240 - dense_3_accuracy: 0.8814 - dense_5_accuracy: 0.8157 - dense_7_accuracy: 0.6482 - dense_9_accuracy: 0.7925 - val_loss: 8.6458 - val_dense_1_loss: 5.3331 - val_dense_3_loss: 0.7120 - val_dense_5_loss: 0.8911 - val_dense_7_loss: 1.0983 - val_dense_9_loss: 0.6113 - val_dense_1_accuracy: 0.0825 - val_dense_3_accuracy: 0.8041 - val_dense_5_accuracy: 0.7629 - val_dense_7_accuracy: 0.6959 - val_dense_9_accuracy: 0.8093\n",
      "Epoch 21/30\n",
      "25/25 [==============================] - 0s 17ms/step - loss: 2.3899 - dense_1_loss: 0.1963 - dense_3_loss: 0.3433 - dense_5_loss: 0.4493 - dense_7_loss: 0.8892 - dense_9_loss: 0.5119 - dense_1_accuracy: 0.9240 - dense_3_accuracy: 0.8776 - dense_5_accuracy: 0.8325 - dense_7_accuracy: 0.6753 - dense_9_accuracy: 0.8144 - val_loss: 9.2757 - val_dense_1_loss: 6.1355 - val_dense_3_loss: 0.6398 - val_dense_5_loss: 0.8561 - val_dense_7_loss: 1.0520 - val_dense_9_loss: 0.5922 - val_dense_1_accuracy: 0.0515 - val_dense_3_accuracy: 0.8608 - val_dense_5_accuracy: 0.7784 - val_dense_7_accuracy: 0.7371 - val_dense_9_accuracy: 0.8144\n",
      "Epoch 22/30\n",
      "25/25 [==============================] - 0s 17ms/step - loss: 2.1524 - dense_1_loss: 0.1476 - dense_3_loss: 0.3048 - dense_5_loss: 0.4192 - dense_7_loss: 0.8113 - dense_9_loss: 0.4696 - dense_1_accuracy: 0.9420 - dense_3_accuracy: 0.8943 - dense_5_accuracy: 0.8466 - dense_7_accuracy: 0.6933 - dense_9_accuracy: 0.8235 - val_loss: 9.2284 - val_dense_1_loss: 6.1646 - val_dense_3_loss: 0.6760 - val_dense_5_loss: 0.8178 - val_dense_7_loss: 0.9547 - val_dense_9_loss: 0.6153 - val_dense_1_accuracy: 0.1443 - val_dense_3_accuracy: 0.7990 - val_dense_5_accuracy: 0.7629 - val_dense_7_accuracy: 0.7526 - val_dense_9_accuracy: 0.7938\n",
      "Epoch 23/30\n",
      "25/25 [==============================] - 0s 17ms/step - loss: 2.1014 - dense_1_loss: 0.1723 - dense_3_loss: 0.2782 - dense_5_loss: 0.4208 - dense_7_loss: 0.7916 - dense_9_loss: 0.4385 - dense_1_accuracy: 0.9343 - dense_3_accuracy: 0.8969 - dense_5_accuracy: 0.8402 - dense_7_accuracy: 0.6907 - dense_9_accuracy: 0.8415 - val_loss: 9.6499 - val_dense_1_loss: 6.6660 - val_dense_3_loss: 0.6741 - val_dense_5_loss: 0.8392 - val_dense_7_loss: 0.9566 - val_dense_9_loss: 0.5139 - val_dense_1_accuracy: 0.1443 - val_dense_3_accuracy: 0.8351 - val_dense_5_accuracy: 0.7784 - val_dense_7_accuracy: 0.7320 - val_dense_9_accuracy: 0.8196\n",
      "Epoch 24/30\n",
      "25/25 [==============================] - 0s 17ms/step - loss: 1.9581 - dense_1_loss: 0.1436 - dense_3_loss: 0.2684 - dense_5_loss: 0.3724 - dense_7_loss: 0.7704 - dense_9_loss: 0.4033 - dense_1_accuracy: 0.9485 - dense_3_accuracy: 0.8982 - dense_5_accuracy: 0.8595 - dense_7_accuracy: 0.7229 - dense_9_accuracy: 0.8544 - val_loss: 10.5839 - val_dense_1_loss: 7.5575 - val_dense_3_loss: 0.6641 - val_dense_5_loss: 0.8756 - val_dense_7_loss: 1.0154 - val_dense_9_loss: 0.4713 - val_dense_1_accuracy: 0.0825 - val_dense_3_accuracy: 0.8247 - val_dense_5_accuracy: 0.7732 - val_dense_7_accuracy: 0.7268 - val_dense_9_accuracy: 0.8505\n",
      "Epoch 25/30\n",
      "25/25 [==============================] - 0s 17ms/step - loss: 1.8289 - dense_1_loss: 0.1626 - dense_3_loss: 0.2292 - dense_5_loss: 0.3188 - dense_7_loss: 0.7327 - dense_9_loss: 0.3856 - dense_1_accuracy: 0.9433 - dense_3_accuracy: 0.9111 - dense_5_accuracy: 0.8814 - dense_7_accuracy: 0.7423 - dense_9_accuracy: 0.8492 - val_loss: 10.4843 - val_dense_1_loss: 7.3769 - val_dense_3_loss: 0.7735 - val_dense_5_loss: 0.9220 - val_dense_7_loss: 0.9394 - val_dense_9_loss: 0.4725 - val_dense_1_accuracy: 0.0722 - val_dense_3_accuracy: 0.8402 - val_dense_5_accuracy: 0.7732 - val_dense_7_accuracy: 0.7680 - val_dense_9_accuracy: 0.8351\n",
      "Epoch 26/30\n",
      "25/25 [==============================] - 0s 17ms/step - loss: 1.6938 - dense_1_loss: 0.1368 - dense_3_loss: 0.2276 - dense_5_loss: 0.3181 - dense_7_loss: 0.6428 - dense_9_loss: 0.3684 - dense_1_accuracy: 0.9497 - dense_3_accuracy: 0.9098 - dense_5_accuracy: 0.8853 - dense_7_accuracy: 0.7642 - dense_9_accuracy: 0.8557 - val_loss: 11.1959 - val_dense_1_loss: 8.1076 - val_dense_3_loss: 0.7050 - val_dense_5_loss: 0.9285 - val_dense_7_loss: 0.9580 - val_dense_9_loss: 0.4969 - val_dense_1_accuracy: 0.0670 - val_dense_3_accuracy: 0.8557 - val_dense_5_accuracy: 0.7423 - val_dense_7_accuracy: 0.7216 - val_dense_9_accuracy: 0.8402\n"
     ]
    },
    {
     "name": "stdout",
     "output_type": "stream",
     "text": [
      "Epoch 27/30\n",
      "25/25 [==============================] - 0s 17ms/step - loss: 1.7994 - dense_1_loss: 0.1298 - dense_3_loss: 0.2677 - dense_5_loss: 0.3545 - dense_7_loss: 0.6646 - dense_9_loss: 0.3828 - dense_1_accuracy: 0.9459 - dense_3_accuracy: 0.8943 - dense_5_accuracy: 0.8698 - dense_7_accuracy: 0.7616 - dense_9_accuracy: 0.8621 - val_loss: 11.5996 - val_dense_1_loss: 8.5601 - val_dense_3_loss: 0.6702 - val_dense_5_loss: 0.8516 - val_dense_7_loss: 0.9606 - val_dense_9_loss: 0.5572 - val_dense_1_accuracy: 0.0876 - val_dense_3_accuracy: 0.8660 - val_dense_5_accuracy: 0.7680 - val_dense_7_accuracy: 0.7320 - val_dense_9_accuracy: 0.8505\n",
      "Epoch 28/30\n",
      "25/25 [==============================] - 0s 17ms/step - loss: 1.6686 - dense_1_loss: 0.1338 - dense_3_loss: 0.2738 - dense_5_loss: 0.3164 - dense_7_loss: 0.6268 - dense_9_loss: 0.3178 - dense_1_accuracy: 0.9446 - dense_3_accuracy: 0.9059 - dense_5_accuracy: 0.8802 - dense_7_accuracy: 0.7680 - dense_9_accuracy: 0.8905 - val_loss: 11.6937 - val_dense_1_loss: 8.5314 - val_dense_3_loss: 0.7616 - val_dense_5_loss: 0.8800 - val_dense_7_loss: 0.9102 - val_dense_9_loss: 0.6105 - val_dense_1_accuracy: 0.1340 - val_dense_3_accuracy: 0.8557 - val_dense_5_accuracy: 0.7835 - val_dense_7_accuracy: 0.7835 - val_dense_9_accuracy: 0.8196\n",
      "Epoch 29/30\n",
      "25/25 [==============================] - 0s 17ms/step - loss: 1.6978 - dense_1_loss: 0.1163 - dense_3_loss: 0.2410 - dense_5_loss: 0.3535 - dense_7_loss: 0.6151 - dense_9_loss: 0.3719 - dense_1_accuracy: 0.9601 - dense_3_accuracy: 0.8995 - dense_5_accuracy: 0.8634 - dense_7_accuracy: 0.7732 - dense_9_accuracy: 0.8479 - val_loss: 11.9411 - val_dense_1_loss: 8.8637 - val_dense_3_loss: 0.7424 - val_dense_5_loss: 0.9599 - val_dense_7_loss: 0.8874 - val_dense_9_loss: 0.4877 - val_dense_1_accuracy: 0.1443 - val_dense_3_accuracy: 0.8351 - val_dense_5_accuracy: 0.7835 - val_dense_7_accuracy: 0.7784 - val_dense_9_accuracy: 0.8505\n",
      "Epoch 30/30\n",
      "25/25 [==============================] - 0s 17ms/step - loss: 1.4872 - dense_1_loss: 0.0982 - dense_3_loss: 0.2184 - dense_5_loss: 0.3019 - dense_7_loss: 0.5436 - dense_9_loss: 0.3251 - dense_1_accuracy: 0.9613 - dense_3_accuracy: 0.9098 - dense_5_accuracy: 0.8943 - dense_7_accuracy: 0.7964 - dense_9_accuracy: 0.8763 - val_loss: 14.0311 - val_dense_1_loss: 10.6815 - val_dense_3_loss: 0.8660 - val_dense_5_loss: 1.0327 - val_dense_7_loss: 0.9492 - val_dense_9_loss: 0.5017 - val_dense_1_accuracy: 0.1340 - val_dense_3_accuracy: 0.8299 - val_dense_5_accuracy: 0.7835 - val_dense_7_accuracy: 0.7784 - val_dense_9_accuracy: 0.8505\n"
     ]
    }
   ],
   "source": [
    "#model = create_model()\n",
    "hist = model.fit(X_train, [y_train[0], y_train[1], y_train[2], y_train[3], y_train[4]], batch_size=32, epochs=30,verbose=1, validation_split=0.2)"
   ]
  },
  {
   "cell_type": "code",
   "execution_count": 7,
   "metadata": {
    "collapsed": true
   },
   "outputs": [],
   "source": [
    "# Define function to predict captcha\n",
    "def predict(filepath):\n",
    "    img = cv2.imread(filepath, cv2.IMREAD_GRAYSCALE)\n",
    "    if img is not None:\n",
    "        img = img / 255.0\n",
    "    else:\n",
    "        print(\"Not detected\");\n",
    "    res = np.array(model.predict(img[np.newaxis, :, :, np.newaxis]))\n",
    "    ans = np.reshape(res, (5, 36))\n",
    "    l_ind = []\n",
    "    probs = []\n",
    "    for a in ans:\n",
    "        l_ind.append(np.argmax(a))\n",
    "        #probs.append(np.max(a))\n",
    "\n",
    "    capt = ''\n",
    "    for l in l_ind:\n",
    "        capt += symbols[l]\n",
    "    return capt#, sum(probs) / 5\n"
   ]
  },
  {
   "cell_type": "code",
   "execution_count": 9,
   "metadata": {},
   "outputs": [
    {
     "name": "stdout",
     "output_type": "stream",
     "text": [
      "4/4 [==============================] - 0s 8ms/step - loss: 19.0624 - dense_1_loss: 17.0979 - dense_3_loss: 0.3333 - dense_5_loss: 0.6336 - dense_7_loss: 0.7759 - dense_9_loss: 0.2217 - dense_1_accuracy: 0.0000e+00 - dense_3_accuracy: 0.9000 - dense_5_accuracy: 0.8000 - dense_7_accuracy: 0.7600 - dense_9_accuracy: 0.9000\n",
      "==================================================\n",
      "Test Loss and accuracy: [19.062355041503906, 17.09786605834961, 0.333297997713089, 0.6335598230361938, 0.7759488821029663, 0.22168105840682983, 0.0, 0.8999999761581421, 0.800000011920929, 0.7599999904632568, 0.8999999761581421]\n"
     ]
    }
   ],
   "source": [
    "score= model.evaluate(X_test,[y_test[0], y_test[1], y_test[2], y_test[3], y_test[4]],verbose=1)\n",
    "print('='*100)\n",
    "print('Test Loss and accuracy:', score)"
   ]
  },
  {
   "cell_type": "code",
   "execution_count": 11,
   "metadata": {},
   "outputs": [
    {
     "name": "stdout",
     "output_type": "stream",
     "text": [
      "4/4 [==============================] - 0s 9ms/step - loss: 19.0624 - dense_1_loss: 17.0979 - dense_3_loss: 0.3333 - dense_5_loss: 0.6336 - dense_7_loss: 0.7759 - dense_9_loss: 0.2217 - dense_1_accuracy: 0.0000e+00 - dense_3_accuracy: 0.9000 - dense_5_accuracy: 0.8000 - dense_7_accuracy: 0.7600 - dense_9_accuracy: 0.9000\n",
      "====================================================================================================\n",
      "8n5p3\n",
      "f2m8n\n",
      "dce8y\n",
      "3eny7\n",
      "npxb7\n"
     ]
    }
   ],
   "source": [
    "# Check model on some samples\n",
    "model.evaluate(X_test, [y_test[0], y_test[1], y_test[2], y_test[3], y_test[4]])\n",
    "print('='*100)\n",
    "print(predict('captcha-version-2-images/samples/samples/8n5p3.png'))\n",
    "print(predict('captcha-version-2-images/samples/samples/f2m8n.png'))\n",
    "print(predict('captcha-version-2-images/samples/samples/dce8y.png'))\n",
    "print(predict('captcha-version-2-images/samples/samples/3eny7.png'))\n",
    "print(predict('captcha-version-2-images/samples/samples/npxb7.png'))"
   ]
  },
  {
   "cell_type": "code",
   "execution_count": 12,
   "metadata": {},
   "outputs": [
    {
     "data": {
      "text/plain": [
       "<matplotlib.image.AxesImage at 0x2191fe4e588>"
      ]
     },
     "execution_count": 12,
     "metadata": {},
     "output_type": "execute_result"
    },
    {
     "data": {
      "image/png": "[encoded data removed]",
      "text/plain": [
       "<Figure size 432x288 with 1 Axes>"
      ]
     },
     "metadata": {
      "needs_background": "light"
     },
     "output_type": "display_data"
    }
   ],
   "source": [
    "#Lets test an unknown captcha\n",
    "#preview\n",
    "%matplotlib inline \n",
    "import matplotlib.pyplot as plt\n",
    "img=cv2.imread('captcha_images_v2/2b827.png',cv2.IMREAD_GRAYSCALE)\n",
    "plt.imshow(img, cmap=plt.get_cmap('gray'))"
   ]
  },
  {
   "cell_type": "code",
   "execution_count": 13,
   "metadata": {},
   "outputs": [
    {
     "name": "stdout",
     "output_type": "stream",
     "text": [
      "Predicted Captcha = 2b827\n"
     ]
    }
   ],
   "source": [
    "#Lets Predict By Model\n",
    "print(\"Predicted Captcha =\",predict('captcha_images_v2/2b827.png'))"
   ]
  },
  {
   "cell_type": "code",
   "execution_count": null,
   "metadata": {
    "collapsed": true
   },
   "outputs": [],
   "source": []
  }
 ],
 "metadata": {
  "kernelspec": {
   "display_name": "RPA_env",
   "language": "python",
   "name": "aa_env"
  },
  "language_info": {
   "codemirror_mode": {
    "name": "ipython",
    "version": 3
   },
   "file_extension": ".py",
   "mimetype": "text/x-python",
   "name": "python",
   "nbconvert_exporter": "python",
   "pygments_lexer": "ipython3",
   "version": "3.6.2"
  }
 },
 "nbformat": 4,
 "nbformat_minor": 2
}
