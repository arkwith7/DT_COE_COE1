{
 "cells": [
  {
   "cell_type": "code",
   "execution_count": 1,
   "metadata": {},
   "outputs": [],
   "source": [
    "from itertools import groupby\n",
    "\n",
    "from torch.utils.data import Dataset, DataLoader\n",
    "from torchvision import transforms\n",
    "from torch.utils.data.dataset import random_split\n",
    "\n",
    "import matplotlib.pyplot as plt\n",
    "\n",
    "import torch\n",
    "import torch.nn as nn\n",
    "import torch.nn.functional as F\n",
    "import torch.optim as optim\n",
    "\n",
    "from PIL import Image\n",
    "from pathlib import Path"
   ]
  },
  {
   "cell_type": "code",
   "execution_count": 2,
   "metadata": {},
   "outputs": [
    {
     "name": "stdout",
     "output_type": "stream",
     "text": [
      "파일이 존재 하지 않습니다\n"
     ]
    }
   ],
   "source": [
    "import os\n",
    "from captcha.image import ImageCaptcha\n",
    "\n",
    "if os.path.isfile('C:/Users/saint/OneDrive - 아크위드주식회사/문서/study/RPA/ocr-with-tesseract/data/captcha/0000.png'):\n",
    "    print(\"파일이 존재합니다\")\n",
    "    pass\n",
    "    \n",
    "    for chars in range(0, 10000):\n",
    "        imageFileName = 'C:/Users/saint/OneDrive - 아크위드주식회사/문서/study/RPA/ocr-with-tesseract/data/captcha/' + f'{chars:>04}.png'\n",
    "        print(\"파일명 : {}\".format(imageFileName))\n",
    "        os.remove(imageFileName)\n",
    "else:\n",
    "    print(\"파일이 존재 하지 않습니다\")\n",
    "    image = ImageCaptcha()\n",
    "    for chars in range(0, 10000):\n",
    "        image.write(f'{chars:>04}', f'C:/Users/saint/OneDrive - 아크위드주식회사/문서/study/RPA/ocr-with-tesseract/data/captcha/{chars:>04}.png')"
   ]
  },
  {
   "cell_type": "code",
   "execution_count": null,
   "metadata": {},
   "outputs": [],
   "source": [
    "class CaptchaDataset(Dataset):\n",
    "    \"\"\"CAPTCHA dataset.\"\"\"\n",
    "\n",
    "    def __init__(self, root_dir, transform=None):\n",
    "        self.root_dir = root_dir\n",
    "        self.image_paths = list(Path(root_dir).glob('*'))\n",
    "        self.transform = transform\n",
    "\n",
    "    def __getitem__(self, index):\n",
    "        image = Image.open(self.image_paths[index])\n",
    "\n",
    "        if self.transform:\n",
    "            image = self.transform(image)\n",
    "        \n",
    "        label_sequence = [int(c) for c in self.image_paths[index].stem]\n",
    "        return (image, torch.tensor(label_sequence))\n",
    "    \n",
    "    def __len__(self):\n",
    "        return len(self.image_paths)"
   ]
  },
  {
   "cell_type": "code",
   "execution_count": null,
   "metadata": {},
   "outputs": [],
   "source": [
    "transform = transforms.Compose([\n",
    "    transforms.Grayscale(),\n",
    "    transforms.ToTensor(),\n",
    "])\n",
    "\n",
    "dataset = CaptchaDataset(root_dir='data/captcha', transform=transform)\n",
    "\n",
    "dataloader = DataLoader(dataset, batch_size=10000)\n",
    "\n",
    "for batch_index, (inputs, labels) in enumerate(dataloader):\n",
    "    print(f'Mean: {inputs.mean()}, Variance: {inputs.std()}')"
   ]
  },
  {
   "cell_type": "code",
   "execution_count": null,
   "metadata": {},
   "outputs": [],
   "source": [
    "transform = transforms.Compose([\n",
    "    transforms.Grayscale(),\n",
    "    transforms.ToTensor(),\n",
    "    transforms.Normalize((0.87432,), (0.15325,)),\n",
    "])\n",
    "\n",
    "dataset = CaptchaDataset(root_dir='data/captcha', transform=transform)\n",
    "\n",
    "# train_dataset, test_dataset = random_split(dataset, [128*64, 28*64])  # total images: 9984 \n",
    "train_dataset, test_dataset = random_split(dataset, [9000, 1000])  # total images: 9984 \n",
    "\n",
    "train_dataloader = DataLoader(train_dataset, batch_size=64, shuffle=True)\n",
    "test_dataloader = DataLoader(test_dataset, batch_size=64, shuffle=False)"
   ]
  },
  {
   "cell_type": "code",
   "execution_count": null,
   "metadata": {},
   "outputs": [],
   "source": [
    "device = torch.device('cuda:0' if torch.cuda.is_available() else 'cpu')"
   ]
  },
  {
   "cell_type": "code",
   "execution_count": null,
   "metadata": {},
   "outputs": [],
   "source": [
    "class StackedLSTM(nn.Module):\n",
    "    def __init__(self, input_size=60, output_size=11, hidden_size=512, num_layers=2):\n",
    "        super(StackedLSTM, self).__init__()\n",
    "        self.hidden_size = hidden_size\n",
    "        self.num_layers = num_layers\n",
    "        \n",
    "        self.dropout = nn.Dropout()\n",
    "        self.fc = nn.Linear(hidden_size, output_size)\n",
    "        self.lstm = nn.LSTM(input_size, hidden_size, num_layers)\n",
    "        \n",
    "    def forward(self, inputs, hidden):\n",
    "        batch_size, seq_len, input_size = inputs.shape\n",
    "        outputs, hidden = self.lstm(inputs, hidden)\n",
    "        outputs = self.dropout(outputs)\n",
    "        outputs = torch.stack([self.fc(outputs[i]) for i in range(width)])\n",
    "        outputs = F.log_softmax(outputs, dim=2)\n",
    "        return outputs, hidden\n",
    "    \n",
    "    def init_hidden(self, batch_size):\n",
    "        weight = next(self.parameters()).data \n",
    "        return (weight.new(self.num_layers, batch_size, self.hidden_size).zero_(),\n",
    "                weight.new(self.num_layers, batch_size, self.hidden_size).zero_())\n",
    "    \n",
    "net = StackedLSTM().to(device)"
   ]
  },
  {
   "cell_type": "code",
   "execution_count": null,
   "metadata": {},
   "outputs": [],
   "source": [
    "criterion = nn.CTCLoss(blank=10)\n",
    "optimizer = optim.SGD(net.parameters(), lr=0.01, momentum=0.9)"
   ]
  },
  {
   "cell_type": "code",
   "execution_count": null,
   "metadata": {},
   "outputs": [],
   "source": [
    "BLANK_LABEL = 10"
   ]
  },
  {
   "cell_type": "code",
   "execution_count": null,
   "metadata": {},
   "outputs": [],
   "source": [
    "net.train()  # set network to training phase\n",
    "    \n",
    "epochs = 30\n",
    "batch_size = 64\n",
    "\n",
    "# for each pass of the training dataset\n",
    "for epoch in range(epochs):\n",
    "    train_loss, train_correct, train_total = 0, 0, 0\n",
    "    \n",
    "    h = net.init_hidden(batch_size)\n",
    "    \n",
    "    # for each batch of training examples\n",
    "    for batch_index, (inputs, targets) in enumerate(train_dataloader):\n",
    "        inputs, labels = inputs.to(device), labels.to(device)\n",
    "        h = tuple([each.data for each in h])\n",
    "        \n",
    "        batch_size, channels, height, width = inputs.shape\n",
    "        \n",
    "        # reshape inputs: NxCxHxW -> WxNx(HxC)\n",
    "        inputs = (inputs\n",
    "                  .permute(3, 0, 2, 1)\n",
    "                  .contiguous()\n",
    "                  .view((width, batch_size, -1)))\n",
    "        \n",
    "        optimizer.zero_grad()  # zero the parameter gradients\n",
    "        outputs, h = net(inputs, h)  # forward pass\n",
    "\n",
    "        # compare output with ground truth\n",
    "        input_lengths = torch.IntTensor(batch_size).fill_(width)\n",
    "        target_lengths = torch.IntTensor([len(t) for t in targets])\n",
    "        loss = criterion(outputs, targets, input_lengths, target_lengths)\n",
    "\n",
    "        loss.backward()  # backpropagation\n",
    "        nn.utils.clip_grad_norm_(net.parameters(), 10)  # clip gradients\n",
    "        optimizer.step()  # update network weights\n",
    "        \n",
    "        # record statistics\n",
    "        prob, max_index = torch.max(outputs, dim=2)\n",
    "        train_loss += loss.item()\n",
    "        train_total += len(targets)\n",
    "\n",
    "        for i in range(batch_size):\n",
    "            raw_pred = list(max_index[:, i].cpu().numpy())\n",
    "            pred = [c for c, _ in groupby(raw_pred) if c != BLANK_LABEL]\n",
    "            target = list(targets[i].cpu().numpy())\n",
    "            if pred == target:\n",
    "                train_correct += 1\n",
    "\n",
    "        # print statistics every 10 batches\n",
    "        if (batch_index + 1) % 10 == 0:\n",
    "            print(f'Epoch {epoch + 1}/{epochs}, ' +\n",
    "                  f'Batch {batch_index + 1}/{len(train_dataloader)}, ' +\n",
    "                  f'Train Loss: {(train_loss/1):.5f}, ' +\n",
    "                  f'Train Accuracy: {(train_correct/train_total):.5f}')\n",
    "            \n",
    "            train_loss, train_correct, train_total = 0, 0, 0"
   ]
  },
  {
   "cell_type": "code",
   "execution_count": null,
   "metadata": {},
   "outputs": [],
   "source": []
  }
 ],
 "metadata": {
  "kernelspec": {
   "display_name": "PyTorch",
   "language": "python",
   "name": "pytorch_env"
  },
  "language_info": {
   "codemirror_mode": {
    "name": "ipython",
    "version": 3
   },
   "file_extension": ".py",
   "mimetype": "text/x-python",
   "name": "python",
   "nbconvert_exporter": "python",
   "pygments_lexer": "ipython3",
   "version": "3.6.2"
  }
 },
 "nbformat": 4,
 "nbformat_minor": 2
}
