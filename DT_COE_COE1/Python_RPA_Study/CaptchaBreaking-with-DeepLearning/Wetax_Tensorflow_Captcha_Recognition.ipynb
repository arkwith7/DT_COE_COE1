{
 "cells": [
  {
   "cell_type": "code",
   "execution_count": 1,
   "metadata": {
    "collapsed": true
   },
   "outputs": [],
   "source": [
    "from tensorflow.keras import layers\n",
    "from tensorflow.keras.models import Model\n",
    "from tensorflow.keras.models import load_model\n",
    "from tensorflow.keras import callbacks\n",
    "import os\n",
    "from pathlib import Path\n",
    "import cv2\n",
    "import string\n",
    "import numpy as np\n",
    "%matplotlib inline \n",
    "import matplotlib.pyplot as plt\n",
    "\n",
    "#Init main values ,ascii_lowercase ,ascii_uppercase\n",
    "symbols = \"0123456789\" # All symbols captcha can contain\n",
    "num_symbols = len(symbols)\n"
   ]
  },
  {
   "cell_type": "code",
   "execution_count": 2,
   "metadata": {},
   "outputs": [
    {
     "name": "stdout",
     "output_type": "stream",
     "text": [
      "0123456789\n",
      "10\n"
     ]
    }
   ],
   "source": [
    "print(symbols)\n",
    "print(num_symbols)"
   ]
  },
  {
   "cell_type": "markdown",
   "metadata": {},
   "source": [
    "### 일부 이미지 시각화하기\n",
    "데이터 증가를 이해하기 위해 일부 학습용 이미지를 시각화해보겠습니다."
   ]
  },
  {
   "cell_type": "code",
   "execution_count": 3,
   "metadata": {},
   "outputs": [
    {
     "name": "stdout",
     "output_type": "stream",
     "text": [
      "Number of images found:  104\n",
      "Shape of image:  (62, 175, 3)\n",
      "Shape of image:  (62, 175, 3)\n",
      "Shape of image:  (62, 175, 3)\n",
      "Shape of image:  (62, 175, 3)\n"
     ]
    },
    {
     "data": {
      "image/png": "[encoded data removed]",
      "text/plain": [
       "<Figure size 360x216 with 4 Axes>"
      ]
     },
     "metadata": {
      "needs_background": "light"
     },
     "output_type": "display_data"
    }
   ],
   "source": [
    "# data_path = 'data/giro'\n",
    "data_path = 'data/wetax'\n",
    "# data_path = 'captcha_images_v2'\n",
    "# Path to the data directory\n",
    "# data_dir = Path(\"../input/captcha-version-2-images/samples/\")\n",
    "# data_dir = Path('captcha_images_v2')\n",
    "data_dir = Path(data_path)\n",
    "# data_dir = Path('data/giro')\n",
    "\n",
    "\n",
    "\n",
    "# Get list of all the images\n",
    "images = list(data_dir.glob(\"*.png\"))\n",
    "print(\"Number of images found: \", len(images))\n",
    "\n",
    "\n",
    "# Let's take a look at some samples first. \n",
    "# Always look at your data!\n",
    "sample_images = images[:4]\n",
    "\n",
    "_,ax = plt.subplots(2,2, figsize=(5,3))\n",
    "for i in range(4):\n",
    "    img = cv2.imread(str(sample_images[i]))\n",
    "    print(\"Shape of image: \", img.shape)\n",
    "    ax[i//2, i%2].imshow(img)\n",
    "    ax[i//2, i%2].axis('off')\n",
    "plt.show()"
   ]
  },
  {
   "cell_type": "code",
   "execution_count": 4,
   "metadata": {
    "collapsed": true
   },
   "outputs": [],
   "source": [
    "img_shape = (62, 175, 1)"
   ]
  },
  {
   "cell_type": "code",
   "execution_count": 5,
   "metadata": {
    "collapsed": true
   },
   "outputs": [],
   "source": [
    "def create_model():\n",
    "    img = layers.Input(shape=img_shape) # Get image as an input and process it through some Convs\n",
    "    conv1 = layers.Conv2D(16, (3, 3), padding='same', activation='relu')(img)\n",
    "    mp1 = layers.MaxPooling2D(padding='same')(conv1)  # 100x25\n",
    "    conv2 = layers.Conv2D(32, (3, 3), padding='same', activation='relu')(mp1)\n",
    "    mp2 = layers.MaxPooling2D(padding='same')(conv2)  # 50x13\n",
    "    conv3 = layers.Conv2D(32, (3, 3), padding='same', activation='relu')(mp2)\n",
    "    bn = layers.BatchNormalization()(conv3)\n",
    "    mp3 = layers.MaxPooling2D(padding='same')(bn)  # 25x7\n",
    "    \n",
    "    # Get flattened vector and make 5 branches from it. Each branch will predict one letter\n",
    "    flat = layers.Flatten()(mp3)\n",
    "    outs = []\n",
    "    for _ in range(5):\n",
    "        dens1 = layers.Dense(64, activation='relu')(flat)\n",
    "        drop = layers.Dropout(0.5)(dens1)\n",
    "        res = layers.Dense(num_symbols, activation='sigmoid')(drop)\n",
    "\n",
    "        outs.append(res)\n",
    "    \n",
    "    # Compile model and return it\n",
    "    model = Model(img, outs)\n",
    "    model.compile(loss='categorical_crossentropy', optimizer='adam',metrics=[\"accuracy\"])\n",
    "    return model"
   ]
  },
  {
   "cell_type": "markdown",
   "metadata": {},
   "source": [
    "Importing Data"
   ]
  },
  {
   "cell_type": "code",
   "execution_count": 6,
   "metadata": {},
   "outputs": [
    {
     "name": "stdout",
     "output_type": "stream",
     "text": [
      "90 training samples\n",
      "14 validation samples\n",
      "104 total samples\n"
     ]
    }
   ],
   "source": [
    "def preprocess_data():\n",
    "    n_samples = len(os.listdir(data_path))\n",
    "    X = np.zeros((n_samples, 62, 175, 1)) #1070*50*200\n",
    "    y = np.zeros((5, n_samples, num_symbols)) #5*1070*36\n",
    "\n",
    "    for i, pic in enumerate(os.listdir(data_path)):\n",
    "        # Read image as grayscale\n",
    "        img = cv2.imread(os.path.join(data_path, pic), cv2.IMREAD_GRAYSCALE)\n",
    "        pic_target = pic[:-4]\n",
    "        if len(pic_target) < 6:\n",
    "            # Scale and reshape image\n",
    "            img = img / 255.0\n",
    "            img = np.reshape(img, (62, 175, 1))\n",
    "            # Define targets and code them using OneHotEncoding\n",
    "            targs = np.zeros((5, num_symbols))\n",
    "            for j, l in enumerate(pic_target):\n",
    "                ind = symbols.find(l)\n",
    "                targs[j, ind] = 1\n",
    "            X[i] = img\n",
    "            y[:, i] = targs\n",
    "    \n",
    "    # Return final data\n",
    "    return X, y\n",
    "\n",
    "X, y = preprocess_data()\n",
    "X_train, y_train = X[:90], y[:, :90]\n",
    "X_test, y_test = X[90:], y[:, 90:]\n",
    "print(str(len(X_train)) + \" training samples\")\n",
    "print(str(len(X_test)) + \" validation samples\")\n",
    "print(str(len(X_train)+len(X_test)) + \" total samples\")\n"
   ]
  },
  {
   "cell_type": "code",
   "execution_count": 7,
   "metadata": {},
   "outputs": [
    {
     "name": "stdout",
     "output_type": "stream",
     "text": [
      "Model: \"model\"\n",
      "__________________________________________________________________________________________________\n",
      "Layer (type)                    Output Shape         Param #     Connected to                     \n",
      "==================================================================================================\n",
      "input_1 (InputLayer)            [(None, 62, 175, 1)] 0                                            \n",
      "__________________________________________________________________________________________________\n",
      "conv2d (Conv2D)                 (None, 62, 175, 16)  160         input_1[0][0]                    \n",
      "__________________________________________________________________________________________________\n",
      "max_pooling2d (MaxPooling2D)    (None, 31, 88, 16)   0           conv2d[0][0]                     \n",
      "__________________________________________________________________________________________________\n",
      "conv2d_1 (Conv2D)               (None, 31, 88, 32)   4640        max_pooling2d[0][0]              \n",
      "__________________________________________________________________________________________________\n",
      "max_pooling2d_1 (MaxPooling2D)  (None, 16, 44, 32)   0           conv2d_1[0][0]                   \n",
      "__________________________________________________________________________________________________\n",
      "conv2d_2 (Conv2D)               (None, 16, 44, 32)   9248        max_pooling2d_1[0][0]            \n",
      "__________________________________________________________________________________________________\n",
      "batch_normalization (BatchNorma (None, 16, 44, 32)   128         conv2d_2[0][0]                   \n",
      "__________________________________________________________________________________________________\n",
      "max_pooling2d_2 (MaxPooling2D)  (None, 8, 22, 32)    0           batch_normalization[0][0]        \n",
      "__________________________________________________________________________________________________\n",
      "flatten (Flatten)               (None, 5632)         0           max_pooling2d_2[0][0]            \n",
      "__________________________________________________________________________________________________\n",
      "dense (Dense)                   (None, 64)           360512      flatten[0][0]                    \n",
      "__________________________________________________________________________________________________\n",
      "dense_2 (Dense)                 (None, 64)           360512      flatten[0][0]                    \n",
      "__________________________________________________________________________________________________\n",
      "dense_4 (Dense)                 (None, 64)           360512      flatten[0][0]                    \n",
      "__________________________________________________________________________________________________\n",
      "dense_6 (Dense)                 (None, 64)           360512      flatten[0][0]                    \n",
      "__________________________________________________________________________________________________\n",
      "dense_8 (Dense)                 (None, 64)           360512      flatten[0][0]                    \n",
      "__________________________________________________________________________________________________\n",
      "dropout (Dropout)               (None, 64)           0           dense[0][0]                      \n",
      "__________________________________________________________________________________________________\n",
      "dropout_1 (Dropout)             (None, 64)           0           dense_2[0][0]                    \n",
      "__________________________________________________________________________________________________\n",
      "dropout_2 (Dropout)             (None, 64)           0           dense_4[0][0]                    \n",
      "__________________________________________________________________________________________________\n",
      "dropout_3 (Dropout)             (None, 64)           0           dense_6[0][0]                    \n",
      "__________________________________________________________________________________________________\n",
      "dropout_4 (Dropout)             (None, 64)           0           dense_8[0][0]                    \n",
      "__________________________________________________________________________________________________\n",
      "dense_1 (Dense)                 (None, 10)           650         dropout[0][0]                    \n",
      "__________________________________________________________________________________________________\n",
      "dense_3 (Dense)                 (None, 10)           650         dropout_1[0][0]                  \n",
      "__________________________________________________________________________________________________\n",
      "dense_5 (Dense)                 (None, 10)           650         dropout_2[0][0]                  \n",
      "__________________________________________________________________________________________________\n",
      "dense_7 (Dense)                 (None, 10)           650         dropout_3[0][0]                  \n",
      "__________________________________________________________________________________________________\n",
      "dense_9 (Dense)                 (None, 10)           650         dropout_4[0][0]                  \n",
      "==================================================================================================\n",
      "Total params: 1,819,986\n",
      "Trainable params: 1,819,922\n",
      "Non-trainable params: 64\n",
      "__________________________________________________________________________________________________\n"
     ]
    }
   ],
   "source": [
    "model=create_model();\n",
    "model.summary();"
   ]
  },
  {
   "cell_type": "code",
   "execution_count": 8,
   "metadata": {},
   "outputs": [
    {
     "name": "stdout",
     "output_type": "stream",
     "text": [
      "Epoch 1/30\n",
      "3/3 [==============================] - 5s 294ms/step - loss: 0.0000e+00 - dense_1_loss: 0.0000e+00 - dense_3_loss: 0.0000e+00 - dense_5_loss: 0.0000e+00 - dense_7_loss: 0.0000e+00 - dense_9_loss: 0.0000e+00 - dense_1_accuracy: 1.0000 - dense_3_accuracy: 1.0000 - dense_5_accuracy: 1.0000 - dense_7_accuracy: 1.0000 - dense_9_accuracy: 1.0000 - val_loss: 0.0000e+00 - val_dense_1_loss: 0.0000e+00 - val_dense_3_loss: 0.0000e+00 - val_dense_5_loss: 0.0000e+00 - val_dense_7_loss: 0.0000e+00 - val_dense_9_loss: 0.0000e+00 - val_dense_1_accuracy: 1.0000 - val_dense_3_accuracy: 1.0000 - val_dense_5_accuracy: 1.0000 - val_dense_7_accuracy: 1.0000 - val_dense_9_accuracy: 1.0000\n",
      "Epoch 2/30\n",
      "3/3 [==============================] - 0s 26ms/step - loss: 0.0000e+00 - dense_1_loss: 0.0000e+00 - dense_3_loss: 0.0000e+00 - dense_5_loss: 0.0000e+00 - dense_7_loss: 0.0000e+00 - dense_9_loss: 0.0000e+00 - dense_1_accuracy: 1.0000 - dense_3_accuracy: 1.0000 - dense_5_accuracy: 1.0000 - dense_7_accuracy: 1.0000 - dense_9_accuracy: 1.0000 - val_loss: 0.0000e+00 - val_dense_1_loss: 0.0000e+00 - val_dense_3_loss: 0.0000e+00 - val_dense_5_loss: 0.0000e+00 - val_dense_7_loss: 0.0000e+00 - val_dense_9_loss: 0.0000e+00 - val_dense_1_accuracy: 1.0000 - val_dense_3_accuracy: 1.0000 - val_dense_5_accuracy: 1.0000 - val_dense_7_accuracy: 1.0000 - val_dense_9_accuracy: 1.0000\n",
      "Epoch 3/30\n",
      "3/3 [==============================] - 0s 26ms/step - loss: 0.0000e+00 - dense_1_loss: 0.0000e+00 - dense_3_loss: 0.0000e+00 - dense_5_loss: 0.0000e+00 - dense_7_loss: 0.0000e+00 - dense_9_loss: 0.0000e+00 - dense_1_accuracy: 1.0000 - dense_3_accuracy: 1.0000 - dense_5_accuracy: 1.0000 - dense_7_accuracy: 1.0000 - dense_9_accuracy: 1.0000 - val_loss: 0.0000e+00 - val_dense_1_loss: 0.0000e+00 - val_dense_3_loss: 0.0000e+00 - val_dense_5_loss: 0.0000e+00 - val_dense_7_loss: 0.0000e+00 - val_dense_9_loss: 0.0000e+00 - val_dense_1_accuracy: 1.0000 - val_dense_3_accuracy: 1.0000 - val_dense_5_accuracy: 1.0000 - val_dense_7_accuracy: 1.0000 - val_dense_9_accuracy: 1.0000\n",
      "Epoch 4/30\n",
      "3/3 [==============================] - 0s 26ms/step - loss: 0.0000e+00 - dense_1_loss: 0.0000e+00 - dense_3_loss: 0.0000e+00 - dense_5_loss: 0.0000e+00 - dense_7_loss: 0.0000e+00 - dense_9_loss: 0.0000e+00 - dense_1_accuracy: 1.0000 - dense_3_accuracy: 1.0000 - dense_5_accuracy: 1.0000 - dense_7_accuracy: 1.0000 - dense_9_accuracy: 1.0000 - val_loss: 0.0000e+00 - val_dense_1_loss: 0.0000e+00 - val_dense_3_loss: 0.0000e+00 - val_dense_5_loss: 0.0000e+00 - val_dense_7_loss: 0.0000e+00 - val_dense_9_loss: 0.0000e+00 - val_dense_1_accuracy: 1.0000 - val_dense_3_accuracy: 1.0000 - val_dense_5_accuracy: 1.0000 - val_dense_7_accuracy: 1.0000 - val_dense_9_accuracy: 1.0000\n",
      "Epoch 5/30\n",
      "3/3 [==============================] - 0s 25ms/step - loss: 0.0000e+00 - dense_1_loss: 0.0000e+00 - dense_3_loss: 0.0000e+00 - dense_5_loss: 0.0000e+00 - dense_7_loss: 0.0000e+00 - dense_9_loss: 0.0000e+00 - dense_1_accuracy: 1.0000 - dense_3_accuracy: 1.0000 - dense_5_accuracy: 1.0000 - dense_7_accuracy: 1.0000 - dense_9_accuracy: 1.0000 - val_loss: 0.0000e+00 - val_dense_1_loss: 0.0000e+00 - val_dense_3_loss: 0.0000e+00 - val_dense_5_loss: 0.0000e+00 - val_dense_7_loss: 0.0000e+00 - val_dense_9_loss: 0.0000e+00 - val_dense_1_accuracy: 1.0000 - val_dense_3_accuracy: 1.0000 - val_dense_5_accuracy: 1.0000 - val_dense_7_accuracy: 1.0000 - val_dense_9_accuracy: 1.0000\n",
      "Epoch 6/30\n",
      "3/3 [==============================] - 0s 26ms/step - loss: 0.0000e+00 - dense_1_loss: 0.0000e+00 - dense_3_loss: 0.0000e+00 - dense_5_loss: 0.0000e+00 - dense_7_loss: 0.0000e+00 - dense_9_loss: 0.0000e+00 - dense_1_accuracy: 1.0000 - dense_3_accuracy: 1.0000 - dense_5_accuracy: 1.0000 - dense_7_accuracy: 1.0000 - dense_9_accuracy: 1.0000 - val_loss: 0.0000e+00 - val_dense_1_loss: 0.0000e+00 - val_dense_3_loss: 0.0000e+00 - val_dense_5_loss: 0.0000e+00 - val_dense_7_loss: 0.0000e+00 - val_dense_9_loss: 0.0000e+00 - val_dense_1_accuracy: 1.0000 - val_dense_3_accuracy: 1.0000 - val_dense_5_accuracy: 1.0000 - val_dense_7_accuracy: 1.0000 - val_dense_9_accuracy: 1.0000\n",
      "Epoch 7/30\n",
      "3/3 [==============================] - 0s 26ms/step - loss: 0.0000e+00 - dense_1_loss: 0.0000e+00 - dense_3_loss: 0.0000e+00 - dense_5_loss: 0.0000e+00 - dense_7_loss: 0.0000e+00 - dense_9_loss: 0.0000e+00 - dense_1_accuracy: 1.0000 - dense_3_accuracy: 1.0000 - dense_5_accuracy: 1.0000 - dense_7_accuracy: 1.0000 - dense_9_accuracy: 1.0000 - val_loss: 0.0000e+00 - val_dense_1_loss: 0.0000e+00 - val_dense_3_loss: 0.0000e+00 - val_dense_5_loss: 0.0000e+00 - val_dense_7_loss: 0.0000e+00 - val_dense_9_loss: 0.0000e+00 - val_dense_1_accuracy: 1.0000 - val_dense_3_accuracy: 1.0000 - val_dense_5_accuracy: 1.0000 - val_dense_7_accuracy: 1.0000 - val_dense_9_accuracy: 1.0000\n",
      "Epoch 8/30\n",
      "3/3 [==============================] - 0s 26ms/step - loss: 0.0000e+00 - dense_1_loss: 0.0000e+00 - dense_3_loss: 0.0000e+00 - dense_5_loss: 0.0000e+00 - dense_7_loss: 0.0000e+00 - dense_9_loss: 0.0000e+00 - dense_1_accuracy: 1.0000 - dense_3_accuracy: 1.0000 - dense_5_accuracy: 1.0000 - dense_7_accuracy: 1.0000 - dense_9_accuracy: 1.0000 - val_loss: 0.0000e+00 - val_dense_1_loss: 0.0000e+00 - val_dense_3_loss: 0.0000e+00 - val_dense_5_loss: 0.0000e+00 - val_dense_7_loss: 0.0000e+00 - val_dense_9_loss: 0.0000e+00 - val_dense_1_accuracy: 1.0000 - val_dense_3_accuracy: 1.0000 - val_dense_5_accuracy: 1.0000 - val_dense_7_accuracy: 1.0000 - val_dense_9_accuracy: 1.0000\n",
      "Epoch 9/30\n",
      "3/3 [==============================] - 0s 26ms/step - loss: 0.0000e+00 - dense_1_loss: 0.0000e+00 - dense_3_loss: 0.0000e+00 - dense_5_loss: 0.0000e+00 - dense_7_loss: 0.0000e+00 - dense_9_loss: 0.0000e+00 - dense_1_accuracy: 1.0000 - dense_3_accuracy: 1.0000 - dense_5_accuracy: 1.0000 - dense_7_accuracy: 1.0000 - dense_9_accuracy: 1.0000 - val_loss: 0.0000e+00 - val_dense_1_loss: 0.0000e+00 - val_dense_3_loss: 0.0000e+00 - val_dense_5_loss: 0.0000e+00 - val_dense_7_loss: 0.0000e+00 - val_dense_9_loss: 0.0000e+00 - val_dense_1_accuracy: 1.0000 - val_dense_3_accuracy: 1.0000 - val_dense_5_accuracy: 1.0000 - val_dense_7_accuracy: 1.0000 - val_dense_9_accuracy: 1.0000\n",
      "Epoch 10/30\n",
      "3/3 [==============================] - 0s 26ms/step - loss: 0.0000e+00 - dense_1_loss: 0.0000e+00 - dense_3_loss: 0.0000e+00 - dense_5_loss: 0.0000e+00 - dense_7_loss: 0.0000e+00 - dense_9_loss: 0.0000e+00 - dense_1_accuracy: 1.0000 - dense_3_accuracy: 1.0000 - dense_5_accuracy: 1.0000 - dense_7_accuracy: 1.0000 - dense_9_accuracy: 1.0000 - val_loss: 0.0000e+00 - val_dense_1_loss: 0.0000e+00 - val_dense_3_loss: 0.0000e+00 - val_dense_5_loss: 0.0000e+00 - val_dense_7_loss: 0.0000e+00 - val_dense_9_loss: 0.0000e+00 - val_dense_1_accuracy: 1.0000 - val_dense_3_accuracy: 1.0000 - val_dense_5_accuracy: 1.0000 - val_dense_7_accuracy: 1.0000 - val_dense_9_accuracy: 1.0000\n",
      "Epoch 11/30\n",
      "3/3 [==============================] - 0s 25ms/step - loss: 0.0000e+00 - dense_1_loss: 0.0000e+00 - dense_3_loss: 0.0000e+00 - dense_5_loss: 0.0000e+00 - dense_7_loss: 0.0000e+00 - dense_9_loss: 0.0000e+00 - dense_1_accuracy: 1.0000 - dense_3_accuracy: 1.0000 - dense_5_accuracy: 1.0000 - dense_7_accuracy: 1.0000 - dense_9_accuracy: 1.0000 - val_loss: 0.0000e+00 - val_dense_1_loss: 0.0000e+00 - val_dense_3_loss: 0.0000e+00 - val_dense_5_loss: 0.0000e+00 - val_dense_7_loss: 0.0000e+00 - val_dense_9_loss: 0.0000e+00 - val_dense_1_accuracy: 1.0000 - val_dense_3_accuracy: 1.0000 - val_dense_5_accuracy: 1.0000 - val_dense_7_accuracy: 1.0000 - val_dense_9_accuracy: 1.0000\n",
      "Epoch 12/30\n",
      "3/3 [==============================] - 0s 25ms/step - loss: 0.0000e+00 - dense_1_loss: 0.0000e+00 - dense_3_loss: 0.0000e+00 - dense_5_loss: 0.0000e+00 - dense_7_loss: 0.0000e+00 - dense_9_loss: 0.0000e+00 - dense_1_accuracy: 1.0000 - dense_3_accuracy: 1.0000 - dense_5_accuracy: 1.0000 - dense_7_accuracy: 1.0000 - dense_9_accuracy: 1.0000 - val_loss: 0.0000e+00 - val_dense_1_loss: 0.0000e+00 - val_dense_3_loss: 0.0000e+00 - val_dense_5_loss: 0.0000e+00 - val_dense_7_loss: 0.0000e+00 - val_dense_9_loss: 0.0000e+00 - val_dense_1_accuracy: 1.0000 - val_dense_3_accuracy: 1.0000 - val_dense_5_accuracy: 1.0000 - val_dense_7_accuracy: 1.0000 - val_dense_9_accuracy: 1.0000\n"
     ]
    },
    {
     "name": "stdout",
     "output_type": "stream",
     "text": [
      "Epoch 13/30\n",
      "3/3 [==============================] - 0s 26ms/step - loss: 0.0000e+00 - dense_1_loss: 0.0000e+00 - dense_3_loss: 0.0000e+00 - dense_5_loss: 0.0000e+00 - dense_7_loss: 0.0000e+00 - dense_9_loss: 0.0000e+00 - dense_1_accuracy: 1.0000 - dense_3_accuracy: 1.0000 - dense_5_accuracy: 1.0000 - dense_7_accuracy: 1.0000 - dense_9_accuracy: 1.0000 - val_loss: 0.0000e+00 - val_dense_1_loss: 0.0000e+00 - val_dense_3_loss: 0.0000e+00 - val_dense_5_loss: 0.0000e+00 - val_dense_7_loss: 0.0000e+00 - val_dense_9_loss: 0.0000e+00 - val_dense_1_accuracy: 1.0000 - val_dense_3_accuracy: 1.0000 - val_dense_5_accuracy: 1.0000 - val_dense_7_accuracy: 1.0000 - val_dense_9_accuracy: 1.0000\n",
      "Epoch 14/30\n",
      "3/3 [==============================] - 0s 28ms/step - loss: 0.0000e+00 - dense_1_loss: 0.0000e+00 - dense_3_loss: 0.0000e+00 - dense_5_loss: 0.0000e+00 - dense_7_loss: 0.0000e+00 - dense_9_loss: 0.0000e+00 - dense_1_accuracy: 1.0000 - dense_3_accuracy: 1.0000 - dense_5_accuracy: 1.0000 - dense_7_accuracy: 1.0000 - dense_9_accuracy: 1.0000 - val_loss: 0.0000e+00 - val_dense_1_loss: 0.0000e+00 - val_dense_3_loss: 0.0000e+00 - val_dense_5_loss: 0.0000e+00 - val_dense_7_loss: 0.0000e+00 - val_dense_9_loss: 0.0000e+00 - val_dense_1_accuracy: 1.0000 - val_dense_3_accuracy: 1.0000 - val_dense_5_accuracy: 1.0000 - val_dense_7_accuracy: 1.0000 - val_dense_9_accuracy: 1.0000\n",
      "Epoch 15/30\n",
      "3/3 [==============================] - 0s 26ms/step - loss: 0.0000e+00 - dense_1_loss: 0.0000e+00 - dense_3_loss: 0.0000e+00 - dense_5_loss: 0.0000e+00 - dense_7_loss: 0.0000e+00 - dense_9_loss: 0.0000e+00 - dense_1_accuracy: 1.0000 - dense_3_accuracy: 1.0000 - dense_5_accuracy: 1.0000 - dense_7_accuracy: 1.0000 - dense_9_accuracy: 1.0000 - val_loss: 0.0000e+00 - val_dense_1_loss: 0.0000e+00 - val_dense_3_loss: 0.0000e+00 - val_dense_5_loss: 0.0000e+00 - val_dense_7_loss: 0.0000e+00 - val_dense_9_loss: 0.0000e+00 - val_dense_1_accuracy: 1.0000 - val_dense_3_accuracy: 1.0000 - val_dense_5_accuracy: 1.0000 - val_dense_7_accuracy: 1.0000 - val_dense_9_accuracy: 1.0000\n",
      "Epoch 16/30\n",
      "3/3 [==============================] - 0s 25ms/step - loss: 0.0000e+00 - dense_1_loss: 0.0000e+00 - dense_3_loss: 0.0000e+00 - dense_5_loss: 0.0000e+00 - dense_7_loss: 0.0000e+00 - dense_9_loss: 0.0000e+00 - dense_1_accuracy: 1.0000 - dense_3_accuracy: 1.0000 - dense_5_accuracy: 1.0000 - dense_7_accuracy: 1.0000 - dense_9_accuracy: 1.0000 - val_loss: 0.0000e+00 - val_dense_1_loss: 0.0000e+00 - val_dense_3_loss: 0.0000e+00 - val_dense_5_loss: 0.0000e+00 - val_dense_7_loss: 0.0000e+00 - val_dense_9_loss: 0.0000e+00 - val_dense_1_accuracy: 1.0000 - val_dense_3_accuracy: 1.0000 - val_dense_5_accuracy: 1.0000 - val_dense_7_accuracy: 1.0000 - val_dense_9_accuracy: 1.0000\n",
      "Epoch 17/30\n",
      "3/3 [==============================] - 0s 25ms/step - loss: 0.0000e+00 - dense_1_loss: 0.0000e+00 - dense_3_loss: 0.0000e+00 - dense_5_loss: 0.0000e+00 - dense_7_loss: 0.0000e+00 - dense_9_loss: 0.0000e+00 - dense_1_accuracy: 1.0000 - dense_3_accuracy: 1.0000 - dense_5_accuracy: 1.0000 - dense_7_accuracy: 1.0000 - dense_9_accuracy: 1.0000 - val_loss: 0.0000e+00 - val_dense_1_loss: 0.0000e+00 - val_dense_3_loss: 0.0000e+00 - val_dense_5_loss: 0.0000e+00 - val_dense_7_loss: 0.0000e+00 - val_dense_9_loss: 0.0000e+00 - val_dense_1_accuracy: 1.0000 - val_dense_3_accuracy: 1.0000 - val_dense_5_accuracy: 1.0000 - val_dense_7_accuracy: 1.0000 - val_dense_9_accuracy: 1.0000\n",
      "Epoch 18/30\n",
      "3/3 [==============================] - 0s 25ms/step - loss: 0.0000e+00 - dense_1_loss: 0.0000e+00 - dense_3_loss: 0.0000e+00 - dense_5_loss: 0.0000e+00 - dense_7_loss: 0.0000e+00 - dense_9_loss: 0.0000e+00 - dense_1_accuracy: 1.0000 - dense_3_accuracy: 1.0000 - dense_5_accuracy: 1.0000 - dense_7_accuracy: 1.0000 - dense_9_accuracy: 1.0000 - val_loss: 0.0000e+00 - val_dense_1_loss: 0.0000e+00 - val_dense_3_loss: 0.0000e+00 - val_dense_5_loss: 0.0000e+00 - val_dense_7_loss: 0.0000e+00 - val_dense_9_loss: 0.0000e+00 - val_dense_1_accuracy: 1.0000 - val_dense_3_accuracy: 1.0000 - val_dense_5_accuracy: 1.0000 - val_dense_7_accuracy: 1.0000 - val_dense_9_accuracy: 1.0000\n",
      "Epoch 19/30\n",
      "3/3 [==============================] - 0s 25ms/step - loss: 0.0000e+00 - dense_1_loss: 0.0000e+00 - dense_3_loss: 0.0000e+00 - dense_5_loss: 0.0000e+00 - dense_7_loss: 0.0000e+00 - dense_9_loss: 0.0000e+00 - dense_1_accuracy: 1.0000 - dense_3_accuracy: 1.0000 - dense_5_accuracy: 1.0000 - dense_7_accuracy: 1.0000 - dense_9_accuracy: 1.0000 - val_loss: 0.0000e+00 - val_dense_1_loss: 0.0000e+00 - val_dense_3_loss: 0.0000e+00 - val_dense_5_loss: 0.0000e+00 - val_dense_7_loss: 0.0000e+00 - val_dense_9_loss: 0.0000e+00 - val_dense_1_accuracy: 1.0000 - val_dense_3_accuracy: 1.0000 - val_dense_5_accuracy: 1.0000 - val_dense_7_accuracy: 1.0000 - val_dense_9_accuracy: 1.0000\n",
      "Epoch 20/30\n",
      "3/3 [==============================] - 0s 27ms/step - loss: 0.0000e+00 - dense_1_loss: 0.0000e+00 - dense_3_loss: 0.0000e+00 - dense_5_loss: 0.0000e+00 - dense_7_loss: 0.0000e+00 - dense_9_loss: 0.0000e+00 - dense_1_accuracy: 1.0000 - dense_3_accuracy: 1.0000 - dense_5_accuracy: 1.0000 - dense_7_accuracy: 1.0000 - dense_9_accuracy: 1.0000 - val_loss: 0.0000e+00 - val_dense_1_loss: 0.0000e+00 - val_dense_3_loss: 0.0000e+00 - val_dense_5_loss: 0.0000e+00 - val_dense_7_loss: 0.0000e+00 - val_dense_9_loss: 0.0000e+00 - val_dense_1_accuracy: 1.0000 - val_dense_3_accuracy: 1.0000 - val_dense_5_accuracy: 1.0000 - val_dense_7_accuracy: 1.0000 - val_dense_9_accuracy: 1.0000\n",
      "Epoch 21/30\n",
      "3/3 [==============================] - 0s 26ms/step - loss: 0.0000e+00 - dense_1_loss: 0.0000e+00 - dense_3_loss: 0.0000e+00 - dense_5_loss: 0.0000e+00 - dense_7_loss: 0.0000e+00 - dense_9_loss: 0.0000e+00 - dense_1_accuracy: 1.0000 - dense_3_accuracy: 1.0000 - dense_5_accuracy: 1.0000 - dense_7_accuracy: 1.0000 - dense_9_accuracy: 1.0000 - val_loss: 0.0000e+00 - val_dense_1_loss: 0.0000e+00 - val_dense_3_loss: 0.0000e+00 - val_dense_5_loss: 0.0000e+00 - val_dense_7_loss: 0.0000e+00 - val_dense_9_loss: 0.0000e+00 - val_dense_1_accuracy: 1.0000 - val_dense_3_accuracy: 1.0000 - val_dense_5_accuracy: 1.0000 - val_dense_7_accuracy: 1.0000 - val_dense_9_accuracy: 1.0000\n",
      "Epoch 22/30\n",
      "3/3 [==============================] - 0s 24ms/step - loss: 0.0000e+00 - dense_1_loss: 0.0000e+00 - dense_3_loss: 0.0000e+00 - dense_5_loss: 0.0000e+00 - dense_7_loss: 0.0000e+00 - dense_9_loss: 0.0000e+00 - dense_1_accuracy: 1.0000 - dense_3_accuracy: 1.0000 - dense_5_accuracy: 1.0000 - dense_7_accuracy: 1.0000 - dense_9_accuracy: 1.0000 - val_loss: 0.0000e+00 - val_dense_1_loss: 0.0000e+00 - val_dense_3_loss: 0.0000e+00 - val_dense_5_loss: 0.0000e+00 - val_dense_7_loss: 0.0000e+00 - val_dense_9_loss: 0.0000e+00 - val_dense_1_accuracy: 1.0000 - val_dense_3_accuracy: 1.0000 - val_dense_5_accuracy: 1.0000 - val_dense_7_accuracy: 1.0000 - val_dense_9_accuracy: 1.0000\n",
      "Epoch 23/30\n",
      "3/3 [==============================] - 0s 26ms/step - loss: 0.0000e+00 - dense_1_loss: 0.0000e+00 - dense_3_loss: 0.0000e+00 - dense_5_loss: 0.0000e+00 - dense_7_loss: 0.0000e+00 - dense_9_loss: 0.0000e+00 - dense_1_accuracy: 1.0000 - dense_3_accuracy: 1.0000 - dense_5_accuracy: 1.0000 - dense_7_accuracy: 1.0000 - dense_9_accuracy: 1.0000 - val_loss: 0.0000e+00 - val_dense_1_loss: 0.0000e+00 - val_dense_3_loss: 0.0000e+00 - val_dense_5_loss: 0.0000e+00 - val_dense_7_loss: 0.0000e+00 - val_dense_9_loss: 0.0000e+00 - val_dense_1_accuracy: 1.0000 - val_dense_3_accuracy: 1.0000 - val_dense_5_accuracy: 1.0000 - val_dense_7_accuracy: 1.0000 - val_dense_9_accuracy: 1.0000\n",
      "Epoch 24/30\n",
      "3/3 [==============================] - 0s 26ms/step - loss: 0.0000e+00 - dense_1_loss: 0.0000e+00 - dense_3_loss: 0.0000e+00 - dense_5_loss: 0.0000e+00 - dense_7_loss: 0.0000e+00 - dense_9_loss: 0.0000e+00 - dense_1_accuracy: 1.0000 - dense_3_accuracy: 1.0000 - dense_5_accuracy: 1.0000 - dense_7_accuracy: 1.0000 - dense_9_accuracy: 1.0000 - val_loss: 0.0000e+00 - val_dense_1_loss: 0.0000e+00 - val_dense_3_loss: 0.0000e+00 - val_dense_5_loss: 0.0000e+00 - val_dense_7_loss: 0.0000e+00 - val_dense_9_loss: 0.0000e+00 - val_dense_1_accuracy: 1.0000 - val_dense_3_accuracy: 1.0000 - val_dense_5_accuracy: 1.0000 - val_dense_7_accuracy: 1.0000 - val_dense_9_accuracy: 1.0000\n"
     ]
    },
    {
     "name": "stdout",
     "output_type": "stream",
     "text": [
      "Epoch 25/30\n",
      "3/3 [==============================] - 0s 26ms/step - loss: 0.0000e+00 - dense_1_loss: 0.0000e+00 - dense_3_loss: 0.0000e+00 - dense_5_loss: 0.0000e+00 - dense_7_loss: 0.0000e+00 - dense_9_loss: 0.0000e+00 - dense_1_accuracy: 1.0000 - dense_3_accuracy: 1.0000 - dense_5_accuracy: 1.0000 - dense_7_accuracy: 1.0000 - dense_9_accuracy: 1.0000 - val_loss: 0.0000e+00 - val_dense_1_loss: 0.0000e+00 - val_dense_3_loss: 0.0000e+00 - val_dense_5_loss: 0.0000e+00 - val_dense_7_loss: 0.0000e+00 - val_dense_9_loss: 0.0000e+00 - val_dense_1_accuracy: 1.0000 - val_dense_3_accuracy: 1.0000 - val_dense_5_accuracy: 1.0000 - val_dense_7_accuracy: 1.0000 - val_dense_9_accuracy: 1.0000\n",
      "Epoch 26/30\n",
      "3/3 [==============================] - 0s 26ms/step - loss: 0.0000e+00 - dense_1_loss: 0.0000e+00 - dense_3_loss: 0.0000e+00 - dense_5_loss: 0.0000e+00 - dense_7_loss: 0.0000e+00 - dense_9_loss: 0.0000e+00 - dense_1_accuracy: 1.0000 - dense_3_accuracy: 1.0000 - dense_5_accuracy: 1.0000 - dense_7_accuracy: 1.0000 - dense_9_accuracy: 1.0000 - val_loss: 0.0000e+00 - val_dense_1_loss: 0.0000e+00 - val_dense_3_loss: 0.0000e+00 - val_dense_5_loss: 0.0000e+00 - val_dense_7_loss: 0.0000e+00 - val_dense_9_loss: 0.0000e+00 - val_dense_1_accuracy: 1.0000 - val_dense_3_accuracy: 1.0000 - val_dense_5_accuracy: 1.0000 - val_dense_7_accuracy: 1.0000 - val_dense_9_accuracy: 1.0000\n",
      "Epoch 27/30\n",
      "3/3 [==============================] - 0s 26ms/step - loss: 0.0000e+00 - dense_1_loss: 0.0000e+00 - dense_3_loss: 0.0000e+00 - dense_5_loss: 0.0000e+00 - dense_7_loss: 0.0000e+00 - dense_9_loss: 0.0000e+00 - dense_1_accuracy: 1.0000 - dense_3_accuracy: 1.0000 - dense_5_accuracy: 1.0000 - dense_7_accuracy: 1.0000 - dense_9_accuracy: 1.0000 - val_loss: 0.0000e+00 - val_dense_1_loss: 0.0000e+00 - val_dense_3_loss: 0.0000e+00 - val_dense_5_loss: 0.0000e+00 - val_dense_7_loss: 0.0000e+00 - val_dense_9_loss: 0.0000e+00 - val_dense_1_accuracy: 1.0000 - val_dense_3_accuracy: 1.0000 - val_dense_5_accuracy: 1.0000 - val_dense_7_accuracy: 1.0000 - val_dense_9_accuracy: 1.0000\n",
      "Epoch 28/30\n",
      "3/3 [==============================] - 0s 26ms/step - loss: 0.0000e+00 - dense_1_loss: 0.0000e+00 - dense_3_loss: 0.0000e+00 - dense_5_loss: 0.0000e+00 - dense_7_loss: 0.0000e+00 - dense_9_loss: 0.0000e+00 - dense_1_accuracy: 1.0000 - dense_3_accuracy: 1.0000 - dense_5_accuracy: 1.0000 - dense_7_accuracy: 1.0000 - dense_9_accuracy: 1.0000 - val_loss: 0.0000e+00 - val_dense_1_loss: 0.0000e+00 - val_dense_3_loss: 0.0000e+00 - val_dense_5_loss: 0.0000e+00 - val_dense_7_loss: 0.0000e+00 - val_dense_9_loss: 0.0000e+00 - val_dense_1_accuracy: 1.0000 - val_dense_3_accuracy: 1.0000 - val_dense_5_accuracy: 1.0000 - val_dense_7_accuracy: 1.0000 - val_dense_9_accuracy: 1.0000\n",
      "Epoch 29/30\n",
      "3/3 [==============================] - 0s 26ms/step - loss: 0.0000e+00 - dense_1_loss: 0.0000e+00 - dense_3_loss: 0.0000e+00 - dense_5_loss: 0.0000e+00 - dense_7_loss: 0.0000e+00 - dense_9_loss: 0.0000e+00 - dense_1_accuracy: 1.0000 - dense_3_accuracy: 1.0000 - dense_5_accuracy: 1.0000 - dense_7_accuracy: 1.0000 - dense_9_accuracy: 1.0000 - val_loss: 0.0000e+00 - val_dense_1_loss: 0.0000e+00 - val_dense_3_loss: 0.0000e+00 - val_dense_5_loss: 0.0000e+00 - val_dense_7_loss: 0.0000e+00 - val_dense_9_loss: 0.0000e+00 - val_dense_1_accuracy: 1.0000 - val_dense_3_accuracy: 1.0000 - val_dense_5_accuracy: 1.0000 - val_dense_7_accuracy: 1.0000 - val_dense_9_accuracy: 1.0000\n",
      "Epoch 30/30\n",
      "3/3 [==============================] - 0s 26ms/step - loss: 0.0000e+00 - dense_1_loss: 0.0000e+00 - dense_3_loss: 0.0000e+00 - dense_5_loss: 0.0000e+00 - dense_7_loss: 0.0000e+00 - dense_9_loss: 0.0000e+00 - dense_1_accuracy: 1.0000 - dense_3_accuracy: 1.0000 - dense_5_accuracy: 1.0000 - dense_7_accuracy: 1.0000 - dense_9_accuracy: 1.0000 - val_loss: 0.0000e+00 - val_dense_1_loss: 0.0000e+00 - val_dense_3_loss: 0.0000e+00 - val_dense_5_loss: 0.0000e+00 - val_dense_7_loss: 0.0000e+00 - val_dense_9_loss: 0.0000e+00 - val_dense_1_accuracy: 1.0000 - val_dense_3_accuracy: 1.0000 - val_dense_5_accuracy: 1.0000 - val_dense_7_accuracy: 1.0000 - val_dense_9_accuracy: 1.0000\n"
     ]
    }
   ],
   "source": [
    "#model = create_model()\n",
    "hist = model.fit(X_train, [y_train[0], y_train[1], y_train[2], y_train[3], y_train[4]], batch_size=32, epochs=30,verbose=1, validation_split=0.2)"
   ]
  },
  {
   "cell_type": "code",
   "execution_count": 9,
   "metadata": {
    "collapsed": true
   },
   "outputs": [],
   "source": [
    "# Define function to predict captcha\n",
    "def predict(filepath):\n",
    "    img = cv2.imread(filepath, cv2.IMREAD_GRAYSCALE)\n",
    "    if img is not None:\n",
    "        img = img / 255.0\n",
    "    else:\n",
    "        print(\"Not detected\");\n",
    "    res = np.array(model.predict(img[np.newaxis, :, :, np.newaxis]))\n",
    "    ans = np.reshape(res, (5, 36))\n",
    "    l_ind = []\n",
    "    probs = []\n",
    "    for a in ans:\n",
    "        l_ind.append(np.argmax(a))\n",
    "        #probs.append(np.max(a))\n",
    "\n",
    "    capt = ''\n",
    "    for l in l_ind:\n",
    "        capt += symbols[l]\n",
    "    return capt#, sum(probs) / 5\n"
   ]
  },
  {
   "cell_type": "code",
   "execution_count": 10,
   "metadata": {},
   "outputs": [
    {
     "name": "stdout",
     "output_type": "stream",
     "text": [
      "1/1 [==============================] - 0s 94ms/step - loss: 0.0000e+00 - dense_1_loss: 0.0000e+00 - dense_3_loss: 0.0000e+00 - dense_5_loss: 0.0000e+00 - dense_7_loss: 0.0000e+00 - dense_9_loss: 0.0000e+00 - dense_1_accuracy: 1.0000 - dense_3_accuracy: 1.0000 - dense_5_accuracy: 1.0000 - dense_7_accuracy: 1.0000 - dense_9_accuracy: 1.0000\n",
      "====================================================================================================\n",
      "Test Loss and accuracy: [0.0, 0.0, 0.0, 0.0, 0.0, 0.0, 1.0, 1.0, 1.0, 1.0, 1.0]\n"
     ]
    }
   ],
   "source": [
    "score= model.evaluate(X_test,[y_test[0], y_test[1], y_test[2], y_test[3], y_test[4]],verbose=1)\n",
    "print('='*100)\n",
    "print('Test Loss and accuracy:', score)"
   ]
  },
  {
   "cell_type": "code",
   "execution_count": 12,
   "metadata": {},
   "outputs": [
    {
     "name": "stdout",
     "output_type": "stream",
     "text": [
      "1/1 [==============================] - 0s 26ms/step - loss: 0.0000e+00 - dense_1_loss: 0.0000e+00 - dense_3_loss: 0.0000e+00 - dense_5_loss: 0.0000e+00 - dense_7_loss: 0.0000e+00 - dense_9_loss: 0.0000e+00 - dense_1_accuracy: 1.0000 - dense_3_accuracy: 1.0000 - dense_5_accuracy: 1.0000 - dense_7_accuracy: 1.0000 - dense_9_accuracy: 1.0000\n",
      "====================================================================================================\n"
     ]
    },
    {
     "ename": "ValueError",
     "evalue": "cannot reshape array of size 50 into shape (5,36)",
     "output_type": "error",
     "traceback": [
      "\u001b[1;31m---------------------------------------------------------------------------\u001b[0m",
      "\u001b[1;31mValueError\u001b[0m                                Traceback (most recent call last)",
      "\u001b[1;32m<ipython-input-12-62fb200a7e0f>\u001b[0m in \u001b[0;36m<module>\u001b[1;34m\u001b[0m\n\u001b[0;32m      2\u001b[0m \u001b[0mmodel\u001b[0m\u001b[1;33m.\u001b[0m\u001b[0mevaluate\u001b[0m\u001b[1;33m(\u001b[0m\u001b[0mX_test\u001b[0m\u001b[1;33m,\u001b[0m \u001b[1;33m[\u001b[0m\u001b[0my_test\u001b[0m\u001b[1;33m[\u001b[0m\u001b[1;36m0\u001b[0m\u001b[1;33m]\u001b[0m\u001b[1;33m,\u001b[0m \u001b[0my_test\u001b[0m\u001b[1;33m[\u001b[0m\u001b[1;36m1\u001b[0m\u001b[1;33m]\u001b[0m\u001b[1;33m,\u001b[0m \u001b[0my_test\u001b[0m\u001b[1;33m[\u001b[0m\u001b[1;36m2\u001b[0m\u001b[1;33m]\u001b[0m\u001b[1;33m,\u001b[0m \u001b[0my_test\u001b[0m\u001b[1;33m[\u001b[0m\u001b[1;36m3\u001b[0m\u001b[1;33m]\u001b[0m\u001b[1;33m,\u001b[0m \u001b[0my_test\u001b[0m\u001b[1;33m[\u001b[0m\u001b[1;36m4\u001b[0m\u001b[1;33m]\u001b[0m\u001b[1;33m]\u001b[0m\u001b[1;33m)\u001b[0m\u001b[1;33m\u001b[0m\u001b[0m\n\u001b[0;32m      3\u001b[0m \u001b[0mprint\u001b[0m\u001b[1;33m(\u001b[0m\u001b[1;34m'='\u001b[0m\u001b[1;33m*\u001b[0m\u001b[1;36m100\u001b[0m\u001b[1;33m)\u001b[0m\u001b[1;33m\u001b[0m\u001b[0m\n\u001b[1;32m----> 4\u001b[1;33m \u001b[0mprint\u001b[0m\u001b[1;33m(\u001b[0m\u001b[0mpredict\u001b[0m\u001b[1;33m(\u001b[0m\u001b[1;34m'data/wetax/975465.png'\u001b[0m\u001b[1;33m)\u001b[0m\u001b[1;33m)\u001b[0m\u001b[1;33m\u001b[0m\u001b[0m\n\u001b[0m\u001b[0;32m      5\u001b[0m \u001b[0mprint\u001b[0m\u001b[1;33m(\u001b[0m\u001b[0mpredict\u001b[0m\u001b[1;33m(\u001b[0m\u001b[1;34m'data/wetax/809734.png'\u001b[0m\u001b[1;33m)\u001b[0m\u001b[1;33m)\u001b[0m\u001b[1;33m\u001b[0m\u001b[0m\n\u001b[0;32m      6\u001b[0m \u001b[0mprint\u001b[0m\u001b[1;33m(\u001b[0m\u001b[0mpredict\u001b[0m\u001b[1;33m(\u001b[0m\u001b[1;34m'data/wetax/739840.png'\u001b[0m\u001b[1;33m)\u001b[0m\u001b[1;33m)\u001b[0m\u001b[1;33m\u001b[0m\u001b[0m\n",
      "\u001b[1;32m<ipython-input-9-ea3eaf0819e7>\u001b[0m in \u001b[0;36mpredict\u001b[1;34m(filepath)\u001b[0m\n\u001b[0;32m      7\u001b[0m         \u001b[0mprint\u001b[0m\u001b[1;33m(\u001b[0m\u001b[1;34m\"Not detected\"\u001b[0m\u001b[1;33m)\u001b[0m\u001b[1;33m;\u001b[0m\u001b[1;33m\u001b[0m\u001b[0m\n\u001b[0;32m      8\u001b[0m     \u001b[0mres\u001b[0m \u001b[1;33m=\u001b[0m \u001b[0mnp\u001b[0m\u001b[1;33m.\u001b[0m\u001b[0marray\u001b[0m\u001b[1;33m(\u001b[0m\u001b[0mmodel\u001b[0m\u001b[1;33m.\u001b[0m\u001b[0mpredict\u001b[0m\u001b[1;33m(\u001b[0m\u001b[0mimg\u001b[0m\u001b[1;33m[\u001b[0m\u001b[0mnp\u001b[0m\u001b[1;33m.\u001b[0m\u001b[0mnewaxis\u001b[0m\u001b[1;33m,\u001b[0m \u001b[1;33m:\u001b[0m\u001b[1;33m,\u001b[0m \u001b[1;33m:\u001b[0m\u001b[1;33m,\u001b[0m \u001b[0mnp\u001b[0m\u001b[1;33m.\u001b[0m\u001b[0mnewaxis\u001b[0m\u001b[1;33m]\u001b[0m\u001b[1;33m)\u001b[0m\u001b[1;33m)\u001b[0m\u001b[1;33m\u001b[0m\u001b[0m\n\u001b[1;32m----> 9\u001b[1;33m     \u001b[0mans\u001b[0m \u001b[1;33m=\u001b[0m \u001b[0mnp\u001b[0m\u001b[1;33m.\u001b[0m\u001b[0mreshape\u001b[0m\u001b[1;33m(\u001b[0m\u001b[0mres\u001b[0m\u001b[1;33m,\u001b[0m \u001b[1;33m(\u001b[0m\u001b[1;36m5\u001b[0m\u001b[1;33m,\u001b[0m \u001b[1;36m36\u001b[0m\u001b[1;33m)\u001b[0m\u001b[1;33m)\u001b[0m\u001b[1;33m\u001b[0m\u001b[0m\n\u001b[0m\u001b[0;32m     10\u001b[0m     \u001b[0ml_ind\u001b[0m \u001b[1;33m=\u001b[0m \u001b[1;33m[\u001b[0m\u001b[1;33m]\u001b[0m\u001b[1;33m\u001b[0m\u001b[0m\n\u001b[0;32m     11\u001b[0m     \u001b[0mprobs\u001b[0m \u001b[1;33m=\u001b[0m \u001b[1;33m[\u001b[0m\u001b[1;33m]\u001b[0m\u001b[1;33m\u001b[0m\u001b[0m\n",
      "\u001b[1;32m<__array_function__ internals>\u001b[0m in \u001b[0;36mreshape\u001b[1;34m(*args, **kwargs)\u001b[0m\n",
      "\u001b[1;32m~\\Documents\\aa_env\\lib\\site-packages\\numpy\\core\\fromnumeric.py\u001b[0m in \u001b[0;36mreshape\u001b[1;34m(a, newshape, order)\u001b[0m\n\u001b[0;32m    297\u001b[0m            [5, 6]])\n\u001b[0;32m    298\u001b[0m     \"\"\"\n\u001b[1;32m--> 299\u001b[1;33m     \u001b[1;32mreturn\u001b[0m \u001b[0m_wrapfunc\u001b[0m\u001b[1;33m(\u001b[0m\u001b[0ma\u001b[0m\u001b[1;33m,\u001b[0m \u001b[1;34m'reshape'\u001b[0m\u001b[1;33m,\u001b[0m \u001b[0mnewshape\u001b[0m\u001b[1;33m,\u001b[0m \u001b[0morder\u001b[0m\u001b[1;33m=\u001b[0m\u001b[0morder\u001b[0m\u001b[1;33m)\u001b[0m\u001b[1;33m\u001b[0m\u001b[0m\n\u001b[0m\u001b[0;32m    300\u001b[0m \u001b[1;33m\u001b[0m\u001b[0m\n\u001b[0;32m    301\u001b[0m \u001b[1;33m\u001b[0m\u001b[0m\n",
      "\u001b[1;32m~\\Documents\\aa_env\\lib\\site-packages\\numpy\\core\\fromnumeric.py\u001b[0m in \u001b[0;36m_wrapfunc\u001b[1;34m(obj, method, *args, **kwds)\u001b[0m\n\u001b[0;32m     56\u001b[0m \u001b[1;33m\u001b[0m\u001b[0m\n\u001b[0;32m     57\u001b[0m     \u001b[1;32mtry\u001b[0m\u001b[1;33m:\u001b[0m\u001b[1;33m\u001b[0m\u001b[0m\n\u001b[1;32m---> 58\u001b[1;33m         \u001b[1;32mreturn\u001b[0m \u001b[0mbound\u001b[0m\u001b[1;33m(\u001b[0m\u001b[1;33m*\u001b[0m\u001b[0margs\u001b[0m\u001b[1;33m,\u001b[0m \u001b[1;33m**\u001b[0m\u001b[0mkwds\u001b[0m\u001b[1;33m)\u001b[0m\u001b[1;33m\u001b[0m\u001b[0m\n\u001b[0m\u001b[0;32m     59\u001b[0m     \u001b[1;32mexcept\u001b[0m \u001b[0mTypeError\u001b[0m\u001b[1;33m:\u001b[0m\u001b[1;33m\u001b[0m\u001b[0m\n\u001b[0;32m     60\u001b[0m         \u001b[1;31m# A TypeError occurs if the object does have such a method in its\u001b[0m\u001b[1;33m\u001b[0m\u001b[1;33m\u001b[0m\u001b[0m\n",
      "\u001b[1;31mValueError\u001b[0m: cannot reshape array of size 50 into shape (5,36)"
     ]
    }
   ],
   "source": [
    "# Check model on some samples\n",
    "model.evaluate(X_test, [y_test[0], y_test[1], y_test[2], y_test[3], y_test[4]])\n",
    "print('='*100)\n",
    "print(predict('data/wetax/975465.png'))\n",
    "print(predict('data/wetax/809734.png'))\n",
    "print(predict('data/wetax/739840.png'))\n",
    "print(predict('data/wetax/634528.png'))\n",
    "print(predict('data/wetax/375170.png'))\n"
   ]
  },
  {
   "cell_type": "code",
   "execution_count": null,
   "metadata": {
    "collapsed": true
   },
   "outputs": [],
   "source": [
    "#Lets test an unknown captcha\n",
    "#preview\n",
    "%matplotlib inline \n",
    "import matplotlib.pyplot as plt\n",
    "img=cv2.imread('data/giro_test/LZBXHE.png',cv2.IMREAD_GRAYSCALE)\n",
    "plt.imshow(img, cmap=plt.get_cmap('gray'))"
   ]
  },
  {
   "cell_type": "code",
   "execution_count": null,
   "metadata": {
    "collapsed": true
   },
   "outputs": [],
   "source": [
    "#Lets Predict By Model\n",
    "print(\"Predicted Captcha =\",predict('data/giro_test/LZBXHE.png'))"
   ]
  },
  {
   "cell_type": "code",
   "execution_count": null,
   "metadata": {
    "collapsed": true
   },
   "outputs": [],
   "source": []
  }
 ],
 "metadata": {
  "kernelspec": {
   "display_name": "RPA_env",
   "language": "python",
   "name": "aa_env"
  },
  "language_info": {
   "codemirror_mode": {
    "name": "ipython",
    "version": 3
   },
   "file_extension": ".py",
   "mimetype": "text/x-python",
   "name": "python",
   "nbconvert_exporter": "python",
   "pygments_lexer": "ipython3",
   "version": "3.6.2"
  }
 },
 "nbformat": 4,
 "nbformat_minor": 2
}
