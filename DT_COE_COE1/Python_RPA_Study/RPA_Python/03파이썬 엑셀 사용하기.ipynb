{
 "cells": [
  {
   "cell_type": "markdown",
   "metadata": {},
   "source": [
    "## 1. 파이썬에서 엑셀 사용하기\n",
    "파이썬에서 엑셀 데이타를 핸들링하기 위해서는 openpyxl, xlrd, xlrw 등의 외부 패키지를 설치해서 사용한다. 여기서는 openpyxl 패키지를 아래와 같이 설치하여 사용한다.\n",
    "```\n",
    "    pip install openpyxl\n",
    "```\n",
    "## 2. 엑셀 데이타 읽고 쓰기\n",
    "엑셀을 다루는 가장 기초적인 부분은 데이타를 읽고 쓰는 동작이므로, 먼저 엑셀 파일을 열고 그 안의 데이타를 읽고 몇 개의 데이타를 쓰는 동작을 살펴 보자. 아래 예제는 국영수 점수를 담은 엑셀 파일을 읽어 각 학생별 국영수 합계를 구하여 다시 저장하는 예이다. 엑셀 입력 파일은 아래와 같다고 가정한다. 합계 부분은 추가해야 하는 부분이다.\n",
    "\n",
    "![엑셀파일](assets/excel-score.png)"
   ]
  },
  {
   "cell_type": "code",
   "execution_count": 5,
   "metadata": {
    "collapsed": true
   },
   "outputs": [],
   "source": [
    "from openpyxl import Workbook\n",
    "\n",
    "workbook = Workbook()\n",
    "sheet = workbook.active\n",
    "\n",
    "sheet[\"A1\"] = \"hello\"\n",
    "sheet[\"B1\"] = \"world!\"\n",
    "\n",
    "workbook.save(filename=\"data/hello_world.xlsx\")"
   ]
  },
  {
   "cell_type": "code",
   "execution_count": 6,
   "metadata": {},
   "outputs": [
    {
     "name": "stdout",
     "output_type": "stream",
     "text": [
      "88 92 95 275\n",
      "91 89 95 275\n",
      "98 82 90 270\n"
     ]
    }
   ],
   "source": [
    "import openpyxl\n",
    " \n",
    "# 엑셀파일 열기\n",
    "wb = openpyxl.load_workbook('data/score.xlsx')\n",
    " \n",
    "# 현재 Active Sheet 얻기\n",
    "ws = wb.active\n",
    "# ws = wb.get_sheet_by_name(\"Sheet1\")\n",
    " \n",
    "# 국영수 점수를 읽기\n",
    "for r in ws.rows:\n",
    "    row_index = r[0].row   # 행 인덱스\n",
    "    kor = r[1].value\n",
    "    eng = r[2].value\n",
    "    math = r[3].value\n",
    "    sum = kor + eng + math\n",
    "    \n",
    "    # 합계 쓰기\n",
    "    ws.cell(row=row_index, column=5).value = sum\n",
    "    \n",
    "    print(kor, eng, math, sum)\n",
    "\n",
    "wb.save(\"data/score2.xlsx\")\n",
    "wb.close()"
   ]
  },
  {
   "cell_type": "markdown",
   "metadata": {},
   "source": [
    "먼저 엑셀 파일을 오픈하기 위해 openpyxl.load_workbook(엑셀파일명) 함수를 호출하여 Workbook 객체를 얻는다. 하나의 Workbook에는 여러 개의 Worksheet 들이 있는데 통상 엑셀은 기본으로 Sheet1, Sheet2, Sheet3 등 3개의 시트를 생성한다. 엑셀 파일을 열면 보통 첫번째 시트가 Active Sheet가 되므로 Worksheet 객체의 active 를 통해 현재 워크시트를 가져올 수 있지만, 엑셀은 이전 저장시 마지막에 선택된 시트를 Active Sheet로 하므로 wb.get_sheet_by_name(시트명) 을 사용하는 것이 더 안전하다.\n",
    "\n",
    "워크시트는 행(Row)과 열(Column)로 구성되어 있는데, 시트 내에 데이타가 있는 부분의 행들은 시트객체.rows 를 통해 엑세스할 수 있고, 마찬가지로 시트객체.columns는 유효 컬럼들을 엑세스하는데 사용한다. 위의 예제에서 각 행을 하나씩 가져오기 위해 for 루프로 ws.rows로부터 한 row씩 가져오고 있다. 각 row는 그 행 안에 있는 cell 들의 집합으로 처음 cell은 r[0]과 같이 인덱스 0을 사용한다. 첫 cell 즉 r[0]의 값을 리턴하기 위해 r[0].value 을 사용한다.\n",
    "\n",
    "특정 cell 에 값을 지정하기 위해 cell.value 에 값을 넣으면 되는데, 시트에서 cell을 지정하기 위해 ws[\"A1\"]과 같이 엑셀식 cell 지정법을 사용할 수 있고, 또한 행열 인덱스를 사용하여 ws.cell(row=행인덱스, column=열인덱스) 표현을 사용할 수도 있다.\n",
    "\n",
    "엑셀의 변경 내용을 저장하기 위해서는 Workbook 객체에서 save() 메서드를 사용하며, 엑셀 사용이 모두 끝난 경우 close() 메서드를 호출한다."
   ]
  },
  {
   "cell_type": "markdown",
   "metadata": {},
   "source": [
    "### 파일 열기 \n",
    "```\n",
    "    - openpyxl.load_workbook('파일명')\n",
    "\n",
    "\tEx) workbook = openpyxl.load_workbook('data/score2.xlsx')\n",
    "```\n"
   ]
  },
  {
   "cell_type": "code",
   "execution_count": 8,
   "metadata": {},
   "outputs": [
    {
     "data": {
      "text/plain": [
       "<openpyxl.workbook.workbook.Workbook at 0x16762bf3278>"
      ]
     },
     "execution_count": 8,
     "metadata": {},
     "output_type": "execute_result"
    }
   ],
   "source": [
    "workbook = openpyxl.load_workbook(filename=\"data/score2.xlsx\")\n",
    "workbook"
   ]
  },
  {
   "cell_type": "markdown",
   "metadata": {},
   "source": [
    "### sheet 열기 \n",
    "\n",
    "    (1) index를 sheet이름으로하여 찾기(이게 더 좋다)\n",
    "```\n",
    "\t  - workbook['sheet1'] \n",
    "```\n",
    "\n",
    "    (2) get_sheet_by_name('Sheet1') 함수 이용(비 추천 pychame에서 경고 발생)\n",
    "```\n",
    "\t  - sheet = workbook.get_sheet_by_name('Sheet1')\n",
    "```"
   ]
  },
  {
   "cell_type": "code",
   "execution_count": 9,
   "metadata": {},
   "outputs": [
    {
     "data": {
      "text/plain": [
       "['Sheet1']"
      ]
     },
     "execution_count": 9,
     "metadata": {},
     "output_type": "execute_result"
    }
   ],
   "source": [
    "workbook.sheetnames"
   ]
  },
  {
   "cell_type": "code",
   "execution_count": 10,
   "metadata": {},
   "outputs": [
    {
     "name": "stdout",
     "output_type": "stream",
     "text": [
      "<Worksheet \"Sheet1\">\n"
     ]
    }
   ],
   "source": [
    "sheet = workbook['Sheet1']\n",
    "print(sheet)"
   ]
  },
  {
   "cell_type": "code",
   "execution_count": 11,
   "metadata": {},
   "outputs": [
    {
     "name": "stderr",
     "output_type": "stream",
     "text": [
      "C:\\Users\\ME\\PyTorch\\venv\\lib\\site-packages\\ipykernel_launcher.py:1: DeprecationWarning: Call to deprecated function get_sheet_by_name (Use wb[sheetname]).\n",
      "  \"\"\"Entry point for launching an IPython kernel.\n"
     ]
    },
    {
     "data": {
      "text/plain": [
       "<Worksheet \"Sheet1\">"
      ]
     },
     "execution_count": 11,
     "metadata": {},
     "output_type": "execute_result"
    }
   ],
   "source": [
    "sheet = workbook.get_sheet_by_name('Sheet1')\n",
    "sheet"
   ]
  },
  {
   "cell_type": "markdown",
   "metadata": {},
   "source": [
    "### 현재 열린 sheet를 열기\n",
    "\n",
    "```\n",
    "    - workbook.active\n",
    "    \n",
    "\tEx) sheet = workbook.active\n",
    "```\n"
   ]
  },
  {
   "cell_type": "code",
   "execution_count": 13,
   "metadata": {},
   "outputs": [
    {
     "data": {
      "text/plain": [
       "<Worksheet \"Sheet1\">"
      ]
     },
     "execution_count": 13,
     "metadata": {},
     "output_type": "execute_result"
    }
   ],
   "source": [
    "sheet = workbook.active\n",
    "sheet"
   ]
  },
  {
   "cell_type": "code",
   "execution_count": 15,
   "metadata": {},
   "outputs": [
    {
     "data": {
      "text/plain": [
       "'Sheet1'"
      ]
     },
     "execution_count": 15,
     "metadata": {},
     "output_type": "execute_result"
    }
   ],
   "source": [
    "sheet.title"
   ]
  },
  {
   "cell_type": "markdown",
   "metadata": {},
   "source": [
    "### 파일 닫기\n",
    "```\n",
    "    - close()\n",
    "\n",
    "\tEx) workbook.close()\n",
    "```"
   ]
  },
  {
   "cell_type": "code",
   "execution_count": 17,
   "metadata": {},
   "outputs": [
    {
     "data": {
      "text/plain": [
       "<openpyxl.workbook.workbook.Workbook at 0x16762bf3278>"
      ]
     },
     "execution_count": 17,
     "metadata": {},
     "output_type": "execute_result"
    }
   ],
   "source": [
    "workbook.close()\n",
    "workbook"
   ]
  },
  {
   "cell_type": "code",
   "execution_count": 18,
   "metadata": {},
   "outputs": [
    {
     "data": {
      "text/plain": [
       "<Cell 'Sheet1'.A1>"
      ]
     },
     "execution_count": 18,
     "metadata": {},
     "output_type": "execute_result"
    }
   ],
   "source": [
    "sheet[\"A1\"]"
   ]
  },
  {
   "cell_type": "code",
   "execution_count": 19,
   "metadata": {},
   "outputs": [
    {
     "data": {
      "text/plain": [
       "1"
      ]
     },
     "execution_count": 19,
     "metadata": {},
     "output_type": "execute_result"
    }
   ],
   "source": [
    "sheet[\"A1\"].value"
   ]
  },
  {
   "cell_type": "code",
   "execution_count": 21,
   "metadata": {},
   "outputs": [
    {
     "data": {
      "text/plain": [
       "275"
      ]
     },
     "execution_count": 21,
     "metadata": {},
     "output_type": "execute_result"
    }
   ],
   "source": [
    "sheet[\"E2\"].value"
   ]
  },
  {
   "cell_type": "code",
   "execution_count": 22,
   "metadata": {},
   "outputs": [
    {
     "data": {
      "text/plain": [
       "<Cell 'Sheet1'.E2>"
      ]
     },
     "execution_count": 22,
     "metadata": {},
     "output_type": "execute_result"
    }
   ],
   "source": [
    "sheet.cell(row=2, column=5)"
   ]
  },
  {
   "cell_type": "code",
   "execution_count": 23,
   "metadata": {},
   "outputs": [
    {
     "data": {
      "text/plain": [
       "275"
      ]
     },
     "execution_count": 23,
     "metadata": {},
     "output_type": "execute_result"
    }
   ],
   "source": [
    "sheet.cell(row=2, column=5).value"
   ]
  },
  {
   "cell_type": "code",
   "execution_count": 24,
   "metadata": {},
   "outputs": [
    {
     "name": "stdout",
     "output_type": "stream",
     "text": [
      "(88, 92, 95, 275)\n",
      "(91, 89, 95, 275)\n",
      "(98, 82, 90, 270)\n"
     ]
    }
   ],
   "source": [
    "for value in sheet.iter_rows(min_row=1, min_col=2, max_col=5, values_only=True):\n",
    "    print(value)"
   ]
  },
  {
   "cell_type": "code",
   "execution_count": null,
   "metadata": {
    "collapsed": true
   },
   "outputs": [],
   "source": []
  }
 ],
 "metadata": {
  "kernelspec": {
   "display_name": "Python_RPA",
   "language": "python",
   "name": "pytorch_env"
  },
  "language_info": {
   "codemirror_mode": {
    "name": "ipython",
    "version": 3
   },
   "file_extension": ".py",
   "mimetype": "text/x-python",
   "name": "python",
   "nbconvert_exporter": "python",
   "pygments_lexer": "ipython3",
   "version": "3.6.2"
  }
 },
 "nbformat": 4,
 "nbformat_minor": 2
}
