{
 "cells": [
  {
   "cell_type": "markdown",
   "metadata": {},
   "source": [
    "## 1. Selenium 소개\n",
    "Selenium은 웹 브라우져를 컨트롤하여 웹 UI 를 Automation 하는 도구 중의 하나이다. Selenium은 Selenium Server와 Selenium Client가 있는데, 로컬 컴퓨터의 웹 브라우져를 컨트롤하기 위해서는 Selenium Client 를 사용한다 (여기서는 Selenium 3 사용). Selenium Client는 WebDriver라는 공통 인터페이스(Common interface)와 각 브라우져 타입별(IE, Chrome, FireFox 등)로 하나씩 있는 Browser Driver로 구성되어 있다.\n",
    "\n",
    "## 2. Selenium 설치\n",
    "Selenium을 설치하기 위해서는 먼저 아래와 같이 pip 을 사용하여 Selenium Client 모듈을 설치한다.\n",
    "```\n",
    "pip install selenium\n",
    "```\n",
    "다음으로 사용할 브라우저별 Selenium 드라이버를 설치한다. 드라이버가 설치된 후, 해당 드라이버의 경로를 실행 PATH에 넣어 준다. 아래는 대표적인 브라우저별 설치 링크이다. 특별한 이유가 없다면 Selenium이 가장 잘 동작하는 Firefox를 사용하는 것이 좋다.\n",
    "\n",
    " - Firefox : [https://github.com/mozilla/geckodriver/releases](https://github.com/mozilla/geckodriver/releases)\n",
    " - Chrome : [https://sites.google.com/a/chromium.org/chromedriver/downloads](https://sites.google.com/a/chromium.org/chromedriver/downloads)\n",
    " - Edge : [https://developer.microsoft.com/en-us/microsoft-edge/tools/webdriver/](https://developer.microsoft.com/en-us/microsoft-edge/tools/webdriver/)\n",
    "\n",
    "**※ 크롬 웹 드라이버 ※**\n",
    "\n",
    "\n",
    "\n",
    "  우리가 개발한 파이썬 크롤링 소프트웨어에서 크롬(Chrome) 브라우저의 기능을 이용하도록 하기 위해서 웹 드라이버(Web Driver)를 설치해야 합니다.\n",
    "\n",
    "\n",
    "\n",
    "  크롬 드라이버 URL: [http://chromedriver.chromium.org/downloads](http://chromedriver.chromium.org/downloads)\n",
    "  \n",
    "- 여기서 주의해야 할 점은 크롬 브라우져의 버전에 맞는 driver를 다운로드 받아야 한다는 것입니다. 브라우져 버전은 메뉴 => 도움말 => Chrome 정보에서 확인할 수 있습니다.\n",
    "- 자신의 운영체제에 맞는 웹 드라이버를 다운로드 해줍니다.\n",
    "- 버전을 클릭하면 아래와 같은 OS별 Driver파일이 나열되어있다. 사용하는 OS에 따른 driver를 받아주고, zip파일을 받고 풀어주면 chromedriver라는 파일이 저장된다.\n",
    "- 위 폴더를 기준으로 할 경우 C:\\Users\\{사용자명}\\Downloads\\chromedriver_win32 가 크롬드라이버 파일의 위치가 된다. 이 경로를 나중에 Selenium 객체를 생성할 때 지정해 주어야 한다. (그래야 python이 chromedriver를 통해 크롬 브라우저를 조작할 수 있다!)\n",
    "\n",
    "## 3. Selenium 사용법\n",
    "Selenium을 사용하기 위해서는 먼저 selenium.webdriver 모듈을 import 한 후, webdriver.Firefox() 를 호출하여 브라우져를 실행시킨다. 만약 크롬을 사용할 경우 webdriver.Chrome()을 호출하고, Edge를 사용할 경우 webdriver.Edge()을 호출한다.\n",
    "\n",
    "\n",
    "### Selenium으로 사이트 브라우징\n",
    "Selenium은 webdriver api를 통해 브라우저를 제어한다.\n",
    "\n",
    "우선 webdriver를 import해주자."
   ]
  },
  {
   "cell_type": "code",
   "execution_count": 1,
   "metadata": {
    "collapsed": true
   },
   "outputs": [],
   "source": [
    "from selenium import webdriver"
   ]
  },
  {
   "cell_type": "markdown",
   "metadata": {},
   "source": [
    "이제 browser라는 이름의 webdriver 객체를 만들어 주자. 이름이 꼭 browser일 필요는 없다. 여기서는 크롬을 기본적으로 이용할 예정이다.\n",
    "\n",
    "Selenium은 기본적으로 웹 자원들이 모두 로드될때까지 기다려주지만, 암묵적으로 모든 자원이 로드될때 까지 기다리게 하는 시간을 직접 implicitly_wait을 통해 지정할 수 있다.\n",
    "\n",
    "브라우져를 띄운 상태에서 특정 웹사이트로 이동하기 위해서는 아래와 같이 browser 객체의 get() 메서드를 사용한다."
   ]
  },
  {
   "cell_type": "code",
   "execution_count": 2,
   "metadata": {
    "collapsed": true
   },
   "outputs": [],
   "source": [
    "# Chrome의 경우 | 아까 받은 chromedriver의 위치를 지정해준다.\n",
    "browser = webdriver.Chrome('C:/Users/saint/Downloads/chromedriver_win32/chromedriver.exe')\n",
    "# 암묵적으로 웹 자원 로드를 위해 3초까지 기다려 준다.\n",
    "browser.implicitly_wait(3)\n",
    "browser.get(\"http://python.org\") "
   ]
  },
  {
   "cell_type": "markdown",
   "metadata": {},
   "source": [
    "Selenium은 웹페이지 내의 특정 요소(들)을 찾는 많은 메서드들을 제공하고 있는데, 이들은 보통 한 요소를 리턴하는 find_element_*() 혹은 복수 요소를 리턴하는 find_elements_*() 메서드로 구분된다. 자주 사용되는 몇가지 검색 메서드를 예를 들면, 특정 태그 id 로 검색하는 find_element_by_id(), 특정 태그 name 속성으로 검색하는 find_element_by_name(), CSS 클래스명으로 검색하는 find_element_by_class_name(), CSS selector를 사용해 검색하는 find_element_by_css_selector() 등이 있는데, 예상되는 결과가 복수이면 find_element_* 대신 find_elements_* 를 사용한다.\n",
    "\n",
    "검색 결과 리턴되는 객체는 FirefoxWebElement 와 같이 *WebElement 타입의 객체가 되는데, 리턴된 요소는 WebElement 타입 타입의 속성이나 메서드를 사용하여 데이타를 얻거나 특정 행위를 할 수 있다. 예를 들어, WebElement의 text는 요소 내의 문자열을 리턴하고, tag_name 은 해당 요소의 태크명 (예: a, span) 을 리턴하며, clear() 메서드를 호출하면 text 입력 영역을 초기화하고, click() 메서드를 호출하면 해당 요소를 클릭한다.\n",
    "\n",
    "아래 예제는 python.org 웹사이트를 방문해서 상단 메인 메뉴 문자열을 출력하고, PyPI 메뉴를 클릭한 후 5초 후에 브라우저를 종료하는 예이다."
   ]
  },
  {
   "cell_type": "code",
   "execution_count": 2,
   "metadata": {},
   "outputs": [
    {
     "name": "stdout",
     "output_type": "stream",
     "text": [
      "Python\n",
      "PSF\n",
      "Docs\n",
      "PyPI\n",
      "Jobs\n",
      "Community\n"
     ]
    }
   ],
   "source": [
    "from selenium import webdriver\n",
    "import time\n",
    " \n",
    "browser = webdriver.Chrome('C:/Users/saint/Downloads/chromedriver_win32/chromedriver.exe')\n",
    "browser.get(\"http://python.org\")\n",
    " \n",
    "menus = browser.find_elements_by_css_selector('#top ul.menu li')\n",
    " \n",
    "pypi = None\n",
    "for m in menus:\n",
    "    if m.text == \"PyPI\":\n",
    "        pypi = m\n",
    "    print(m.text)\n",
    " \n",
    "pypi.click()  # 클릭\n",
    " \n",
    "time.sleep(5) # 5초 대기\n",
    "browser.quit() # 브라우저 종료"
   ]
  },
  {
   "cell_type": "markdown",
   "metadata": {},
   "source": [
    "### selenium으로 네이버 자동 로그인하기\n",
    " \n",
    "\n",
    "네이버는 셀레니움으로 로그인을 시도합니다. \n",
    "\n"
   ]
  },
  {
   "cell_type": "code",
   "execution_count": 4,
   "metadata": {},
   "outputs": [],
   "source": [
    "from selenium import webdriver\n",
    "import time\n",
    " \n",
    "browser = webdriver.Chrome('C:/Users/saint/Downloads/chromedriver_win32/chromedriver.exe')\n",
    "browser.get('https://nid.naver.com/nidlogin.login?mode=form&url=https%3A%2F%2Fwww.naver.com')\n",
    "\n",
    "browser.find_element_by_name('id').send_keys('saintphs')\n",
    "browser.find_element_by_name('pw').send_keys('phs1040')\n",
    "time.sleep(5) # 5초 대기\n",
    "browser.find_element_by_xpath('//*[@id=\"frmNIDLogin\"]/fieldset/input').click()"
   ]
  },
  {
   "cell_type": "markdown",
   "metadata": {},
   "source": [
    "그러면 캡챠 페이지가 뜬니다..\n",
    "\n",
    "아래는 시도한 코드와 로그인이 막힌 모습.\n",
    "![NAVER Login Screen](assets/naver_captcha_protection.png)"
   ]
  },
  {
   "cell_type": "markdown",
   "metadata": {},
   "source": [
    "파이썬으로 클립보드를 이용하는 방법으로 캡차가 나타나지 않게 하는 방법으로 우회한다.\n",
    "\n",
    "copy_input 함수를 만들어 미리 입력해둔 id와 pw를 로그인 폼에 붙여넣는다.\n",
    "\n",
    "함수 동작방법은 다음과 같다.\n",
    "\n",
    "key_down 메소드를 이용해 컨트롤키를 누르고, 그 상태에서 v를 입력시킨고 key_up 메소드를 이용, 컨트롤 키를 뗀다.\n",
    "\n",
    "즉, 클립보드에 있는 내용을 Ctrl+V를 이용해 붙여넣은 뒤 perform으로 실행시키는 형식이다.\n",
    "\n",
    ">>\n",
    "\n",
    "```\n",
    "def copy_input(xpath, input):\n",
    "    pyperclip.copy(input)\n",
    "    driver.find_element_by_xpath(xpath).click()\n",
    "    #클립보드 내용 붙여넣기\n",
    "    ActionChains(driver).key_down(Keys.CONTROL).send_keys('v').key_up(Keys.CONTROL).perform()\n",
    "    time.sleep(1)\n",
    "```    \n",
    ">>\n",
    "```\n",
    "id = '아이디'\n",
    "pw = '비밀번호'\n",
    "```\n",
    ">>\n",
    "```\n",
    "copy_input('//*[@id=\"id\"]', id)\n",
    "copy_input('//*[@id=\"pw\"]', pw)\n",
    "```"
   ]
  },
  {
   "cell_type": "code",
   "execution_count": 7,
   "metadata": {},
   "outputs": [],
   "source": [
    "from selenium import webdriver\n",
    "from selenium.webdriver.common.action_chains import ActionChains\n",
    "from selenium.webdriver.common.keys import Keys\n",
    "import pyperclip\n",
    "import time\n",
    "\n",
    "\n",
    "#클립보드에 input을 복사한 뒤\n",
    "#해당 내용을 actionChain을 이용해 로그인 폼에 붙여넣기\n",
    "def copy_input(xpath, input):\n",
    "    pyperclip.copy(input)\n",
    "    driver.find_element_by_xpath(xpath).click()\n",
    "    ActionChains(driver).key_down(Keys.CONTROL).send_keys('v').key_up(Keys.CONTROL).perform()\n",
    "    time.sleep(1)\n",
    "\n",
    "\n",
    "id = 'saintphs'\n",
    "pw = 'phs1040'\n",
    "\n",
    "driver = webdriver.Chrome('C:/Users/saint/Downloads/chromedriver_win32/chromedriver.exe')\n",
    "driver.implicitly_wait(3)\n",
    "\n",
    "driver.get('https://nid.naver.com/nidlogin.login?mode=form&url=https%3A%2F%2Fwww.naver.com')\n",
    "\n",
    "copy_input('//*[@id=\"id\"]', id)\n",
    "time.sleep(1)\n",
    "copy_input('//*[@id=\"pw\"]', pw)\n",
    "time.sleep(1)\n",
    "driver.find_element_by_xpath('//*[@id=\"frmNIDLogin\"]/fieldset/input').click()"
   ]
  },
  {
   "cell_type": "markdown",
   "metadata": {},
   "source": [
    "![NAVER Login Screen](assets/naver_captcha_pass.png)"
   ]
  },
  {
   "cell_type": "code",
   "execution_count": null,
   "metadata": {
    "collapsed": true
   },
   "outputs": [],
   "source": []
  }
 ],
 "metadata": {
  "kernelspec": {
   "display_name": "Python_RPA",
   "language": "python",
   "name": "pytorch_env"
  },
  "language_info": {
   "codemirror_mode": {
    "name": "ipython",
    "version": 3
   },
   "file_extension": ".py",
   "mimetype": "text/x-python",
   "name": "python",
   "nbconvert_exporter": "python",
   "pygments_lexer": "ipython3",
   "version": "3.6.2"
  }
 },
 "nbformat": 4,
 "nbformat_minor": 2
}
