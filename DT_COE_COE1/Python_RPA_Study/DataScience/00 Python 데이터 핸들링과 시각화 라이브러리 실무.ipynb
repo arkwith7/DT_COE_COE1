{
 "cells": [
  {
   "cell_type": "markdown",
   "metadata": {
    "school_cell_uuid": "37d225ad2f2b4954ad77f7be90eccec4"
   },
   "source": [
    "# Python 데이터 핸들링과 시각화 라이브러리 실무"
   ]
  },
  {
   "cell_type": "markdown",
   "metadata": {},
   "source": [
    "¶\n",
    "## 1일차: 데이터 관리, 시각화 및 수학적 도구¶\n",
    "\n",
    "### 개발 환경¶\n",
    "   - [도커 툴박스 설치](https://datascienceschool.net/view-notebook/22cc3845d45f4dc7b27828294fce3c93)\n",
    "   - [도커 이미지 설치 및 실행](https://datascienceschool.net/view-notebook/03c5b5a96a614ee588a74f05c720e67c)\n",
    "   - [도커 초간단 사용법](https://datascienceschool.net/view-notebook/708e711429a646818b9dcbb581e0c10a)\n",
    "\n",
    "### Python 소개¶\n",
    "   - [파이썬 설치](https://datascienceschool.net/view-notebook/5e52b7c4b5754f2585844c8d9b26cdb5)\n",
    "   - [파이썬 패키지 설치하기](https://datascienceschool.net/view-notebook/ab78f919fdb84e838039c674acba5650)\n",
    "   - [PyDev IDE 설치 방법](https://datascienceschool.net/view-notebook/5b02e79e8bc94275af5f16f2c7aad26a)\n",
    "   - [데이터 분석용 파이썬 패키지 소개](https://datascienceschool.net/view-notebook/b85212ea4040408e8ebd6d3495f2c91b)\n",
    "   - [Python 시작하기](https://datascienceschool.net/view-notebook/3f356478d65a4932b1e29ccfe9c6edfe)\n",
    "   - [Python 문자열 인코딩](https://datascienceschool.net/view-notebook/250c1869eab54157827adf54c5e9f064)\n",
    "\n",
    "### NumPy¶\n",
    "   - [NumPy 소개](https://datascienceschool.net/view-notebook/416d733c3a734565b69fd0c8dc959edb)\n",
    "   - [NumPy 배열 생성과 변형](https://datascienceschool.net/view-notebook/17608f897087478bbeac096438c716f6)\n",
    "   - [NumPy 배열의 연산](https://datascienceschool.net/view-notebook/464860bf5a5f4e139b05ccc473f1f15c)\n",
    "   - [NumPy 연습 문제 1](https://datascienceschool.net/view-notebook/32fb866b164f4caea4f3f8b41dba2c46)\n",
    "\n",
    "### matplotlib¶\n",
    "   - [시각화 패키지 matplotlib 소개](https://datascienceschool.net/view-notebook/d0b1637803754bb083b5722c9f2209d0)\n",
    "   - [matplotlib의 여러가지 플롯](https://datascienceschool.net/view-notebook/6e71dbff254542d9b0a054a7c98b34ec)\n",
    "\n",
    "### Pandas¶\n",
    "   - [Pandas 데이터 합성](https://datascienceschool.net/view-notebook/ee0a5679dd574b94b55193690992f850)\n",
    "   - [Pandas 데이터 변환](https://datascienceschool.net/view-notebook/7002e92653434bc88c8c026c3449d27b)\n",
    "   - [Pandas 고급 인덱싱](https://datascienceschool.net/view-notebook/aa62265f02fc429aa636ef343c3b1fda)\n",
    "   - [Pandas 인덱스 조작](https://datascienceschool.net/view-notebook/a49bde24674a46699639c1fa9bb7e213)\n",
    "   - [Pandas 피봇과 그룹 연산](https://datascienceschool.net/view-notebook/76dcd63bba2c4959af15bec41b197e7c)\n",
    "   - [Pandas 데이터 분석 예제](https://datascienceschool.net/view-notebook/fce2e0fc5a7444f49871bd776f38a3f1)\n",
    "   - [Pandas 데이터 입출력](https://datascienceschool.net/view-notebook/c5ccddd6716042ee8be3e5436081778b)\n",
    "   - [Python의 날짜 및 시간 관련 패키지 소개](https://datascienceschool.net/view-notebook/465066ac92ef4da3b0aba32f76d9750a)\n",
    "   - [Pandas 시계열 자료 다루기](https://datascienceschool.net/view-notebook/8959673a97214e8fafdb159f254185e9)\n",
    "\n",
    "## 2일차: 금융 데이터 수집 및¶\n",
    "\n",
    "### 데이터 수집¶\n",
    "   - [Python을 활용한 웹 정보 수집](https://datascienceschool.net/view-notebook/a0cc408f1c9d4381a4cd7ae7c744b9ac)\n",
    "   - [Scrapy를 사용한 웹 크롤링](https://datascienceschool.net/view-notebook/bda604756c6c4b89a4814fd8edf52c29)\n",
    "\n",
    "### 파일 입출력¶\n",
    "   - [파이썬의 파일 입출력](https://datascienceschool.net/view-notebook/bf8582817a714aec944070cf4b3d94ec)\n",
    "\n",
    "### 엑셀 연동¶\n",
    "   - [Python과 엑셀 연동](https://datascienceschool.net/view-notebook/5524dd924b9e4a3399a33b5e70269458)\n",
    "\n",
    "### 금융 정보¶\n",
    "   - [Python API로 FRED 자료 사용하기](https://datascienceschool.net/view-notebook/54411c71f041487aba00a3ddcd17e5d8)\n",
    "   - [공시 정보 RSS를 파이썬으로 읽는 법](https://datascienceschool.net/view-notebook/56e80013cd6e44298e6f47d1dc7a55f2)\n",
    "   - [공시 정보 API 사용법](https://datascienceschool.net/view-notebook/adead36729704e7b8660dda3be6a6524)\n",
    "\n",
    "### 고급 시각화¶\n",
    "   - [seaborn 시각화 패키지 소개](https://datascienceschool.net/view-notebook/4c2d5ff1caab4b21a708cc662137bc65)\n",
    "   - [웹 플롯을 위한 bokeh 패키지 소개](https://datascienceschool.net/view-notebook/b03af554a1494f159fc94d65d70fe7b2)\n",
    "\n",
    "### 기술적 분석 및 전략 백테스트¶\n",
    "   - [주식의 기술적 분석 및 백테스트](https://datascienceschool.net/view-notebook/d0959d5ebc2a4c2396a1d23bcea46a2c)\n",
    "\n",
    "## 3일차: 금융 분석 어플리케이션¶\n",
    "\n",
    "### VaR/CVA 리스크 분석¶\n",
    "   - [VaR and CVA](https://datascienceschool.net/view-notebook/3a0145acd31b4ecd9a48b3c308cbcbbf)\n",
    "\n",
    "### 포트폴리오 최적화¶\n",
    "   - [포트폴리오 최적화](https://datascienceschool.net/view-notebook/4135681c2cf1474684cc63f1303fa6c7)\n",
    "\n",
    "### 주성분 분석(PCA)¶\n",
    "   - [PCA](https://datascienceschool.net/view-notebook/f10aad8a34a4489697933f77c5d58e3a)\n",
    "   - [주가의 주성분 분석](https://datascienceschool.net/view-notebook/996d8538181e41729f7b6464789fa050)\n",
    "\n",
    "### 베이지안 회귀 분석¶\n",
    "   - [베이지안 회귀 분석 예제](https://datascienceschool.net/view-notebook/840c925556d84f618f96ba394313a45d)\n"
   ]
  },
  {
   "cell_type": "markdown",
   "metadata": {
    "school_cell_uuid": "98a6dfe6f4ef496c85def72674b1fd1d"
   },
   "source": [
    "## 1일차: 데이터 관리, 시각화 및 수학적 도구"
   ]
  },
  {
   "cell_type": "markdown",
   "metadata": {
    "school_cell_uuid": "38190cf1414c4c2b8156176a352e7ab8"
   },
   "source": [
    "### 개발 환경"
   ]
  },
  {
   "cell_type": "markdown",
   "metadata": {
    "school_cell_uuid": "9a3496b0fbeb4ada9408d2f833e7db50"
   },
   "source": [
    "[[school_notebook:22cc3845d45f4dc7b27828294fce3c93]]"
   ]
  },
  {
   "cell_type": "markdown",
   "metadata": {
    "school_cell_uuid": "8ac459dfa93044f29196025da781d626"
   },
   "source": [
    "[[school_notebook:03c5b5a96a614ee588a74f05c720e67c]]"
   ]
  },
  {
   "cell_type": "markdown",
   "metadata": {
    "school_cell_uuid": "58004e6334e44112b3e55592c9fa83da"
   },
   "source": [
    "[[school_notebook:708e711429a646818b9dcbb581e0c10a]]"
   ]
  },
  {
   "cell_type": "markdown",
   "metadata": {
    "school_cell_uuid": "ea06b993933a484d8bafa4ddb944dc82"
   },
   "source": [
    "### Python 소개"
   ]
  },
  {
   "cell_type": "markdown",
   "metadata": {
    "school_cell_uuid": "c9259633ce66451da60d5cb52c0bbce8"
   },
   "source": [
    "[[school_notebook:5e52b7c4b5754f2585844c8d9b26cdb5]]"
   ]
  },
  {
   "cell_type": "markdown",
   "metadata": {
    "school_cell_uuid": "833b73281bc04687ab5e1b119156dd19"
   },
   "source": [
    "[[school_notebook:ab78f919fdb84e838039c674acba5650]]"
   ]
  },
  {
   "cell_type": "markdown",
   "metadata": {
    "school_cell_uuid": "7d941554956f49008d49217705e24e73"
   },
   "source": [
    "[[school_notebook:5b02e79e8bc94275af5f16f2c7aad26a]]"
   ]
  },
  {
   "cell_type": "markdown",
   "metadata": {
    "school_cell_uuid": "a6e781c5d5ad45dcb5bf2e9e7d65266f"
   },
   "source": [
    "[[school_notebook:b85212ea4040408e8ebd6d3495f2c91b]]"
   ]
  },
  {
   "cell_type": "markdown",
   "metadata": {
    "school_cell_uuid": "41d8c439e3d947af8a7f7146f3c38698"
   },
   "source": [
    "[[school_notebook:3f356478d65a4932b1e29ccfe9c6edfe]]"
   ]
  },
  {
   "cell_type": "markdown",
   "metadata": {
    "school_cell_uuid": "dbc93ccce3e64514a56fb9c63d8f141c"
   },
   "source": [
    "[[school_notebook:250c1869eab54157827adf54c5e9f064]]"
   ]
  },
  {
   "cell_type": "markdown",
   "metadata": {
    "school_cell_uuid": "eec2b6ec888b4d6097826d5150131804"
   },
   "source": [
    "### NumPy"
   ]
  },
  {
   "cell_type": "markdown",
   "metadata": {
    "school_cell_uuid": "326ba2cf38234f89a501cabcae6f8ed0"
   },
   "source": [
    "[[school_notebook:416d733c3a734565b69fd0c8dc959edb]]"
   ]
  },
  {
   "cell_type": "markdown",
   "metadata": {
    "school_cell_uuid": "99b90dddad474ee5b33e94c201e93b49"
   },
   "source": [
    "[[school_notebook:17608f897087478bbeac096438c716f6]]"
   ]
  },
  {
   "cell_type": "markdown",
   "metadata": {
    "school_cell_uuid": "72aa8a37a28041fdb5652fe522d092a7"
   },
   "source": [
    "[[school_notebook:464860bf5a5f4e139b05ccc473f1f15c]]"
   ]
  },
  {
   "cell_type": "markdown",
   "metadata": {
    "school_cell_uuid": "160f4577dc5e4a84859068d597a8f562"
   },
   "source": [
    "[[school_notebook:32fb866b164f4caea4f3f8b41dba2c46]]"
   ]
  },
  {
   "cell_type": "markdown",
   "metadata": {
    "school_cell_uuid": "0f406a1390c646618cb95e240d4bf814"
   },
   "source": [
    "### matplotlib"
   ]
  },
  {
   "cell_type": "markdown",
   "metadata": {
    "school_cell_uuid": "e3036d4710c34f4bb9c3a076d7c221c7"
   },
   "source": [
    "[[school_notebook:d0b1637803754bb083b5722c9f2209d0]]"
   ]
  },
  {
   "cell_type": "markdown",
   "metadata": {
    "school_cell_uuid": "23b8a9d472344c6e936811d6924f9e59"
   },
   "source": [
    "[[school_notebook:6e71dbff254542d9b0a054a7c98b34ec]]"
   ]
  },
  {
   "cell_type": "markdown",
   "metadata": {
    "school_cell_uuid": "2f76ff17307941caadbe182cb5a47f66"
   },
   "source": [
    "### Pandas"
   ]
  },
  {
   "cell_type": "markdown",
   "metadata": {
    "school_cell_uuid": "c9c7ffbe1a294d7b998ad5df409feb9a"
   },
   "source": [
    "[[school_notebook:ee0a5679dd574b94b55193690992f850]]"
   ]
  },
  {
   "cell_type": "markdown",
   "metadata": {
    "school_cell_uuid": "dded486789484b0cbbf98a11a9a73047"
   },
   "source": [
    "[[school_notebook:7002e92653434bc88c8c026c3449d27b]]"
   ]
  },
  {
   "cell_type": "markdown",
   "metadata": {
    "school_cell_uuid": "a5902f1c26f84fe19cdac9ef6293e23d"
   },
   "source": [
    "[[school_notebook:aa62265f02fc429aa636ef343c3b1fda]]"
   ]
  },
  {
   "cell_type": "markdown",
   "metadata": {
    "school_cell_uuid": "e5aed53502fd4031bda7bafaed2d41db"
   },
   "source": [
    "[[school_notebook:704731b41f794b8ea00768f5b0904512]]"
   ]
  },
  {
   "cell_type": "markdown",
   "metadata": {
    "school_cell_uuid": "7663f2bbca8646469d3c08e4ce58d29b"
   },
   "source": [
    "[[school_notebook:a49bde24674a46699639c1fa9bb7e213]]"
   ]
  },
  {
   "cell_type": "markdown",
   "metadata": {
    "school_cell_uuid": "b79e0b9315a54d5e966f0ea18145dc13"
   },
   "source": [
    "[[school_notebook:76dcd63bba2c4959af15bec41b197e7c]]"
   ]
  },
  {
   "cell_type": "markdown",
   "metadata": {
    "school_cell_uuid": "c9da70412684463e8942af09359bdc08"
   },
   "source": [
    "[[school_notebook:fce2e0fc5a7444f49871bd776f38a3f1]]"
   ]
  },
  {
   "cell_type": "markdown",
   "metadata": {
    "school_cell_uuid": "ba22efee4632435dbce2b3c4cc46f2e4"
   },
   "source": [
    "[[school_notebook:c5ccddd6716042ee8be3e5436081778b]]"
   ]
  },
  {
   "cell_type": "markdown",
   "metadata": {
    "school_cell_uuid": "995e1e5eef334a328f17f3611517543e"
   },
   "source": [
    "[[school_notebook:465066ac92ef4da3b0aba32f76d9750a]]"
   ]
  },
  {
   "cell_type": "markdown",
   "metadata": {
    "school_cell_uuid": "064ff368289041158fc841846f294b83"
   },
   "source": [
    "[[school_notebook:8959673a97214e8fafdb159f254185e9]]"
   ]
  },
  {
   "cell_type": "markdown",
   "metadata": {
    "school_cell_uuid": "ba2c5db694d04a709c8325b6c5e96ee6"
   },
   "source": [
    "## 2일차: 금융 데이터 수집 및 "
   ]
  },
  {
   "cell_type": "markdown",
   "metadata": {
    "school_cell_uuid": "bb42f19ed3114cb6a24fec842b0d4035"
   },
   "source": [
    "### 데이터 수집"
   ]
  },
  {
   "cell_type": "markdown",
   "metadata": {
    "school_cell_uuid": "cf53819507bb4dab966412dd6a7296d8"
   },
   "source": [
    "[[school_notebook:a0cc408f1c9d4381a4cd7ae7c744b9ac]]"
   ]
  },
  {
   "cell_type": "markdown",
   "metadata": {
    "school_cell_uuid": "29d9bfb77dca40588f888aee33799923"
   },
   "source": [
    "[[school_notebook:bda604756c6c4b89a4814fd8edf52c29]]"
   ]
  },
  {
   "cell_type": "markdown",
   "metadata": {
    "school_cell_uuid": "b23b4944d90246e48226447711840cff"
   },
   "source": [
    "### 파일 입출력"
   ]
  },
  {
   "cell_type": "markdown",
   "metadata": {
    "school_cell_uuid": "9af081442bd94de39e1536392e12ce04"
   },
   "source": [
    "[[school_notebook:bf8582817a714aec944070cf4b3d94ec]]"
   ]
  },
  {
   "cell_type": "markdown",
   "metadata": {
    "school_cell_uuid": "ac67d6afae7441018be22a051f4a374e"
   },
   "source": [
    "### 엑셀 연동"
   ]
  },
  {
   "cell_type": "markdown",
   "metadata": {
    "school_cell_uuid": "867c609e9dbf4e7d8e43c7cd48ec30dd"
   },
   "source": [
    "[[school_notebook:5524dd924b9e4a3399a33b5e70269458]]"
   ]
  },
  {
   "cell_type": "markdown",
   "metadata": {
    "school_cell_uuid": "b58e9b3946614b79a6d8598680fb3f64"
   },
   "source": [
    "### 금융 정보"
   ]
  },
  {
   "cell_type": "markdown",
   "metadata": {
    "school_cell_uuid": "9794f21883e64aae889249b8409cc677"
   },
   "source": [
    "[[school_notebook:54411c71f041487aba00a3ddcd17e5d8]]"
   ]
  },
  {
   "cell_type": "markdown",
   "metadata": {
    "school_cell_uuid": "e2e11e59473847fbbaf04f89b9bf26ab"
   },
   "source": [
    "[[school_notebook:56e80013cd6e44298e6f47d1dc7a55f2]]"
   ]
  },
  {
   "cell_type": "markdown",
   "metadata": {
    "school_cell_uuid": "4e5124458316453f8c63af711c3a81d5"
   },
   "source": [
    "[[school_notebook:adead36729704e7b8660dda3be6a6524]]"
   ]
  },
  {
   "cell_type": "markdown",
   "metadata": {
    "school_cell_uuid": "7328ad6ab17549a593b9888aebbef6c4"
   },
   "source": [
    "### 고급 시각화"
   ]
  },
  {
   "cell_type": "markdown",
   "metadata": {
    "school_cell_uuid": "f0f5f4e31b3d4c1380f992c7bd66bf20"
   },
   "source": [
    "[[school_notebook:4c2d5ff1caab4b21a708cc662137bc65]]"
   ]
  },
  {
   "cell_type": "markdown",
   "metadata": {
    "school_cell_uuid": "1043370354a04820829a889ad4959af7"
   },
   "source": [
    "[[school_notebook:b03af554a1494f159fc94d65d70fe7b2]]"
   ]
  },
  {
   "cell_type": "markdown",
   "metadata": {
    "school_cell_uuid": "420c94c2eb42455fbf14199477300389"
   },
   "source": [
    "### 기술적 분석 및 전략 백테스트"
   ]
  },
  {
   "cell_type": "markdown",
   "metadata": {
    "school_cell_uuid": "bbe395988d154434bd26a7cf3c832727"
   },
   "source": [
    "[[school_notebook:d0959d5ebc2a4c2396a1d23bcea46a2c]]"
   ]
  },
  {
   "cell_type": "markdown",
   "metadata": {
    "school_cell_uuid": "92aab0e5e4f8428297982b651f59dd0d"
   },
   "source": [
    "## 3일차: 금융 분석 어플리케이션"
   ]
  },
  {
   "cell_type": "markdown",
   "metadata": {
    "school_cell_uuid": "9a161d5fdf794894bca4ff42eb120a45"
   },
   "source": [
    "### VaR/CVA 리스크 분석"
   ]
  },
  {
   "cell_type": "markdown",
   "metadata": {
    "school_cell_uuid": "5e83cd08a9bd45c4a821153c34f29b8c"
   },
   "source": [
    "[[school_notebook:3a0145acd31b4ecd9a48b3c308cbcbbf]]"
   ]
  },
  {
   "cell_type": "markdown",
   "metadata": {
    "school_cell_uuid": "bd4f1fa624154f8ab82c703fe2192727"
   },
   "source": [
    "### 포트폴리오 최적화"
   ]
  },
  {
   "cell_type": "markdown",
   "metadata": {
    "school_cell_uuid": "0fb3787e77964a09852eafe4abb6a093"
   },
   "source": [
    "[[school_notebook:4135681c2cf1474684cc63f1303fa6c7]]"
   ]
  },
  {
   "cell_type": "markdown",
   "metadata": {
    "school_cell_uuid": "169ebe8cbccc410ca93d03140a66b99b"
   },
   "source": [
    "### 주성분 분석(PCA)"
   ]
  },
  {
   "cell_type": "markdown",
   "metadata": {
    "school_cell_uuid": "41416d91e62a473f9a5c30039f9d96b2"
   },
   "source": [
    "[[school_notebook:f10aad8a34a4489697933f77c5d58e3a]]"
   ]
  },
  {
   "cell_type": "markdown",
   "metadata": {
    "school_cell_uuid": "b0e1cdfc2f3244feb2f5b16a56abe794"
   },
   "source": [
    "[[school_notebook:996d8538181e41729f7b6464789fa050]]"
   ]
  },
  {
   "cell_type": "markdown",
   "metadata": {
    "school_cell_uuid": "51c549cfe87f4d239c1d20f7b5429e23"
   },
   "source": [
    "### 베이지안 회귀 분석"
   ]
  },
  {
   "cell_type": "markdown",
   "metadata": {
    "school_cell_uuid": "6a1b017e5ec74542b83c7bfe291d947c"
   },
   "source": [
    "[[school_notebook:840c925556d84f618f96ba394313a45d]]"
   ]
  }
 ],
 "metadata": {
  "celltoolbar": "Edit Metadata",
  "kernelspec": {
   "display_name": "PyTorch",
   "language": "python",
   "name": "pytorch_env"
  },
  "language_info": {
   "codemirror_mode": {
    "name": "ipython",
    "version": 3
   },
   "file_extension": ".py",
   "mimetype": "text/x-python",
   "name": "python",
   "nbconvert_exporter": "python",
   "pygments_lexer": "ipython3",
   "version": "3.7.1"
  }
 },
 "nbformat": 4,
 "nbformat_minor": 1
}
