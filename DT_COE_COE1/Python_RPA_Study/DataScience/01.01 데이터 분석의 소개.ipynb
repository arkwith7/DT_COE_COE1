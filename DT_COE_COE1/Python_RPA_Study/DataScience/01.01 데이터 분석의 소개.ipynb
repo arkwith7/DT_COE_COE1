{
 "cells": [
  {
   "cell_type": "markdown",
   "metadata": {
    "school_cell_uuid": "ee014ddb5c2c4270b561568bf8c93dab"
   },
   "source": [
    "## 1.1 데이터 분석의 소개"
   ]
  },
  {
   "cell_type": "markdown",
   "metadata": {
    "school_cell_uuid": "fc9767b5a960419a8492feaf8ddd2567"
   },
   "source": [
    "### 데이터 분석이란"
   ]
  },
  {
   "cell_type": "markdown",
   "metadata": {
    "school_cell_uuid": "5ac737fb7d3e462981869a1941d6313b"
   },
   "source": [
    "데이터 분석이란 어떤 데이터가 주어졌을 때,\n",
    "\n",
    "* 데이터 간의 관계를 파악하거나\n",
    "* 파악된 관계를 사용하여 우리가 원하는 새로운 (출력) 데이터를 만들어 내는 과정\n",
    "\n",
    "으로 볼 수 있다.\n",
    "\n",
    "데이터 분석도 분석 목적에 따라 \"예측(prediction)\", \"클러스터링(clustering)\", \"모사(approximation)\" 등 다양한 문제가 있다. 여기에서는 가장 널리 사용되는 예측 문제를 살펴본다."
   ]
  },
  {
   "cell_type": "markdown",
   "metadata": {
    "school_cell_uuid": "88be9a79427643e589360e118074a3e3"
   },
   "source": [
    "### 예측"
   ]
  },
  {
   "cell_type": "markdown",
   "metadata": {
    "school_cell_uuid": "0fe231bf47e542f0ae1e75714de13159"
   },
   "source": [
    "**예측(prediction)**은 데이터 분석 작업 중 가장 많이 사용되는 유형 중 하나이다. 예측이란 숫자, 문서, 이미지, 음성, 영상 등의 여러 가지 입력 데이터를 주면, 데이터 분석의 결과로 다른 데이터를 출력하는 분석 방법이다. "
   ]
  },
  {
   "cell_type": "markdown",
   "metadata": {
    "hidden": "input",
    "school_cell_uuid": "bffa615f1364417e87b8942680edca95"
   },
   "source": [
    "<img src=\"https://datascienceschool.net/upfiles/b6944b4cd92d4e5d8ded348a549e853f.png\" style=\"width: 100%;\">"
   ]
  },
  {
   "cell_type": "markdown",
   "metadata": {
    "school_cell_uuid": "a5ad3a5a8e6246dba63771218c6adb8c",
    "sidetitle": true
   },
   "source": [
    "그림 1.1.1 : 예측 모형"
   ]
  },
  {
   "cell_type": "markdown",
   "metadata": {
    "school_cell_uuid": "c1d9a6b3272f4078aad42627061ca622"
   },
   "source": [
    "예를 들어 다음과 같은 작업은 예측이라고 할 수 있다. \n",
    "\n",
    "* 부동산의 위치, 주거환경, 건축연도 등을 주면 해당 부동산의 가치를 추정한다.\n",
    "* 꽃잎의 길이와 너비 등 식물의 외형적 특징을 주면 해당하는 식물의 종을 알아낸다.\n",
    "* 얼굴 사진을 주면 해당하는 사람의 이름을 출력한다.\n",
    "* 현재 바둑돌의 위치들을 주면 다음 바둑돌의 위치를 지정한다.\n",
    "\n",
    "데이터 분석에서 말하는 예측이라는 용어는 시간상으로 미래의 의미는 포함하지 않는다. 시계열 분석에서는 시간상으로 미래의 데이터를 예측하는 경우가 있는데 이 때는 미래예측(forecasting) 이라는 용어를 사용한다."
   ]
  },
  {
   "cell_type": "markdown",
   "metadata": {
    "bootstrap": {
     "panel": {
      "class": "panel-default"
     }
    },
    "school_cell_uuid": "c3de8d2b2c51423b85eaad7ed29f5a6e"
   },
   "source": [
    "#### 연습 문제 1.1.1\n",
    "\n",
    "예측 문제로 풀 수 있는 데이터 분석의 예를 3가지 생각해 보자."
   ]
  },
  {
   "cell_type": "markdown",
   "metadata": {
    "school_cell_uuid": "987118ef33a64e53973e35201be25f37"
   },
   "source": [
    "### 입력 데이터와 출력 데이터"
   ]
  },
  {
   "cell_type": "markdown",
   "metadata": {
    "school_cell_uuid": "601aef3db91643a99b1a261b28a2fd62"
   },
   "source": [
    "예측 문제에서는 데이터의 유형을 **입력 데이터(input data)**와 **출력 데이터(output data)**라는 두 가지 유형의 데이터로 분류할 수 있어야 한다.\n",
    "\n",
    "입력 데이터는 분석의 기반이 되는 데이터로 보통 알파벳 $X$로 표기한다. 다른 말로 독립변수(independent variable), 특징(feature), 설명변수(explanatory variable) 등의 용어를 쓰기도 한다.\n",
    "\n",
    "출력 데이터는 추정하거나 예측하고자 하는 목적 데이터를 말한다. 보통 알파벳 $Y$로 표기하며, 다른 말로 종속변수(dependent variable)라고 부른다. 종속변수가 뒤에서 설명할 카테고리값이면 라벨(label) 또는 클래스(class)라고 하기도 한다.\n",
    "\n",
    "입력 데이터와 출력 데이터를 정확히 파악하는 것은 예측 문제를 구체화하는 첫 번째 단계이다.  특히 예측 성능은 이러한 입출력 데이터의 숫자와 종류에 크게 의존하기 때문에 정확히 어떠한 값을 가지는 입력을 몇 개 사용하겠다는 문제 정의가 예측 문제를 해결하는 데 가장 중요한 부분이 될 수도 있다."
   ]
  },
  {
   "cell_type": "markdown",
   "metadata": {
    "bootstrap": {
     "panel": {
      "class": "panel-default"
     }
    },
    "school_cell_uuid": "7c5057e5afe447f58fb6710acb2c191b"
   },
   "source": [
    "#### 연습 문제 1.1.2\n",
    "\n",
    "연습 문제 1.1.1에서 생각한 3가지 예측 문제의 입력과 출력을 보다 정확하게 정의해 보자. 중요한 점은 다음과 같다.\n",
    "\n",
    "1.  \"~등\", \"같은 것\"이란 용어를 사용하지 않고 정확히 입출력 데이터의 개수를 정해야 한다.\n",
    "2. 입력이나 출력 데이터값의 숫자 예를 제시하면 더욱 좋다. 예를 들어, 부동산 가격을 예측하기 위해 면적을 입력 데이터로 사용하기로 했다면, \"40 제곱미터\" 혹은 \"80 제곱미터\"와 같이 실제로 어떤 숫자를 입력데이터로 사용할지 예를 든다."
   ]
  },
  {
   "cell_type": "markdown",
   "metadata": {
    "school_cell_uuid": "f0791bf1866b4c90ac71323d89182c45"
   },
   "source": [
    "### 규칙기반 방법과 학습기반 방법"
   ]
  },
  {
   "cell_type": "markdown",
   "metadata": {
    "school_cell_uuid": "8dc240c049184b3a8a95e0fc98ef8e04"
   },
   "source": [
    "그럼 이런 예측 문제를 풀려면 어떤 방법을 써야 할까? 예측을 하기 위한 방법론으로는 규칙기반(rule-based) 방법과 학습기반(traing-based) 또는 데이터기반(data-based) 방법이라는 두 가지 방법이 사용된다. \n",
    "\n",
    "규칙기반 방법은 어떤 입력이 들어오면 어떤 출력이 나오는지를 결정하는 규칙이나 알고리즘을 사람이 미리 만들어 놓는 방법이다. \n",
    "학습기반 방법 또는 데이터기반 방법은 이러한 규칙을 사람이 만드는 것이 아니라, 대량의 데이터를 컴퓨터에 보여줌으로써 스스로 규칙을 만들게 하는 방법이다. 여기에서는 규칙기반 방법은 다루지 않으며 학습기반 방법만을 다루도록 한다.\n",
    "\n",
    "예를 들어 개를 찍은 사진을 입력하면 \"개\"라고 출력하고, 고양이를 찍은 사진을 입력하면 \"고양이\"라고 출력하는 예측 시스템을 만든다고 가정해 보자. \n",
    "\n",
    "규칙기반 방법을 사용하면 사진에서 눈 모양을 찾아내는 알고리즘을 넣고 눈동자가 세로 방향으로 길면 고양이이고, 아니면 개라고 출력하는 규칙을 넣을 수 있다. 이렇게 사람이 세부적인 규칙을 알려주는 방법이 규칙기반 방법이다. 또한 번역의 예를 들면, 특정한 영어 단어가 어떤 의미로 번역되는지를 어떤 품사를 가지는지를 알려주는 사전(dictionary)도 규칙 집합으로 볼 수 있고, 이러한 규칙을 조합하여 영어 문장을 한국어 문장으로 번역할 수 있다.\n",
    "\n",
    "이와 대조적으로 학습기반 방법은 이러한 규칙을 알려주지 않는 대신 많은 데이터를 주고 스스로 규칙을 찾도록 한다. 앞서 말한 고양이와 개의 구분 문제에서는 개와 고양이를 찍은 사진을 주고 스스로 적합한 규칙을 찾도록 하며, 영어를 한국어로 번역하는 문제에서는 수많은 영어 문장과 이에 대응하는 한국어 문장을 주고 스스로 번역 방법을 찾도록 한다."
   ]
  },
  {
   "cell_type": "markdown",
   "metadata": {
    "bootstrap": {
     "panel": {
      "class": "panel-default"
     }
    },
    "school_cell_uuid": "19877356292b49c58a60f8b4e75d651d"
   },
   "source": [
    "#### 연습 문제 1.1.3\n",
    "\n",
    "연습 문제 1.1.1과 1.1.2에서 생각한 3가지 예측 문제에 대해 규칙기반의 해결 방법을 생각해보자. 정확한 답이 아니어도 괜찮다."
   ]
  },
  {
   "cell_type": "markdown",
   "metadata": {
    "school_cell_uuid": "8198e06a46a54c7eb7a0b70281b4067c"
   },
   "source": [
    "### 지도학습"
   ]
  },
  {
   "cell_type": "markdown",
   "metadata": {
    "school_cell_uuid": "b36fecb52102421e96ddf9c3ab15b647"
   },
   "source": [
    "학습기반 예측 방법론을 사용하려면 학습용 데이터 집합(training data set)을 사람이 만들어 주어야 한다. **학습용 데이터 집합**은 입력값과 목푯값(정답)을 쌍으로 가지는 표본 데이터의 집합이다. 이는 학습시키고자 하는 예측 시스템이 최종적으로 동작하기를 바라는 모습을 표현한 데이터 집합이라고 볼 수 있다. \n",
    "\n",
    "예를 들어 개를 찍은 사진을 입력하면 \"개\"라고 출력하고, 고양이를 찍은 사진을 입력하면 \"고양이\"라고 출력하는 예측 시스템을 만들고 싶다면 개를 찍은 사진과 고양이를 찍은 사진을 준비해서 다음과 같이 학습용 데이터 집합을 만들어야 한다."
   ]
  },
  {
   "cell_type": "markdown",
   "metadata": {
    "school_cell_uuid": "b7a03586323c45f0904fd00023869b11"
   },
   "source": [
    "<img src=\"https://datascienceschool.net/upfiles/0f341fa491fc47589099cc31fee50ca8.png\" style=\"width: 100%;\">"
   ]
  },
  {
   "cell_type": "markdown",
   "metadata": {
    "school_cell_uuid": "286df587e3564944b1c15f301b4c55d5",
    "sidetitle": true
   },
   "source": [
    "그림 1.1.2 학습용 데이터 예"
   ]
  },
  {
   "cell_type": "markdown",
   "metadata": {
    "school_cell_uuid": "fdf8278bc6c647419a0194b16069828d"
   },
   "source": [
    "각각의 사진에 \"개\" 혹은 \"고양이\"라는 출력 데이터(목표)값을 붙이는 작업은 당연히 사람이 수동으로 해야 한다. 그래서 이러한 방법을 **지도학습(supervised learning)** 방법이라고 한다.\n",
    "\n",
    "비유를 들자면 학습용 데이터 집합이란 정답이 표시된 수백 개의 문제를 모아놓은 문제집과 같고, 지도학습이란 이 문제집을 컴퓨터에 주고 학습시키는 것과 같다. 컴퓨터는 이 수백 개의 문제를 나름의 풀이방법으로 스스로 풀어본 다음, 정답을 이용하여 얼마나 맞았는지를 채점한다. 그런 다음 풀이방법을 스스로 조금씩 바꾸어 보면서 풀이와 채점을 반복한다. 이 과정을 반복하는 것이 지도학습이다. 따라서 지도학습이 얼마나 잘 되는가는 학습용 데이터의 양과 질에 크게 의존한다.\n",
    "\n",
    "학습용 데이터 집합에 붙어있는 출력 데이터, 즉 정답을 **목푯값(target)**이라고 한다. 지도학습의 목표는 주어진 목푯값과 최대한 비슷한 값을 출력하는 예측 방법을 찾아내는 것이다. 만약 입력데이터만 있고 이에 대응하는 목푯값이 없다면 각 입력데이터에 대해 사람이 원하는 목표값을 붙어 주어야 한다. 이러한 작업을 **레이블링(labelling)**이라고 한다. 데이터의 양이 많고 복잡한 시스템을 만드는 경우에는 목푯값을 만드는 일, 즉 학습데이터를 만드는 일이 현실적으로 상당히 어려운 일이 될 수도 있다."
   ]
  },
  {
   "cell_type": "markdown",
   "metadata": {
    "hidden": "input",
    "school_cell_uuid": "7e9382507c1f44719f5e3b028f4e3bb4"
   },
   "source": [
    "<img src=\"https://datascienceschool.net/upfiles/93a687a688cc4dc18d4ea2fcfc048ed3.png\" style=\"width: 100%;\">"
   ]
  },
  {
   "cell_type": "markdown",
   "metadata": {
    "school_cell_uuid": "d4cd83c83f544bdab20ba26766f0758b",
    "sidetitle": true
   },
   "source": [
    "그림 1.1.3 : 지도학습의 원리"
   ]
  },
  {
   "cell_type": "markdown",
   "metadata": {
    "school_cell_uuid": "c08dc4c373fc4b759574c0fb4227fb4e"
   },
   "source": [
    "### 이미지넷"
   ]
  },
  {
   "cell_type": "markdown",
   "metadata": {
    "school_cell_uuid": "88b589d64faa49ac89bbaf0a033ea7e2"
   },
   "source": [
    "이미지넷(ImageNet)은 페이페이 리(Fei-Fei Li) 교수가 이끄는 인공지능 팀이 만들어 2009년에 공개한 학습용 데이터셋이다. 320만장 이상의 이미지를 5,247개의 카테고리로 분류하였다. 이 작업은 아마존 미케니컬 터크(Amazon Mechanical Turk)라는 서비스를 통해 레이블링하였는데 이 서비스는 인터넷을 통해 전 세계에의 원하는 사람에게 간단한 작업을 지시하고 보수를 주는 시스템이다. 즉 인터넷을 통해 전 세계의 저비용 노동력을 사용하긴 했지만 결국 사람이 하나하나 이미지를 보면서 올바른 카테고리를 붙이는 작업을 한 것이다. \n",
    "\n",
    "이미지넷 시스템을 공개한 후 이를 기반으로 ILSVRC(ImageNet Large Scale Visual Recognition Challenge)라는 이미지 인식 경연대회가 열렸다. 2010년에 열린 첫번째 대회의 목표는 1000개의 카테고리를 가지는 120만장의 이미지를 학습데이터로 사용하고 20만장의 테스트 데이터를 이용하여 학습성능을 확인하는 것이었다. 이 대회를 통해 AlexNet 등의 딥러닝 시스템의 우수성이 알려지기 시작하여 새로운 머신러닝의 시대가 열리게 되었다. \n",
    "\n",
    "보다 자세한 내용은 온라인 미디어 쿼츠(Quartz)의 기사를 참조하라( https://qz.com/1034972/the-data-that-changed-the-direction-of-ai-research-and-possibly-the-world/ )."
   ]
  },
  {
   "cell_type": "markdown",
   "metadata": {
    "bootstrap": {
     "panel": {
      "class": "panel-default"
     }
    },
    "school_cell_uuid": "58c30a6fb1d54a9ab5111c5d4ab8a2ec"
   },
   "source": [
    "#### 연습 문제 1.1.4\n",
    "\n",
    "지금까지 생각한 3가지 예측 문제에 대해 학습용 데이터 집합을 만들어본다. 학습용 데이터 집합의 크기는 최소한 각 문제에 대해 10개 이상 만들어보자."
   ]
  },
  {
   "cell_type": "markdown",
   "metadata": {
    "bootstrap": {
     "panel": {
      "class": "panel-default"
     }
    },
    "school_cell_uuid": "58c30a6fb1d54a9ab5111c5d4ab8a2ec"
   },
   "source": [
    "#### 연습 문제 1.1.5\n",
    "\n",
    "어떤 데이터 사이언티스트가 많은 문서를 자동으로 몇가지 카테고리로 분류할 수 있는 기능을 만들고 싶어한다. 즉 문서를 입력 데이터로 넣으면 해당하는 카테고리가 출력 데이터로 나오기를 원한다. 그녀는 이러한 기능을 지도학습을 이용하여 만들기로 결정했는데 지도학습을 사용하려면 이미 출력 데이터가 붙어 있는, 즉 이미 분류가 되어 있는 학습데이터가 있어야 한다는 것을 알게 되었다. 이러한 레이블링 작업이 어렵기 때문에 한가지 꼼수를 생각해 내었는데 그 방법은 다음과 같다. 우선 문서에 포함된 단어 등을 보고 문서의 카테고리를 유추하는 간단한 규칙기반 시스템을 만든다. 이를 사용하여 입력데이터의 목푯값을 자동으로 레이블링하고 이 데이터를 학습데이터로 사용하여 지도학습을 하는 방법이다. \n",
    "\n",
    "이 접근법의 문제점은 무엇인가? 만약 지도학습이 성공한다면 그 시스템의 성능은 레이블링을 위해 만든 규칙기반 시스템과 어떻게 다른가?"
   ]
  },
  {
   "cell_type": "markdown",
   "metadata": {
    "school_cell_uuid": "3b24a47f4fc34b6cbd03895249ebb024"
   },
   "source": [
    "### 전처리와 인코딩"
   ]
  },
  {
   "cell_type": "markdown",
   "metadata": {
    "school_cell_uuid": "7c6060c3806c4e3b87048a2c98458603"
   },
   "source": [
    "앞에서 숫자, 문서, 이미지, 음성, 영상 등의 여러 가지 데이터를 처리하는 것을 예시로 들었지만, 안타깝게도 현재 기술상 컴퓨터가 직접 처리할 수 있는 데이터는 사실 숫자(number)밖에 없다. 그렇다면 문서나 이미지와 같은 데이터는 어떻게 처리하는 것일까? 데이터 분석에서는 **전처리(preprocessing)** 또는 **인코딩(encoding)**이라는 과정을 통해 문서나 이미지와 같은 현실의 데이터를 컴퓨터가 처리할 수 있는 숫자 데이터로 바꾸어야 한다. 따라서 실제 예측 모형은 사실 다음과 같은 형태가 된다."
   ]
  },
  {
   "cell_type": "markdown",
   "metadata": {
    "hidden": "input",
    "school_cell_uuid": "ac4e509e647a4c2c9808414a58a66e0b"
   },
   "source": [
    "<img src=\"https://datascienceschool.net/upfiles/00bfe18acded4a0ba922aa6324746060.png\" style=\"width: 100%;\">"
   ]
  },
  {
   "cell_type": "markdown",
   "metadata": {
    "school_cell_uuid": "e9dfacdff9fd45a19c5c6b03d6983090",
    "sidetitle": true
   },
   "source": [
    "그림 1.1.4 : 전처리/인코딩이 포함된 예측 모형"
   ]
  },
  {
   "cell_type": "markdown",
   "metadata": {
    "school_cell_uuid": "8ba335e94dd641d790975012d17804a7"
   },
   "source": [
    "전처리는 단순히 비정형 데이터를 숫자로 바꾸는 것만 의미하는 것이 아니다. 전체 입력 정보 중 실제로 출력 데이터의 결정에 영향을 미칠만한 핵심 정보를 선택하거나 복수의 입력 데이터를 조합하여 새로운 입력 데이터를 만드는 것도 전처리의 중요한 역할이다. 전처리 과정은 최종 예측 성능에 커다란 영향을 끼친다."
   ]
  },
  {
   "cell_type": "markdown",
   "metadata": {
    "bootstrap": {
     "panel": {
      "class": "panel-default"
     }
    },
    "school_cell_uuid": "f2cb8d97669c4a059a0800df23b4f3b2"
   },
   "source": [
    "#### 연습 문제 1.1.6\n",
    "\n",
    "지금까지 생각한 예측 문제의 입력 데이터 중 전처리 혹은 인코딩이 필요한 것이 어떤 것인지 확인하고 어떻게 숫자로 바꿀 수 있을지  그 방법을 생각해 보자."
   ]
  },
  {
   "cell_type": "markdown",
   "metadata": {
    "school_cell_uuid": "caf4e2850afd411884e35fccd7279714"
   },
   "source": [
    "### 인코딩의 예: 이미지 데이터"
   ]
  },
  {
   "cell_type": "markdown",
   "metadata": {
    "school_cell_uuid": "271cb6ac3075465a9813eda067cd7868"
   },
   "source": [
    "실제로 이미지 데이터는 어떻게 숫자로 바뀌는지를 살펴보자. 다음 데이터는 \"MNIST handwritten digit image\"라는 표본 데이터 중 하나이다. 이 데이터는 손글씨를 영상으로 나타낸 것으로 다음 그림은 숫자 0을 손으로 쓴 후 카메라로 찍어 8x8의 저해상도 이미지로 저장한 것이다.\n",
    "\n",
    "여기에 나오는 모든 코드는 https://hub.docker.com/r/datascienceschool/rpython/ 에서 제공하는 도커 컨테이너 상에서 바로 실행할 수 있다. 자세한 내용은 2 장에서 다루도록 한다."
   ]
  },
  {
   "cell_type": "markdown",
   "metadata": {
    "school_cell_uuid": "5e838328382f4dd09df88ceed27b8d1d",
    "sidetitle": true
   },
   "source": [
    "MNIST handwritten digit 데이터중 첫번째 이미지 출력"
   ]
  },
  {
   "cell_type": "code",
   "execution_count": 1,
   "metadata": {
    "school_cell_uuid": "9f6ff108391642edbf8c82694013630e"
   },
   "outputs": [
    {
     "data": {
      "image/png": "[encoded data removed]",
      "text/plain": [
       "<Figure size 432x288 with 2 Axes>"
      ]
     },
     "metadata": {
      "needs_background": "light"
     },
     "output_type": "display_data"
    }
   ],
   "source": [
    "# 그래프를 노트북 안에 그리기 위해 설정\n",
    "%matplotlib inline\n",
    "\n",
    "from sklearn.datasets import load_digits\n",
    "import matplotlib as mpl\n",
    "import matplotlib.pyplot as plt\n",
    "import matplotlib.font_manager as fm\n",
    "import seaborn as sns\n",
    "\n",
    "digits = load_digits()\n",
    "sns.heatmap(digits.images[0], cmap=mpl.cm.bone_r, annot=True, fmt=\"2.0f\",\n",
    "            cbar=True, xticklabels=False, yticklabels=False)\n",
    "\n",
    "# fname 옵션을 사용하는 방법\n",
    "path = 'C:\\\\Users\\\\ME\\\\AppData\\\\Local\\\\Microsoft\\\\Windows\\\\Fonts\\\\NanumSquareB.ttf'\n",
    "fontprop = fm.FontProperties(fname=path, size=18)\n",
    "\n",
    "plt.title(\"MNIST 숫자 이미지 표본\", fontproperties=fontprop)\n",
    "plt.show()"
   ]
  },
  {
   "cell_type": "markdown",
   "metadata": {
    "school_cell_uuid": "874d24c43be0411392d0626746e144ea"
   },
   "source": [
    "이 이미지는 다음과 같은 8x8 행렬에 명도를 나타내는 숫자로 저장된다. 0은 백색이고 15가 가장 진한 색을 뜻한다."
   ]
  },
  {
   "cell_type": "code",
   "execution_count": 2,
   "metadata": {
    "school_cell_uuid": "2058ce66412b49f882bd665bfc4a0181"
   },
   "outputs": [
    {
     "data": {
      "text/plain": [
       "array([[ 0.,  0.,  5., 13.,  9.,  1.,  0.,  0.],\n",
       "       [ 0.,  0., 13., 15., 10., 15.,  5.,  0.],\n",
       "       [ 0.,  3., 15.,  2.,  0., 11.,  8.,  0.],\n",
       "       [ 0.,  4., 12.,  0.,  0.,  8.,  8.,  0.],\n",
       "       [ 0.,  5.,  8.,  0.,  0.,  9.,  8.,  0.],\n",
       "       [ 0.,  4., 11.,  0.,  1., 12.,  7.,  0.],\n",
       "       [ 0.,  2., 14.,  5., 10., 12.,  0.,  0.],\n",
       "       [ 0.,  0.,  6., 13., 10.,  0.,  0.,  0.]])"
      ]
     },
     "execution_count": 2,
     "metadata": {},
     "output_type": "execute_result"
    }
   ],
   "source": [
    "digits.images[0]"
   ]
  },
  {
   "cell_type": "markdown",
   "metadata": {
    "school_cell_uuid": "e93acd8d7fe8419a8b9e4f7f8934d953"
   },
   "source": [
    "그리고 이 이미지 데이터는 다음과 같은 64-길이의 숫자 벡터로 바뀌어 예측 모형에 입력된다."
   ]
  },
  {
   "cell_type": "code",
   "execution_count": 3,
   "metadata": {
    "school_cell_uuid": "791f9cc4125742ec97935b7ce96d3f01"
   },
   "outputs": [
    {
     "data": {
      "text/plain": [
       "array([ 0.,  0.,  5., 13.,  9.,  1.,  0.,  0.,  0.,  0., 13., 15., 10.,\n",
       "       15.,  5.,  0.,  0.,  3., 15.,  2.,  0., 11.,  8.,  0.,  0.,  4.,\n",
       "       12.,  0.,  0.,  8.,  8.,  0.,  0.,  5.,  8.,  0.,  0.,  9.,  8.,\n",
       "        0.,  0.,  4., 11.,  0.,  1., 12.,  7.,  0.,  0.,  2., 14.,  5.,\n",
       "       10., 12.,  0.,  0.,  0.,  0.,  6., 13., 10.,  0.,  0.,  0.])"
      ]
     },
     "execution_count": 3,
     "metadata": {},
     "output_type": "execute_result"
    }
   ],
   "source": [
    "digits.images[0].flatten()"
   ]
  },
  {
   "cell_type": "markdown",
   "metadata": {
    "hidden": "input",
    "school_cell_uuid": "837ac0f4507941e09123827e0cca5586"
   },
   "source": [
    "<img src=\"https://datascienceschool.net/upfiles/cb473c63522e44cea2bc80de0b0ed641.png\" style=\"width: 100%;\">"
   ]
  },
  {
   "cell_type": "markdown",
   "metadata": {
    "school_cell_uuid": "bb27949c152e47328d1f156ad5953b66",
    "sidetitle": true
   },
   "source": [
    "그림 1.1.5 : 이미지를 입력으로 가지는 예측 모형의 예"
   ]
  },
  {
   "cell_type": "markdown",
   "metadata": {
    "school_cell_uuid": "937da9e0220d4c8f9c6eb997d0455e33"
   },
   "source": [
    "### 입력 차원"
   ]
  },
  {
   "cell_type": "markdown",
   "metadata": {
    "school_cell_uuid": "023343a416104c39b7d3910b3509b1f2"
   },
   "source": [
    "앞에서 다룬 모형에서 중요한 점은 입력의 개수 즉, 숫자 벡터의 크기이다. 이를 **입력 차원(input dimension)**이라고 부르는데 일반적으로 입력 차원은 일단 정해지면 바꿀 수 없고 고정되어야 한다. \n",
    "\n",
    "즉, 앞의 예제와 같이 64개의 숫자 입력을 가지는 경우, 다시 말해서 입력 차원이 64인 예측 시스템을 만들었다면 이 모형에는 128개의 숫자 입력은 적용할 수 없다. 따라서 해상도가 128차원인 이미지를 입력 데이터로 써서 예측하려면 여기에 맞는 128차원 입력 예측 모형을 처음부터 새로 만들든지, 아니면 128차원 데이터를 어떤 방법으로든 64차원으로 줄이는 방법밖에 없다."
   ]
  },
  {
   "cell_type": "markdown",
   "metadata": {
    "school_cell_uuid": "caf4e2850afd411884e35fccd7279714"
   },
   "source": [
    "### 인코딩의 다른 예 : 문서 데이터"
   ]
  },
  {
   "cell_type": "markdown",
   "metadata": {
    "school_cell_uuid": "f66d617b08684813878df44f4e8cd0da"
   },
   "source": [
    "그럼 문서 데이터는 어떻게 인코딩하여 숫자로 변환할까? 문서 데이터를 숫자로 변환할 때 가장 어려운 점은 영상과 달리 크기가 제각각이라는 점이다. 즉, 5개 단어로 이루어진 한 문장으로 된 문서도 있고, 수천 개의 단어로 이루어진 장문의 문서도 있는데 이것을 같은 크기의 숫자로 바꾸어야 한다."
   ]
  },
  {
   "cell_type": "markdown",
   "metadata": {
    "school_cell_uuid": "671c8c7a3dd44d678426634273bbb88c"
   },
   "source": [
    "이러한 문서 데이터를 고정된 크기의 숫자 벡터로 바꾸는 방법 중 가장 널리 쓰이는 것은 **'BOW(Bag of Words)'**라는 방법이다. 이 방법은 문서를 이루는 단어의 순서, 의미 등의 정보를 모두 무시하고 오로지 특정한 단어가 문서에 몇 번 나왔는지만 세어 그 빈도를 벡터로 표시하는 방법이다.\n",
    "\n",
    "예를 들어 대부분의 문서가 10,000개의 단어 중 일부로 구성되어 있다면, 각 단어에 1부터 10,000이라는 번호를 붙인다. 이를 단어장(vovaulary)이라고 한다. 그리고 어떤 하나의 문서를 하나의 숫자 벡터로 바꾸려면 해당 문서에 1번 단어가 한 번 나오면 숫자 벡터의 첫번째 원소값이 1이 되고, 2번 단어가 한 번도 나오지 않는다면 숫자 벡터의 두 번째 원소값이 0이 된다. 이러한 방식으로 어떤 길이를 가지는 문서든 10,000개의 길이를 가지는 숫자 벡터로 바꿀 수 있다."
   ]
  },
  {
   "cell_type": "markdown",
   "metadata": {
    "school_cell_uuid": "d4d3fcf39ee341f786161dd366fec363"
   },
   "source": [
    "다음 예제는 \"20 newsgroups\" 라고 불리는 문서 표본 데이터의 하나이다. 여기에서 첫번째 데이터(문서)는 다음과 같다."
   ]
  },
  {
   "cell_type": "markdown",
   "metadata": {
    "school_cell_uuid": "370ad90ccf544b70ae7edb6e5f432beb",
    "sidetitle": true
   },
   "source": [
    "20 newsgroups 데이터중 첫번째 문서 출력"
   ]
  },
  {
   "cell_type": "code",
   "execution_count": 4,
   "metadata": {
    "school_cell_uuid": "d773d9b0111648b09fad94210ba22fa5"
   },
   "outputs": [
    {
     "name": "stderr",
     "output_type": "stream",
     "text": [
      "Downloading 20news dataset. This may take a few minutes.\n",
      "Downloading dataset from https://ndownloader.figshare.com/files/5975967 (14 MB)\n"
     ]
    },
    {
     "name": "stdout",
     "output_type": "stream",
     "text": [
      "입력:\n",
      " From: lerxst@wam.umd.edu (where's my thing)\n",
      "Subject: WHAT car is this!?\n",
      "Nntp-Posting-Host: rac3.wam.umd.edu\n",
      "Organization: University of Maryland, College Park\n",
      "Lines: 15\n",
      "\n",
      " I was wondering if anyone out there could enlighten me on this car I saw\n",
      "the other day. It was a 2-door sports car, looked to be from the late 60s/\n",
      "early 70s. It was called a Bricklin. The doors were really small. In addition,\n",
      "the front bumper was separate from the rest of the body. This is \n",
      "all I know. If anyone can tellme a model name, engine specs, years\n",
      "of production, where this car is made, history, or whatever info you\n",
      "have on this funky looking car, please e-mail.\n",
      "\n",
      "Thanks,\n",
      "- IL\n",
      "   ---- brought to you by your neighborhood Lerxst ----\n",
      "\n",
      "\n",
      "\n",
      "\n",
      "\n",
      "출력:\n",
      " rec.autos\n"
     ]
    }
   ],
   "source": [
    "from sklearn.datasets import fetch_20newsgroups\n",
    "\n",
    "news = fetch_20newsgroups()\n",
    "print(\"입력:\\n\", news.data[0])\n",
    "print(\"출력:\\n\", news.target_names[news.target[0]])"
   ]
  },
  {
   "cell_type": "markdown",
   "metadata": {
    "school_cell_uuid": "61857a4fa36a43d5ae0284d42ea254cb"
   },
   "source": [
    "이 문서중 100개를 위에서 설명한 BOW 인코딩을 하면 6,288개의 단어장을 가지는 행렬로 바꿀 수 있다."
   ]
  },
  {
   "cell_type": "markdown",
   "metadata": {
    "school_cell_uuid": "3fc9b86ef9974b3b9153d66c9ee11140",
    "sidetitle": true
   },
   "source": [
    "20 newsgroups 문서 데이터를 숫자 벡터로 변환"
   ]
  },
  {
   "cell_type": "code",
   "execution_count": 5,
   "metadata": {
    "school_cell_uuid": "ed82670bbc87401885b304c011f5c371"
   },
   "outputs": [
    {
     "data": {
      "text/plain": [
       "(100, 6288)"
      ]
     },
     "execution_count": 5,
     "metadata": {},
     "output_type": "execute_result"
    }
   ],
   "source": [
    "from sklearn.feature_extraction.text import CountVectorizer\n",
    "\n",
    "vec = CountVectorizer(stop_words=\"english\").fit(news.data[:100])\n",
    "data = vec.transform(news.data[:100])\n",
    "data.shape"
   ]
  },
  {
   "cell_type": "markdown",
   "metadata": {
    "school_cell_uuid": "820d8d0d3a7f490fb23aaa3c271824cd"
   },
   "source": [
    "사실 하나의 문서는  6288개의 단어 중 일부 단어만으로 이루어지므로 숫자 벡터의 대부분은 0이 된다. 앞에서 말한 이미지 인코딩 방법을 반대로 적용하여 이 행렬을 이미지로 바꾸면 다음과 같다. 여기에서는 전체 행렬 중 일부(50개의 문서와 100번째 단어까지)만을 이미지로 바꾸었다. 이 이미지에서 하나의 행(row)은 하나의 문서를 뜻하고, 까만 점으로 나타나는 부분이 특정한 단어가 그 문서안에 포함된 단어를 의미한다."
   ]
  },
  {
   "cell_type": "code",
   "execution_count": null,
   "metadata": {
    "collapsed": true,
    "school_cell_uuid": "c3051200071b4cbd8466a7523bc8c7bd"
   },
   "outputs": [],
   "source": [
    "sns.heatmap(data.toarray()[:50, :100], cmap=mpl.cm.bone_r,\n",
    "            linewidths=0.001, linecolor='gray', cbar=False,\n",
    "            xticklabels=False, yticklabels=False)\n",
    "plt.xlabel(\"단어\")\n",
    "plt.ylabel(\"문서\")\n",
    "plt.title(\"BOW(Bag of Words) 인코딩 결과 시각화\")\n",
    "plt.show()"
   ]
  },
  {
   "cell_type": "markdown",
   "metadata": {
    "school_cell_uuid": "dbfa789f89ca4c5989085aa33ea0de6f"
   },
   "source": [
    "물론 문서 데이터를 숫자로 변환하는 방법은 여기에서 설명한 BOW 외에도 다양하다. 위의 설명은 문서 데이터도 결국은 숫자로 바꾸어야지만 컴퓨터에서 처리할 수 있다는 것을 보여주기위한 한 예일 뿐이다."
   ]
  },
  {
   "cell_type": "markdown",
   "metadata": {
    "school_cell_uuid": "3b24a47f4fc34b6cbd03895249ebb024"
   },
   "source": [
    "### 카테고리값"
   ]
  },
  {
   "cell_type": "markdown",
   "metadata": {
    "school_cell_uuid": "957c9e761f5d4cfda5957670e93de44b"
   },
   "source": [
    "앞에서 컴퓨터가 다룰 수 있는 데이터는 숫자 데이터 뿐이라고 했는데 사실은 한가지 종류의 데이터를 더 다룰 수 있다. 바로 **카테고리(category)값** 또는 **범주형 값**이라고 부르는 데이터이다."
   ]
  },
  {
   "cell_type": "markdown",
   "metadata": {
    "school_cell_uuid": "fea2684c87674930a72f9644a401ebbb"
   },
   "source": [
    "카테고리값은 숫자 값과 달리 주로 기호로 표시되며 비연속적이다. 하지만 더 중요한 차이점은 두 개의 데이터가 있을 때 이들의 크기나 가치, 혹은 순서를 비교할 수 있는가 없는가이다. 예를 들어 10kg과 20kg이라는 두 개의 무게는 20이 10보다 \"두 배정도 크다\"라고 크기를 비교하는 것이 가능하다. 그러나 \"고양이\"와 \"개\"라는 두 개의 카테고리값은 크기나 가치를 비교할 수 없다. \n",
    "\n",
    "일반적으로 카테고리값은 가질 수 있는 경우의 수가 제한되어 있다. 이러한 경우의 수를 '클래스(class)'라고 부르는데 동전을 던진 결과와 같이 \"앞면(head)\" 혹은 \"뒷면(tail)\"처럼 두 가지 경우만 가능하면 '이진 클래스(binary class)'라고 한다. 그리고 주사위를 던져서 나온 숫자와 같이 세 개 이상의 경우가 가능하면 '다중 클래스(multi class)'라고 한다.\n",
    "\n",
    "카테고리값처럼 비연속적이지만 숫자처럼 비교 가능한 경우도 있을 수 있다. 예를 들어 학점을 \"A\", \"B\", \"C\", \"D\"와 같이 주는 경우는 비연속적이고 기호로 표시되지만, 크기 혹은 순서를 비교할 수 있다. 이러한 경우는 분석의 목표에 따라 숫자로 표기하기도 하고 일반적인 카테고리값으로 표기하기도 한다."
   ]
  },
  {
   "cell_type": "markdown",
   "metadata": {
    "school_cell_uuid": "27d4e400c9bf48b09955a628cd891da1"
   },
   "source": [
    "### 회귀분석과 분류"
   ]
  },
  {
   "cell_type": "markdown",
   "metadata": {
    "school_cell_uuid": "b1af7ce9183e4936aa74102ac10f1323"
   },
   "source": [
    "예측 문제는 출력하고자 하는 데이터가 숫자 값인가 카테고리값인가에 따라 사용하는 방법이 완전히 달라진다. \n",
    "\n",
    "출력하고자 하는 값이 숫자인 경우를 **회귀분석(regression analysis)**이라고 하며, 전통적인 통계분석에서 많이 사용하는 예측 방법이다. 반대로 출력하고자 하는 값이 카테고리값인 경우는 **분류(classification)**라고 부른다. 머신러닝 방법은 대부분 이러한 분류 문제를 풀기위한 방법이다. \n",
    "\n",
    "분류 문제는 우리가 푸는 시험문제 중 4지 선다형 객관식 문제와 같은 것으로 생각할 수 있다. 반대로 회귀 분석은 답이 되는 숫자를 직접 써야 하는 단답형 문제라고 할 수 있다. \n",
    "\n",
    "예를 들어 이미지를 컴퓨터에 입력했을 때 \"개\"인지 \"고양이\"인지 판별하는 문제는 사실 내부적으로 분류 문제를 사용한다. 보통 1,000개 혹은 그 이상의 가능한 이미지 카테고리 목록을 준비하고 해당 이미지가 이 카테고리에서 어떤 것에 해당하는지를 찾아내는 1,000지 선다형 객관식 문제와 같은 것이다."
   ]
  },
  {
   "cell_type": "markdown",
   "metadata": {
    "bootstrap": {
     "panel": {
      "class": "panel-default"
     }
    },
    "school_cell_uuid": "a9f3d8adbd9c4e3ba1031b8842ddd688"
   },
   "source": [
    "#### 연습 문제 1.1.7\n",
    "\n",
    "지금까지 고려했던 예측 문제의 입력 데이터와 출력 데이터가 각각 숫자 값인지 카테고리값인지 쓰고 문제가 회귀분석 문제인지 분류 문제인지 결정하라."
   ]
  },
  {
   "cell_type": "markdown",
   "metadata": {
    "school_cell_uuid": "f72526f17bf74677b43d200517e986e8"
   },
   "source": [
    "### 회귀분석의 예"
   ]
  },
  {
   "cell_type": "markdown",
   "metadata": {
    "school_cell_uuid": "f410f98ab6794b3bbc9c91143b33b17f"
   },
   "source": [
    "다음은 회귀분석의 한 예로 scikit-learn 패키지에서 제공하는 주택가격을 예측하는 문제를 보였다. 이 문제는 범죄율, 공기 오염도 등의 주거 환경 정보 등을 사용하여 70년대 미국 보스턴시의 주택가격을 예측하는 문제이다."
   ]
  },
  {
   "cell_type": "markdown",
   "metadata": {
    "school_cell_uuid": "ba8a789733764fc5a0cecd1da5026872",
    "sidetitle": true
   },
   "source": [
    "보스턴 주택가격 데이터"
   ]
  },
  {
   "cell_type": "code",
   "execution_count": null,
   "metadata": {
    "collapsed": true,
    "school_cell_uuid": "707ebc4ea18644e98ceb1b5f1e4598e1"
   },
   "outputs": [],
   "source": [
    "from sklearn.datasets import load_boston\n",
    "\n",
    "boston = load_boston()\n",
    "df = pd.DataFrame(boston.data, columns=boston.feature_names)\n",
    "df[\"주택가격\"] = boston.target\n",
    "g = sns.pairplot(df[[\"주택가격\", \"RM\", \"AGE\", \"CRIM\"]])\n",
    "g.fig.suptitle(\"보스턴 주택가격 데이터 일부 (RM: 방 개수, AGE: 노후화, CRIM: 범죄율)\", y=1.02)\n",
    "plt.show()"
   ]
  },
  {
   "cell_type": "markdown",
   "metadata": {
    "school_cell_uuid": "3564b87d01104292bb37c0fe4ed532e9"
   },
   "source": [
    "이 문제를 회귀분석 방법으로 풀면 다음 결과 그래프와 같다. 결과 그래프에서 하나의 점은 하나의 데이터를 뜻한다. 점의 가로축 값은 실제 가격을 나타내고 세로축 값은 회귀분석 결과이다. 만약 회귀분석 방법으로 가격을 정확하게 예측했다면 결과는 기울기가 1인 직선과 같은 형태가 되어야 하지만 실제로는 타원 모양이 되는 경우가 많다."
   ]
  },
  {
   "cell_type": "markdown",
   "metadata": {
    "school_cell_uuid": "fe2f35cd4eb34e77b564b570ef225af5",
    "sidetitle": true
   },
   "source": [
    "보스턴 주택가격 예측결과"
   ]
  },
  {
   "cell_type": "code",
   "execution_count": null,
   "metadata": {
    "collapsed": true,
    "school_cell_uuid": "bdea6a86ca734dd5bac5e3919e5785f4"
   },
   "outputs": [],
   "source": [
    "from sklearn.linear_model import LinearRegression\n",
    "\n",
    "model = LinearRegression().fit(boston.data, boston.target)\n",
    "predicted = model.predict(boston.data)\n",
    "plt.scatter(boston.target, predicted)\n",
    "plt.xlabel(\"실제 가격\")\n",
    "plt.ylabel(\"예측 가격\")\n",
    "plt.title(\"보스턴 주택가격 예측결과\")\n",
    "plt.show()"
   ]
  },
  {
   "cell_type": "markdown",
   "metadata": {
    "school_cell_uuid": "842d2505d7494132bd71fbdf2fe1627c"
   },
   "source": [
    "### 분류의 예"
   ]
  },
  {
   "cell_type": "markdown",
   "metadata": {
    "school_cell_uuid": "06989e9c63c84a4e89c6eb72b38be324"
   },
   "source": [
    "다음은 분류의 한 예로 scikit-learn 패키지에서 제공하는 붓꽃(iris) 분류 문제를 보였다. 이 문제는 붓꽃의 꽃받침 길이(sepal length), 꽃받침 폭(sepal width), 꽃잎 길이(petal length), 꽃잎 폭(petal width)을 이용하여 붓꽃의 세가지 종류(setosa, versicolor, virginica) 중 어느 것에 속하는지를 결정하는 문제이다."
   ]
  },
  {
   "cell_type": "markdown",
   "metadata": {
    "school_cell_uuid": "308e519b98114cefb7ed2a0097ac1e46"
   },
   "source": [
    "아래에는 파이썬을 이용하여 붓꽃 데이터의 일부와 이를 시각화한 모습을 보였다."
   ]
  },
  {
   "cell_type": "markdown",
   "metadata": {
    "school_cell_uuid": "9c6d1755b1a6486185969ee539b0ac8f",
    "sidetitle": true
   },
   "source": [
    "붓꽃 분류 데이터"
   ]
  },
  {
   "cell_type": "code",
   "execution_count": null,
   "metadata": {
    "collapsed": true,
    "school_cell_uuid": "df5b61df4eb94249ad90c437a34496b3"
   },
   "outputs": [],
   "source": [
    "from sklearn.datasets import load_iris\n",
    "\n",
    "iris = load_iris()\n",
    "df = pd.DataFrame(iris.data, columns=iris.feature_names)\n",
    "sy = pd.Series(iris.target, dtype=\"category\")\n",
    "sy = sy.cat.rename_categories(iris.target_names)\n",
    "df['species'] = sy\n",
    "\n",
    "np.random.seed(0)\n",
    "df.sample(frac=1).reset_index(drop=True).head(10)"
   ]
  },
  {
   "cell_type": "code",
   "execution_count": null,
   "metadata": {
    "collapsed": true,
    "school_cell_uuid": "180c445231f8489e961116834f73e43f"
   },
   "outputs": [],
   "source": [
    "sns.pairplot(df, hue=\"species\", markers=[\"o\", \"s\", \"x\"])\n",
    "plt.suptitle(\"붓꽃 데이터\", y=1.02, fontsize=18)\n",
    "plt.show()"
   ]
  },
  {
   "cell_type": "markdown",
   "metadata": {
    "school_cell_uuid": "41560b1b8dd7444c9b36c1bd8878c0ca"
   },
   "source": [
    "이 문제를 서포트 벡터 머신(SVC: Support Vector Machine)이라는 분류 모형으로 풀면 다음과 같다."
   ]
  },
  {
   "cell_type": "markdown",
   "metadata": {
    "school_cell_uuid": "c7b0154ec1a84090b2bcc09ed2fd1ae0",
    "sidetitle": true
   },
   "source": [
    "붓꽃 분류 문제를 서포트 벡터 머신으로 푼 결과"
   ]
  },
  {
   "cell_type": "code",
   "execution_count": null,
   "metadata": {
    "collapsed": true,
    "school_cell_uuid": "06db62d235744ab0af74efd3af937ac7"
   },
   "outputs": [],
   "source": [
    "from sklearn.preprocessing import StandardScaler\n",
    "from sklearn.svm import SVC\n",
    "\n",
    "features = [2, 3]\n",
    "X = iris.data[:, features]\n",
    "y = iris.target\n",
    "\n",
    "model = SVC(kernel=\"linear\", random_state=0)\n",
    "model.fit(X, y)\n",
    "\n",
    "XX_min = X[:, 0].min() - 1\n",
    "XX_max = X[:, 0].max() + 1\n",
    "YY_min = X[:, 1].min() - 1\n",
    "YY_max = X[:, 1].max() + 1\n",
    "XX, YY = np.meshgrid(np.linspace(XX_min, XX_max, 1000),\n",
    "                     np.linspace(YY_min, YY_max, 1000))\n",
    "ZZ = model.predict(np.c_[XX.ravel(), YY.ravel()]).reshape(XX.shape)\n",
    "\n",
    "cmap = mpl.colors.ListedColormap(['seashell', 'lightgreen', 'lightskyblue'])\n",
    "plt.contourf(XX, YY, ZZ, cmap=cmap)\n",
    "plt.contour(XX, YY, ZZ, colors='k')\n",
    "plt.scatter(X[y == 0, 0], X[y == 0, 1], s=20, label=iris.target_names[0],\n",
    "            marker=\"o\", edgecolors=\"darkred\", facecolors=\"red\")\n",
    "plt.scatter(X[y == 1, 0], X[y == 1, 1], s=20, label=iris.target_names[1],\n",
    "            marker=\"s\", edgecolors=\"darkgreen\", facecolors=\"green\")\n",
    "plt.scatter(X[y == 2, 0], X[y == 2, 1], s=30, label=iris.target_names[2],\n",
    "            marker=\"x\", edgecolors=\"darkblue\", facecolors=\"blue\")\n",
    "plt.xlim(XX_min, XX_max)\n",
    "plt.ylim(YY_min, YY_max)\n",
    "plt.xlabel(\"꽃잎의 길이(cm)\")\n",
    "plt.ylabel(\"꽃잎의 폭(cm)\")\n",
    "plt.title(\"서포트벡터머신을 이용한 붓꽃 분류 결과\")\n",
    "plt.legend(loc=\"lower right\", framealpha=1)\n",
    "plt.show()"
   ]
  },
  {
   "cell_type": "markdown",
   "metadata": {
    "school_cell_uuid": "44887b90ec314cbaa87ac37623ea6158"
   },
   "source": [
    "이 그림에서 하나의 점은 하나의 표본 데이터를 가리키고, 다른 색으로 칠해진 영역은 서포트 벡터 머신이 다른 종으로 분류하고 있는 영역을 뜻한다."
   ]
  },
  {
   "cell_type": "markdown",
   "metadata": {
    "school_cell_uuid": "cccc0a4688bb4c74b8452cb0fc821cc2"
   },
   "source": [
    "### 비지도학습"
   ]
  },
  {
   "cell_type": "markdown",
   "metadata": {
    "school_cell_uuid": "5d4ffd39f22c4effa4a458426cbcf0cd"
   },
   "source": [
    "지금까지 살펴본 지도학습에서는 입력값과 출력값의 쌍(pair)을 학습데이터로 하여 입력값에 대한 출력값을 예측하도록 학습을 시켰다. 하지만 때로는 데이터간에 입력과 출력의 관계가 명확하지 않을 수도 있다. 이렇게 입력/출력이 구분되지 않는 단순한 \"데이터들의 관계\"에서 특정한 규칙을 찾아내는 것을 **비지도학습(unsupervised learning)**이라고 한다. 비지도학습에서는 입력/출력 데이터를 구분짓지 않고 단순히 데이터를 입력하면 이 데이터들간의 규칙을 찾아내거나 미리 지정한 규칙(모형)에 맞는 데이터인지를 구분해 낸다."
   ]
  },
  {
   "cell_type": "markdown",
   "metadata": {
    "school_cell_uuid": "a322c37402834d23aa2500c2b2c337be"
   },
   "source": [
    "### 클러스터링"
   ]
  },
  {
   "cell_type": "markdown",
   "metadata": {
    "school_cell_uuid": "0f0a949a60ae412a9fa0f34ddb251332"
   },
   "source": [
    "대표적인 비지도학습 방법 중 하나는 **데이터들을 유사한 데이터까지 같은 그룹으로 모으는 클러스터링(clustering)** 방법이다. 다음 예제는 100개의 2차원 데이터들을 affinity propagation이라는 방법으로 클러스터링한 결과이다. 왼쪽 그림은 클러스터링을 하기 전의 데이터들을 나타낸 것이고 오른쪽 그림은 클러스터링으로 모아진 데이터를 나타낸 것이다. 전체 데이터를 3개의 그룹으로 분리할 수 있다는 것을 알 수 있다."
   ]
  },
  {
   "cell_type": "markdown",
   "metadata": {
    "school_cell_uuid": "9c6d1755b1a6486185969ee539b0ac8f",
    "sidetitle": true
   },
   "source": [
    "클러스터링 예제"
   ]
  },
  {
   "cell_type": "code",
   "execution_count": null,
   "metadata": {
    "collapsed": true,
    "school_cell_uuid": "73841338f97f441ba3b64f79ace8bd51"
   },
   "outputs": [],
   "source": [
    "from sklearn.datasets import make_blobs\n",
    "from sklearn.cluster import AffinityPropagation\n",
    "\n",
    "X, _ = make_blobs(n_features=2, centers=3, random_state=1)\n",
    "model = AffinityPropagation().fit(X)\n",
    "\n",
    "plt.subplot(121)\n",
    "plt.scatter(X[:, 0], X[:, 1], marker='o', s=10, edgecolor=\"k\")\n",
    "plt.title(\"클러스터링 전\")\n",
    "plt.subplot(122)\n",
    "plt.scatter(X[:, 0], X[:, 1], marker='o', s=10, edgecolor=\"k\")\n",
    "plt.title(\"클러스터링 후\")\n",
    "for k in range(3):\n",
    "    cluster_center = X[model.cluster_centers_indices_[k]]\n",
    "    for x in X[model.labels_ == k]:\n",
    "        plt.plot([cluster_center[0], x[0]], [cluster_center[1], x[1]], c=\"k\")\n",
    "        \n",
    "plt.suptitle(\"Affinity Propagation 방법을 사용한 클러스터링 결과\", y=1.03)\n",
    "plt.tight_layout()\n",
    "plt.show()"
   ]
  }
 ],
 "metadata": {
  "celltoolbar": "Edit Metadata",
  "hide_input": false,
  "kernelspec": {
   "display_name": "Python_RPA",
   "language": "python",
   "name": "pytorch_env"
  },
  "language_info": {
   "codemirror_mode": {
    "name": "ipython",
    "version": 3
   },
   "file_extension": ".py",
   "mimetype": "text/x-python",
   "name": "python",
   "nbconvert_exporter": "python",
   "pygments_lexer": "ipython3",
   "version": "3.6.2"
  }
 },
 "nbformat": 4,
 "nbformat_minor": 1
}
